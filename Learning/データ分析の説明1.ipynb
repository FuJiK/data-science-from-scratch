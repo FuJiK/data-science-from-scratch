{
 "cells": [
  {
   "cell_type": "markdown",
   "metadata": {},
   "source": [
    "# データ分析用の説明・第一"
   ]
  },
  {
   "cell_type": "markdown",
   "metadata": {},
   "source": [
    "この論議の内容は、csvファイルからトランザクションのデータの取得のしかたと\n",
    "~~データの項目の一つのため同的にオッズ比とｐ値の計算しかたを伝えます。~~\n",
    "<span style=\"color: red; \">データ項目に対して、動的にオッズ比とp値を算出する手法について示します。</span>\n",
    "まずは重要なライブラリーをインポートしましょう。"
   ]
  },
  {
   "cell_type": "code",
   "execution_count": 63,
   "metadata": {},
   "outputs": [],
   "source": [
    "import pandas as pd\n",
    "import numpy as np\n",
    "import matplotlib.pyplot as plt\n",
    "import codecs\n",
    "from scipy.stats import fisher_exact"
   ]
  },
  {
   "cell_type": "markdown",
   "metadata": {},
   "source": [
    "実際の場合はcsvファイルよりデータベースからデータを取得しますが、例~~のため~~<span style=\"color: red; \">では、</span>一切csvファイルから取得しましょう。\n",
    "不正のデータをfraud_dfに代入しましょう。\n"
   ]
  },
  {
   "cell_type": "code",
   "execution_count": 110,
   "metadata": {},
   "outputs": [],
   "source": [
    "fraud_df = pd.read_csv('data/test_fraud.csv', encoding=\"SHIFT-JIS\")"
   ]
  },
  {
   "cell_type": "markdown",
   "metadata": {},
   "source": [
    "正常のデータをnormal_dfに代入しましょう。\n",
    "正常のデータの読み方が違うと気付いていますね。\n",
    "\n",
    "~~なぜと言えば~~<span style=\"color: red; \">なぜかというと</span>　、ファイルを読むときにエンコーディングのエラーが発生するかもしれない~~ので、~~<span style=\"color: red; \">からです。</span>\n",
    "\n",
    "その場合は、下記の通りにファイルを読みます。"
   ]
  },
  {
   "cell_type": "code",
   "execution_count": 111,
   "metadata": {},
   "outputs": [],
   "source": [
    "with codecs.open(\"data/test_non_fraud.csv\", \"r\", \"Shift-JIS\", \"ignore\") as file:\n",
    "    normal_df = pd.read_table(file, delimiter=\",\")"
   ]
  },
  {
   "cell_type": "markdown",
   "metadata": {},
   "source": [
    "データを読<span style=\"color: red; \">みこ</span>んだ~~から~~<span style=\"color: red; \">ので</span>、データの形を表示しましょう。\n",
    "<span style=\"color: red; \">ここでは、</span>Pandasのデータフレームのshapeと言うアトリビュートを使いましょう。"
   ]
  },
  {
   "cell_type": "code",
   "execution_count": 112,
   "metadata": {},
   "outputs": [
    {
     "name": "stdout",
     "output_type": "stream",
     "text": [
      "(1571, 12)\n",
      "(366833, 12)\n"
     ]
    }
   ],
   "source": [
    "print(fraud_df.shape)\n",
    "print(normal_df.shape)"
   ]
  },
  {
   "cell_type": "markdown",
   "metadata": {},
   "source": [
    "オッズ比とp値の計算の時に<span style=\"color: red; \">は、</span>データの件数が重要な情報なので、取り合えず変数に代入しましょう。"
   ]
  },
  {
   "cell_type": "code",
   "execution_count": 113,
   "metadata": {},
   "outputs": [],
   "source": [
    "fraud_total = len(fraud_df)\n",
    "normal_total = len(normal_df)"
   ]
  },
  {
   "cell_type": "markdown",
   "metadata": {},
   "source": [
    "参考のため、データの項目をリストに入れてみましょう。"
   ]
  },
  {
   "cell_type": "code",
   "execution_count": 114,
   "metadata": {},
   "outputs": [],
   "source": [
    "headers = list(fraud_df.columns.values)"
   ]
  },
  {
   "cell_type": "markdown",
   "metadata": {},
   "source": [
    "データに何の項目が入っているかどうかを確認しましょう。\n",
    "\n",
    "print関数を使って<span style=\"color: red; \">も</span>いいですが、pythonで<span style=\"color: red; \">は、</span>単純に変数だけを実行したら、自\n",
    "動的にその変数~~を~~<span style=\"color: red; \">の</span>printを行います。"
   ]
  },
  {
   "cell_type": "code",
   "execution_count": 116,
   "metadata": {},
   "outputs": [
    {
     "data": {
      "text/plain": [
       "['トランザクションID',\n",
       " 'InAuthデバイスID',\n",
       " 'InAuth デバイス 実IPアドレス',\n",
       " 'InAuth デバイス 実IP 国名',\n",
       " 'InAuth ブラウザ ナビゲータ 言語',\n",
       " 'InAuth ユーザエージェント OS',\n",
       " 'InAuth デバイス位置情報 国コード',\n",
       " 'InAuth デバイス位置情報 都市',\n",
       " 'InAuth デバイス位置情報 地域',\n",
       " 'InAuth デバイス位置緯度',\n",
       " 'InAuth デバイス位置経度',\n",
       " 'InAuthブラウザクライアント情報言語']"
      ]
     },
     "execution_count": 116,
     "metadata": {},
     "output_type": "execute_result"
    }
   ],
   "source": [
    "#変数を出力\n",
    "headers"
   ]
  },
  {
   "cell_type": "markdown",
   "metadata": {},
   "source": [
    "では、'InAuth ユーザエージェント OS'と言う項目の分析を行いましょう。\n",
    "最初の段階はデータの項目に存在している値を視覚化することです。"
   ]
  },
  {
   "cell_type": "markdown",
   "metadata": {},
   "source": [
    "## データの視覚化"
   ]
  },
  {
   "cell_type": "markdown",
   "metadata": {},
   "source": [
    "最初の段階はデータの項目に存在している値を視覚化することです。\n",
    "まずはデータの項目に存在している値を数えましょう（SQL のgroupby　count　と同じです）"
   ]
  },
  {
   "cell_type": "code",
   "execution_count": 117,
   "metadata": {},
   "outputs": [
    {
     "data": {
      "text/plain": [
       "Windows 8.1           1061\n",
       "Windows 7              366\n",
       "iOS                     51\n",
       "Windows                 32\n",
       "Android                 28\n",
       "Android 4.4 KitKat      11\n",
       "OS X                     5\n",
       "Windows Vista            2\n",
       "Name: InAuth ユーザエージェント OS, dtype: int64"
      ]
     },
     "execution_count": 117,
     "metadata": {},
     "output_type": "execute_result"
    }
   ],
   "source": [
    "fraud_df['InAuth ユーザエージェント OS'].value_counts()"
   ]
  },
  {
   "cell_type": "markdown",
   "metadata": {},
   "source": [
    "値の件数だけを見るのは分かりにくいですので、割合を計算します。そのためにnumpyのdivide関数を使います。"
   ]
  },
  {
   "cell_type": "code",
   "execution_count": 118,
   "metadata": {},
   "outputs": [
    {
     "data": {
      "text/plain": [
       "Windows 8.1           0.681877\n",
       "Windows 7             0.235219\n",
       "iOS                   0.032776\n",
       "Windows               0.020566\n",
       "Android               0.017995\n",
       "Android 4.4 KitKat    0.007069\n",
       "OS X                  0.003213\n",
       "Windows Vista         0.001285\n",
       "Name: InAuth ユーザエージェント OS, dtype: float64"
      ]
     },
     "execution_count": 118,
     "metadata": {},
     "output_type": "execute_result"
    }
   ],
   "source": [
    "np.divide(fraud_df['InAuth ユーザエージェント OS'].value_counts(),fraud_df['InAuth ユーザエージェント OS'].count())"
   ]
  },
  {
   "cell_type": "markdown",
   "metadata": {},
   "source": [
    "分かりましたか？では、不正と正常のデータで同じ手順を行って、結果を変数に代入しましょう。"
   ]
  },
  {
   "cell_type": "code",
   "execution_count": 72,
   "metadata": {},
   "outputs": [],
   "source": [
    "fraud_f = np.divide(fraud_df['InAuth ユーザエージェント OS'].value_counts(),fraud_df['InAuth ユーザエージェント OS'].count())\n",
    "normal_f = np.divide(normal_df['InAuth ユーザエージェント OS'].value_counts(),normal_df['InAuth ユーザエージェント OS'].count())"
   ]
  },
  {
   "cell_type": "markdown",
   "metadata": {},
   "source": [
    "視覚化したいデータの準備が終わりましたので。単純にplot関数で不正のデータを表示しましょう。"
   ]
  },
  {
   "cell_type": "code",
   "execution_count": 73,
   "metadata": {},
   "outputs": [
    {
     "data": {
      "text/plain": [
       "<matplotlib.axes._subplots.AxesSubplot at 0x234f2afa710>"
      ]
     },
     "execution_count": 73,
     "metadata": {},
     "output_type": "execute_result"
    },
    {
     "data": {
      "image/png": "[encoded data removed]",
      "text/plain": [
       "<Figure size 432x288 with 1 Axes>"
      ]
     },
     "metadata": {},
     "output_type": "display_data"
    }
   ],
   "source": [
    "fraud_f.plot(kind='bar',title='fraud')"
   ]
  },
  {
   "cell_type": "markdown",
   "metadata": {},
   "source": [
    "分かりやすいですね。ただし、一番高い割合から一番低い割合の順番で表示されていますので、後で不正と正常のデータを比べると、データの位置が違う可能性があります。そのためにsort_index関数を使って横軸の値を~~五十音~~<span style=\"color: red; \">アルファベット</span>順に並べましょう。"
   ]
  },
  {
   "cell_type": "code",
   "execution_count": 74,
   "metadata": {},
   "outputs": [
    {
     "data": {
      "text/plain": [
       "<matplotlib.axes._subplots.AxesSubplot at 0x234fa9c3898>"
      ]
     },
     "execution_count": 74,
     "metadata": {},
     "output_type": "execute_result"
    },
    {
     "data": {
      "image/png": "[encoded data removed]",
      "text/plain": [
       "<Figure size 432x288 with 1 Axes>"
      ]
     },
     "metadata": {},
     "output_type": "display_data"
    }
   ],
   "source": [
    "fraud_f.sort_index().plot(kind='bar',title='fraud')"
   ]
  },
  {
   "cell_type": "markdown",
   "metadata": {},
   "source": [
    "~~同じ風~~<span style=\"color: red; \">同様</span>に正常のデータを表示しましょう。"
   ]
  },
  {
   "cell_type": "code",
   "execution_count": 119,
   "metadata": {},
   "outputs": [
    {
     "data": {
      "text/plain": [
       "<matplotlib.axes._subplots.AxesSubplot at 0x234814810b8>"
      ]
     },
     "execution_count": 119,
     "metadata": {},
     "output_type": "execute_result"
    },
    {
     "data": {
      "image/png": "[encoded data removed]",
      "text/plain": [
       "<Figure size 432x288 with 1 Axes>"
      ]
     },
     "metadata": {},
     "output_type": "display_data"
    }
   ],
   "source": [
    "normal_f.sort_index().plot(kind='bar',title='normal')"
   ]
  },
  {
   "cell_type": "markdown",
   "metadata": {},
   "source": [
    "簡単ですね。ただし、不正と正常を比べにくいし、縦軸の値が違うし。\n",
    "同じ縦軸の範囲で同時に不正と正常のデータを表示しましょう。"
   ]
  },
  {
   "cell_type": "code",
   "execution_count": 76,
   "metadata": {},
   "outputs": [
    {
     "data": {
      "text/plain": [
       "<matplotlib.axes._subplots.AxesSubplot at 0x234f32d48d0>"
      ]
     },
     "execution_count": 76,
     "metadata": {},
     "output_type": "execute_result"
    },
    {
     "data": {
      "image/png": "[encoded data removed]",
      "text/plain": [
       "<Figure size 1440x720 with 2 Axes>"
      ]
     },
     "metadata": {},
     "output_type": "display_data"
    }
   ],
   "source": [
    "fig, axes = plt.subplots(nrows=2, ncols=1, figsize=(20, 10),sharey=True)\n",
    "\n",
    "fraud_f.sort_index().plot(ax=axes[0],kind='bar',title='fraud')\n",
    "normal_f.sort_index().plot(ax=axes[1],kind='bar',title='normal')"
   ]
  },
  {
   "cell_type": "markdown",
   "metadata": {},
   "source": [
    "正常の場合は1パーセントすら超えない値たくさんありますので、不正と~~比べにくいだし~~<span style=\"color: red; \">比較しにくく</span>、件数的にルールを作る価値が少ない~~し~~<span style=\"color: red; \">といえる</span>。\n",
    "\n",
    "<span style=\"color: red; \">したがって、</span>1％（0.01）を超える値だけ表示しましょう。"
   ]
  },
  {
   "cell_type": "code",
   "execution_count": 120,
   "metadata": {},
   "outputs": [
    {
     "data": {
      "text/plain": [
       "<matplotlib.axes._subplots.AxesSubplot at 0x234fc6ab9e8>"
      ]
     },
     "execution_count": 120,
     "metadata": {},
     "output_type": "execute_result"
    },
    {
     "data": {
      "image/png": "[encoded data removed]",
      "text/plain": [
       "<Figure size 1440x720 with 2 Axes>"
      ]
     },
     "metadata": {},
     "output_type": "display_data"
    }
   ],
   "source": [
    "fig, axes = plt.subplots(nrows=2, ncols=1, figsize=(20, 10),sharey=True)\n",
    "\n",
    "fraud_f[fraud_f>=.01].sort_index().plot(ax=axes[0],kind='bar',title='fraud')\n",
    "normal_f[normal_f>=.01].sort_index().plot(ax=axes[1],kind='bar',title='normal')"
   ]
  },
  {
   "cell_type": "markdown",
   "metadata": {},
   "source": [
    "これで視覚化は終了です。これから視覚化した項目の値ずつオッズ比とp値を計算しましょう。"
   ]
  },
  {
   "cell_type": "markdown",
   "metadata": {},
   "source": [
    "## オッズ比の計算"
   ]
  },
  {
   "cell_type": "markdown",
   "metadata": {},
   "source": [
    "まずは、上記と同じように項目の値の数が必要になりますので、もう一度計算しましょう。"
   ]
  },
  {
   "cell_type": "code",
   "execution_count": 78,
   "metadata": {},
   "outputs": [
    {
     "data": {
      "text/plain": [
       "Windows 8.1           1061\n",
       "Windows 7              366\n",
       "iOS                     51\n",
       "Windows                 32\n",
       "Android                 28\n",
       "Android 4.4 KitKat      11\n",
       "OS X                     5\n",
       "Windows Vista            2\n",
       "Name: InAuth ユーザエージェント OS, dtype: int64"
      ]
     },
     "execution_count": 78,
     "metadata": {},
     "output_type": "execute_result"
    }
   ],
   "source": [
    "fraud_df['InAuth ユーザエージェント OS'].value_counts()"
   ]
  },
  {
   "cell_type": "markdown",
   "metadata": {},
   "source": [
    "結果だけを見るとわかりやすいと思いますが、同じ表に不正と正常の件数が見えられば分かりやすいですね。\n",
    "そのために不正と正常の件数をmerge関数で併合しましょう。"
   ]
  },
  {
   "cell_type": "code",
   "execution_count": 79,
   "metadata": {},
   "outputs": [],
   "source": [
    "merge = pd.concat([fraud_df['InAuth ユーザエージェント OS'].value_counts(),normal_df['InAuth ユーザエージェント OS'].value_counts()], axis=1, join = 'inner')"
   ]
  },
  {
   "cell_type": "code",
   "execution_count": 80,
   "metadata": {},
   "outputs": [
    {
     "data": {
      "text/html": [
       "<div>\n",
       "<style scoped>\n",
       "    .dataframe tbody tr th:only-of-type {\n",
       "        vertical-align: middle;\n",
       "    }\n",
       "\n",
       "    .dataframe tbody tr th {\n",
       "        vertical-align: top;\n",
       "    }\n",
       "\n",
       "    .dataframe thead th {\n",
       "        text-align: right;\n",
       "    }\n",
       "</style>\n",
       "<table border=\"1\" class=\"dataframe\">\n",
       "  <thead>\n",
       "    <tr style=\"text-align: right;\">\n",
       "      <th></th>\n",
       "      <th>InAuth ユーザエージェント OS</th>\n",
       "      <th>InAuth ユーザエージェント OS</th>\n",
       "    </tr>\n",
       "  </thead>\n",
       "  <tbody>\n",
       "    <tr>\n",
       "      <th>Windows 8.1</th>\n",
       "      <td>1061</td>\n",
       "      <td>4495</td>\n",
       "    </tr>\n",
       "    <tr>\n",
       "      <th>Windows 7</th>\n",
       "      <td>366</td>\n",
       "      <td>22447</td>\n",
       "    </tr>\n",
       "    <tr>\n",
       "      <th>iOS</th>\n",
       "      <td>51</td>\n",
       "      <td>115392</td>\n",
       "    </tr>\n",
       "    <tr>\n",
       "      <th>Windows</th>\n",
       "      <td>32</td>\n",
       "      <td>59929</td>\n",
       "    </tr>\n",
       "    <tr>\n",
       "      <th>Android</th>\n",
       "      <td>28</td>\n",
       "      <td>56197</td>\n",
       "    </tr>\n",
       "    <tr>\n",
       "      <th>Android 4.4 KitKat</th>\n",
       "      <td>11</td>\n",
       "      <td>1590</td>\n",
       "    </tr>\n",
       "    <tr>\n",
       "      <th>OS X</th>\n",
       "      <td>5</td>\n",
       "      <td>13565</td>\n",
       "    </tr>\n",
       "    <tr>\n",
       "      <th>Windows Vista</th>\n",
       "      <td>2</td>\n",
       "      <td>605</td>\n",
       "    </tr>\n",
       "  </tbody>\n",
       "</table>\n",
       "</div>"
      ],
      "text/plain": [
       "                    InAuth ユーザエージェント OS  InAuth ユーザエージェント OS\n",
       "Windows 8.1                        1061                 4495\n",
       "Windows 7                           366                22447\n",
       "iOS                                  51               115392\n",
       "Windows                              32                59929\n",
       "Android                              28                56197\n",
       "Android 4.4 KitKat                   11                 1590\n",
       "OS X                                  5                13565\n",
       "Windows Vista                         2                  605"
      ]
     },
     "execution_count": 80,
     "metadata": {},
     "output_type": "execute_result"
    }
   ],
   "source": [
    "merge"
   ]
  },
  {
   "cell_type": "markdown",
   "metadata": {},
   "source": [
    "件数はちゃんと並んでいますが、件数だけで分かりにくい~~です~~ので、割合も計算しましょう。"
   ]
  },
  {
   "cell_type": "code",
   "execution_count": 81,
   "metadata": {},
   "outputs": [
    {
     "data": {
      "text/html": [
       "<div>\n",
       "<style scoped>\n",
       "    .dataframe tbody tr th:only-of-type {\n",
       "        vertical-align: middle;\n",
       "    }\n",
       "\n",
       "    .dataframe tbody tr th {\n",
       "        vertical-align: top;\n",
       "    }\n",
       "\n",
       "    .dataframe thead th {\n",
       "        text-align: right;\n",
       "    }\n",
       "</style>\n",
       "<table border=\"1\" class=\"dataframe\">\n",
       "  <thead>\n",
       "    <tr style=\"text-align: right;\">\n",
       "      <th></th>\n",
       "      <th>InAuth ユーザエージェント OS</th>\n",
       "      <th>InAuth ユーザエージェント OS</th>\n",
       "      <th>不正割合</th>\n",
       "    </tr>\n",
       "  </thead>\n",
       "  <tbody>\n",
       "    <tr>\n",
       "      <th>Windows 8.1</th>\n",
       "      <td>1061</td>\n",
       "      <td>4495</td>\n",
       "      <td>0.675366</td>\n",
       "    </tr>\n",
       "    <tr>\n",
       "      <th>Windows 7</th>\n",
       "      <td>366</td>\n",
       "      <td>22447</td>\n",
       "      <td>0.232973</td>\n",
       "    </tr>\n",
       "    <tr>\n",
       "      <th>iOS</th>\n",
       "      <td>51</td>\n",
       "      <td>115392</td>\n",
       "      <td>0.032463</td>\n",
       "    </tr>\n",
       "    <tr>\n",
       "      <th>Windows</th>\n",
       "      <td>32</td>\n",
       "      <td>59929</td>\n",
       "      <td>0.020369</td>\n",
       "    </tr>\n",
       "    <tr>\n",
       "      <th>Android</th>\n",
       "      <td>28</td>\n",
       "      <td>56197</td>\n",
       "      <td>0.017823</td>\n",
       "    </tr>\n",
       "    <tr>\n",
       "      <th>Android 4.4 KitKat</th>\n",
       "      <td>11</td>\n",
       "      <td>1590</td>\n",
       "      <td>0.007002</td>\n",
       "    </tr>\n",
       "    <tr>\n",
       "      <th>OS X</th>\n",
       "      <td>5</td>\n",
       "      <td>13565</td>\n",
       "      <td>0.003183</td>\n",
       "    </tr>\n",
       "    <tr>\n",
       "      <th>Windows Vista</th>\n",
       "      <td>2</td>\n",
       "      <td>605</td>\n",
       "      <td>0.001273</td>\n",
       "    </tr>\n",
       "  </tbody>\n",
       "</table>\n",
       "</div>"
      ],
      "text/plain": [
       "                    InAuth ユーザエージェント OS  InAuth ユーザエージェント OS      不正割合\n",
       "Windows 8.1                        1061                 4495  0.675366\n",
       "Windows 7                           366                22447  0.232973\n",
       "iOS                                  51               115392  0.032463\n",
       "Windows                              32                59929  0.020369\n",
       "Android                              28                56197  0.017823\n",
       "Android 4.4 KitKat                   11                 1590  0.007002\n",
       "OS X                                  5                13565  0.003183\n",
       "Windows Vista                         2                  605  0.001273"
      ]
     },
     "execution_count": 81,
     "metadata": {},
     "output_type": "execute_result"
    }
   ],
   "source": [
    "merge['不正割合'] = merge.iloc[:,0]/fraud_total\n",
    "merge"
   ]
  },
  {
   "cell_type": "markdown",
   "metadata": {},
   "source": [
    "同じように正常の割合を計算します。"
   ]
  },
  {
   "cell_type": "code",
   "execution_count": 82,
   "metadata": {},
   "outputs": [
    {
     "data": {
      "text/html": [
       "<div>\n",
       "<style scoped>\n",
       "    .dataframe tbody tr th:only-of-type {\n",
       "        vertical-align: middle;\n",
       "    }\n",
       "\n",
       "    .dataframe tbody tr th {\n",
       "        vertical-align: top;\n",
       "    }\n",
       "\n",
       "    .dataframe thead th {\n",
       "        text-align: right;\n",
       "    }\n",
       "</style>\n",
       "<table border=\"1\" class=\"dataframe\">\n",
       "  <thead>\n",
       "    <tr style=\"text-align: right;\">\n",
       "      <th></th>\n",
       "      <th>InAuth ユーザエージェント OS</th>\n",
       "      <th>InAuth ユーザエージェント OS</th>\n",
       "      <th>不正割合</th>\n",
       "      <th>正常割合</th>\n",
       "    </tr>\n",
       "  </thead>\n",
       "  <tbody>\n",
       "    <tr>\n",
       "      <th>Windows 8.1</th>\n",
       "      <td>1061</td>\n",
       "      <td>4495</td>\n",
       "      <td>0.675366</td>\n",
       "      <td>0.012254</td>\n",
       "    </tr>\n",
       "    <tr>\n",
       "      <th>Windows 7</th>\n",
       "      <td>366</td>\n",
       "      <td>22447</td>\n",
       "      <td>0.232973</td>\n",
       "      <td>0.061191</td>\n",
       "    </tr>\n",
       "    <tr>\n",
       "      <th>iOS</th>\n",
       "      <td>51</td>\n",
       "      <td>115392</td>\n",
       "      <td>0.032463</td>\n",
       "      <td>0.314563</td>\n",
       "    </tr>\n",
       "    <tr>\n",
       "      <th>Windows</th>\n",
       "      <td>32</td>\n",
       "      <td>59929</td>\n",
       "      <td>0.020369</td>\n",
       "      <td>0.163369</td>\n",
       "    </tr>\n",
       "    <tr>\n",
       "      <th>Android</th>\n",
       "      <td>28</td>\n",
       "      <td>56197</td>\n",
       "      <td>0.017823</td>\n",
       "      <td>0.153195</td>\n",
       "    </tr>\n",
       "    <tr>\n",
       "      <th>Android 4.4 KitKat</th>\n",
       "      <td>11</td>\n",
       "      <td>1590</td>\n",
       "      <td>0.007002</td>\n",
       "      <td>0.004334</td>\n",
       "    </tr>\n",
       "    <tr>\n",
       "      <th>OS X</th>\n",
       "      <td>5</td>\n",
       "      <td>13565</td>\n",
       "      <td>0.003183</td>\n",
       "      <td>0.036979</td>\n",
       "    </tr>\n",
       "    <tr>\n",
       "      <th>Windows Vista</th>\n",
       "      <td>2</td>\n",
       "      <td>605</td>\n",
       "      <td>0.001273</td>\n",
       "      <td>0.001649</td>\n",
       "    </tr>\n",
       "  </tbody>\n",
       "</table>\n",
       "</div>"
      ],
      "text/plain": [
       "                    InAuth ユーザエージェント OS  InAuth ユーザエージェント OS      不正割合  \\\n",
       "Windows 8.1                        1061                 4495  0.675366   \n",
       "Windows 7                           366                22447  0.232973   \n",
       "iOS                                  51               115392  0.032463   \n",
       "Windows                              32                59929  0.020369   \n",
       "Android                              28                56197  0.017823   \n",
       "Android 4.4 KitKat                   11                 1590  0.007002   \n",
       "OS X                                  5                13565  0.003183   \n",
       "Windows Vista                         2                  605  0.001273   \n",
       "\n",
       "                        正常割合  \n",
       "Windows 8.1         0.012254  \n",
       "Windows 7           0.061191  \n",
       "iOS                 0.314563  \n",
       "Windows             0.163369  \n",
       "Android             0.153195  \n",
       "Android 4.4 KitKat  0.004334  \n",
       "OS X                0.036979  \n",
       "Windows Vista       0.001649  "
      ]
     },
     "execution_count": 82,
     "metadata": {},
     "output_type": "execute_result"
    }
   ],
   "source": [
    "merge['正常割合'] = merge.iloc[:,1]/normal_total\n",
    "merge"
   ]
  },
  {
   "cell_type": "markdown",
   "metadata": {},
   "source": [
    "これでオッズ比の計算のための準備が出来ました。まずはOSがWindows8.1のオッズ比を計算してみましょう。"
   ]
  },
  {
   "cell_type": "code",
   "execution_count": 83,
   "metadata": {},
   "outputs": [
    {
     "data": {
      "text/plain": [
       "167.6985836114201"
      ]
     },
     "execution_count": 83,
     "metadata": {},
     "output_type": "execute_result"
    }
   ],
   "source": [
    "odd_f =1061/(fraud_total-1061)\n",
    "odd_n = 4495/(normal_total-4495)\n",
    "OR = odd_f/odd_n\n",
    "OR"
   ]
  },
  {
   "cell_type": "markdown",
   "metadata": {},
   "source": [
    "計算は簡単ですが、値が何百件ある場合は、ややこしいかもしれません。\n",
    "計算のしかたを自動化するために関数を作りましょう。"
   ]
  },
  {
   "cell_type": "code",
   "execution_count": 84,
   "metadata": {},
   "outputs": [],
   "source": [
    "def calcOR(row):\n",
    "    odd_f = row.iloc[0]/(fraud_total-row.iloc[0])\n",
    "    odd_n = row.iloc[1]/(normal_total-row.iloc[1])\n",
    "    return odd_f/odd_n"
   ]
  },
  {
   "cell_type": "markdown",
   "metadata": {},
   "source": [
    "関数を使って、全部~~に~~<span style=\"color: red; \">の要素についての</span>オッズ比を計算します。"
   ]
  },
  {
   "cell_type": "code",
   "execution_count": 85,
   "metadata": {},
   "outputs": [
    {
     "data": {
      "text/html": [
       "<div>\n",
       "<style scoped>\n",
       "    .dataframe tbody tr th:only-of-type {\n",
       "        vertical-align: middle;\n",
       "    }\n",
       "\n",
       "    .dataframe tbody tr th {\n",
       "        vertical-align: top;\n",
       "    }\n",
       "\n",
       "    .dataframe thead th {\n",
       "        text-align: right;\n",
       "    }\n",
       "</style>\n",
       "<table border=\"1\" class=\"dataframe\">\n",
       "  <thead>\n",
       "    <tr style=\"text-align: right;\">\n",
       "      <th></th>\n",
       "      <th>InAuth ユーザエージェント OS</th>\n",
       "      <th>InAuth ユーザエージェント OS</th>\n",
       "      <th>不正割合</th>\n",
       "      <th>正常割合</th>\n",
       "      <th>OR</th>\n",
       "    </tr>\n",
       "  </thead>\n",
       "  <tbody>\n",
       "    <tr>\n",
       "      <th>Windows 8.1</th>\n",
       "      <td>1061</td>\n",
       "      <td>4495</td>\n",
       "      <td>0.675366</td>\n",
       "      <td>0.012254</td>\n",
       "      <td>167.698584</td>\n",
       "    </tr>\n",
       "    <tr>\n",
       "      <th>Windows 7</th>\n",
       "      <td>366</td>\n",
       "      <td>22447</td>\n",
       "      <td>0.232973</td>\n",
       "      <td>0.061191</td>\n",
       "      <td>4.659950</td>\n",
       "    </tr>\n",
       "    <tr>\n",
       "      <th>iOS</th>\n",
       "      <td>51</td>\n",
       "      <td>115392</td>\n",
       "      <td>0.032463</td>\n",
       "      <td>0.314563</td>\n",
       "      <td>0.073112</td>\n",
       "    </tr>\n",
       "    <tr>\n",
       "      <th>Windows</th>\n",
       "      <td>32</td>\n",
       "      <td>59929</td>\n",
       "      <td>0.020369</td>\n",
       "      <td>0.163369</td>\n",
       "      <td>0.106482</td>\n",
       "    </tr>\n",
       "    <tr>\n",
       "      <th>Android</th>\n",
       "      <td>28</td>\n",
       "      <td>56197</td>\n",
       "      <td>0.017823</td>\n",
       "      <td>0.153195</td>\n",
       "      <td>0.100307</td>\n",
       "    </tr>\n",
       "    <tr>\n",
       "      <th>Android 4.4 KitKat</th>\n",
       "      <td>11</td>\n",
       "      <td>1590</td>\n",
       "      <td>0.007002</td>\n",
       "      <td>0.004334</td>\n",
       "      <td>1.619768</td>\n",
       "    </tr>\n",
       "    <tr>\n",
       "      <th>OS X</th>\n",
       "      <td>5</td>\n",
       "      <td>13565</td>\n",
       "      <td>0.003183</td>\n",
       "      <td>0.036979</td>\n",
       "      <td>0.083150</td>\n",
       "    </tr>\n",
       "    <tr>\n",
       "      <th>Windows Vista</th>\n",
       "      <td>2</td>\n",
       "      <td>605</td>\n",
       "      <td>0.001273</td>\n",
       "      <td>0.001649</td>\n",
       "      <td>0.771620</td>\n",
       "    </tr>\n",
       "  </tbody>\n",
       "</table>\n",
       "</div>"
      ],
      "text/plain": [
       "                    InAuth ユーザエージェント OS  InAuth ユーザエージェント OS      不正割合  \\\n",
       "Windows 8.1                        1061                 4495  0.675366   \n",
       "Windows 7                           366                22447  0.232973   \n",
       "iOS                                  51               115392  0.032463   \n",
       "Windows                              32                59929  0.020369   \n",
       "Android                              28                56197  0.017823   \n",
       "Android 4.4 KitKat                   11                 1590  0.007002   \n",
       "OS X                                  5                13565  0.003183   \n",
       "Windows Vista                         2                  605  0.001273   \n",
       "\n",
       "                        正常割合          OR  \n",
       "Windows 8.1         0.012254  167.698584  \n",
       "Windows 7           0.061191    4.659950  \n",
       "iOS                 0.314563    0.073112  \n",
       "Windows             0.163369    0.106482  \n",
       "Android             0.153195    0.100307  \n",
       "Android 4.4 KitKat  0.004334    1.619768  \n",
       "OS X                0.036979    0.083150  \n",
       "Windows Vista       0.001649    0.771620  "
      ]
     },
     "execution_count": 85,
     "metadata": {},
     "output_type": "execute_result"
    }
   ],
   "source": [
    "merge['OR'] = merge.apply(lambda x: calcOR(x),axis=1)\n",
    "merge"
   ]
  },
  {
   "cell_type": "markdown",
   "metadata": {},
   "source": [
    "オッズ比の計算は終了です。次はオッズ比の信頼性を確認するためにp値の計算を行います。"
   ]
  },
  {
   "cell_type": "markdown",
   "metadata": {},
   "source": [
    "## p値の計算"
   ]
  },
  {
   "cell_type": "markdown",
   "metadata": {},
   "source": [
    "オッズ比のp値の方式を覚えますか。実はライブラリーでオッズ比とp値を計算するための関数がありますが、方式の復習のため、自分で計算してみましょう。\n",
    "階乗を計算することが必要なので、mathからfactorial関数をインポートしましょう。"
   ]
  },
  {
   "cell_type": "code",
   "execution_count": 86,
   "metadata": {},
   "outputs": [],
   "source": [
    "from math import factorial"
   ]
  },
  {
   "cell_type": "markdown",
   "metadata": {},
   "source": [
    "では方式に従って、OSがWindows8.1の場合のp値を計算してみましょう。"
   ]
  },
  {
   "cell_type": "code",
   "execution_count": 121,
   "metadata": {},
   "outputs": [
    {
     "data": {
      "text/plain": [
       "0.0"
      ]
     },
     "execution_count": 121,
     "metadata": {},
     "output_type": "execute_result"
    }
   ],
   "source": [
    "up = factorial(fraud_total)*factorial(normal_total)*factorial(1061+4495)*factorial(fraud_total+normal_total-1061-4495)\n",
    "down = factorial(1061)*factorial(fraud_total-1061)*factorial(4495)*factorial(normal_total-4495)*factorial(fraud_total+normal_total)\n",
    "\n",
    "p = up/down\n",
    "p"
   ]
  },
  {
   "cell_type": "markdown",
   "metadata": {},
   "source": [
    "上記の計算<span style=\"color: red; \">の</span>し方は分かりやすいですが、能率的じゃないため、これから、オッズ比とp値をデータサイエンス用のライブラリの関数で計算しましょう。\n",
    "\n",
    "その関数は行列が必要となりますので、まずはデータを行列に入れてみましょう。"
   ]
  },
  {
   "cell_type": "code",
   "execution_count": 88,
   "metadata": {},
   "outputs": [
    {
     "data": {
      "text/plain": [
       "[[1061, 510], [4495, 362338]]"
      ]
     },
     "execution_count": 88,
     "metadata": {},
     "output_type": "execute_result"
    }
   ],
   "source": [
    "table = [[1061,fraud_total - 1061],[4495,normal_total - 4495]]\n",
    "table"
   ]
  },
  {
   "cell_type": "markdown",
   "metadata": {},
   "source": [
    "scipy.statsのfisher_exact関数でオッズ比とp値を計算しましょう。"
   ]
  },
  {
   "cell_type": "code",
   "execution_count": 89,
   "metadata": {},
   "outputs": [
    {
     "data": {
      "text/plain": [
       "(167.6985836114201, 0.0)"
      ]
     },
     "execution_count": 89,
     "metadata": {},
     "output_type": "execute_result"
    }
   ],
   "source": [
    "from scipy.stats import fisher_exact\n",
    "fisher_exact(table)"
   ]
  },
  {
   "cell_type": "markdown",
   "metadata": {},
   "source": [
    "ゼロからの計算しかたと同じ結果ですね、しかも素早く計算できました。\n",
    "fisher_exact関数はタプルでオッズ比とp値を返すので、索引でオッズ比あるいはp値も取得できます。"
   ]
  },
  {
   "cell_type": "code",
   "execution_count": 90,
   "metadata": {},
   "outputs": [
    {
     "name": "stdout",
     "output_type": "stream",
     "text": [
      "167.6985836114201\n",
      "0.0\n"
     ]
    }
   ],
   "source": [
    "fe = fisher_exact(table)\n",
    "print(fe[0])\n",
    "print(fe[1])"
   ]
  },
  {
   "cell_type": "markdown",
   "metadata": {},
   "source": [
    "では、オッズ比とp値の計算を自動化するために関数を作りましょう。"
   ]
  },
  {
   "cell_type": "code",
   "execution_count": 91,
   "metadata": {},
   "outputs": [],
   "source": [
    "def mergeodds(row):\n",
    "    table = [[row.iloc[0],fraud_total - row.iloc[0]],[row.iloc[1],normal_total - row.iloc[1]]]\n",
    "    return fisher_exact(table)"
   ]
  },
  {
   "cell_type": "markdown",
   "metadata": {},
   "source": [
    "まずはもう一度全部のオッズ比を新しい関数で計算してみましょう。"
   ]
  },
  {
   "cell_type": "code",
   "execution_count": 92,
   "metadata": {},
   "outputs": [
    {
     "data": {
      "text/html": [
       "<div>\n",
       "<style scoped>\n",
       "    .dataframe tbody tr th:only-of-type {\n",
       "        vertical-align: middle;\n",
       "    }\n",
       "\n",
       "    .dataframe tbody tr th {\n",
       "        vertical-align: top;\n",
       "    }\n",
       "\n",
       "    .dataframe thead th {\n",
       "        text-align: right;\n",
       "    }\n",
       "</style>\n",
       "<table border=\"1\" class=\"dataframe\">\n",
       "  <thead>\n",
       "    <tr style=\"text-align: right;\">\n",
       "      <th></th>\n",
       "      <th>InAuth ユーザエージェント OS</th>\n",
       "      <th>InAuth ユーザエージェント OS</th>\n",
       "      <th>不正割合</th>\n",
       "      <th>正常割合</th>\n",
       "      <th>OR</th>\n",
       "    </tr>\n",
       "  </thead>\n",
       "  <tbody>\n",
       "    <tr>\n",
       "      <th>Windows 8.1</th>\n",
       "      <td>1061</td>\n",
       "      <td>4495</td>\n",
       "      <td>0.675366</td>\n",
       "      <td>0.012254</td>\n",
       "      <td>167.698584</td>\n",
       "    </tr>\n",
       "    <tr>\n",
       "      <th>Windows 7</th>\n",
       "      <td>366</td>\n",
       "      <td>22447</td>\n",
       "      <td>0.232973</td>\n",
       "      <td>0.061191</td>\n",
       "      <td>4.659950</td>\n",
       "    </tr>\n",
       "    <tr>\n",
       "      <th>iOS</th>\n",
       "      <td>51</td>\n",
       "      <td>115392</td>\n",
       "      <td>0.032463</td>\n",
       "      <td>0.314563</td>\n",
       "      <td>0.073112</td>\n",
       "    </tr>\n",
       "    <tr>\n",
       "      <th>Windows</th>\n",
       "      <td>32</td>\n",
       "      <td>59929</td>\n",
       "      <td>0.020369</td>\n",
       "      <td>0.163369</td>\n",
       "      <td>0.106482</td>\n",
       "    </tr>\n",
       "    <tr>\n",
       "      <th>Android</th>\n",
       "      <td>28</td>\n",
       "      <td>56197</td>\n",
       "      <td>0.017823</td>\n",
       "      <td>0.153195</td>\n",
       "      <td>0.100307</td>\n",
       "    </tr>\n",
       "    <tr>\n",
       "      <th>Android 4.4 KitKat</th>\n",
       "      <td>11</td>\n",
       "      <td>1590</td>\n",
       "      <td>0.007002</td>\n",
       "      <td>0.004334</td>\n",
       "      <td>1.619768</td>\n",
       "    </tr>\n",
       "    <tr>\n",
       "      <th>OS X</th>\n",
       "      <td>5</td>\n",
       "      <td>13565</td>\n",
       "      <td>0.003183</td>\n",
       "      <td>0.036979</td>\n",
       "      <td>0.083150</td>\n",
       "    </tr>\n",
       "    <tr>\n",
       "      <th>Windows Vista</th>\n",
       "      <td>2</td>\n",
       "      <td>605</td>\n",
       "      <td>0.001273</td>\n",
       "      <td>0.001649</td>\n",
       "      <td>0.771620</td>\n",
       "    </tr>\n",
       "  </tbody>\n",
       "</table>\n",
       "</div>"
      ],
      "text/plain": [
       "                    InAuth ユーザエージェント OS  InAuth ユーザエージェント OS      不正割合  \\\n",
       "Windows 8.1                        1061                 4495  0.675366   \n",
       "Windows 7                           366                22447  0.232973   \n",
       "iOS                                  51               115392  0.032463   \n",
       "Windows                              32                59929  0.020369   \n",
       "Android                              28                56197  0.017823   \n",
       "Android 4.4 KitKat                   11                 1590  0.007002   \n",
       "OS X                                  5                13565  0.003183   \n",
       "Windows Vista                         2                  605  0.001273   \n",
       "\n",
       "                        正常割合          OR  \n",
       "Windows 8.1         0.012254  167.698584  \n",
       "Windows 7           0.061191    4.659950  \n",
       "iOS                 0.314563    0.073112  \n",
       "Windows             0.163369    0.106482  \n",
       "Android             0.153195    0.100307  \n",
       "Android 4.4 KitKat  0.004334    1.619768  \n",
       "OS X                0.036979    0.083150  \n",
       "Windows Vista       0.001649    0.771620  "
      ]
     },
     "execution_count": 92,
     "metadata": {},
     "output_type": "execute_result"
    }
   ],
   "source": [
    "merge['OR'] = merge.apply(lambda x: mergeodds(x)[0],axis=1)\n",
    "merge"
   ]
  },
  {
   "cell_type": "markdown",
   "metadata": {},
   "source": [
    "次はp値を計算します。"
   ]
  },
  {
   "cell_type": "code",
   "execution_count": 93,
   "metadata": {},
   "outputs": [
    {
     "data": {
      "text/html": [
       "<div>\n",
       "<style scoped>\n",
       "    .dataframe tbody tr th:only-of-type {\n",
       "        vertical-align: middle;\n",
       "    }\n",
       "\n",
       "    .dataframe tbody tr th {\n",
       "        vertical-align: top;\n",
       "    }\n",
       "\n",
       "    .dataframe thead th {\n",
       "        text-align: right;\n",
       "    }\n",
       "</style>\n",
       "<table border=\"1\" class=\"dataframe\">\n",
       "  <thead>\n",
       "    <tr style=\"text-align: right;\">\n",
       "      <th></th>\n",
       "      <th>InAuth ユーザエージェント OS</th>\n",
       "      <th>InAuth ユーザエージェント OS</th>\n",
       "      <th>不正割合</th>\n",
       "      <th>正常割合</th>\n",
       "      <th>OR</th>\n",
       "      <th>p値</th>\n",
       "    </tr>\n",
       "  </thead>\n",
       "  <tbody>\n",
       "    <tr>\n",
       "      <th>Windows 8.1</th>\n",
       "      <td>1061</td>\n",
       "      <td>4495</td>\n",
       "      <td>0.675366</td>\n",
       "      <td>0.012254</td>\n",
       "      <td>167.698584</td>\n",
       "      <td>0.000000e+00</td>\n",
       "    </tr>\n",
       "    <tr>\n",
       "      <th>Windows 7</th>\n",
       "      <td>366</td>\n",
       "      <td>22447</td>\n",
       "      <td>0.232973</td>\n",
       "      <td>0.061191</td>\n",
       "      <td>4.659950</td>\n",
       "      <td>3.035066e-108</td>\n",
       "    </tr>\n",
       "    <tr>\n",
       "      <th>iOS</th>\n",
       "      <td>51</td>\n",
       "      <td>115392</td>\n",
       "      <td>0.032463</td>\n",
       "      <td>0.314563</td>\n",
       "      <td>0.073112</td>\n",
       "      <td>2.174448e-178</td>\n",
       "    </tr>\n",
       "    <tr>\n",
       "      <th>Windows</th>\n",
       "      <td>32</td>\n",
       "      <td>59929</td>\n",
       "      <td>0.020369</td>\n",
       "      <td>0.163369</td>\n",
       "      <td>0.106482</td>\n",
       "      <td>7.174505e-78</td>\n",
       "    </tr>\n",
       "    <tr>\n",
       "      <th>Android</th>\n",
       "      <td>28</td>\n",
       "      <td>56197</td>\n",
       "      <td>0.017823</td>\n",
       "      <td>0.153195</td>\n",
       "      <td>0.100307</td>\n",
       "      <td>1.478212e-74</td>\n",
       "    </tr>\n",
       "    <tr>\n",
       "      <th>Android 4.4 KitKat</th>\n",
       "      <td>11</td>\n",
       "      <td>1590</td>\n",
       "      <td>0.007002</td>\n",
       "      <td>0.004334</td>\n",
       "      <td>1.619768</td>\n",
       "      <td>1.190320e-01</td>\n",
       "    </tr>\n",
       "    <tr>\n",
       "      <th>OS X</th>\n",
       "      <td>5</td>\n",
       "      <td>13565</td>\n",
       "      <td>0.003183</td>\n",
       "      <td>0.036979</td>\n",
       "      <td>0.083150</td>\n",
       "      <td>3.322258e-19</td>\n",
       "    </tr>\n",
       "    <tr>\n",
       "      <th>Windows Vista</th>\n",
       "      <td>2</td>\n",
       "      <td>605</td>\n",
       "      <td>0.001273</td>\n",
       "      <td>0.001649</td>\n",
       "      <td>0.771620</td>\n",
       "      <td>1.000000e+00</td>\n",
       "    </tr>\n",
       "  </tbody>\n",
       "</table>\n",
       "</div>"
      ],
      "text/plain": [
       "                    InAuth ユーザエージェント OS  InAuth ユーザエージェント OS      不正割合  \\\n",
       "Windows 8.1                        1061                 4495  0.675366   \n",
       "Windows 7                           366                22447  0.232973   \n",
       "iOS                                  51               115392  0.032463   \n",
       "Windows                              32                59929  0.020369   \n",
       "Android                              28                56197  0.017823   \n",
       "Android 4.4 KitKat                   11                 1590  0.007002   \n",
       "OS X                                  5                13565  0.003183   \n",
       "Windows Vista                         2                  605  0.001273   \n",
       "\n",
       "                        正常割合          OR             p値  \n",
       "Windows 8.1         0.012254  167.698584   0.000000e+00  \n",
       "Windows 7           0.061191    4.659950  3.035066e-108  \n",
       "iOS                 0.314563    0.073112  2.174448e-178  \n",
       "Windows             0.163369    0.106482   7.174505e-78  \n",
       "Android             0.153195    0.100307   1.478212e-74  \n",
       "Android 4.4 KitKat  0.004334    1.619768   1.190320e-01  \n",
       "OS X                0.036979    0.083150   3.322258e-19  \n",
       "Windows Vista       0.001649    0.771620   1.000000e+00  "
      ]
     },
     "execution_count": 93,
     "metadata": {},
     "output_type": "execute_result"
    }
   ],
   "source": [
    "merge['p値'] = merge.apply(lambda x: mergeodds(x)[1],axis=1)\n",
    "merge"
   ]
  },
  {
   "cell_type": "markdown",
   "metadata": {},
   "source": [
    "これでp値とオッズ比の計算が終了です。最後はオッズ比とp値がそれぞれの閾値を超える結果だけを表示<span style=\"color: red; \">させる方法</span>~~しかた~~を習いましょう。"
   ]
  },
  {
   "cell_type": "markdown",
   "metadata": {},
   "source": [
    "## 結果の表示"
   ]
  },
  {
   "cell_type": "markdown",
   "metadata": {},
   "source": [
    "今まで結果を表示するために、単純に変数名だけを使いましたね。ただし、pandasデータフレームの場合はメモリーのため、データフレームにデータが多いと\n",
    "全部のデータを表示しません。そのため、displayと言う関数を使って、全部のデータを表示できます。"
   ]
  },
  {
   "cell_type": "code",
   "execution_count": 94,
   "metadata": {},
   "outputs": [
    {
     "data": {
      "text/html": [
       "<div>\n",
       "<style scoped>\n",
       "    .dataframe tbody tr th:only-of-type {\n",
       "        vertical-align: middle;\n",
       "    }\n",
       "\n",
       "    .dataframe tbody tr th {\n",
       "        vertical-align: top;\n",
       "    }\n",
       "\n",
       "    .dataframe thead th {\n",
       "        text-align: right;\n",
       "    }\n",
       "</style>\n",
       "<table border=\"1\" class=\"dataframe\">\n",
       "  <thead>\n",
       "    <tr style=\"text-align: right;\">\n",
       "      <th></th>\n",
       "      <th>InAuth ユーザエージェント OS</th>\n",
       "      <th>InAuth ユーザエージェント OS</th>\n",
       "      <th>不正割合</th>\n",
       "      <th>正常割合</th>\n",
       "      <th>OR</th>\n",
       "      <th>p値</th>\n",
       "    </tr>\n",
       "  </thead>\n",
       "  <tbody>\n",
       "    <tr>\n",
       "      <th>Windows 8.1</th>\n",
       "      <td>1061</td>\n",
       "      <td>4495</td>\n",
       "      <td>0.675366</td>\n",
       "      <td>0.012254</td>\n",
       "      <td>167.698584</td>\n",
       "      <td>0.000000e+00</td>\n",
       "    </tr>\n",
       "    <tr>\n",
       "      <th>Windows 7</th>\n",
       "      <td>366</td>\n",
       "      <td>22447</td>\n",
       "      <td>0.232973</td>\n",
       "      <td>0.061191</td>\n",
       "      <td>4.659950</td>\n",
       "      <td>3.035066e-108</td>\n",
       "    </tr>\n",
       "    <tr>\n",
       "      <th>iOS</th>\n",
       "      <td>51</td>\n",
       "      <td>115392</td>\n",
       "      <td>0.032463</td>\n",
       "      <td>0.314563</td>\n",
       "      <td>0.073112</td>\n",
       "      <td>2.174448e-178</td>\n",
       "    </tr>\n",
       "    <tr>\n",
       "      <th>Windows</th>\n",
       "      <td>32</td>\n",
       "      <td>59929</td>\n",
       "      <td>0.020369</td>\n",
       "      <td>0.163369</td>\n",
       "      <td>0.106482</td>\n",
       "      <td>7.174505e-78</td>\n",
       "    </tr>\n",
       "    <tr>\n",
       "      <th>Android</th>\n",
       "      <td>28</td>\n",
       "      <td>56197</td>\n",
       "      <td>0.017823</td>\n",
       "      <td>0.153195</td>\n",
       "      <td>0.100307</td>\n",
       "      <td>1.478212e-74</td>\n",
       "    </tr>\n",
       "    <tr>\n",
       "      <th>Android 4.4 KitKat</th>\n",
       "      <td>11</td>\n",
       "      <td>1590</td>\n",
       "      <td>0.007002</td>\n",
       "      <td>0.004334</td>\n",
       "      <td>1.619768</td>\n",
       "      <td>1.190320e-01</td>\n",
       "    </tr>\n",
       "    <tr>\n",
       "      <th>OS X</th>\n",
       "      <td>5</td>\n",
       "      <td>13565</td>\n",
       "      <td>0.003183</td>\n",
       "      <td>0.036979</td>\n",
       "      <td>0.083150</td>\n",
       "      <td>3.322258e-19</td>\n",
       "    </tr>\n",
       "    <tr>\n",
       "      <th>Windows Vista</th>\n",
       "      <td>2</td>\n",
       "      <td>605</td>\n",
       "      <td>0.001273</td>\n",
       "      <td>0.001649</td>\n",
       "      <td>0.771620</td>\n",
       "      <td>1.000000e+00</td>\n",
       "    </tr>\n",
       "  </tbody>\n",
       "</table>\n",
       "</div>"
      ],
      "text/plain": [
       "                    InAuth ユーザエージェント OS  InAuth ユーザエージェント OS      不正割合  \\\n",
       "Windows 8.1                        1061                 4495  0.675366   \n",
       "Windows 7                           366                22447  0.232973   \n",
       "iOS                                  51               115392  0.032463   \n",
       "Windows                              32                59929  0.020369   \n",
       "Android                              28                56197  0.017823   \n",
       "Android 4.4 KitKat                   11                 1590  0.007002   \n",
       "OS X                                  5                13565  0.003183   \n",
       "Windows Vista                         2                  605  0.001273   \n",
       "\n",
       "                        正常割合          OR             p値  \n",
       "Windows 8.1         0.012254  167.698584   0.000000e+00  \n",
       "Windows 7           0.061191    4.659950  3.035066e-108  \n",
       "iOS                 0.314563    0.073112  2.174448e-178  \n",
       "Windows             0.163369    0.106482   7.174505e-78  \n",
       "Android             0.153195    0.100307   1.478212e-74  \n",
       "Android 4.4 KitKat  0.004334    1.619768   1.190320e-01  \n",
       "OS X                0.036979    0.083150   3.322258e-19  \n",
       "Windows Vista       0.001649    0.771620   1.000000e+00  "
      ]
     },
     "metadata": {},
     "output_type": "display_data"
    }
   ],
   "source": [
    "display(merge)"
   ]
  },
  {
   "cell_type": "markdown",
   "metadata": {},
   "source": [
    "オッズ比が２を超える値だけを表示してみましょう。そのために、ブール式を使いましょう。"
   ]
  },
  {
   "cell_type": "code",
   "execution_count": 95,
   "metadata": {
    "scrolled": true
   },
   "outputs": [
    {
     "data": {
      "text/html": [
       "<div>\n",
       "<style scoped>\n",
       "    .dataframe tbody tr th:only-of-type {\n",
       "        vertical-align: middle;\n",
       "    }\n",
       "\n",
       "    .dataframe tbody tr th {\n",
       "        vertical-align: top;\n",
       "    }\n",
       "\n",
       "    .dataframe thead th {\n",
       "        text-align: right;\n",
       "    }\n",
       "</style>\n",
       "<table border=\"1\" class=\"dataframe\">\n",
       "  <thead>\n",
       "    <tr style=\"text-align: right;\">\n",
       "      <th></th>\n",
       "      <th>InAuth ユーザエージェント OS</th>\n",
       "      <th>InAuth ユーザエージェント OS</th>\n",
       "      <th>不正割合</th>\n",
       "      <th>正常割合</th>\n",
       "      <th>OR</th>\n",
       "      <th>p値</th>\n",
       "    </tr>\n",
       "  </thead>\n",
       "  <tbody>\n",
       "    <tr>\n",
       "      <th>Windows 8.1</th>\n",
       "      <td>1061</td>\n",
       "      <td>4495</td>\n",
       "      <td>0.675366</td>\n",
       "      <td>0.012254</td>\n",
       "      <td>167.698584</td>\n",
       "      <td>0.000000e+00</td>\n",
       "    </tr>\n",
       "    <tr>\n",
       "      <th>Windows 7</th>\n",
       "      <td>366</td>\n",
       "      <td>22447</td>\n",
       "      <td>0.232973</td>\n",
       "      <td>0.061191</td>\n",
       "      <td>4.659950</td>\n",
       "      <td>3.035066e-108</td>\n",
       "    </tr>\n",
       "  </tbody>\n",
       "</table>\n",
       "</div>"
      ],
      "text/plain": [
       "             InAuth ユーザエージェント OS  InAuth ユーザエージェント OS      不正割合      正常割合  \\\n",
       "Windows 8.1                 1061                 4495  0.675366  0.012254   \n",
       "Windows 7                    366                22447  0.232973  0.061191   \n",
       "\n",
       "                     OR             p値  \n",
       "Windows 8.1  167.698584   0.000000e+00  \n",
       "Windows 7      4.659950  3.035066e-108  "
      ]
     },
     "metadata": {},
     "output_type": "display_data"
    }
   ],
   "source": [
    "display(merge[merge['OR'] > 2])"
   ]
  },
  {
   "cell_type": "markdown",
   "metadata": {},
   "source": [
    "オッズ比が2以上とp値が0.05以下の結果だけを表示してみましょう。"
   ]
  },
  {
   "cell_type": "code",
   "execution_count": 103,
   "metadata": {},
   "outputs": [
    {
     "data": {
      "text/plain": [
       "Windows 8.1            True\n",
       "Windows 7              True\n",
       "iOS                    True\n",
       "Windows                True\n",
       "Android                True\n",
       "Android 4.4 KitKat    False\n",
       "OS X                   True\n",
       "Windows Vista         False\n",
       "Name: p値, dtype: bool"
      ]
     },
     "metadata": {},
     "output_type": "display_data"
    }
   ],
   "source": [
    "display(merge['p値'] < .05)"
   ]
  },
  {
   "cell_type": "code",
   "execution_count": 104,
   "metadata": {
    "scrolled": false
   },
   "outputs": [
    {
     "data": {
      "text/html": [
       "<div>\n",
       "<style scoped>\n",
       "    .dataframe tbody tr th:only-of-type {\n",
       "        vertical-align: middle;\n",
       "    }\n",
       "\n",
       "    .dataframe tbody tr th {\n",
       "        vertical-align: top;\n",
       "    }\n",
       "\n",
       "    .dataframe thead th {\n",
       "        text-align: right;\n",
       "    }\n",
       "</style>\n",
       "<table border=\"1\" class=\"dataframe\">\n",
       "  <thead>\n",
       "    <tr style=\"text-align: right;\">\n",
       "      <th></th>\n",
       "      <th>InAuth ユーザエージェント OS</th>\n",
       "      <th>InAuth ユーザエージェント OS</th>\n",
       "      <th>不正割合</th>\n",
       "      <th>正常割合</th>\n",
       "      <th>OR</th>\n",
       "      <th>p値</th>\n",
       "    </tr>\n",
       "  </thead>\n",
       "  <tbody>\n",
       "    <tr>\n",
       "      <th>Windows 8.1</th>\n",
       "      <td>1061</td>\n",
       "      <td>4495</td>\n",
       "      <td>0.675366</td>\n",
       "      <td>0.012254</td>\n",
       "      <td>167.698584</td>\n",
       "      <td>0.000000e+00</td>\n",
       "    </tr>\n",
       "    <tr>\n",
       "      <th>Windows 7</th>\n",
       "      <td>366</td>\n",
       "      <td>22447</td>\n",
       "      <td>0.232973</td>\n",
       "      <td>0.061191</td>\n",
       "      <td>4.659950</td>\n",
       "      <td>3.035066e-108</td>\n",
       "    </tr>\n",
       "  </tbody>\n",
       "</table>\n",
       "</div>"
      ],
      "text/plain": [
       "             InAuth ユーザエージェント OS  InAuth ユーザエージェント OS      不正割合      正常割合  \\\n",
       "Windows 8.1                 1061                 4495  0.675366  0.012254   \n",
       "Windows 7                    366                22447  0.232973  0.061191   \n",
       "\n",
       "                     OR             p値  \n",
       "Windows 8.1  167.698584   0.000000e+00  \n",
       "Windows 7      4.659950  3.035066e-108  "
      ]
     },
     "metadata": {},
     "output_type": "display_data"
    }
   ],
   "source": [
    "display(merge[(merge['OR'] > 2) & (merge['p値'] < .05)])"
   ]
  },
  {
   "cell_type": "markdown",
   "metadata": {},
   "source": [
    "今度は信頼できる0.5以下のオッズ比を表示しましょう。"
   ]
  },
  {
   "cell_type": "code",
   "execution_count": 105,
   "metadata": {},
   "outputs": [
    {
     "data": {
      "text/html": [
       "<div>\n",
       "<style scoped>\n",
       "    .dataframe tbody tr th:only-of-type {\n",
       "        vertical-align: middle;\n",
       "    }\n",
       "\n",
       "    .dataframe tbody tr th {\n",
       "        vertical-align: top;\n",
       "    }\n",
       "\n",
       "    .dataframe thead th {\n",
       "        text-align: right;\n",
       "    }\n",
       "</style>\n",
       "<table border=\"1\" class=\"dataframe\">\n",
       "  <thead>\n",
       "    <tr style=\"text-align: right;\">\n",
       "      <th></th>\n",
       "      <th>InAuth ユーザエージェント OS</th>\n",
       "      <th>InAuth ユーザエージェント OS</th>\n",
       "      <th>不正割合</th>\n",
       "      <th>正常割合</th>\n",
       "      <th>OR</th>\n",
       "      <th>p値</th>\n",
       "    </tr>\n",
       "  </thead>\n",
       "  <tbody>\n",
       "    <tr>\n",
       "      <th>iOS</th>\n",
       "      <td>51</td>\n",
       "      <td>115392</td>\n",
       "      <td>0.032463</td>\n",
       "      <td>0.314563</td>\n",
       "      <td>0.073112</td>\n",
       "      <td>2.174448e-178</td>\n",
       "    </tr>\n",
       "    <tr>\n",
       "      <th>Windows</th>\n",
       "      <td>32</td>\n",
       "      <td>59929</td>\n",
       "      <td>0.020369</td>\n",
       "      <td>0.163369</td>\n",
       "      <td>0.106482</td>\n",
       "      <td>7.174505e-78</td>\n",
       "    </tr>\n",
       "    <tr>\n",
       "      <th>Android</th>\n",
       "      <td>28</td>\n",
       "      <td>56197</td>\n",
       "      <td>0.017823</td>\n",
       "      <td>0.153195</td>\n",
       "      <td>0.100307</td>\n",
       "      <td>1.478212e-74</td>\n",
       "    </tr>\n",
       "    <tr>\n",
       "      <th>OS X</th>\n",
       "      <td>5</td>\n",
       "      <td>13565</td>\n",
       "      <td>0.003183</td>\n",
       "      <td>0.036979</td>\n",
       "      <td>0.083150</td>\n",
       "      <td>3.322258e-19</td>\n",
       "    </tr>\n",
       "  </tbody>\n",
       "</table>\n",
       "</div>"
      ],
      "text/plain": [
       "         InAuth ユーザエージェント OS  InAuth ユーザエージェント OS      不正割合      正常割合  \\\n",
       "iOS                       51               115392  0.032463  0.314563   \n",
       "Windows                   32                59929  0.020369  0.163369   \n",
       "Android                   28                56197  0.017823  0.153195   \n",
       "OS X                       5                13565  0.003183  0.036979   \n",
       "\n",
       "               OR             p値  \n",
       "iOS      0.073112  2.174448e-178  \n",
       "Windows  0.106482   7.174505e-78  \n",
       "Android  0.100307   1.478212e-74  \n",
       "OS X     0.083150   3.322258e-19  "
      ]
     },
     "metadata": {},
     "output_type": "display_data"
    }
   ],
   "source": [
    "display(merge[(merge['OR'] < .5) & (merge['p値'] < .05)])"
   ]
  },
  {
   "cell_type": "markdown",
   "metadata": {},
   "source": [
    "ブール式の使いかた分かりましたか？\n",
    "では同じ行に99％信頼できる、2以上あるいは0.5以下オッズ比を表示して見てください！"
   ]
  },
  {
   "cell_type": "code",
   "execution_count": null,
   "metadata": {},
   "outputs": [],
   "source": []
  },
  {
   "cell_type": "markdown",
   "metadata": {},
   "source": [
    "このセッションで項目一つの視覚化から、オッズ比とp値の計算までのしかたを習いましたね。\n",
    "では復習のため、自分別の項目の視覚化とオッズ比とp値の計算と信頼できる結果の表示をやってみてください！"
   ]
  },
  {
   "cell_type": "code",
   "execution_count": null,
   "metadata": {},
   "outputs": [],
   "source": []
  },
  {
   "cell_type": "code",
   "execution_count": null,
   "metadata": {},
   "outputs": [],
   "source": []
  },
  {
   "cell_type": "code",
   "execution_count": null,
   "metadata": {},
   "outputs": [],
   "source": []
  }
 ],
 "metadata": {
  "kernelspec": {
   "display_name": "Python 3",
   "language": "python",
   "name": "python3"
  },
  "language_info": {
   "codemirror_mode": {
    "name": "ipython",
    "version": 3
   },
   "file_extension": ".py",
   "mimetype": "text/x-python",
   "name": "python",
   "nbconvert_exporter": "python",
   "pygments_lexer": "ipython3",
   "version": "3.6.5"
  }
 },
 "nbformat": 4,
 "nbformat_minor": 2
}
