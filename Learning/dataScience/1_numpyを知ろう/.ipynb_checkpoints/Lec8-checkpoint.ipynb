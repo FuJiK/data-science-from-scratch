{
 "cells": [
  {
   "cell_type": "code",
   "execution_count": 7,
   "metadata": {},
   "outputs": [],
   "source": [
    "import numpy as np"
   ]
  },
  {
   "cell_type": "code",
   "execution_count": 8,
   "metadata": {},
   "outputs": [
    {
     "data": {
      "text/plain": [
       "2.5"
      ]
     },
     "execution_count": 8,
     "metadata": {},
     "output_type": "execute_result"
    }
   ],
   "source": [
    "5/2\n",
    "# int 型同士の割り算でもFloatが返ってくる(Python3の場合)"
   ]
  },
  {
   "cell_type": "code",
   "execution_count": 15,
   "metadata": {},
   "outputs": [],
   "source": [
    "# Python2を使っている場合は、5/2が2にならないように、以下の1行を実行\n",
    "from __future__ import division"
   ]
  },
  {
   "cell_type": "code",
   "execution_count": 10,
   "metadata": {},
   "outputs": [
    {
     "data": {
      "text/plain": [
       "array([[ 1,  2,  3,  4],\n",
       "       [ 8,  9, 10, 11]])"
      ]
     },
     "execution_count": 10,
     "metadata": {},
     "output_type": "execute_result"
    }
   ],
   "source": [
    "# アレイを作る\n",
    "arr1 = np.array([[1,2,3,4],[8,9,10,11]])\n",
    "\n",
    "arr1\n",
    "# 2*4の行列"
   ]
  },
  {
   "cell_type": "code",
   "execution_count": 19,
   "metadata": {},
   "outputs": [
    {
     "data": {
      "text/plain": [
       "array([[  1,   4,   9,  16],\n",
       "       [ 64,  81, 100, 121]])"
      ]
     },
     "execution_count": 19,
     "metadata": {},
     "output_type": "execute_result"
    }
   ],
   "source": [
    "# アレイのかけ算\n",
    "arr1*arr1\n",
    "# それぞれの要素同士の掛け算が行われる\n",
    "# ([[ 1,  2,  3,  4],     ([[ 1,  2,  3,  4],     ([[  1,   4,   9,  16],\n",
    "#  [ 8,  9, 10, 11]])  *   [ 8,  9, 10, 11]])  =   [ 64,  81, 100, 121]])"
   ]
  },
  {
   "cell_type": "code",
   "execution_count": 18,
   "metadata": {},
   "outputs": [
    {
     "data": {
      "text/plain": [
       "array([[0, 0, 0, 0],\n",
       "       [0, 0, 0, 0]])"
      ]
     },
     "execution_count": 18,
     "metadata": {},
     "output_type": "execute_result"
    }
   ],
   "source": [
    "# 引き算\n",
    "arr1-arr1\n",
    "\n",
    "# ([[ 1,  2,  3,  4],     ([[ 1,  2,  3,  4],     ([[  0,   0,   0,  0],\n",
    "#  [ 8,  9, 10, 11]])  -   [ 8,  9, 10, 11]])  =     [ 0,  0, 0, 0]])"
   ]
  },
  {
   "cell_type": "code",
   "execution_count": 21,
   "metadata": {},
   "outputs": [
    {
     "data": {
      "text/plain": [
       "array([[1.        , 0.5       , 0.33333333, 0.25      ],\n",
       "       [0.125     , 0.11111111, 0.1       , 0.09090909]])"
      ]
     },
     "execution_count": 21,
     "metadata": {},
     "output_type": "execute_result"
    }
   ],
   "source": [
    "# 1をアレイの書く要素で割ってみる\n",
    "1 / arr1\n",
    "\n",
    "# ([[ 1,  1,  1,  1],     ([[ 1,  2,  3,  4],     ([[1.        , 0.5       , 0.33333333, 0.25      ],\n",
    "#  [ 1,  1, 1, 1]])  -   [ 8,  9, 10, 11]])  =     [0.125     , 0.11111111, 0.1       , 0.09090909]])"
   ]
  },
  {
   "cell_type": "code",
   "execution_count": 33,
   "metadata": {},
   "outputs": [
    {
     "data": {
      "text/plain": [
       "array([[   1,    8,   27,   64],\n",
       "       [ 512,  729, 1000, 1331]], dtype=int32)"
      ]
     },
     "execution_count": 33,
     "metadata": {},
     "output_type": "execute_result"
    }
   ],
   "source": [
    "# 累乗（べき乗）を計算\n",
    "arr1 ** 3\n",
    "\n",
    "# ([[ 1,  2,  3,  4],     ([[ 1,  2,  3,  4],       ([[ 1,  2,  3,  4],     ([[   1,    8,   27,   64],\n",
    "#  [ 8,  9, 10, 11]])  *   [ 8,  9, 10, 11]])     *   [ 8,  9, 10, 11]])  =   [ 512,  729, 1000, 1331]], dtype=int32)"
   ]
  }
 ],
 "metadata": {
  "kernelspec": {
   "display_name": "Python 3",
   "language": "python",
   "name": "python3"
  },
  "language_info": {
   "codemirror_mode": {
    "name": "ipython",
    "version": 3
   },
   "file_extension": ".py",
   "mimetype": "text/x-python",
   "name": "python",
   "nbconvert_exporter": "python",
   "pygments_lexer": "ipython3",
   "version": "3.6.5"
  }
 },
 "nbformat": 4,
 "nbformat_minor": 1
}
