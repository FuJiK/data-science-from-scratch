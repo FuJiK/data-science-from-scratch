{
 "cells": [
  {
   "cell_type": "markdown",
   "metadata": {},
   "source": [
    "# データ分析用のPythonの入門"
   ]
  },
  {
   "cell_type": "markdown",
   "metadata": {},
   "source": [
    "<span style=\"color: red; \">この講義の内容は、Python3をインストールしたAnaconda環境でJupyter notebookを利用して閲覧してください。</span>\n",
    "\n",
    "Pythonは近代的な汎用プログラミング言語です。\n",
    "このセッションでは、データ分析のためのPython<span style=\"color: red; \">を</span>簡単に紹介します。\n",
    "\n",
    "Pythonの重要な点：\n",
    "\n",
    "- 科学的コンピューティングにおいて強い地位を占めています。\n",
    "- ユーザーの大きなコミュニティがあるため、~~助~~<span style=\"color: red; \">必要とする</span>ドキュメンテーションを簡単に見つけることができます。\n",
    "- 広範な環境とライブラリー<span style=\"color: red; \">が</span>あります。\n",
    "\n",
    "具体的に体験するライブラリーは：\n",
    "\n",
    "  - **numpy**: http://numpy.scipy.org - Numerical Python\n",
    "  - **matplotlib**: http://www.matplotlib.org - Plotting in Python\n",
    "  - **pandas**: http://pandas.pydata.org/ - Python Data Analysis\n",
    "    \n",
    "**Note**: 例題を解決するために、ノートブックにセルを入れて、セルの中にコードを入力してください。"
   ]
  },
  {
   "cell_type": "markdown",
   "metadata": {
    "collapsed": true
   },
   "source": [
    "## モジュール"
   ]
  },
  {
   "cell_type": "markdown",
   "metadata": {},
   "source": [
    "Pythonのほとんどの機能は**モジュール**によって提供されています。Python Standard Libraryは、オペレーティングシステムへのアクセス、ファイルI / O、ネットワーク通信などの共通機能のクロスプラットフォーム実装を提供するモジュールの大規模なコレクションです。\n",
    "\n",
    "使用するには、まずモジュールをインポートする必要があります。モジュールは、_import_ステートメントを使用してインポートできます。 たとえば、多くの標準的な数学関数を含むモジュール**math**をインポートするには、次のようにします："
   ]
  },
  {
   "cell_type": "code",
   "execution_count": 1,
   "metadata": {
    "scrolled": true
   },
   "outputs": [],
   "source": [
    "import math\n",
    "# import クラス名"
   ]
  },
  {
   "cell_type": "markdown",
   "metadata": {},
   "source": [
    "これにはモジュール全体が含まれ、後で使用できるようになります。 たとえば、次のようにすることができます。"
   ]
  },
  {
   "cell_type": "code",
   "execution_count": 2,
   "metadata": {
    "scrolled": true
   },
   "outputs": [
    {
     "name": "stdout",
     "output_type": "stream",
     "text": [
      "1.0\n"
     ]
    }
   ],
   "source": [
    "x = math.cos(2 * math.pi)\n",
    "# x　＝　cos(2π)を表す。\n",
    "print (x)\n"
   ]
  },
  {
   "cell_type": "markdown",
   "metadata": {},
   "source": [
    "あるいは、<span style=\"color: red; \">\t\n",
    "from  モジュール名 import クラス名（もしくは関数名や変数名）の形でインポートを行った場合、</span>\n",
    "モジュール内のすべてのシンボル（関数と変数）をインポートすることができるので、接頭辞<span style=\"color: red; \">に</span>\"math\"を使用する必要はありません。 数学モジュールから何かを使うたびに以下のように<span style=\"color: red; \">クラス名を省略することができます。</span>："
   ]
  },
  {
   "cell_type": "code",
   "execution_count": 3,
   "metadata": {
    "scrolled": true
   },
   "outputs": [
    {
     "name": "stdout",
     "output_type": "stream",
     "text": [
      "1.0\n"
     ]
    }
   ],
   "source": [
    "from math import *\n",
    "# from モジュール名 import クラス名 *なら、全部という意味\n",
    "x = cos(2 * pi)\n",
    "# x　＝　cos(2π)を表す。\n",
    "print(x)"
   ]
  },
  {
   "cell_type": "markdown",
   "metadata": {},
   "source": [
    "このパターンは非常に便利ですが、多くのモジュールを含む大規模なプログラムでは、import mathパターンを使用して、各モジュールのシンボルを独自の名前空間に保持することをお勧めします。 これにより、変数名の衝突で潜在的に混乱する問題が排除されます。\n",
    "\n",
    "第3の選択肢として、モジュールからいくつかの選択されたシンボルのみをインポートすることもできます。"
   ]
  },
  {
   "cell_type": "code",
   "execution_count": 4,
   "metadata": {
    "scrolled": true
   },
   "outputs": [
    {
     "name": "stdout",
     "output_type": "stream",
     "text": [
      "1.0\n"
     ]
    }
   ],
   "source": [
    "from math import cos, pi\n",
    "x = cos(2 * pi)\n",
    "print(x)"
   ]
  },
  {
   "cell_type": "markdown",
   "metadata": {},
   "source": [
    "### モジュールの内容とそのドキュメンテーションを探検します¶"
   ]
  },
  {
   "cell_type": "markdown",
   "metadata": {},
   "source": [
    "モジュールがインポートされると、**dir** 関数を使用して、それが提供するシンボルをリストすることができます："
   ]
  },
  {
   "cell_type": "code",
   "execution_count": 5,
   "metadata": {
    "scrolled": true
   },
   "outputs": [
    {
     "name": "stdout",
     "output_type": "stream",
     "text": [
      "['__doc__', '__loader__', '__name__', '__package__', '__spec__', 'acos', 'acosh', 'asin', 'asinh', 'atan', 'atan2', 'atanh', 'ceil', 'copysign', 'cos', 'cosh', 'degrees', 'e', 'erf', 'erfc', 'exp', 'expm1', 'fabs', 'factorial', 'floor', 'fmod', 'frexp', 'fsum', 'gamma', 'gcd', 'hypot', 'inf', 'isclose', 'isfinite', 'isinf', 'isnan', 'ldexp', 'lgamma', 'log', 'log10', 'log1p', 'log2', 'modf', 'nan', 'pi', 'pow', 'radians', 'sin', 'sinh', 'sqrt', 'tan', 'tanh', 'tau', 'trunc']\n"
     ]
    }
   ],
   "source": [
    "print(dir(math))\n",
    "# これは便利。"
   ]
  },
  {
   "cell_type": "markdown",
   "metadata": {},
   "source": [
    "** help **関数を使用すると、各関数の説明を得ることができます（ほとんどすべての関数がdocstringを持っているわけではありませんが、大部分の関数はこのように文書化されています):"
   ]
  },
  {
   "cell_type": "code",
   "execution_count": 6,
   "metadata": {
    "scrolled": true
   },
   "outputs": [
    {
     "name": "stdout",
     "output_type": "stream",
     "text": [
      "Help on built-in function log in module math:\n",
      "\n",
      "log(...)\n",
      "    log(x[, base])\n",
      "    \n",
      "    Return the logarithm of x to the given base.\n",
      "    If the base not specified, returns the natural logarithm (base e) of x.\n",
      "\n"
     ]
    }
   ],
   "source": [
    "help(math.log)"
   ]
  },
  {
   "cell_type": "markdown",
   "metadata": {},
   "source": [
    "モジュール上でhelp関数を直接使用することもできます。 たとえば、mathモジュールのヘルプを呼び出してみてください："
   ]
  },
  {
   "cell_type": "code",
   "execution_count": 7,
   "metadata": {},
   "outputs": [
    {
     "name": "stdout",
     "output_type": "stream",
     "text": [
      "Help on built-in module math:\n",
      "\n",
      "NAME\n",
      "    math\n",
      "\n",
      "DESCRIPTION\n",
      "    This module is always available.  It provides access to the\n",
      "    mathematical functions defined by the C standard.\n",
      "\n",
      "FUNCTIONS\n",
      "    acos(...)\n",
      "        acos(x)\n",
      "        \n",
      "        Return the arc cosine (measured in radians) of x.\n",
      "    \n",
      "    acosh(...)\n",
      "        acosh(x)\n",
      "        \n",
      "        Return the inverse hyperbolic cosine of x.\n",
      "    \n",
      "    asin(...)\n",
      "        asin(x)\n",
      "        \n",
      "        Return the arc sine (measured in radians) of x.\n",
      "    \n",
      "    asinh(...)\n",
      "        asinh(x)\n",
      "        \n",
      "        Return the inverse hyperbolic sine of x.\n",
      "    \n",
      "    atan(...)\n",
      "        atan(x)\n",
      "        \n",
      "        Return the arc tangent (measured in radians) of x.\n",
      "    \n",
      "    atan2(...)\n",
      "        atan2(y, x)\n",
      "        \n",
      "        Return the arc tangent (measured in radians) of y/x.\n",
      "        Unlike atan(y/x), the signs of both x and y are considered.\n",
      "    \n",
      "    atanh(...)\n",
      "        atanh(x)\n",
      "        \n",
      "        Return the inverse hyperbolic tangent of x.\n",
      "    \n",
      "    ceil(...)\n",
      "        ceil(x)\n",
      "        \n",
      "        Return the ceiling of x as an Integral.\n",
      "        This is the smallest integer >= x.\n",
      "    \n",
      "    copysign(...)\n",
      "        copysign(x, y)\n",
      "        \n",
      "        Return a float with the magnitude (absolute value) of x but the sign \n",
      "        of y. On platforms that support signed zeros, copysign(1.0, -0.0) \n",
      "        returns -1.0.\n",
      "    \n",
      "    cos(...)\n",
      "        cos(x)\n",
      "        \n",
      "        Return the cosine of x (measured in radians).\n",
      "    \n",
      "    cosh(...)\n",
      "        cosh(x)\n",
      "        \n",
      "        Return the hyperbolic cosine of x.\n",
      "    \n",
      "    degrees(...)\n",
      "        degrees(x)\n",
      "        \n",
      "        Convert angle x from radians to degrees.\n",
      "    \n",
      "    erf(...)\n",
      "        erf(x)\n",
      "        \n",
      "        Error function at x.\n",
      "    \n",
      "    erfc(...)\n",
      "        erfc(x)\n",
      "        \n",
      "        Complementary error function at x.\n",
      "    \n",
      "    exp(...)\n",
      "        exp(x)\n",
      "        \n",
      "        Return e raised to the power of x.\n",
      "    \n",
      "    expm1(...)\n",
      "        expm1(x)\n",
      "        \n",
      "        Return exp(x)-1.\n",
      "        This function avoids the loss of precision involved in the direct evaluation of exp(x)-1 for small x.\n",
      "    \n",
      "    fabs(...)\n",
      "        fabs(x)\n",
      "        \n",
      "        Return the absolute value of the float x.\n",
      "    \n",
      "    factorial(...)\n",
      "        factorial(x) -> Integral\n",
      "        \n",
      "        Find x!. Raise a ValueError if x is negative or non-integral.\n",
      "    \n",
      "    floor(...)\n",
      "        floor(x)\n",
      "        \n",
      "        Return the floor of x as an Integral.\n",
      "        This is the largest integer <= x.\n",
      "    \n",
      "    fmod(...)\n",
      "        fmod(x, y)\n",
      "        \n",
      "        Return fmod(x, y), according to platform C.  x % y may differ.\n",
      "    \n",
      "    frexp(...)\n",
      "        frexp(x)\n",
      "        \n",
      "        Return the mantissa and exponent of x, as pair (m, e).\n",
      "        m is a float and e is an int, such that x = m * 2.**e.\n",
      "        If x is 0, m and e are both 0.  Else 0.5 <= abs(m) < 1.0.\n",
      "    \n",
      "    fsum(...)\n",
      "        fsum(iterable)\n",
      "        \n",
      "        Return an accurate floating point sum of values in the iterable.\n",
      "        Assumes IEEE-754 floating point arithmetic.\n",
      "    \n",
      "    gamma(...)\n",
      "        gamma(x)\n",
      "        \n",
      "        Gamma function at x.\n",
      "    \n",
      "    gcd(...)\n",
      "        gcd(x, y) -> int\n",
      "        greatest common divisor of x and y\n",
      "    \n",
      "    hypot(...)\n",
      "        hypot(x, y)\n",
      "        \n",
      "        Return the Euclidean distance, sqrt(x*x + y*y).\n",
      "    \n",
      "    isclose(...)\n",
      "        isclose(a, b, *, rel_tol=1e-09, abs_tol=0.0) -> bool\n",
      "        \n",
      "        Determine whether two floating point numbers are close in value.\n",
      "        \n",
      "           rel_tol\n",
      "               maximum difference for being considered \"close\", relative to the\n",
      "               magnitude of the input values\n",
      "            abs_tol\n",
      "               maximum difference for being considered \"close\", regardless of the\n",
      "               magnitude of the input values\n",
      "        \n",
      "        Return True if a is close in value to b, and False otherwise.\n",
      "        \n",
      "        For the values to be considered close, the difference between them\n",
      "        must be smaller than at least one of the tolerances.\n",
      "        \n",
      "        -inf, inf and NaN behave similarly to the IEEE 754 Standard.  That\n",
      "        is, NaN is not close to anything, even itself.  inf and -inf are\n",
      "        only close to themselves.\n",
      "    \n",
      "    isfinite(...)\n",
      "        isfinite(x) -> bool\n",
      "        \n",
      "        Return True if x is neither an infinity nor a NaN, and False otherwise.\n",
      "    \n",
      "    isinf(...)\n",
      "        isinf(x) -> bool\n",
      "        \n",
      "        Return True if x is a positive or negative infinity, and False otherwise.\n",
      "    \n",
      "    isnan(...)\n",
      "        isnan(x) -> bool\n",
      "        \n",
      "        Return True if x is a NaN (not a number), and False otherwise.\n",
      "    \n",
      "    ldexp(...)\n",
      "        ldexp(x, i)\n",
      "        \n",
      "        Return x * (2**i).\n",
      "    \n",
      "    lgamma(...)\n",
      "        lgamma(x)\n",
      "        \n",
      "        Natural logarithm of absolute value of Gamma function at x.\n",
      "    \n",
      "    log(...)\n",
      "        log(x[, base])\n",
      "        \n",
      "        Return the logarithm of x to the given base.\n",
      "        If the base not specified, returns the natural logarithm (base e) of x.\n",
      "    \n",
      "    log10(...)\n",
      "        log10(x)\n",
      "        \n",
      "        Return the base 10 logarithm of x.\n",
      "    \n",
      "    log1p(...)\n",
      "        log1p(x)\n",
      "        \n",
      "        Return the natural logarithm of 1+x (base e).\n",
      "        The result is computed in a way which is accurate for x near zero.\n",
      "    \n",
      "    log2(...)\n",
      "        log2(x)\n",
      "        \n",
      "        Return the base 2 logarithm of x.\n",
      "    \n",
      "    modf(...)\n",
      "        modf(x)\n",
      "        \n",
      "        Return the fractional and integer parts of x.  Both results carry the sign\n",
      "        of x and are floats.\n",
      "    \n",
      "    pow(...)\n",
      "        pow(x, y)\n",
      "        \n",
      "        Return x**y (x to the power of y).\n",
      "    \n",
      "    radians(...)\n",
      "        radians(x)\n",
      "        \n",
      "        Convert angle x from degrees to radians.\n",
      "    \n",
      "    sin(...)\n",
      "        sin(x)\n",
      "        \n",
      "        Return the sine of x (measured in radians).\n",
      "    \n",
      "    sinh(...)\n",
      "        sinh(x)\n",
      "        \n",
      "        Return the hyperbolic sine of x.\n",
      "    \n",
      "    sqrt(...)\n",
      "        sqrt(x)\n",
      "        \n",
      "        Return the square root of x.\n",
      "    \n",
      "    tan(...)\n",
      "        tan(x)\n",
      "        \n",
      "        Return the tangent of x (measured in radians).\n",
      "    \n",
      "    tanh(...)\n",
      "        tanh(x)\n",
      "        \n",
      "        Return the hyperbolic tangent of x.\n",
      "    \n",
      "    trunc(...)\n",
      "        trunc(x:Real) -> Integral\n",
      "        \n",
      "        Truncates x to the nearest Integral toward 0. Uses the __trunc__ magic method.\n",
      "\n",
      "DATA\n",
      "    e = 2.718281828459045\n",
      "    inf = inf\n",
      "    nan = nan\n",
      "    pi = 3.141592653589793\n",
      "    tau = 6.283185307179586\n",
      "\n",
      "FILE\n",
      "    (built-in)\n",
      "\n",
      "\n"
     ]
    }
   ],
   "source": [
    "help(math)"
   ]
  },
  {
   "cell_type": "markdown",
   "metadata": {},
   "source": [
    "Python 3の標準モジュールの完全なリストは、次のサイトから入手できます。 https://docs.python.org/3/library."
   ]
  },
  {
   "cell_type": "markdown",
   "metadata": {},
   "source": [
    "<p>&nbsp; </p>\n",
    "**scikit-learn** は、Pythonの機械学習とデータマイニングのための強力なライブラリです。\n",
    "<p>&nbsp; </p>\n",
    "\n",
    "- **例題 1**: このモジュールをインポートして下さい (モジュール名: **sklearn**).\n",
    "<p>&nbsp; </p>\n",
    "<p>&nbsp; </p>"
   ]
  },
  {
   "cell_type": "code",
   "execution_count": 8,
   "metadata": {},
   "outputs": [],
   "source": [
    "# 例題 1: このモジュールをインポートして下さい (モジュール名: sklearn)\n",
    "#from sklearn import *\n",
    "# 名前が衝突する可能性があるので、イカを使う。\n",
    "import sklearn\n"
   ]
  },
  {
   "cell_type": "markdown",
   "metadata": {
    "collapsed": true
   },
   "source": [
    "## パッケージ"
   ]
  },
  {
   "cell_type": "markdown",
   "metadata": {},
   "source": [
    "**パッケージ**は単にPythonモジュールのコレクションです：モジュールは単一のPythonファイルですが、パッケージはPythonファイルのディレクトリです。\n",
    "\n",
    "パッケージは、「点線のモジュール名」を使って、Pythonモジュールを階層的に構造化する方法です。たとえば、**sklearn**には、それぞれ特定のタスク用に異なるサブモジュールが含まれています。 _例_, **sklearn.preprocessing**はデータスケーリング、センタリング、正規化、二進化のための関数を実装しますが、**sklearn.svm**はサポートベクターマシンアルゴリズムを含みます。\n",
    "\n",
    "パッケージは、「点線のモジュール名」を使って、Pythonモジュールを階層的に構造化する方法です。たとえば、**sklearn**には、それぞれ特定のタスク用に異なるサブモジュールが含まれています。 _例_, **sklearn.preprocessing**はデータスケーリング、センタリング、正規化、二 ~~進~~ <span style=\"color: red; \">値</span>化のための関数を実装しますが、**sklearn.svm**はサポートベクターマシンアルゴリズムを含みます。\n",
    "\n",
    "※<span style=\"color: red; \">sklearn.preprocessing では、主にデータの前処理を行います。</span>\n",
    "\n",
    "パッケージの個々のモジュールは次のようにインポートできます："
   ]
  },
  {
   "cell_type": "code",
   "execution_count": 9,
   "metadata": {
    "scrolled": true
   },
   "outputs": [],
   "source": [
    "import sklearn.preprocessing"
   ]
  },
  {
   "cell_type": "markdown",
   "metadata": {},
   "source": [
    "あるいは："
   ]
  },
  {
   "cell_type": "code",
   "execution_count": 10,
   "metadata": {
    "scrolled": true
   },
   "outputs": [],
   "source": [
    "from sklearn import preprocessing"
   ]
  },
  {
   "cell_type": "markdown",
   "metadata": {},
   "source": [
    "- **例題 2**: **sklearn.preprocessing**モジュールから**scale**関数の**help**を呼び出してください。 関数は何をしますか？\n",
    "<p>&nbsp; </p>\n",
    "<p>&nbsp; </p>"
   ]
  },
  {
   "cell_type": "code",
   "execution_count": 53,
   "metadata": {},
   "outputs": [
    {
     "name": "stdout",
     "output_type": "stream",
     "text": [
      "Help on function scale in module sklearn.preprocessing.data:\n",
      "\n",
      "scale(X, axis=0, with_mean=True, with_std=True, copy=True)\n",
      "    Standardize a dataset along any axis\n",
      "    \n",
      "    Center to the mean and component wise scale to unit variance.\n",
      "    \n",
      "    Read more in the :ref:`User Guide <preprocessing_scaler>`.\n",
      "    \n",
      "    Parameters\n",
      "    ----------\n",
      "    X : {array-like, sparse matrix}\n",
      "        The data to center and scale.\n",
      "    \n",
      "    axis : int (0 by default)\n",
      "        axis used to compute the means and standard deviations along. If 0,\n",
      "        independently standardize each feature, otherwise (if 1) standardize\n",
      "        each sample.\n",
      "    \n",
      "    with_mean : boolean, True by default\n",
      "        If True, center the data before scaling.\n",
      "    \n",
      "    with_std : boolean, True by default\n",
      "        If True, scale the data to unit variance (or equivalently,\n",
      "        unit standard deviation).\n",
      "    \n",
      "    copy : boolean, optional, default True\n",
      "        set to False to perform inplace row normalization and avoid a\n",
      "        copy (if the input is already a numpy array or a scipy.sparse\n",
      "        CSC matrix and if axis is 1).\n",
      "    \n",
      "    Notes\n",
      "    -----\n",
      "    This implementation will refuse to center scipy.sparse matrices\n",
      "    since it would make them non-sparse and would potentially crash the\n",
      "    program with memory exhaustion problems.\n",
      "    \n",
      "    Instead the caller is expected to either set explicitly\n",
      "    `with_mean=False` (in that case, only variance scaling will be\n",
      "    performed on the features of the CSC matrix) or to call `X.toarray()`\n",
      "    if he/she expects the materialized dense array to fit in memory.\n",
      "    \n",
      "    To avoid memory copy the caller should pass a CSC matrix.\n",
      "    \n",
      "    For a comparison of the different scalers, transformers, and normalizers,\n",
      "    see :ref:`examples/preprocessing/plot_all_scaling.py\n",
      "    <sphx_glr_auto_examples_preprocessing_plot_all_scaling.py>`.\n",
      "    \n",
      "    See also\n",
      "    --------\n",
      "    StandardScaler: Performs scaling to unit variance using the``Transformer`` API\n",
      "        (e.g. as part of a preprocessing :class:`sklearn.pipeline.Pipeline`).\n",
      "\n"
     ]
    }
   ],
   "source": [
    "# 例題 2: sklearn.preprocessingモジュールからscale関数のhelpを呼び出してください。 関数は何をしますか？\n",
    "help(preprocessing.scale)\n",
    "#help(sklearn.preprocessing.scale) は、selearnは余分。\n"
   ]
  },
  {
   "cell_type": "markdown",
   "metadata": {
    "collapsed": true
   },
   "source": [
    "## 変数とデータ型"
   ]
  },
  {
   "cell_type": "markdown",
   "metadata": {},
   "source": [
    "### 変数の定義（宣言と代入）"
   ]
  },
  {
   "cell_type": "markdown",
   "metadata": {},
   "source": [
    "Pythonで**変数**を定義するには、次のように <span style=\"color: red; \">**\"=\"**</span> 記号を使用します："
   ]
  },
  {
   "cell_type": "code",
   "execution_count": 11,
   "metadata": {
    "scrolled": true
   },
   "outputs": [],
   "source": [
    "my_variable = 10\n",
    "x = 200.4\n",
    "my_string = 'バナナ'"
   ]
  },
  {
   "cell_type": "markdown",
   "metadata": {},
   "source": [
    "### 変数の型"
   ]
  },
  {
   "cell_type": "markdown",
   "metadata": {},
   "source": [
    "明示的には指定されていませんが、変数には常に**「型」**が関連付けられています。 この型は、変数に割り当てられた値から導出されます。 次のコマンドを使用して、変数のタイプを取得できます。"
   ]
  },
  {
   "cell_type": "code",
   "execution_count": 12,
   "metadata": {
    "scrolled": true
   },
   "outputs": [
    {
     "name": "stdout",
     "output_type": "stream",
     "text": [
      "<class 'int'>\n"
     ]
    }
   ],
   "source": [
    "print (type(my_variable))"
   ]
  },
  {
   "cell_type": "markdown",
   "metadata": {},
   "source": [
    "- **例題 3**: **x**変数は何型ですか? **my_string**変数は? \n",
    "<p>&nbsp; </p>\n",
    "<p>&nbsp; </p>"
   ]
  },
  {
   "cell_type": "code",
   "execution_count": 13,
   "metadata": {},
   "outputs": [
    {
     "name": "stdout",
     "output_type": "stream",
     "text": [
      "    x    : <class 'float'>\n",
      "my_string: <class 'str'>\n"
     ]
    }
   ],
   "source": [
    "# 例題 3: x変数は何型ですか? my_string変数は?\n",
    "# Cythonははっやい！\n",
    "n = type(x)\n",
    "m = type(my_string)\n",
    "print('    x    :',n)\n",
    "print('my_string:',m)"
   ]
  },
  {
   "cell_type": "markdown",
   "metadata": {},
   "source": [
    "**int**、**float**、**str**はPythonの3つの組み込み型です。intとfloatは両方とも数値型（それぞれ整数と10進数）ですが、strは文字列を表すために使用されます。\n",
    "\n",
    "変数に新しい値を代入すると、その型は変更されます："
   ]
  },
  {
   "cell_type": "code",
   "execution_count": 14,
   "metadata": {
    "scrolled": true
   },
   "outputs": [
    {
     "name": "stdout",
     "output_type": "stream",
     "text": [
      "<class 'float'>\n"
     ]
    }
   ],
   "source": [
    "my_variable = 248.58\n",
    "print (type(my_variable))"
   ]
  },
  {
   "cell_type": "markdown",
   "metadata": {},
   "source": [
    "もちろん、定義していない変数を使用しようとすると、エラーが発生します。"
   ]
  },
  {
   "cell_type": "code",
   "execution_count": 15,
   "metadata": {
    "scrolled": true
   },
   "outputs": [
    {
     "ename": "NameError",
     "evalue": "name 'y' is not defined",
     "output_type": "error",
     "traceback": [
      "\u001b[1;31m---------------------------------------------------------------------------\u001b[0m",
      "\u001b[1;31mNameError\u001b[0m                                 Traceback (most recent call last)",
      "\u001b[1;32m<ipython-input-15-d9183e048de3>\u001b[0m in \u001b[0;36m<module>\u001b[1;34m()\u001b[0m\n\u001b[1;32m----> 1\u001b[1;33m \u001b[0mprint\u001b[0m\u001b[1;33m(\u001b[0m\u001b[0my\u001b[0m\u001b[1;33m)\u001b[0m\u001b[1;33m\u001b[0m\u001b[0m\n\u001b[0m",
      "\u001b[1;31mNameError\u001b[0m: name 'y' is not defined"
     ]
    }
   ],
   "source": [
    "print(y)"
   ]
  },
  {
   "cell_type": "markdown",
   "metadata": {},
   "source": [
    "文字列の印刷に一般に使用される**print**ステートメントは、データ型を印刷することもできます。"
   ]
  },
  {
   "cell_type": "code",
   "execution_count": 16,
   "metadata": {
    "scrolled": true
   },
   "outputs": [
    {
     "name": "stdout",
     "output_type": "stream",
     "text": [
      "これは楽しいですね！\n"
     ]
    }
   ],
   "source": [
    "print ('これは楽しいですね！')"
   ]
  },
  {
   "cell_type": "code",
   "execution_count": 71,
   "metadata": {
    "scrolled": true
   },
   "outputs": [
    {
     "name": "stdout",
     "output_type": "stream",
     "text": [
      "my_variableの値は 248.580000\n"
     ]
    }
   ],
   "source": [
    "print ('my_variableの値は %f' %my_variable )"
   ]
  },
  {
   "cell_type": "markdown",
   "metadata": {},
   "source": [
    "これまで整数、浮動小数点数、文字列を見てきました。 もう一つの基本的なPython型は**boolean**です。これはTrueまたはFalseの2つの値しか取ることができません："
   ]
  },
  {
   "cell_type": "code",
   "execution_count": 17,
   "metadata": {
    "scrolled": true
   },
   "outputs": [
    {
     "data": {
      "text/plain": [
       "(bool, bool)"
      ]
     },
     "execution_count": 17,
     "metadata": {},
     "output_type": "execute_result"
    }
   ],
   "source": [
    "t = True\n",
    "f = False\n",
    "type(t), type(f)\n",
    "\n",
    "# date型とかは無いので、Classで型をつくる。"
   ]
  },
  {
   "cell_type": "markdown",
   "metadata": {},
   "source": [
    "Pythonには、他の値をグループ化するために使用されるいくつかの**複合**データ型もあります。 もっとも汎用性の高い**list**は角括弧で囲まれた値（項目）のリストとして書くことができます。"
   ]
  },
  {
   "cell_type": "code",
   "execution_count": 18,
   "metadata": {},
   "outputs": [],
   "source": [
    "squares = [1, 4, 9, 16, 25]\n",
    "letters = ['a', 'b', 'c', 'd', 'e', 'f', 'g']"
   ]
  },
  {
   "cell_type": "markdown",
   "metadata": {},
   "source": [
    "リストには、異なるタイプのアイテムも含まれています："
   ]
  },
  {
   "cell_type": "code",
   "execution_count": 19,
   "metadata": {},
   "outputs": [],
   "source": [
    "mixed = [3, 9, 12, 15, 'a', 'b', 'c', 'd', 'e']"
   ]
  },
  {
   "cell_type": "markdown",
   "metadata": {},
   "source": [
    "他の組み込み型もPythonで利用できます。 総合的なリストについては、以下を参照してください： https://docs.python.org/2/library/stdtypes.html."
   ]
  },
  {
   "cell_type": "markdown",
   "metadata": {
    "collapsed": true
   },
   "source": [
    "## 制御構造"
   ]
  },
  {
   "cell_type": "markdown",
   "metadata": {},
   "source": [
    "### 条件文：if、elif、else¶"
   ]
  },
  {
   "cell_type": "markdown",
   "metadata": {},
   "source": [
    "異なる状況に応じて異なる振る舞いをするためには、分岐動作を制御するPythonのいくつかのコンセプトが必要です。たとえば、特定の条件が満たされた場合にのみ文を実行したり、ある条件が満たされるまで一連の文を実行したりすることができます。\n",
    "\n",
    "これをPythonで行うには、真偽値の組み合わせを使用します。この変数は、真と偽のいずれかに評価され、**if**文はブール値に基づいて分岐を制御します。\n",
    "\n",
    "例えば、ユーザーから（キーボードから**input**関数を通して）整数を取り出し、その値に応じていくつかの式を出力しましょう："
   ]
  },
  {
   "cell_type": "code",
   "execution_count": 20,
   "metadata": {
    "scrolled": true
   },
   "outputs": [
    {
     "name": "stdout",
     "output_type": "stream",
     "text": [
      "整数を入力して下さい： \n"
     ]
    },
    {
     "ename": "ValueError",
     "evalue": "invalid literal for int() with base 10: ''",
     "output_type": "error",
     "traceback": [
      "\u001b[1;31m---------------------------------------------------------------------------\u001b[0m",
      "\u001b[1;31mValueError\u001b[0m                                Traceback (most recent call last)",
      "\u001b[1;32m<ipython-input-20-fe5041b395ab>\u001b[0m in \u001b[0;36m<module>\u001b[1;34m()\u001b[0m\n\u001b[1;32m----> 1\u001b[1;33m \u001b[0mx\u001b[0m \u001b[1;33m=\u001b[0m \u001b[0mint\u001b[0m\u001b[1;33m(\u001b[0m\u001b[0minput\u001b[0m\u001b[1;33m(\u001b[0m\u001b[1;34m\"整数を入力して下さい： \"\u001b[0m\u001b[1;33m)\u001b[0m\u001b[1;33m)\u001b[0m\u001b[1;33m\u001b[0m\u001b[0m\n\u001b[0m\u001b[0;32m      2\u001b[0m \u001b[1;33m\u001b[0m\u001b[0m\n\u001b[0;32m      3\u001b[0m \u001b[1;32mif\u001b[0m \u001b[1;33m(\u001b[0m\u001b[0mx\u001b[0m \u001b[1;33m<\u001b[0m \u001b[1;36m0\u001b[0m\u001b[1;33m)\u001b[0m\u001b[1;33m:\u001b[0m\u001b[1;33m\u001b[0m\u001b[0m\n\u001b[0;32m      4\u001b[0m     \u001b[0mx\u001b[0m \u001b[1;33m=\u001b[0m \u001b[1;36m0\u001b[0m\u001b[1;33m\u001b[0m\u001b[0m\n\u001b[0;32m      5\u001b[0m     \u001b[0mprint\u001b[0m \u001b[1;33m(\u001b[0m\u001b[1;34m'xは0に変更されました'\u001b[0m\u001b[1;33m)\u001b[0m\u001b[1;33m\u001b[0m\u001b[0m\n",
      "\u001b[1;31mValueError\u001b[0m: invalid literal for int() with base 10: ''"
     ]
    }
   ],
   "source": [
    "x = int(input(\"整数を入力して下さい： \"))\n",
    "    \n",
    "if (x < 0):\n",
    "    x = 0\n",
    "    print ('xは0に変更されました')\n",
    "elif x == 0: # this is a check for equality\n",
    "    print ('xはもともと0です')\n",
    "else:\n",
    "    print ('xは0以上です')"
   ]
  },
  {
   "cell_type": "markdown",
   "metadata": {},
   "source": [
    "**注**：Pythonでは、コードブロックを定義するための角かっこやキーワードがないことに気づいたかもしれません。 これは、空白が重要であり、**if**文、**for**ループ、**while**ループなどがインデントによって定義されることを意味します。 あなたのコードが正しく字下げされていないと、あなたは**IndentationError**に遭遇します！"
   ]
  },
  {
   "cell_type": "markdown",
   "metadata": {},
   "source": [
    "- **例題 4**: 2つの数字を求めるプログラムを書いて下さい。 数値の合計が100より大きい場合は「合計が大きい」と表示され、それ以外の場合は「合計が小さい」と表示されます。 (コツ:_input_関数の~~を~~返却値を _int_ 型に変換して下さい)\n",
    "<p>&nbsp; </p>\n",
    "<p>&nbsp; </p>"
   ]
  },
  {
   "cell_type": "code",
   "execution_count": 21,
   "metadata": {},
   "outputs": [
    {
     "name": "stdout",
     "output_type": "stream",
     "text": [
      "整数xを入力して下さい： １０\n",
      "整数yを入力して下さい： １０\n",
      "合計値が小さい\n",
      "合計値は 20\n"
     ]
    }
   ],
   "source": [
    "# 例題 4: 2つの数字を求めるプログラムを書いて下さい。 数値の合計が100より大きい場合は「合計が大きい」と表示され、それ以外の場合は「合計が小さい」と表示されます。 (コツ:input関数のを返却値を int 型に変換して下さい)\n",
    "\n",
    "x = int(input(\"整数xを入力して下さい： \"))\n",
    "y = int(input(\"整数yを入力して下さい： \"))\n",
    "\n",
    "if (x + y >= 100):\n",
    "    print ('合計値が大きい')\n",
    "    print('合計値は',x + y)\n",
    "elif (x + y < 100):\n",
    "    print ('合計値が小さい')\n",
    "    print('合計値は',x + y)"
   ]
  },
  {
   "cell_type": "markdown",
   "metadata": {},
   "source": [
    "- **例題 5**: ユーザーに0と1の間の数字を入力するように聞きます。入力された数字が範囲外の場合は、コンソールにエラーを表示し、それ以外の場合は5を掛けてコンソールに出力します。\n",
    "<p>&nbsp; </p>\n",
    "<p>&nbsp; </p>"
   ]
  },
  {
   "cell_type": "code",
   "execution_count": 54,
   "metadata": {},
   "outputs": [
    {
     "name": "stdout",
     "output_type": "stream",
     "text": [
      "n(0<n<1)を入力して下さい： 0.5\n",
      "2.5\n"
     ]
    }
   ],
   "source": [
    "# 例題 5: ユーザーに0と1の間の数字を入力するように聞きます。\n",
    "# 入力された数字が範囲外の場合は、コンソールにエラーを表示し、それ以外の場合は5を掛けてコンソールに出力します。\n",
    "n = float(input(\"n(0<n<1)を入力して下さい： \"))\n",
    "if (n < 0):\n",
    "    print(\"error\")\n",
    "elif (n > 1):\n",
    "    print(\"error\")\n",
    "else:\n",
    "    print(n*5)"
   ]
  },
  {
   "cell_type": "markdown",
   "metadata": {},
   "source": [
    "### ループ"
   ]
  },
  {
   "cell_type": "markdown",
   "metadata": {},
   "source": [
    "特定の条件が満たされるまでステートメントを繰り返したり、高次元のデータ構造の要素を反復処理する必要がある場合は、ループを使用できます。 **for**ステートメントは、このように使用できます。"
   ]
  },
  {
   "cell_type": "code",
   "execution_count": 53,
   "metadata": {
    "scrolled": true
   },
   "outputs": [
    {
     "name": "stdout",
     "output_type": "stream",
     "text": [
      "Python 6\n",
      "は 1\n",
      "楽しい! 4\n"
     ]
    }
   ],
   "source": [
    "words = ['Python', 'は', '楽しい!']\n",
    "for w in words:\n",
    "    print (w, len(w))"
   ]
  },
  {
   "cell_type": "markdown",
   "metadata": {},
   "source": [
    "一定の条件が満たされている間にタスクを実行する必要がある場合は："
   ]
  },
  {
   "cell_type": "code",
   "execution_count": 28,
   "metadata": {
    "scrolled": false
   },
   "outputs": [
    {
     "name": "stdout",
     "output_type": "stream",
     "text": [
      "0\n",
      "1\n",
      "2\n",
      "3\n",
      "4\n",
      "5\n",
      "6\n",
      "I am done!\n"
     ]
    }
   ],
   "source": [
    "i = 0\n",
    "while i < 7:\n",
    "    print(i)\n",
    "    i = i + 1\n",
    "print(\"I am done!\")"
   ]
  },
  {
   "cell_type": "code",
   "execution_count": 59,
   "metadata": {},
   "outputs": [
    {
     "name": "stdout",
     "output_type": "stream",
     "text": [
      "0\n",
      "1\n",
      "2\n",
      "3\n",
      "4\n"
     ]
    }
   ],
   "source": [
    "# 数字をイテレートする\n",
    "# Java for (c = 0 , c < s , c ++)\n",
    "\n",
    "for i in range(5):\n",
    "    print(i)"
   ]
  },
  {
   "cell_type": "markdown",
   "metadata": {},
   "source": [
    "## Numpy: 多次元データ配列"
   ]
  },
  {
   "cell_type": "markdown",
   "metadata": {},
   "source": [
    "Pythonの基本を見てきたので、具体的な部分に移動することができます。\n",
    "\n",
    "**numpy**パッケージは、数値計算によく使われる強力なPythonパッケージです。 これは、高性能のベクトル、行列、および高次元のデータ構造を提供します。"
   ]
  },
  {
   "cell_type": "code",
   "execution_count": 111,
   "metadata": {
    "scrolled": true
   },
   "outputs": [],
   "source": [
    "# 簡単な名前 'np'でパッケージをインポートします\n",
    "import numpy as np"
   ]
  },
  {
   "cell_type": "markdown",
   "metadata": {},
   "source": [
    "### Numpy配列の作成"
   ]
  },
  {
   "cell_type": "markdown",
   "metadata": {},
   "source": [
    "**配列**はPythonのリストと似ていますが、配列の各要素は同じ型でなければなりません。通常はfloatやintのような数値型です。 配列（ベクトルと行列）は、たとえば**numpy.array**関数とリストを使用して、さまざまな方法で作成できます。"
   ]
  },
  {
   "cell_type": "code",
   "execution_count": 112,
   "metadata": {
    "scrolled": true
   },
   "outputs": [
    {
     "name": "stdout",
     "output_type": "stream",
     "text": [
      "[1 2 3 4]\n"
     ]
    }
   ],
   "source": [
    "v = np.array([1,2,3,4]) #Pythonの4要素のリストからベクトルを生成する\n",
    "print (v)"
   ]
  },
  {
   "cell_type": "markdown",
   "metadata": {},
   "source": [
    "配列は多次元でもよい。 2次元配列（　_例_　、行列）の例を次に示します："
   ]
  },
  {
   "cell_type": "code",
   "execution_count": 113,
   "metadata": {},
   "outputs": [
    {
     "name": "stdout",
     "output_type": "stream",
     "text": [
      "[[1 2 3]\n",
      " [4 5 6]]\n"
     ]
    }
   ],
   "source": [
    "M = np.array([[1, 2, 3], [4, 5, 6]]) #ネストしたPythonリストから行列を作成する\n",
    "print (M)"
   ]
  },
  {
   "cell_type": "markdown",
   "metadata": {},
   "source": [
    "**v**と**M**は両方ともnumpyの配列ですが、異なる形をしています："
   ]
  },
  {
   "cell_type": "code",
   "execution_count": 114,
   "metadata": {
    "scrolled": true
   },
   "outputs": [
    {
     "name": "stdout",
     "output_type": "stream",
     "text": [
      "<class 'numpy.ndarray'> <class 'numpy.ndarray'>\n",
      "4 6\n",
      "(4,) (2, 3)\n"
     ]
    }
   ],
   "source": [
    "print (type(v), type(M))\n",
    "print (v.size, M.size)\n",
    "print (v.shape, M.shape)"
   ]
  },
  {
   "cell_type": "markdown",
   "metadata": {},
   "source": [
    "**dtype**関数を使用して、配列に含まれるデータの型を取得することもできます:"
   ]
  },
  {
   "cell_type": "code",
   "execution_count": 115,
   "metadata": {
    "scrolled": true
   },
   "outputs": [
    {
     "name": "stdout",
     "output_type": "stream",
     "text": [
      "int32\n"
     ]
    }
   ],
   "source": [
    "print (M.dtype)"
   ]
  },
  {
   "cell_type": "markdown",
   "metadata": {},
   "source": [
    "したがって、必要に応じて、配列を作成する際にデータ型を明示的に定義することもできます:"
   ]
  },
  {
   "cell_type": "code",
   "execution_count": 116,
   "metadata": {
    "scrolled": true
   },
   "outputs": [
    {
     "name": "stdout",
     "output_type": "stream",
     "text": [
      "[[ 1.   2.8 25.4]\n",
      " [ 3.   4.7 47.9]]\n"
     ]
    }
   ],
   "source": [
    "M = np.array([[1, 2.8, 25.4], [3, 4.7, 47.9]], dtype=\"float\")\n",
    "print (M)"
   ]
  },
  {
   "cell_type": "markdown",
   "metadata": {},
   "source": [
    "もちろん、これはnumpy配列の要素に間違った型の値を代入しようとするとエラーになることを意味します："
   ]
  },
  {
   "cell_type": "code",
   "execution_count": 117,
   "metadata": {
    "scrolled": true
   },
   "outputs": [
    {
     "ename": "ValueError",
     "evalue": "could not convert string to float: 'hello world'",
     "output_type": "error",
     "traceback": [
      "\u001b[1;31m---------------------------------------------------------------------------\u001b[0m",
      "\u001b[1;31mValueError\u001b[0m                                Traceback (most recent call last)",
      "\u001b[1;32m<ipython-input-117-414bb43479ed>\u001b[0m in \u001b[0;36m<module>\u001b[1;34m()\u001b[0m\n\u001b[1;32m----> 1\u001b[1;33m \u001b[0mM\u001b[0m\u001b[1;33m[\u001b[0m\u001b[1;36m0\u001b[0m\u001b[1;33m]\u001b[0m \u001b[1;33m=\u001b[0m \u001b[1;34m'hello world'\u001b[0m\u001b[1;33m\u001b[0m\u001b[0m\n\u001b[0m",
      "\u001b[1;31mValueError\u001b[0m: could not convert string to float: 'hello world'"
     ]
    }
   ],
   "source": [
    "M[0] = 'hello world'"
   ]
  },
  {
   "cell_type": "markdown",
   "metadata": {},
   "source": [
    "### Numpy配列の索引"
   ]
  },
  {
   "cell_type": "markdown",
   "metadata": {},
   "source": [
    "角括弧とインデックスを使用して配列内の要素をインデックスできます。 **注** Pythonのインデックス作成は0から始まります："
   ]
  },
  {
   "cell_type": "code",
   "execution_count": 118,
   "metadata": {
    "scrolled": true
   },
   "outputs": [
    {
     "data": {
      "text/plain": [
       "1"
      ]
     },
     "execution_count": 118,
     "metadata": {},
     "output_type": "execute_result"
    }
   ],
   "source": [
    "# vはベクトルであり、次元が1つしかなく、1つのインデックス\n",
    "v[0]"
   ]
  },
  {
   "cell_type": "code",
   "execution_count": 139,
   "metadata": {
    "scrolled": true
   },
   "outputs": [
    {
     "data": {
      "text/plain": [
       "1"
      ]
     },
     "execution_count": 139,
     "metadata": {},
     "output_type": "execute_result"
    }
   ],
   "source": [
    "# Mは行列であり、2次元配列であり、2つのインデックス\n",
    "# 最初のインデックスは行を指し、2番目のインデックスは列を指します\n",
    "M[0,0]"
   ]
  },
  {
   "cell_type": "markdown",
   "metadata": {},
   "source": [
    "- **例題 6**: 2行3列目のMの要素にインデックスを選んでください。\n",
    "<p>&nbsp; </p>\n",
    "<p>&nbsp; </p>"
   ]
  },
  {
   "cell_type": "code",
   "execution_count": 138,
   "metadata": {},
   "outputs": [
    {
     "name": "stdout",
     "output_type": "stream",
     "text": [
      "M:\r\n",
      " [[1 2 3]\n",
      " [4 5 6]]\n",
      "6\n"
     ]
    }
   ],
   "source": [
    "# 例題 6: 2行3列目のMの要素にインデックスを選んでください。\n",
    "M = np.array([[1, 2, 3], [ 4, 5, 6]])\n",
    "print(\"M:\\r\\n\", M)\n",
    "print(M[1,2])"
   ]
  },
  {
   "cell_type": "markdown",
   "metadata": {},
   "source": [
    "多次元配列のインデックスを省略すると、行全体がスライスされます："
   ]
  },
  {
   "cell_type": "code",
   "execution_count": 39,
   "metadata": {
    "scrolled": true
   },
   "outputs": [
    {
     "name": "stdout",
     "output_type": "stream",
     "text": [
      "M[0]: [1 2]\n",
      "M[1]: [3 4]\n",
      "M[2]: [5 6]\n"
     ]
    }
   ],
   "source": [
    "M[1]\n",
    "print(\"M[0]:\",M[0])\n",
    "print(\"M[1]:\",M[1])\n",
    "print(\"M[2]:\",M[2])"
   ]
  },
  {
   "cell_type": "markdown",
   "metadata": {
    "collapsed": true
   },
   "source": [
    "コロン \"：\"で同じことができます。 ディメンション内の単一の \"：\"の使用は、そのディメンションに沿ったすべてのものの使用を示します（これは、多次元データ構造をインデックスするための非常に便利な方法です）："
   ]
  },
  {
   "cell_type": "code",
   "execution_count": 40,
   "metadata": {
    "scrolled": true
   },
   "outputs": [
    {
     "data": {
      "text/plain": [
       "array([3, 4])"
      ]
     },
     "execution_count": 40,
     "metadata": {},
     "output_type": "execute_result"
    }
   ],
   "source": [
    "M[1,:] # インデックス1で行を取るスライスM、列に沿ったすべて"
   ]
  },
  {
   "cell_type": "code",
   "execution_count": 41,
   "metadata": {
    "scrolled": true
   },
   "outputs": [
    {
     "data": {
      "text/plain": [
       "array([2, 4, 6])"
      ]
     },
     "execution_count": 41,
     "metadata": {},
     "output_type": "execute_result"
    }
   ],
   "source": [
    "M[:,1] # インデックス1の列を取るスライスMと、行に沿ったすべて"
   ]
  },
  {
   "cell_type": "markdown",
   "metadata": {},
   "source": [
    "- **例題 7**: 行列Mの第3列をコンソールに出力する。\n",
    "<p>&nbsp; </p>\n",
    "<p>&nbsp; </p>"
   ]
  },
  {
   "cell_type": "code",
   "execution_count": 47,
   "metadata": {},
   "outputs": [
    {
     "name": "stdout",
     "output_type": "stream",
     "text": [
      "[[1 2 3]\n",
      " [4 5 6]\n",
      " [7 8 9]]\n",
      "\r\n",
      "Mの第三列\r\n",
      ": [3 6 9]\n"
     ]
    }
   ],
   "source": [
    "# 例題 7: 行列Mの第3列をコンソールに出力する。\n",
    "M = np.array([[1, 2, 3], [4, 5, 6],[7, 8, 9]])\n",
    "print(M)\n",
    "print(\"\\r\\nMの第三列\\r\\n:\",M[:,2])"
   ]
  },
  {
   "cell_type": "markdown",
   "metadata": {},
   "source": [
    "### Numpy配列索引スライシング"
   ]
  },
  {
   "cell_type": "markdown",
   "metadata": {},
   "source": [
    "配列の特定の部分（インデックススライス）を抽出するには、基本構文は **M [i：j：k]** です。**i**は開始インデックス、**j**は停止（jを含まれない） **k**はステップ（kがゼロでない）です。 たとえば、次のようにすることができます。"
   ]
  },
  {
   "cell_type": "code",
   "execution_count": 146,
   "metadata": {
    "scrolled": true
   },
   "outputs": [
    {
     "name": "stdout",
     "output_type": "stream",
     "text": [
      "[ 10  20  30  40  50  60  70  80  90 100]\n",
      "[20 30]\n",
      "[20 40]\n",
      "[20 50]\n",
      "[10 30 50 70 90]\n"
     ]
    }
   ],
   "source": [
    "x = np.array([10, 20, 30, 40, 50, 60, 70, 80, 90, 100])\n",
    "print (x)\n",
    "print (x[1:3:1])\n",
    "print(x[1:4:2])\n",
    "print(x[1:5:3])\n",
    "print(x[0:9:2])\n"
   ]
  },
  {
   "cell_type": "markdown",
   "metadata": {},
   "source": [
    "- **例題 8**: ベクトルxを位置1から位置10にスライスし、ステップは4になります。\n",
    "<p>&nbsp; </p>\n",
    "<p>&nbsp; </p>"
   ]
  },
  {
   "cell_type": "code",
   "execution_count": 52,
   "metadata": {},
   "outputs": [
    {
     "name": "stdout",
     "output_type": "stream",
     "text": [
      "[10 50 90]\n"
     ]
    }
   ],
   "source": [
    "# 例題 8: ベクトルxを位置1から位置10にスライスし、ステップは4になります。\n",
    "print(x[0:9:4])"
   ]
  },
  {
   "cell_type": "markdown",
   "metadata": {},
   "source": [
    "**range**関数を使用して行列Aを作成します（**range**の機能を知りたい場合は、help関数を使用してください）："
   ]
  },
  {
   "cell_type": "code",
   "execution_count": 159,
   "metadata": {
    "scrolled": true
   },
   "outputs": [
    {
     "name": "stdout",
     "output_type": "stream",
     "text": [
      "[[ 0  1  2  3  4]\n",
      " [10 11 12 13 14]\n",
      " [20 21 22 23 24]\n",
      " [30 31 32 33 34]\n",
      " [40 41 42 43 44]]\n"
     ]
    }
   ],
   "source": [
    "# A = np.array([[n+m*10 for n in range(A)] for m in range(B)])\n",
    "# A 行\n",
    "# B 列\n",
    "A = np.array([[n+m*10 for n in range(5)] for m in range(5)])\n",
    "print (A)"
   ]
  },
  {
   "cell_type": "markdown",
   "metadata": {},
   "source": [
    "### 　復習！"
   ]
  },
  {
   "cell_type": "markdown",
   "metadata": {},
   "source": [
    "- **例題 9**: 行列Aの形状は何ですか？\n",
    "<p>&nbsp; </p>\n",
    "<p>&nbsp; </p>"
   ]
  },
  {
   "cell_type": "code",
   "execution_count": 152,
   "metadata": {},
   "outputs": [
    {
     "name": "stdout",
     "output_type": "stream",
     "text": [
      "５＊５\n",
      "行列Aの大きさ: (5, 5)\n"
     ]
    }
   ],
   "source": [
    "# 例題 9: 行列Aの形状は何ですか？\n",
    "#help(range)\n",
    "print(\"５＊５\")\n",
    "print(\"行列Aの大きさ:\", A.shape)\n"
   ]
  },
  {
   "cell_type": "code",
   "execution_count": 12,
   "metadata": {
    "scrolled": true
   },
   "outputs": [
    {
     "data": {
      "text/plain": [
       "array([[10, 11, 12, 13, 14],\n",
       "       [20, 21, 22, 23, 24],\n",
       "       [30, 31, 32, 33, 34]])"
      ]
     },
     "execution_count": 12,
     "metadata": {},
     "output_type": "execute_result"
    }
   ],
   "source": [
    "# Aをスライスして、2番目の行から4番目の行までと全部の列を取得して下さい。\n",
    "A[1:4, :]"
   ]
  },
  {
   "cell_type": "code",
   "execution_count": 79,
   "metadata": {
    "scrolled": true
   },
   "outputs": [
    {
     "data": {
      "text/plain": [
       "array([[11, 12, 13],\n",
       "       [21, 22, 23],\n",
       "       [31, 32, 33]])"
      ]
     },
     "execution_count": 79,
     "metadata": {},
     "output_type": "execute_result"
    }
   ],
   "source": [
    "# Aをスライスして、2番目の行と列から4番目の行と列まで取得して下さい。\n",
    "A[1:4, 1:4]"
   ]
  },
  {
   "cell_type": "code",
   "execution_count": 14,
   "metadata": {
    "scrolled": true
   },
   "outputs": [
    {
     "data": {
      "text/plain": [
       "array([[ 0,  2,  4],\n",
       "       [20, 22, 24],\n",
       "       [40, 42, 44]])"
      ]
     },
     "execution_count": 14,
     "metadata": {},
     "output_type": "execute_result"
    }
   ],
   "source": [
    "# Aをスライスして、列と行を２つステップして取得してください。\n",
    "# slice A skipping both rows and columns with a step equal to 2\n",
    "A[::2, ::2]"
   ]
  },
  {
   "cell_type": "markdown",
   "metadata": {},
   "source": [
    "## Pythonの関数"
   ]
  },
  {
   "cell_type": "markdown",
   "metadata": {},
   "source": [
    "**関数**は、特定のアクションを実行するために使用される、組織化された再利用可能なコードのブロックです。すでにPythonの組み込み関数 _例_ **print()** と **type()** を使用しています。Pythonの組み込み関数の完全なリストはあそこにあります：https://docs.python.org/3/library/functions.html.\n",
    "\n",
    "もちろん独自の関数を作成することもできます（いわゆる　_user-defined functions_）。"
   ]
  },
  {
   "cell_type": "markdown",
   "metadata": {},
   "source": [
    "### 関数の定義方法"
   ]
  },
  {
   "cell_type": "markdown",
   "metadata": {},
   "source": [
    "**function**定義の構文は次のとおりです。\n",
    "\n",
    "\n",
    ">def 関数 (引数):\n",
    "\n",
    ">    ステートメント\n",
    "\n",
    ">    return\n",
    "\n",
    "\n",
    "ブロックはキーワード**def**で始まり、関数名、かっこ、最後にコロンが続きます。入力引数はこれらのカッコ内に配置する必要があります。**return**ステートメントは関数を終了し、必要に応じて返却値を返します（引数なしのreturn文はreturn Noneと同じです）。\n",
    "\n",
    "あいさつをコンソールに表示する、非常に単純な関数を定義しましょう："
   ]
  },
  {
   "cell_type": "code",
   "execution_count": 161,
   "metadata": {},
   "outputs": [],
   "source": [
    "def hello():\n",
    "    print (\"こんにちは！\")"
   ]
  },
  {
   "cell_type": "markdown",
   "metadata": {},
   "source": [
    "その長さと幅を考慮して、矩形形状の面積を計算するわずかに複雑な関数です："
   ]
  },
  {
   "cell_type": "code",
   "execution_count": 63,
   "metadata": {},
   "outputs": [],
   "source": [
    "def area(l, w):\n",
    "    return l * w "
   ]
  },
  {
   "cell_type": "markdown",
   "metadata": {},
   "source": [
    "**hello**関数は引数を取らないことに気付くことができますが、**area**関数は長方形と長方形の2つの引数をとります。"
   ]
  },
  {
   "cell_type": "markdown",
   "metadata": {},
   "source": [
    "次の関数は、引数xをとり、その2乗および3乗の値を持つ**tuple**（不変のリストである）を返します。"
   ]
  },
  {
   "cell_type": "code",
   "execution_count": 74,
   "metadata": {},
   "outputs": [],
   "source": [
    "# 四角形の面積と体積を求める。\n",
    "def quadcube (x):\n",
    "    return \"面積\", x**2,\"体積\", x**3"
   ]
  },
  {
   "cell_type": "markdown",
   "metadata": {},
   "source": [
    "### 関数をコールする方法"
   ]
  },
  {
   "cell_type": "markdown",
   "metadata": {},
   "source": [
    "ある関数が定義されたら、別の関数かPythonプロンプトから直接呼び出すことで実行できます："
   ]
  },
  {
   "cell_type": "code",
   "execution_count": 162,
   "metadata": {},
   "outputs": [
    {
     "name": "stdout",
     "output_type": "stream",
     "text": [
      "こんにちは！\n"
     ]
    }
   ],
   "source": [
    "hello()"
   ]
  },
  {
   "cell_type": "code",
   "execution_count": 163,
   "metadata": {},
   "outputs": [
    {
     "data": {
      "text/plain": [
       "25"
      ]
     },
     "execution_count": 163,
     "metadata": {},
     "output_type": "execute_result"
    }
   ],
   "source": [
    "area(5, 5)"
   ]
  },
  {
   "cell_type": "markdown",
   "metadata": {},
   "source": [
    "- **例題 10**: 引数を渡さずに**area**関数を呼び出してみてください。 どのエラーが出ますか？\n",
    "<p>&nbsp; </p>\n",
    "<p>&nbsp; </p>"
   ]
  },
  {
   "cell_type": "code",
   "execution_count": 75,
   "metadata": {},
   "outputs": [
    {
     "data": {
      "text/plain": [
       "('面積', 9, '体積', 27)"
      ]
     },
     "execution_count": 75,
     "metadata": {},
     "output_type": "execute_result"
    }
   ],
   "source": [
    "quadcube(3)"
   ]
  },
  {
   "cell_type": "code",
   "execution_count": 164,
   "metadata": {},
   "outputs": [
    {
     "ename": "TypeError",
     "evalue": "area() missing 2 required positional arguments: 'l' and 'w'",
     "output_type": "error",
     "traceback": [
      "\u001b[1;31m---------------------------------------------------------------------------\u001b[0m",
      "\u001b[1;31mTypeError\u001b[0m                                 Traceback (most recent call last)",
      "\u001b[1;32m<ipython-input-164-30e25ef97964>\u001b[0m in \u001b[0;36m<module>\u001b[1;34m()\u001b[0m\n\u001b[0;32m      1\u001b[0m \u001b[1;31m# 例題 10: 引数を渡さずにarea関数を呼び出してみてください。 どのエラーが出ますか？\u001b[0m\u001b[1;33m\u001b[0m\u001b[1;33m\u001b[0m\u001b[0m\n\u001b[1;32m----> 2\u001b[1;33m \u001b[0marea\u001b[0m\u001b[1;33m(\u001b[0m\u001b[1;33m)\u001b[0m\u001b[1;33m\u001b[0m\u001b[0m\n\u001b[0m\u001b[0;32m      3\u001b[0m \u001b[1;31m#area() missing 2 required positional arguments: 'l' and 'w'\u001b[0m\u001b[1;33m\u001b[0m\u001b[1;33m\u001b[0m\u001b[0m\n\u001b[0;32m      4\u001b[0m \u001b[1;31m#area(l, w)と書いてあるので、引数を書かないと怒られる。\u001b[0m\u001b[1;33m\u001b[0m\u001b[1;33m\u001b[0m\u001b[0m\n",
      "\u001b[1;31mTypeError\u001b[0m: area() missing 2 required positional arguments: 'l' and 'w'"
     ]
    }
   ],
   "source": [
    "# 例題 10: 引数を渡さずにarea関数を呼び出してみてください。 どのエラーが出ますか？\n",
    "area()\n",
    "#area() missing 2 required positional arguments: 'l' and 'w'\n",
    "#area(l, w)と書いてあるので、引数を書かないと怒られる。"
   ]
  },
  {
   "cell_type": "markdown",
   "metadata": {},
   "source": [
    "- **例題 11**: 引数として2つの数値をとり、そのうちの最大値を返す関数を書いて下さい。\n",
    "<p>&nbsp; </p>\n",
    "<p>&nbsp; </p>"
   ]
  },
  {
   "cell_type": "code",
   "execution_count": 196,
   "metadata": {},
   "outputs": [
    {
     "data": {
      "text/plain": [
       "5"
      ]
     },
     "execution_count": 196,
     "metadata": {},
     "output_type": "execute_result"
    }
   ],
   "source": [
    "# 例題 11: 引数として2つの数値をとり、そのうちの最大値を返す関数を書いて下さい。\n",
    "def max(m,n):\n",
    "    if (m > n):\n",
    "        return m\n",
    "    elif (n > m):\n",
    "        return n\n",
    "    elif (m == n):\n",
    "        return m ,n\n",
    "max(3.1,3.1)\n",
    "\n",
    "\n",
    "# Max先生の回答　が　正解！\n",
    "# 理由は、一つの値しか出てこなくて無駄がないため！\n",
    "def the_largest(a,b):\n",
    "    if int(a) >= int(b):\n",
    "        return a\n",
    "    else:\n",
    "        return b\n",
    "    \n",
    "the_largest(5,1)"
   ]
  },
  {
   "cell_type": "code",
   "execution_count": 84,
   "metadata": {},
   "outputs": [
    {
     "data": {
      "text/plain": [
       "(2, 2)"
      ]
     },
     "execution_count": 84,
     "metadata": {},
     "output_type": "execute_result"
    }
   ],
   "source": [
    "max(2,2)"
   ]
  },
  {
   "cell_type": "markdown",
   "metadata": {},
   "source": [
    "- **例題 12**: 与えられた半径を持つ円の面積を計算する関数を書いて下さい。\n",
    "<p>&nbsp; </p>\n",
    "<p>&nbsp; </p>"
   ]
  },
  {
   "cell_type": "code",
   "execution_count": 197,
   "metadata": {},
   "outputs": [
    {
     "data": {
      "text/plain": [
       "28"
      ]
     },
     "execution_count": 197,
     "metadata": {},
     "output_type": "execute_result"
    }
   ],
   "source": [
    "# 例題 12: 与えられた半径を持つ円の面積を計算する関数を書いて下さい。\n",
    "# radius = r = 半径\n",
    "import math\n",
    "def circule(r):\n",
    "    return int(r*r*math.pi)\n",
    "circule(3)"
   ]
  },
  {
   "cell_type": "markdown",
   "metadata": {},
   "source": [
    "- **例題 13**: 2つの数値が割り切れるかどうかを示す関数を書いて下さい。\n",
    "<p>&nbsp; </p>\n",
    "<p>&nbsp; </p>"
   ]
  },
  {
   "cell_type": "code",
   "execution_count": 208,
   "metadata": {},
   "outputs": [
    {
     "name": "stdout",
     "output_type": "stream",
     "text": [
      "割り切れない\n"
     ]
    },
    {
     "data": {
      "text/plain": [
       "True"
      ]
     },
     "execution_count": 208,
     "metadata": {},
     "output_type": "execute_result"
    }
   ],
   "source": [
    "# 例題 13: 2つの数値が割り切れるかどうかを示す関数を書いて下さい。\n",
    "import math\n",
    "def split_2(g,l):\n",
    "    if ( g % l == 0 or l % g == 0):\n",
    "        print(\"割り切れる\")\n",
    "    else:\n",
    "        print(\"割り切れない\")\n",
    "split_2(7,4)\n",
    "\n",
    "#\n",
    "def divisible(number1, number2):\n",
    "    return number1 % number2 == 0 or number2 % number1 == 0\n",
    "divisible(1,2)"
   ]
  },
  {
   "cell_type": "markdown",
   "metadata": {},
   "source": [
    "## Matplotlib: Pythonでプロットを作る"
   ]
  },
  {
   "cell_type": "markdown",
   "metadata": {},
   "source": [
    "Pythonは、データ視覚化のためのさまざまなオプションを提供します。 **Matplotlib**ライブラリを使用します。"
   ]
  },
  {
   "cell_type": "code",
   "execution_count": 198,
   "metadata": {
    "scrolled": true
   },
   "outputs": [],
   "source": [
    "import matplotlib\n",
    "from matplotlib import pyplot as plt\n",
    "from pylab import *\n",
    "rcParams['figure.figsize'] = (7, 7)\n",
    "font = {'weight' : 'normal',\n",
    "        'size'   : 16}\n",
    "matplotlib.rc('font', **font)"
   ]
  },
  {
   "cell_type": "code",
   "execution_count": 209,
   "metadata": {
    "scrolled": true
   },
   "outputs": [
    {
     "name": "stdout",
     "output_type": "stream",
     "text": [
      "Wall time: 0 ns\n"
     ]
    }
   ],
   "source": [
    "# この魔法のコマンドは、ノートブックにインラインでプロットできることを確認します\n",
    "# %をつけると、Shellコマンドを使える。\n",
    "%matplotlib inline\n",
    "%time"
   ]
  },
  {
   "cell_type": "markdown",
   "metadata": {},
   "source": [
    "いくつかのデータを作成し、それらをプロットしましょう："
   ]
  },
  {
   "cell_type": "code",
   "execution_count": 203,
   "metadata": {
    "scrolled": true
   },
   "outputs": [],
   "source": [
    "#指定された間隔（0〜5）で等間隔の10個の数字の配列を作成します。\n",
    "x = np.linspace(0, 5, 10)\n",
    "y = x ** 2"
   ]
  },
  {
   "cell_type": "markdown",
   "metadata": {},
   "source": [
    "### 単純な線グラフ"
   ]
  },
  {
   "cell_type": "code",
   "execution_count": 212,
   "metadata": {
    "scrolled": true
   },
   "outputs": [
    {
     "name": "stdout",
     "output_type": "stream",
     "text": [
      "Wall time: 0 ns\n"
     ]
    },
    {
     "data": {
      "image/png": "[encoded data removed]",
      "text/plain": [
       "<Figure size 432x288 with 1 Axes>"
      ]
     },
     "metadata": {},
     "output_type": "display_data"
    }
   ],
   "source": [
    "plt.plot(x, y, 'r') # 赤い線でプロットする\n",
    "# x、yラベルとタイトルを割り当てる\n",
    "plt.xlabel('x')\n",
    "plt.ylabel('y')\n",
    "# Unicodeのため、ShiftJISの表示ができない。\n",
    "plt.title('赤い線')\n",
    "%time"
   ]
  },
  {
   "cell_type": "code",
   "execution_count": 175,
   "metadata": {
    "scrolled": true
   },
   "outputs": [],
   "source": [
    "# データをもっと作りましょう\n",
    "x1 = np.linspace(0.0, 2.0)\n",
    "y1 = np.cos(2 * np.pi * x1)"
   ]
  },
  {
   "cell_type": "markdown",
   "metadata": {},
   "source": [
    "### サブプロット"
   ]
  },
  {
   "cell_type": "code",
   "execution_count": 176,
   "metadata": {
    "scrolled": true
   },
   "outputs": [
    {
     "data": {
      "text/plain": [
       "Text(0.5,1,'subplot test-2')"
      ]
     },
     "execution_count": 176,
     "metadata": {},
     "output_type": "execute_result"
    },
    {
     "data": {
      "image/png": "[encoded data removed]",
      "text/plain": [
       "<Figure size 432x288 with 2 Axes>"
      ]
     },
     "metadata": {},
     "output_type": "display_data"
    }
   ],
   "source": [
    "###### 一つ目のプロット ######\n",
    "plt.subplot(1,2,1) # 1行2列、位置1のサブプロット\n",
    "plt.plot(x, y, 'r--') # 赤い破線\n",
    "plt.title('subplot test-1')\n",
    "\n",
    "###### 二つ目のプロット ######\n",
    "plt.subplot(1,2,2) # 1行2列、位置2のサブプロット\n",
    "plt.plot(x1, y1, 'g*-') # グリーンと星付き\n",
    "plt.title('subplot test-2')"
   ]
  },
  {
   "cell_type": "markdown",
   "metadata": {},
   "source": [
    "### ランダム分布の散布図"
   ]
  },
  {
   "cell_type": "code",
   "execution_count": 213,
   "metadata": {
    "scrolled": true
   },
   "outputs": [
    {
     "data": {
      "text/plain": [
       "[<matplotlib.lines.Line2D at 0x223f81d3780>]"
      ]
     },
     "execution_count": 213,
     "metadata": {},
     "output_type": "execute_result"
    },
    {
     "data": {
      "image/png": "[encoded data removed]",
      "text/plain": [
       "<Figure size 432x288 with 1 Axes>"
      ]
     },
     "metadata": {},
     "output_type": "display_data"
    }
   ],
   "source": [
    "plt.plot(np.random.normal(size=100), np.random.normal(size=100), 'ro')"
   ]
  },
  {
   "cell_type": "markdown",
   "metadata": {},
   "source": [
    "### ランダム散布図と正規分布ヒストグラム"
   ]
  },
  {
   "cell_type": "code",
   "execution_count": 216,
   "metadata": {
    "scrolled": true
   },
   "outputs": [
    {
     "name": "stdout",
     "output_type": "stream",
     "text": [
      "Wall time: 0 ns\n"
     ]
    },
    {
     "data": {
      "text/plain": [
       "Text(0.5,1,'Normal distribution')"
      ]
     },
     "execution_count": 216,
     "metadata": {},
     "output_type": "execute_result"
    },
    {
     "data": {
      "image/png": "[encoded data removed]",
      "text/plain": [
       "<Figure size 576x360 with 2 Axes>"
      ]
     },
     "metadata": {},
     "output_type": "display_data"
    }
   ],
   "source": [
    "%time\n",
    "fig = plt.figure(figsize=(8,5)) # 図のサイズを制御することができます\n",
    "ax1 = fig.add_subplot(121) # サブプロットへの別の方法\n",
    "ax1.set_xlabel('some random numbers')\n",
    "ax1.set_ylabel('more random numbers')\n",
    "ax1.set_title(\"Random scatterplot\")\n",
    "\n",
    "# 一つ目のプロット\n",
    "plt.plot(np.random.normal(size=100), np.random.normal(size=100), 'r.')\n",
    "\n",
    "\n",
    "ax2 = fig.add_subplot(122) # サブプロットに追加する\n",
    "# 二つ目のプロット\n",
    "plt.hist(np.random.normal(size=100), bins=15)\n",
    "ax2.set_xlabel('sample')\n",
    "ax2.set_ylabel('cumulative sum')\n",
    "ax2.set_title(\"Normal distribution\")"
   ]
  },
  {
   "cell_type": "markdown",
   "metadata": {},
   "source": [
    "### ボックスプロット"
   ]
  },
  {
   "cell_type": "markdown",
   "metadata": {},
   "source": [
    "データを作成し、ボックスプロットを通じてその分布を視覚化しましょう。"
   ]
  },
  {
   "cell_type": "code",
   "execution_count": 217,
   "metadata": {
    "scrolled": true
   },
   "outputs": [],
   "source": [
    "# np.random.normal(loc=0.0, scale=1.0, size=None)\n",
    "# 正規分布（ガウス分布）から無作為標本を引く\n",
    "a = np.random.normal(100, 10, 200)\n",
    "b = np.random.normal(80, 30, 200)\n",
    "c = np.random.normal(90, 20, 200)\n",
    "d = np.random.normal(70, 25, 200)"
   ]
  },
  {
   "cell_type": "code",
   "execution_count": 218,
   "metadata": {
    "scrolled": true
   },
   "outputs": [],
   "source": [
    "data = [a, b, c, d]"
   ]
  },
  {
   "cell_type": "code",
   "execution_count": 219,
   "metadata": {
    "scrolled": true
   },
   "outputs": [
    {
     "data": {
      "text/plain": [
       "Text(0.5,1,'boxplots of our data')"
      ]
     },
     "execution_count": 219,
     "metadata": {},
     "output_type": "execute_result"
    },
    {
     "data": {
      "image/png": "[encoded data removed]",
      "text/plain": [
       "<Figure size 432x288 with 1 Axes>"
      ]
     },
     "metadata": {},
     "output_type": "display_data"
    }
   ],
   "source": [
    "bp = plt.boxplot(data)\n",
    "plt.title('boxplots of our data')"
   ]
  },
  {
   "cell_type": "markdown",
   "metadata": {},
   "source": [
    "また、アウトラインの色やボックスの線幅、中央線の色を変更するなど、ボックスプロットをカスタマイズすることもできます。"
   ]
  },
  {
   "cell_type": "code",
   "execution_count": 220,
   "metadata": {
    "scrolled": true
   },
   "outputs": [
    {
     "data": {
      "image/png": "[encoded data removed]",
      "text/plain": [
       "<Figure size 432x288 with 1 Axes>"
      ]
     },
     "metadata": {},
     "output_type": "display_data"
    }
   ],
   "source": [
    "bp = plt.boxplot(data)\n",
    "for box in bp['boxes']:\n",
    "    box.set_linewidth(3) # 線の幅を変更する\n",
    "    box.set_color('#1b9e77') # アウトラインの色を変更する\n",
    "\n",
    "for median in bp['medians']:\n",
    "    median.set(color='#b2df8a', linewidth=2)"
   ]
  },
  {
   "cell_type": "markdown",
   "metadata": {},
   "source": [
    "## データセット読み込みユーティリティ"
   ]
  },
  {
   "cell_type": "markdown",
   "metadata": {},
   "source": [
    "ここでは、**sklearn**パッケージから 'データセット読み込みユーティリティ'でアクセスできるいくつかのおもちゃデータセットを見ていきます。 これらのデータセットをインポートしましょう："
   ]
  },
  {
   "cell_type": "code",
   "execution_count": 183,
   "metadata": {
    "scrolled": true
   },
   "outputs": [],
   "source": [
    "from sklearn import datasets"
   ]
  },
  {
   "cell_type": "code",
   "execution_count": 184,
   "metadata": {
    "scrolled": true
   },
   "outputs": [],
   "source": [
    "diabetes = datasets.load_diabetes() # 糖尿病のデータセットをロードする"
   ]
  },
  {
   "cell_type": "markdown",
   "metadata": {},
   "source": [
    "このデータセットはこの構造があります: **n_samples * n_features**のnumpy配列 **X**が入っている**data** 部分とターゲット**y**が入っている**n_samples**の長さの配列の**target**部分。"
   ]
  },
  {
   "cell_type": "code",
   "execution_count": 185,
   "metadata": {
    "scrolled": true
   },
   "outputs": [],
   "source": [
    "X, y = diabetes.data, diabetes.target"
   ]
  },
  {
   "cell_type": "markdown",
   "metadata": {},
   "source": [
    "- **例題 14**: データセットにはいくつのサンプルが含まれていますか？ いくつの特長がありますか？\n",
    "<p>&nbsp; </p>\n",
    "<p>&nbsp; </p>"
   ]
  },
  {
   "cell_type": "code",
   "execution_count": 41,
   "metadata": {},
   "outputs": [],
   "source": [
    "# 例題 14: データセットにはいくつのサンプルが含まれていますか？ いくつの特長がありますか？\n"
   ]
  },
  {
   "cell_type": "markdown",
   "metadata": {},
   "source": [
    "- **例題 15**: ターゲット**y**は連続変数またはカテゴリ変数ですか? これは分類や回帰の問題だと思いますか？?\n",
    "<p>&nbsp; </p>\n",
    "<p>&nbsp; </p>"
   ]
  },
  {
   "cell_type": "code",
   "execution_count": 42,
   "metadata": {},
   "outputs": [],
   "source": [
    "# 例題 15: ターゲットyは連続変数またはカテゴリ変数ですか? これは分類や回帰の問題だと思いますか？\n"
   ]
  },
  {
   "cell_type": "markdown",
   "metadata": {},
   "source": [
    "- **例題 16**: 特長の分布のボックスプロットを作成して下さい。 特長の範囲は何ですか？\n",
    "<p>&nbsp; </p>\n",
    "<p>&nbsp; </p>"
   ]
  },
  {
   "cell_type": "code",
   "execution_count": 43,
   "metadata": {},
   "outputs": [],
   "source": [
    "# 例題 16: 特長の分布のボックスプロットを作成して下さい。 特長の範囲は何ですか？\n"
   ]
  },
  {
   "cell_type": "markdown",
   "metadata": {},
   "source": [
    "- **例題 17**: **iris** データセットをロードしてください。 (_datasets.load_iris()_)。データを見て、上記の質問を答えてみてください\n",
    "<p>&nbsp; </p>\n",
    "<p>&nbsp; </p>"
   ]
  },
  {
   "cell_type": "code",
   "execution_count": 44,
   "metadata": {},
   "outputs": [],
   "source": [
    "# 例題 17: iris データセットをロードしてください。 (_datasets.load_iris()_)。データを見て、上記の質問を答えてみてください\n"
   ]
  },
  {
   "cell_type": "markdown",
   "metadata": {},
   "source": [
    "## Pandas: Python Data Analysis Library・Pythonデータ分析ライブラリー"
   ]
  },
  {
   "cell_type": "markdown",
   "metadata": {},
   "source": [
    "最後に、Python用の効率的なデータ構造とデータ分析ツールを提供する、データの整理と準備のための素晴らしいライブラリである**Pandas**を見ていきます。"
   ]
  },
  {
   "cell_type": "code",
   "execution_count": 221,
   "metadata": {
    "scrolled": true
   },
   "outputs": [],
   "source": [
    "import pandas as pd"
   ]
  },
  {
   "cell_type": "markdown",
   "metadata": {},
   "source": [
    "### Pandas dataframe・Pandasデータフレーム"
   ]
  },
  {
   "cell_type": "markdown",
   "metadata": {},
   "source": [
    "**DataFrame**は、（潜在的に）異なるタイプの列を持つ2次元データ構造です。 スプレッドシートやSQLテーブルのように考えることができます。 これは最も一般的に使用されるPandasオブジェクトです。\n",
    "\n",
    "**DataFrame**は多くの異なる種類の入力を受け入れます："
   ]
  },
  {
   "cell_type": "code",
   "execution_count": 222,
   "metadata": {
    "scrolled": true
   },
   "outputs": [],
   "source": [
    "d = {'1st' : [1., 2., 3., 4.], '2nd' : [4.5, 3.2, 2.7, 1.], '3rd' : [8, 14, 23, 57]}"
   ]
  },
  {
   "cell_type": "code",
   "execution_count": 223,
   "metadata": {
    "scrolled": true
   },
   "outputs": [
    {
     "data": {
      "text/html": [
       "<div>\n",
       "<style scoped>\n",
       "    .dataframe tbody tr th:only-of-type {\n",
       "        vertical-align: middle;\n",
       "    }\n",
       "\n",
       "    .dataframe tbody tr th {\n",
       "        vertical-align: top;\n",
       "    }\n",
       "\n",
       "    .dataframe thead th {\n",
       "        text-align: right;\n",
       "    }\n",
       "</style>\n",
       "<table border=\"1\" class=\"dataframe\">\n",
       "  <thead>\n",
       "    <tr style=\"text-align: right;\">\n",
       "      <th></th>\n",
       "      <th>1st</th>\n",
       "      <th>2nd</th>\n",
       "      <th>3rd</th>\n",
       "    </tr>\n",
       "  </thead>\n",
       "  <tbody>\n",
       "    <tr>\n",
       "      <th>0</th>\n",
       "      <td>1.0</td>\n",
       "      <td>4.5</td>\n",
       "      <td>8</td>\n",
       "    </tr>\n",
       "    <tr>\n",
       "      <th>1</th>\n",
       "      <td>2.0</td>\n",
       "      <td>3.2</td>\n",
       "      <td>14</td>\n",
       "    </tr>\n",
       "    <tr>\n",
       "      <th>2</th>\n",
       "      <td>3.0</td>\n",
       "      <td>2.7</td>\n",
       "      <td>23</td>\n",
       "    </tr>\n",
       "    <tr>\n",
       "      <th>3</th>\n",
       "      <td>4.0</td>\n",
       "      <td>1.0</td>\n",
       "      <td>57</td>\n",
       "    </tr>\n",
       "  </tbody>\n",
       "</table>\n",
       "</div>"
      ],
      "text/plain": [
       "   1st  2nd  3rd\n",
       "0  1.0  4.5    8\n",
       "1  2.0  3.2   14\n",
       "2  3.0  2.7   23\n",
       "3  4.0  1.0   57"
      ]
     },
     "execution_count": 223,
     "metadata": {},
     "output_type": "execute_result"
    }
   ],
   "source": [
    "df = pd.DataFrame(d)\n",
    "df"
   ]
  },
  {
   "cell_type": "code",
   "execution_count": 51,
   "metadata": {
    "scrolled": true
   },
   "outputs": [
    {
     "data": {
      "text/html": [
       "<div>\n",
       "<style scoped>\n",
       "    .dataframe tbody tr th:only-of-type {\n",
       "        vertical-align: middle;\n",
       "    }\n",
       "\n",
       "    .dataframe tbody tr th {\n",
       "        vertical-align: top;\n",
       "    }\n",
       "\n",
       "    .dataframe thead th {\n",
       "        text-align: right;\n",
       "    }\n",
       "</style>\n",
       "<table border=\"1\" class=\"dataframe\">\n",
       "  <thead>\n",
       "    <tr style=\"text-align: right;\">\n",
       "      <th></th>\n",
       "      <th>1st</th>\n",
       "      <th>2nd</th>\n",
       "      <th>3rd</th>\n",
       "    </tr>\n",
       "  </thead>\n",
       "  <tbody>\n",
       "    <tr>\n",
       "      <th>a</th>\n",
       "      <td>1.0</td>\n",
       "      <td>4.5</td>\n",
       "      <td>8</td>\n",
       "    </tr>\n",
       "    <tr>\n",
       "      <th>b</th>\n",
       "      <td>2.0</td>\n",
       "      <td>3.2</td>\n",
       "      <td>14</td>\n",
       "    </tr>\n",
       "    <tr>\n",
       "      <th>c</th>\n",
       "      <td>3.0</td>\n",
       "      <td>2.7</td>\n",
       "      <td>23</td>\n",
       "    </tr>\n",
       "    <tr>\n",
       "      <th>d</th>\n",
       "      <td>4.0</td>\n",
       "      <td>1.0</td>\n",
       "      <td>57</td>\n",
       "    </tr>\n",
       "  </tbody>\n",
       "</table>\n",
       "</div>"
      ],
      "text/plain": [
       "   1st  2nd  3rd\n",
       "a  1.0  4.5    8\n",
       "b  2.0  3.2   14\n",
       "c  3.0  2.7   23\n",
       "d  4.0  1.0   57"
      ]
     },
     "execution_count": 51,
     "metadata": {},
     "output_type": "execute_result"
    }
   ],
   "source": [
    "# 行列のインデックスを変えたい場合\n",
    "df = pd.DataFrame(d, index=['a', 'b', 'c', 'd'])\n",
    "df"
   ]
  },
  {
   "cell_type": "markdown",
   "metadata": {},
   "source": [
    "### ファイルにデータフレームを書き込む"
   ]
  },
  {
   "cell_type": "markdown",
   "metadata": {},
   "source": [
    "場合によっては、**DataFrame**のコンテンツをファイルに書き出すこともできます（<span style=\"color: red; \">例えば、</span>外部の検査のために、データを別の分析ツールにエクスポートする...）。 この場合、**pandas.DataFrame.to_csv**のように、データフレームを _.csv_ ファイルに書き込むなど、pandasの入出力機能の1つを使用できます。"
   ]
  },
  {
   "cell_type": "code",
   "execution_count": 105,
   "metadata": {
    "scrolled": true
   },
   "outputs": [],
   "source": [
    "pd.DataFrame.to_csv(df, 'dataframe.csv', index=False)"
   ]
  },
  {
   "cell_type": "markdown",
   "metadata": {},
   "source": [
    "### ファイルからDataFrameをロードする"
   ]
  },
  {
   "cell_type": "markdown",
   "metadata": {},
   "source": [
    "同様に、外部テキストファイル（カンマ区切り値ファイル、タブ区切りファイル、スペース区切りファイルなど）を介して**DataFrame**をロードすることもできます。 この場合、たとえば、**pandas.DataFrame.read_csv**を使用して、作成したばかりの _.csv_ ファイルを読み込むことができます："
   ]
  },
  {
   "cell_type": "code",
   "execution_count": 106,
   "metadata": {
    "scrolled": true
   },
   "outputs": [],
   "source": [
    "df2 = pd.read_csv('dataframe.csv')"
   ]
  },
  {
   "cell_type": "code",
   "execution_count": 107,
   "metadata": {},
   "outputs": [
    {
     "data": {
      "text/html": [
       "<div>\n",
       "<style scoped>\n",
       "    .dataframe tbody tr th:only-of-type {\n",
       "        vertical-align: middle;\n",
       "    }\n",
       "\n",
       "    .dataframe tbody tr th {\n",
       "        vertical-align: top;\n",
       "    }\n",
       "\n",
       "    .dataframe thead th {\n",
       "        text-align: right;\n",
       "    }\n",
       "</style>\n",
       "<table border=\"1\" class=\"dataframe\">\n",
       "  <thead>\n",
       "    <tr style=\"text-align: right;\">\n",
       "      <th></th>\n",
       "      <th>1st</th>\n",
       "      <th>2nd</th>\n",
       "      <th>3rd</th>\n",
       "    </tr>\n",
       "  </thead>\n",
       "  <tbody>\n",
       "    <tr>\n",
       "      <th>0</th>\n",
       "      <td>1.0</td>\n",
       "      <td>4.5</td>\n",
       "      <td>8</td>\n",
       "    </tr>\n",
       "    <tr>\n",
       "      <th>1</th>\n",
       "      <td>2.0</td>\n",
       "      <td>3.2</td>\n",
       "      <td>14</td>\n",
       "    </tr>\n",
       "    <tr>\n",
       "      <th>2</th>\n",
       "      <td>3.0</td>\n",
       "      <td>2.7</td>\n",
       "      <td>23</td>\n",
       "    </tr>\n",
       "    <tr>\n",
       "      <th>3</th>\n",
       "      <td>4.0</td>\n",
       "      <td>1.0</td>\n",
       "      <td>57</td>\n",
       "    </tr>\n",
       "  </tbody>\n",
       "</table>\n",
       "</div>"
      ],
      "text/plain": [
       "   1st  2nd  3rd\n",
       "0  1.0  4.5    8\n",
       "1  2.0  3.2   14\n",
       "2  3.0  2.7   23\n",
       "3  4.0  1.0   57"
      ]
     },
     "execution_count": 107,
     "metadata": {},
     "output_type": "execute_result"
    }
   ],
   "source": [
    "df2"
   ]
  },
  {
   "cell_type": "markdown",
   "metadata": {},
   "source": [
    "データフレームの行と列のラベルは、それぞれ**index**および**columns**属性にアクセスすることでアクセスできます。"
   ]
  },
  {
   "cell_type": "code",
   "execution_count": 108,
   "metadata": {
    "scrolled": true
   },
   "outputs": [
    {
     "data": {
      "text/plain": [
       "RangeIndex(start=0, stop=4, step=1)"
      ]
     },
     "execution_count": 108,
     "metadata": {},
     "output_type": "execute_result"
    }
   ],
   "source": [
    "df2.index"
   ]
  },
  {
   "cell_type": "code",
   "execution_count": 109,
   "metadata": {
    "scrolled": true
   },
   "outputs": [
    {
     "data": {
      "text/plain": [
       "Index(['1st', '2nd', '3rd'], dtype='object')"
      ]
     },
     "execution_count": 109,
     "metadata": {},
     "output_type": "execute_result"
    }
   ],
   "source": [
    "df2.columns"
   ]
  },
  {
   "cell_type": "markdown",
   "metadata": {},
   "source": [
    "もう一つの例"
   ]
  },
  {
   "cell_type": "code",
   "execution_count": 110,
   "metadata": {
    "scrolled": true
   },
   "outputs": [
    {
     "data": {
      "text/html": [
       "<div>\n",
       "<style scoped>\n",
       "    .dataframe tbody tr th:only-of-type {\n",
       "        vertical-align: middle;\n",
       "    }\n",
       "\n",
       "    .dataframe tbody tr th {\n",
       "        vertical-align: top;\n",
       "    }\n",
       "\n",
       "    .dataframe thead th {\n",
       "        text-align: right;\n",
       "    }\n",
       "</style>\n",
       "<table border=\"1\" class=\"dataframe\">\n",
       "  <thead>\n",
       "    <tr style=\"text-align: right;\">\n",
       "      <th></th>\n",
       "      <th>AAA</th>\n",
       "      <th>BBB</th>\n",
       "      <th>CCC</th>\n",
       "    </tr>\n",
       "  </thead>\n",
       "  <tbody>\n",
       "    <tr>\n",
       "      <th>0</th>\n",
       "      <td>4</td>\n",
       "      <td>10</td>\n",
       "      <td>100</td>\n",
       "    </tr>\n",
       "    <tr>\n",
       "      <th>1</th>\n",
       "      <td>5</td>\n",
       "      <td>20</td>\n",
       "      <td>50</td>\n",
       "    </tr>\n",
       "    <tr>\n",
       "      <th>2</th>\n",
       "      <td>6</td>\n",
       "      <td>30</td>\n",
       "      <td>-30</td>\n",
       "    </tr>\n",
       "    <tr>\n",
       "      <th>3</th>\n",
       "      <td>7</td>\n",
       "      <td>40</td>\n",
       "      <td>-50</td>\n",
       "    </tr>\n",
       "  </tbody>\n",
       "</table>\n",
       "</div>"
      ],
      "text/plain": [
       "   AAA  BBB  CCC\n",
       "0    4   10  100\n",
       "1    5   20   50\n",
       "2    6   30  -30\n",
       "3    7   40  -50"
      ]
     },
     "execution_count": 110,
     "metadata": {},
     "output_type": "execute_result"
    }
   ],
   "source": [
    "df3 = pd.DataFrame({'AAA' : [4,5,6,7], 'BBB' : [10,20,30,40],'CCC' : [100,50,-30,-50]})\n",
    "df3"
   ]
  },
  {
   "cell_type": "markdown",
   "metadata": {},
   "source": [
    "この方法でデータフレームの特定の部分を選択することができます。"
   ]
  },
  {
   "cell_type": "code",
   "execution_count": 111,
   "metadata": {
    "scrolled": true
   },
   "outputs": [
    {
     "data": {
      "text/plain": [
       "0    4\n",
       "1    5\n",
       "2    6\n",
       "3    7\n",
       "Name: AAA, dtype: int64"
      ]
     },
     "execution_count": 111,
     "metadata": {},
     "output_type": "execute_result"
    }
   ],
   "source": [
    "df3['AAA'] # 'AAA'って例を選択してください"
   ]
  },
  {
   "cell_type": "code",
   "execution_count": 112,
   "metadata": {
    "scrolled": true
   },
   "outputs": [
    {
     "data": {
      "text/html": [
       "<div>\n",
       "<style scoped>\n",
       "    .dataframe tbody tr th:only-of-type {\n",
       "        vertical-align: middle;\n",
       "    }\n",
       "\n",
       "    .dataframe tbody tr th {\n",
       "        vertical-align: top;\n",
       "    }\n",
       "\n",
       "    .dataframe thead th {\n",
       "        text-align: right;\n",
       "    }\n",
       "</style>\n",
       "<table border=\"1\" class=\"dataframe\">\n",
       "  <thead>\n",
       "    <tr style=\"text-align: right;\">\n",
       "      <th></th>\n",
       "      <th>AAA</th>\n",
       "      <th>CCC</th>\n",
       "    </tr>\n",
       "  </thead>\n",
       "  <tbody>\n",
       "    <tr>\n",
       "      <th>0</th>\n",
       "      <td>4</td>\n",
       "      <td>100</td>\n",
       "    </tr>\n",
       "    <tr>\n",
       "      <th>1</th>\n",
       "      <td>5</td>\n",
       "      <td>50</td>\n",
       "    </tr>\n",
       "    <tr>\n",
       "      <th>2</th>\n",
       "      <td>6</td>\n",
       "      <td>-30</td>\n",
       "    </tr>\n",
       "    <tr>\n",
       "      <th>3</th>\n",
       "      <td>7</td>\n",
       "      <td>-50</td>\n",
       "    </tr>\n",
       "  </tbody>\n",
       "</table>\n",
       "</div>"
      ],
      "text/plain": [
       "   AAA  CCC\n",
       "0    4  100\n",
       "1    5   50\n",
       "2    6  -30\n",
       "3    7  -50"
      ]
     },
     "execution_count": 112,
     "metadata": {},
     "output_type": "execute_result"
    }
   ],
   "source": [
    "df3[['AAA', 'CCC']] # 'AAA'と'CCC'って例を選択してください"
   ]
  },
  {
   "cell_type": "markdown",
   "metadata": {},
   "source": [
    "### NumpyからPandasへ"
   ]
  },
  {
   "cell_type": "markdown",
   "metadata": {},
   "source": [
    "Numpy配列をPandasデータフレームに変換するのが便利なことです："
   ]
  },
  {
   "cell_type": "code",
   "execution_count": 113,
   "metadata": {
    "scrolled": true
   },
   "outputs": [],
   "source": [
    "diabetes_df = pd.DataFrame(diabetes.data)"
   ]
  },
  {
   "cell_type": "markdown",
   "metadata": {},
   "source": [
    "**head**と**tail**関数を使用してデータフレームの上部と下部をそれぞれ見ることができます："
   ]
  },
  {
   "cell_type": "code",
   "execution_count": 114,
   "metadata": {
    "scrolled": true
   },
   "outputs": [
    {
     "name": "stdout",
     "output_type": "stream",
     "text": [
      "          0         1         2         3         4         5         6  \\\n",
      "0  0.038076  0.050680  0.061696  0.021872 -0.044223 -0.034821 -0.043401   \n",
      "1 -0.001882 -0.044642 -0.051474 -0.026328 -0.008449 -0.019163  0.074412   \n",
      "2  0.085299  0.050680  0.044451 -0.005671 -0.045599 -0.034194 -0.032356   \n",
      "\n",
      "          7         8         9  \n",
      "0 -0.002592  0.019908 -0.017646  \n",
      "1 -0.039493 -0.068330 -0.092204  \n",
      "2 -0.002592  0.002864 -0.025930  \n",
      "=====================\n",
      "            0         1         2         3         4         5         6  \\\n",
      "437  0.041708  0.050680  0.019662  0.059744 -0.005697 -0.002566 -0.028674   \n",
      "438 -0.005515  0.050680 -0.015906 -0.067642  0.049341  0.079165 -0.028674   \n",
      "439  0.041708  0.050680 -0.015906  0.017282 -0.037344 -0.013840 -0.024993   \n",
      "440 -0.045472 -0.044642  0.039062  0.001215  0.016318  0.015283 -0.028674   \n",
      "441 -0.045472 -0.044642 -0.073030 -0.081414  0.083740  0.027809  0.173816   \n",
      "\n",
      "            7         8         9  \n",
      "437 -0.002592  0.031193  0.007207  \n",
      "438  0.034309 -0.018118  0.044485  \n",
      "439 -0.011080 -0.046879  0.015491  \n",
      "440  0.026560  0.044528 -0.025930  \n",
      "441 -0.039493 -0.004220  0.003064  \n"
     ]
    }
   ],
   "source": [
    "print (diabetes_df.head(3)) #最初の3行を表示\n",
    "print (\"=====================\")\n",
    "print (diabetes_df.tail()) #数が指定されていない場合、デフォルトでは5"
   ]
  },
  {
   "cell_type": "markdown",
   "metadata": {},
   "source": [
    "### Pandasでプロット"
   ]
  },
  {
   "cell_type": "markdown",
   "metadata": {},
   "source": [
    "Pandasは、すばやく便利な視覚化オプションを提供します。 Pandasでのプロットは、**DataFrame**オブジェクトから**plot**関数を呼び出すだけで、作成するプロットのタイプを指定するだけで済みます。"
   ]
  },
  {
   "cell_type": "code",
   "execution_count": 115,
   "metadata": {
    "scrolled": true
   },
   "outputs": [
    {
     "data": {
      "image/png": "[encoded data removed]",
      "text/plain": [
       "<Figure size 432x288 with 1 Axes>"
      ]
     },
     "metadata": {},
     "output_type": "display_data"
    }
   ],
   "source": [
    "# ボックスプロット\n",
    "ax = diabetes_df.boxplot()"
   ]
  },
  {
   "cell_type": "code",
   "execution_count": 116,
   "metadata": {
    "scrolled": true
   },
   "outputs": [
    {
     "data": {
      "image/png": "[encoded data removed]",
      "text/plain": [
       "<Figure size 936x576 with 12 Axes>"
      ]
     },
     "metadata": {},
     "output_type": "display_data"
    }
   ],
   "source": [
    "# ヒストグラム\n",
    "h = diabetes_df.hist(color='k', alpha=0.5, bins=50, figsize=(13,8))"
   ]
  },
  {
   "cell_type": "code",
   "execution_count": 117,
   "metadata": {
    "scrolled": true
   },
   "outputs": [
    {
     "data": {
      "text/plain": [
       "<matplotlib.axes._subplots.AxesSubplot at 0x1e36676bc88>"
      ]
     },
     "execution_count": 117,
     "metadata": {},
     "output_type": "execute_result"
    },
    {
     "data": {
      "image/png": "[encoded data removed]",
      "text/plain": [
       "<Figure size 432x288 with 1 Axes>"
      ]
     },
     "metadata": {},
     "output_type": "display_data"
    }
   ],
   "source": [
    "# 密度プロット\n",
    "diabetes_df.plot(kind='kde')"
   ]
  },
  {
   "cell_type": "markdown",
   "metadata": {},
   "source": [
    "## 参考文献"
   ]
  },
  {
   "cell_type": "markdown",
   "metadata": {},
   "source": [
    "Pythonについてもっと知りたい方は、Webに役立つ情報が満載です。 いくつかの例：\n",
    "\n",
    "- https://www.python.org\n",
    "- https://docs.python.org/3/tutorial\n",
    "- http://scipy-lectures.github.io/index.html\n",
    "- http://www.greenteapress.com/thinkpython\n",
    "- http://nbviewer.ipython.org\n",
    "- https://github.com/ipython/ipython/wiki/A-gallery-of-interesting-IPython-Notebooks\n",
    "\n",
    "特定の問題やエラーが発生した場合、または特定のタスクを実行したい場合は... Googleはあなたの親友です！"
   ]
  }
 ],
 "metadata": {
  "kernelspec": {
   "display_name": "Python 3",
   "language": "python",
   "name": "python3"
  },
  "language_info": {
   "codemirror_mode": {
    "name": "ipython",
    "version": 3
   },
   "file_extension": ".py",
   "mimetype": "text/x-python",
   "name": "python",
   "nbconvert_exporter": "python",
   "pygments_lexer": "ipython3",
   "version": "3.6.5"
  }
 },
 "nbformat": 4,
 "nbformat_minor": 1
}
