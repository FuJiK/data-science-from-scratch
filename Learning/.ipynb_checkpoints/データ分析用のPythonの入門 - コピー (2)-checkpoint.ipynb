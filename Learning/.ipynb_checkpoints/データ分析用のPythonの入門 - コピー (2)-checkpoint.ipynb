{
 "cells": [
  {
   "cell_type": "markdown",
   "metadata": {},
   "source": [
    "# データ分析用のPythonの入門"
   ]
  },
  {
   "cell_type": "markdown",
   "metadata": {},
   "source": [
    "<span style=\"color: red; \">この講義の内容は、Python3をインストールしたAnaconda環境でJupyter notebookを利用して閲覧してください。</span>\n",
    "\n",
    "Pythonは近代的な汎用プログラミング言語です。\n",
    "このセッションでは、データ分析のためのPython<span style=\"color: red; \">を</span>簡単に紹介します。\n",
    "\n",
    "Pythonの重要な点：\n",
    "\n",
    "- 科学的コンピューティングにおいて強い地位を占めています。\n",
    "- ユーザーの大きなコミュニティがあるため、~~助~~<span style=\"color: red; \">必要とする</span>ドキュメンテーションを簡単に見つけることができます。\n",
    "- 広範な環境とライブラリー<span style=\"color: red; \">が</span>あります。\n",
    "\n",
    "具体的に体験するライブラリーは：\n",
    "\n",
    "  - **numpy**: http://numpy.scipy.org - Numerical Python\n",
    "  - **matplotlib**: http://www.matplotlib.org - Plotting in Python\n",
    "  - **pandas**: http://pandas.pydata.org/ - Python Data Analysis\n",
    "    \n",
    "**Note**: 例題を解決するために、ノートブックにセルを入れて、セルの中にコードを入力してください。"
   ]
  },
  {
   "cell_type": "markdown",
   "metadata": {
    "collapsed": true
   },
   "source": [
    "## モジュール"
   ]
  },
  {
   "cell_type": "markdown",
   "metadata": {},
   "source": [
    "Pythonのほとんどの機能は**モジュール**によって提供されています。Python Standard Libraryは、オペレーティングシステムへのアクセス、ファイルI / O、ネットワーク通信などの共通機能のクロスプラットフォーム実装を提供するモジュールの大規模なコレクションです。\n",
    "\n",
    "使用するには、まずモジュールをインポートする必要があります。モジュールは、_import_ステートメントを使用してインポートできます。 たとえば、多くの標準的な数学関数を含むモジュール**math**をインポートするには、次のようにします："
   ]
  },
  {
   "cell_type": "code",
   "execution_count": 43,
   "metadata": {
    "scrolled": true
   },
   "outputs": [],
   "source": [
    "import math\n",
    "# import クラス名"
   ]
  },
  {
   "cell_type": "markdown",
   "metadata": {},
   "source": [
    "これにはモジュール全体が含まれ、後で使用できるようになります。 たとえば、次のようにすることができます。"
   ]
  },
  {
   "cell_type": "code",
   "execution_count": 44,
   "metadata": {
    "scrolled": true
   },
   "outputs": [
    {
     "name": "stdout",
     "output_type": "stream",
     "text": [
      "1.0\n"
     ]
    }
   ],
   "source": [
    "x = math.cos(2 * math.pi)\n",
    "# x　＝　cos(2π)を表す。\n",
    "print (x)\n"
   ]
  },
  {
   "cell_type": "markdown",
   "metadata": {},
   "source": [
    "あるいは、<span style=\"color: red; \">\t\n",
    "from  モジュール名 import クラス名（もしくは関数名や変数名）の形でインポートを行った場合、</span>\n",
    "モジュール内のすべてのシンボル（関数と変数）をインポートすることができるので、接頭辞<span style=\"color: red; \">に</span>\"math\"を使用する必要はありません。 数学モジュールから何かを使うたびに以下のように<span style=\"color: red; \">クラス名を省略することができます。</span>："
   ]
  },
  {
   "cell_type": "code",
   "execution_count": 118,
   "metadata": {
    "scrolled": true
   },
   "outputs": [
    {
     "name": "stdout",
     "output_type": "stream",
     "text": [
      "1.0\n"
     ]
    }
   ],
   "source": [
    "from math import *\n",
    "# from モジュール名 import クラス名\n",
    "x = cos(2 * pi)\n",
    "# x　＝　cos(2π)を表す。\n",
    "print(x)"
   ]
  },
  {
   "cell_type": "markdown",
   "metadata": {},
   "source": [
    "このパターンは非常に便利ですが、多くのモジュールを含む大規模なプログラムでは、import mathパターンを使用して、各モジュールのシンボルを独自の名前空間に保持することをお勧めします。 これにより、変数名の衝突で潜在的に混乱する問題が排除されます。\n",
    "\n",
    "第3の選択肢として、モジュールからいくつかの選択されたシンボルのみをインポートすることもできます。"
   ]
  },
  {
   "cell_type": "code",
   "execution_count": 46,
   "metadata": {
    "scrolled": true
   },
   "outputs": [
    {
     "name": "stdout",
     "output_type": "stream",
     "text": [
      "1.0\n"
     ]
    }
   ],
   "source": [
    "from math import cos, pi\n",
    "x = cos(2 * pi)\n",
    "print(x)"
   ]
  },
  {
   "cell_type": "markdown",
   "metadata": {},
   "source": [
    "### モジュールの内容とそのドキュメンテーションを探検します¶"
   ]
  },
  {
   "cell_type": "markdown",
   "metadata": {},
   "source": [
    "モジュールがインポートされると、**dir** 関数を使用して、それが提供するシンボルをリストすることができます："
   ]
  },
  {
   "cell_type": "code",
   "execution_count": 47,
   "metadata": {
    "scrolled": true
   },
   "outputs": [
    {
     "name": "stdout",
     "output_type": "stream",
     "text": [
      "['__doc__', '__loader__', '__name__', '__package__', '__spec__', 'acos', 'acosh', 'asin', 'asinh', 'atan', 'atan2', 'atanh', 'ceil', 'copysign', 'cos', 'cosh', 'degrees', 'e', 'erf', 'erfc', 'exp', 'expm1', 'fabs', 'factorial', 'floor', 'fmod', 'frexp', 'fsum', 'gamma', 'gcd', 'hypot', 'inf', 'isclose', 'isfinite', 'isinf', 'isnan', 'ldexp', 'lgamma', 'log', 'log10', 'log1p', 'log2', 'modf', 'nan', 'pi', 'pow', 'radians', 'sin', 'sinh', 'sqrt', 'tan', 'tanh', 'tau', 'trunc']\n"
     ]
    }
   ],
   "source": [
    "print(dir(math))"
   ]
  },
  {
   "cell_type": "markdown",
   "metadata": {},
   "source": [
    "** help **関数を使用すると、各関数の説明を得ることができます（ほとんどすべての関数がdocstringを持っているわけではありませんが、大部分の関数はこのように文書化されています):"
   ]
  },
  {
   "cell_type": "code",
   "execution_count": 119,
   "metadata": {
    "scrolled": true
   },
   "outputs": [
    {
     "name": "stdout",
     "output_type": "stream",
     "text": [
      "Help on built-in function log in module math:\n",
      "\n",
      "log(...)\n",
      "    log(x[, base])\n",
      "    \n",
      "    Return the logarithm of x to the given base.\n",
      "    If the base not specified, returns the natural logarithm (base e) of x.\n",
      "\n"
     ]
    }
   ],
   "source": [
    "help(math.log)"
   ]
  },
  {
   "cell_type": "markdown",
   "metadata": {},
   "source": [
    "モジュール上でhelp関数を直接使用することもできます。 たとえば、mathモジュールのヘルプを呼び出してみてください："
   ]
  },
  {
   "cell_type": "code",
   "execution_count": 126,
   "metadata": {},
   "outputs": [
    {
     "name": "stdout",
     "output_type": "stream",
     "text": [
      "Help on built-in module math:\n",
      "\n",
      "NAME\n",
      "    math\n",
      "\n",
      "DESCRIPTION\n",
      "    This module is always available.  It provides access to the\n",
      "    mathematical functions defined by the C standard.\n",
      "\n",
      "FUNCTIONS\n",
      "    acos(...)\n",
      "        acos(x)\n",
      "        \n",
      "        Return the arc cosine (measured in radians) of x.\n",
      "    \n",
      "    acosh(...)\n",
      "        acosh(x)\n",
      "        \n",
      "        Return the inverse hyperbolic cosine of x.\n",
      "    \n",
      "    asin(...)\n",
      "        asin(x)\n",
      "        \n",
      "        Return the arc sine (measured in radians) of x.\n",
      "    \n",
      "    asinh(...)\n",
      "        asinh(x)\n",
      "        \n",
      "        Return the inverse hyperbolic sine of x.\n",
      "    \n",
      "    atan(...)\n",
      "        atan(x)\n",
      "        \n",
      "        Return the arc tangent (measured in radians) of x.\n",
      "    \n",
      "    atan2(...)\n",
      "        atan2(y, x)\n",
      "        \n",
      "        Return the arc tangent (measured in radians) of y/x.\n",
      "        Unlike atan(y/x), the signs of both x and y are considered.\n",
      "    \n",
      "    atanh(...)\n",
      "        atanh(x)\n",
      "        \n",
      "        Return the inverse hyperbolic tangent of x.\n",
      "    \n",
      "    ceil(...)\n",
      "        ceil(x)\n",
      "        \n",
      "        Return the ceiling of x as an Integral.\n",
      "        This is the smallest integer >= x.\n",
      "    \n",
      "    copysign(...)\n",
      "        copysign(x, y)\n",
      "        \n",
      "        Return a float with the magnitude (absolute value) of x but the sign \n",
      "        of y. On platforms that support signed zeros, copysign(1.0, -0.0) \n",
      "        returns -1.0.\n",
      "    \n",
      "    cos(...)\n",
      "        cos(x)\n",
      "        \n",
      "        Return the cosine of x (measured in radians).\n",
      "    \n",
      "    cosh(...)\n",
      "        cosh(x)\n",
      "        \n",
      "        Return the hyperbolic cosine of x.\n",
      "    \n",
      "    degrees(...)\n",
      "        degrees(x)\n",
      "        \n",
      "        Convert angle x from radians to degrees.\n",
      "    \n",
      "    erf(...)\n",
      "        erf(x)\n",
      "        \n",
      "        Error function at x.\n",
      "    \n",
      "    erfc(...)\n",
      "        erfc(x)\n",
      "        \n",
      "        Complementary error function at x.\n",
      "    \n",
      "    exp(...)\n",
      "        exp(x)\n",
      "        \n",
      "        Return e raised to the power of x.\n",
      "    \n",
      "    expm1(...)\n",
      "        expm1(x)\n",
      "        \n",
      "        Return exp(x)-1.\n",
      "        This function avoids the loss of precision involved in the direct evaluation of exp(x)-1 for small x.\n",
      "    \n",
      "    fabs(...)\n",
      "        fabs(x)\n",
      "        \n",
      "        Return the absolute value of the float x.\n",
      "    \n",
      "    factorial(...)\n",
      "        factorial(x) -> Integral\n",
      "        \n",
      "        Find x!. Raise a ValueError if x is negative or non-integral.\n",
      "    \n",
      "    floor(...)\n",
      "        floor(x)\n",
      "        \n",
      "        Return the floor of x as an Integral.\n",
      "        This is the largest integer <= x.\n",
      "    \n",
      "    fmod(...)\n",
      "        fmod(x, y)\n",
      "        \n",
      "        Return fmod(x, y), according to platform C.  x % y may differ.\n",
      "    \n",
      "    frexp(...)\n",
      "        frexp(x)\n",
      "        \n",
      "        Return the mantissa and exponent of x, as pair (m, e).\n",
      "        m is a float and e is an int, such that x = m * 2.**e.\n",
      "        If x is 0, m and e are both 0.  Else 0.5 <= abs(m) < 1.0.\n",
      "    \n",
      "    fsum(...)\n",
      "        fsum(iterable)\n",
      "        \n",
      "        Return an accurate floating point sum of values in the iterable.\n",
      "        Assumes IEEE-754 floating point arithmetic.\n",
      "    \n",
      "    gamma(...)\n",
      "        gamma(x)\n",
      "        \n",
      "        Gamma function at x.\n",
      "    \n",
      "    gcd(...)\n",
      "        gcd(x, y) -> int\n",
      "        greatest common divisor of x and y\n",
      "    \n",
      "    hypot(...)\n",
      "        hypot(x, y)\n",
      "        \n",
      "        Return the Euclidean distance, sqrt(x*x + y*y).\n",
      "    \n",
      "    isclose(...)\n",
      "        isclose(a, b, *, rel_tol=1e-09, abs_tol=0.0) -> bool\n",
      "        \n",
      "        Determine whether two floating point numbers are close in value.\n",
      "        \n",
      "           rel_tol\n",
      "               maximum difference for being considered \"close\", relative to the\n",
      "               magnitude of the input values\n",
      "            abs_tol\n",
      "               maximum difference for being considered \"close\", regardless of the\n",
      "               magnitude of the input values\n",
      "        \n",
      "        Return True if a is close in value to b, and False otherwise.\n",
      "        \n",
      "        For the values to be considered close, the difference between them\n",
      "        must be smaller than at least one of the tolerances.\n",
      "        \n",
      "        -inf, inf and NaN behave similarly to the IEEE 754 Standard.  That\n",
      "        is, NaN is not close to anything, even itself.  inf and -inf are\n",
      "        only close to themselves.\n",
      "    \n",
      "    isfinite(...)\n",
      "        isfinite(x) -> bool\n",
      "        \n",
      "        Return True if x is neither an infinity nor a NaN, and False otherwise.\n",
      "    \n",
      "    isinf(...)\n",
      "        isinf(x) -> bool\n",
      "        \n",
      "        Return True if x is a positive or negative infinity, and False otherwise.\n",
      "    \n",
      "    isnan(...)\n",
      "        isnan(x) -> bool\n",
      "        \n",
      "        Return True if x is a NaN (not a number), and False otherwise.\n",
      "    \n",
      "    ldexp(...)\n",
      "        ldexp(x, i)\n",
      "        \n",
      "        Return x * (2**i).\n",
      "    \n",
      "    lgamma(...)\n",
      "        lgamma(x)\n",
      "        \n",
      "        Natural logarithm of absolute value of Gamma function at x.\n",
      "    \n",
      "    log(...)\n",
      "        log(x[, base])\n",
      "        \n",
      "        Return the logarithm of x to the given base.\n",
      "        If the base not specified, returns the natural logarithm (base e) of x.\n",
      "    \n",
      "    log10(...)\n",
      "        log10(x)\n",
      "        \n",
      "        Return the base 10 logarithm of x.\n",
      "    \n",
      "    log1p(...)\n",
      "        log1p(x)\n",
      "        \n",
      "        Return the natural logarithm of 1+x (base e).\n",
      "        The result is computed in a way which is accurate for x near zero.\n",
      "    \n",
      "    log2(...)\n",
      "        log2(x)\n",
      "        \n",
      "        Return the base 2 logarithm of x.\n",
      "    \n",
      "    modf(...)\n",
      "        modf(x)\n",
      "        \n",
      "        Return the fractional and integer parts of x.  Both results carry the sign\n",
      "        of x and are floats.\n",
      "    \n",
      "    pow(...)\n",
      "        pow(x, y)\n",
      "        \n",
      "        Return x**y (x to the power of y).\n",
      "    \n",
      "    radians(...)\n",
      "        radians(x)\n",
      "        \n",
      "        Convert angle x from degrees to radians.\n",
      "    \n",
      "    sin(...)\n",
      "        sin(x)\n",
      "        \n",
      "        Return the sine of x (measured in radians).\n",
      "    \n",
      "    sinh(...)\n",
      "        sinh(x)\n",
      "        \n",
      "        Return the hyperbolic sine of x.\n",
      "    \n",
      "    sqrt(...)\n",
      "        sqrt(x)\n",
      "        \n",
      "        Return the square root of x.\n",
      "    \n",
      "    tan(...)\n",
      "        tan(x)\n",
      "        \n",
      "        Return the tangent of x (measured in radians).\n",
      "    \n",
      "    tanh(...)\n",
      "        tanh(x)\n",
      "        \n",
      "        Return the hyperbolic tangent of x.\n",
      "    \n",
      "    trunc(...)\n",
      "        trunc(x:Real) -> Integral\n",
      "        \n",
      "        Truncates x to the nearest Integral toward 0. Uses the __trunc__ magic method.\n",
      "\n",
      "DATA\n",
      "    e = 2.718281828459045\n",
      "    inf = inf\n",
      "    nan = nan\n",
      "    pi = 3.141592653589793\n",
      "    tau = 6.283185307179586\n",
      "\n",
      "FILE\n",
      "    (built-in)\n",
      "\n",
      "\n"
     ]
    }
   ],
   "source": [
    "help(math)"
   ]
  },
  {
   "cell_type": "markdown",
   "metadata": {},
   "source": [
    "Python 3の標準モジュールの完全なリストは、次のサイトから入手できます。 https://docs.python.org/3/library."
   ]
  },
  {
   "cell_type": "markdown",
   "metadata": {},
   "source": [
    "<p>&nbsp; </p>\n",
    "**scikit-learn** は、Pythonの機械学習とデータマイニングのための強力なライブラリです。\n",
    "<p>&nbsp; </p>\n",
    "\n",
    "- **例題 1**: このモジュールをインポートして下さい (モジュール名: **sklearn**).\n",
    "<p>&nbsp; </p>\n",
    "<p>&nbsp; </p>"
   ]
  },
  {
   "cell_type": "code",
   "execution_count": 161,
   "metadata": {},
   "outputs": [],
   "source": [
    "# 例題 1: このモジュールをインポートして下さい (モジュール名: sklearn)\n"
   ]
  },
  {
   "cell_type": "markdown",
   "metadata": {
    "collapsed": true
   },
   "source": [
    "## パッケージ"
   ]
  },
  {
   "cell_type": "markdown",
   "metadata": {},
   "source": [
    "**パッケージ**は単にPythonモジュールのコレクションです：モジュールは単一のPythonファイルですが、パッケージはPythonファイルのディレクトリです。\n",
    "\n",
    "パッケージは、「点線のモジュール名」を使って、Pythonモジュールを階層的に構造化する方法です。たとえば、**sklearn**には、それぞれ特定のタスク用に異なるサブモジュールが含まれています。 _例_, **sklearn.preprocessing**はデータスケーリング、センタリング、正規化、二進化のための関数を実装しますが、**sklearn.svm**はサポートベクターマシンアルゴリズムを含みます。\n",
    "\n",
    "パッケージは、「点線のモジュール名」を使って、Pythonモジュールを階層的に構造化する方法です。たとえば、**sklearn**には、それぞれ特定のタスク用に異なるサブモジュールが含まれています。 _例_, **sklearn.preprocessing**はデータスケーリング、センタリング、正規化、二 ~~進~~ <span style=\"color: red; \">値</span>化のための関数を実装しますが、**sklearn.svm**はサポートベクターマシンアルゴリズムを含みます。\n",
    "\n",
    "※<span style=\"color: red; \">sklearn.preprocessing では、主にデータの前処理を行います。</span>\n",
    "\n",
    "パッケージの個々のモジュールは次のようにインポートできます："
   ]
  },
  {
   "cell_type": "code",
   "execution_count": 134,
   "metadata": {
    "scrolled": true
   },
   "outputs": [],
   "source": [
    "import sklearn.preprocessing"
   ]
  },
  {
   "cell_type": "markdown",
   "metadata": {},
   "source": [
    "あるいは："
   ]
  },
  {
   "cell_type": "code",
   "execution_count": 51,
   "metadata": {
    "scrolled": true
   },
   "outputs": [],
   "source": [
    "from sklearn import preprocessing"
   ]
  },
  {
   "cell_type": "markdown",
   "metadata": {},
   "source": [
    "- **例題 2**: **sklearn.preprocessing**モジュールから**scale**関数の**help**を呼び出してください。 関数は何をしますか？\n",
    "<p>&nbsp; </p>\n",
    "<p>&nbsp; </p>"
   ]
  },
  {
   "cell_type": "code",
   "execution_count": 132,
   "metadata": {},
   "outputs": [
    {
     "name": "stdout",
     "output_type": "stream",
     "text": [
      "Help on package sklearn.preprocessing in sklearn:\n",
      "\n",
      "NAME\n",
      "    sklearn.preprocessing\n",
      "\n",
      "DESCRIPTION\n",
      "    The :mod:`sklearn.preprocessing` module includes scaling, centering,\n",
      "    normalization, binarization and imputation methods.\n",
      "\n",
      "PACKAGE CONTENTS\n",
      "    _function_transformer\n",
      "    data\n",
      "    imputation\n",
      "    label\n",
      "    tests (package)\n",
      "\n",
      "CLASSES\n",
      "    sklearn.base.BaseEstimator(builtins.object)\n",
      "        sklearn.preprocessing._function_transformer.FunctionTransformer(sklearn.base.BaseEstimator, sklearn.base.TransformerMixin)\n",
      "        sklearn.preprocessing.data.Binarizer(sklearn.base.BaseEstimator, sklearn.base.TransformerMixin)\n",
      "        sklearn.preprocessing.data.KernelCenterer(sklearn.base.BaseEstimator, sklearn.base.TransformerMixin)\n",
      "        sklearn.preprocessing.data.MaxAbsScaler(sklearn.base.BaseEstimator, sklearn.base.TransformerMixin)\n",
      "        sklearn.preprocessing.data.MinMaxScaler(sklearn.base.BaseEstimator, sklearn.base.TransformerMixin)\n",
      "        sklearn.preprocessing.data.Normalizer(sklearn.base.BaseEstimator, sklearn.base.TransformerMixin)\n",
      "        sklearn.preprocessing.data.OneHotEncoder(sklearn.base.BaseEstimator, sklearn.base.TransformerMixin)\n",
      "        sklearn.preprocessing.data.PolynomialFeatures(sklearn.base.BaseEstimator, sklearn.base.TransformerMixin)\n",
      "        sklearn.preprocessing.data.QuantileTransformer(sklearn.base.BaseEstimator, sklearn.base.TransformerMixin)\n",
      "        sklearn.preprocessing.data.RobustScaler(sklearn.base.BaseEstimator, sklearn.base.TransformerMixin)\n",
      "        sklearn.preprocessing.data.StandardScaler(sklearn.base.BaseEstimator, sklearn.base.TransformerMixin)\n",
      "        sklearn.preprocessing.imputation.Imputer(sklearn.base.BaseEstimator, sklearn.base.TransformerMixin)\n",
      "        sklearn.preprocessing.label.LabelBinarizer(sklearn.base.BaseEstimator, sklearn.base.TransformerMixin)\n",
      "        sklearn.preprocessing.label.LabelEncoder(sklearn.base.BaseEstimator, sklearn.base.TransformerMixin)\n",
      "        sklearn.preprocessing.label.MultiLabelBinarizer(sklearn.base.BaseEstimator, sklearn.base.TransformerMixin)\n",
      "    sklearn.base.TransformerMixin(builtins.object)\n",
      "        sklearn.preprocessing._function_transformer.FunctionTransformer(sklearn.base.BaseEstimator, sklearn.base.TransformerMixin)\n",
      "        sklearn.preprocessing.data.Binarizer(sklearn.base.BaseEstimator, sklearn.base.TransformerMixin)\n",
      "        sklearn.preprocessing.data.KernelCenterer(sklearn.base.BaseEstimator, sklearn.base.TransformerMixin)\n",
      "        sklearn.preprocessing.data.MaxAbsScaler(sklearn.base.BaseEstimator, sklearn.base.TransformerMixin)\n",
      "        sklearn.preprocessing.data.MinMaxScaler(sklearn.base.BaseEstimator, sklearn.base.TransformerMixin)\n",
      "        sklearn.preprocessing.data.Normalizer(sklearn.base.BaseEstimator, sklearn.base.TransformerMixin)\n",
      "        sklearn.preprocessing.data.OneHotEncoder(sklearn.base.BaseEstimator, sklearn.base.TransformerMixin)\n",
      "        sklearn.preprocessing.data.PolynomialFeatures(sklearn.base.BaseEstimator, sklearn.base.TransformerMixin)\n",
      "        sklearn.preprocessing.data.QuantileTransformer(sklearn.base.BaseEstimator, sklearn.base.TransformerMixin)\n",
      "        sklearn.preprocessing.data.RobustScaler(sklearn.base.BaseEstimator, sklearn.base.TransformerMixin)\n",
      "        sklearn.preprocessing.data.StandardScaler(sklearn.base.BaseEstimator, sklearn.base.TransformerMixin)\n",
      "        sklearn.preprocessing.imputation.Imputer(sklearn.base.BaseEstimator, sklearn.base.TransformerMixin)\n",
      "        sklearn.preprocessing.label.LabelBinarizer(sklearn.base.BaseEstimator, sklearn.base.TransformerMixin)\n",
      "        sklearn.preprocessing.label.LabelEncoder(sklearn.base.BaseEstimator, sklearn.base.TransformerMixin)\n",
      "        sklearn.preprocessing.label.MultiLabelBinarizer(sklearn.base.BaseEstimator, sklearn.base.TransformerMixin)\n",
      "    \n",
      "    class Binarizer(sklearn.base.BaseEstimator, sklearn.base.TransformerMixin)\n",
      "     |  Binarize data (set feature values to 0 or 1) according to a threshold\n",
      "     |  \n",
      "     |  Values greater than the threshold map to 1, while values less than\n",
      "     |  or equal to the threshold map to 0. With the default threshold of 0,\n",
      "     |  only positive values map to 1.\n",
      "     |  \n",
      "     |  Binarization is a common operation on text count data where the\n",
      "     |  analyst can decide to only consider the presence or absence of a\n",
      "     |  feature rather than a quantified number of occurrences for instance.\n",
      "     |  \n",
      "     |  It can also be used as a pre-processing step for estimators that\n",
      "     |  consider boolean random variables (e.g. modelled using the Bernoulli\n",
      "     |  distribution in a Bayesian setting).\n",
      "     |  \n",
      "     |  Read more in the :ref:`User Guide <preprocessing_binarization>`.\n",
      "     |  \n",
      "     |  Parameters\n",
      "     |  ----------\n",
      "     |  threshold : float, optional (0.0 by default)\n",
      "     |      Feature values below or equal to this are replaced by 0, above it by 1.\n",
      "     |      Threshold may not be less than 0 for operations on sparse matrices.\n",
      "     |  \n",
      "     |  copy : boolean, optional, default True\n",
      "     |      set to False to perform inplace binarization and avoid a copy (if\n",
      "     |      the input is already a numpy array or a scipy.sparse CSR matrix).\n",
      "     |  \n",
      "     |  Notes\n",
      "     |  -----\n",
      "     |  If the input is a sparse matrix, only the non-zero values are subject\n",
      "     |  to update by the Binarizer class.\n",
      "     |  \n",
      "     |  This estimator is stateless (besides constructor parameters), the\n",
      "     |  fit method does nothing but is useful when used in a pipeline.\n",
      "     |  \n",
      "     |  See also\n",
      "     |  --------\n",
      "     |  binarize: Equivalent function without the estimator API.\n",
      "     |  \n",
      "     |  Method resolution order:\n",
      "     |      Binarizer\n",
      "     |      sklearn.base.BaseEstimator\n",
      "     |      sklearn.base.TransformerMixin\n",
      "     |      builtins.object\n",
      "     |  \n",
      "     |  Methods defined here:\n",
      "     |  \n",
      "     |  __init__(self, threshold=0.0, copy=True)\n",
      "     |      Initialize self.  See help(type(self)) for accurate signature.\n",
      "     |  \n",
      "     |  fit(self, X, y=None)\n",
      "     |      Do nothing and return the estimator unchanged\n",
      "     |      \n",
      "     |      This method is just there to implement the usual API and hence\n",
      "     |      work in pipelines.\n",
      "     |      \n",
      "     |      Parameters\n",
      "     |      ----------\n",
      "     |      X : array-like\n",
      "     |  \n",
      "     |  transform(self, X, y='deprecated', copy=None)\n",
      "     |      Binarize each element of X\n",
      "     |      \n",
      "     |      Parameters\n",
      "     |      ----------\n",
      "     |      X : {array-like, sparse matrix}, shape [n_samples, n_features]\n",
      "     |          The data to binarize, element by element.\n",
      "     |          scipy.sparse matrices should be in CSR format to avoid an\n",
      "     |          un-necessary copy.\n",
      "     |      y : (ignored)\n",
      "     |          .. deprecated:: 0.19\n",
      "     |             This parameter will be removed in 0.21.\n",
      "     |      copy : bool\n",
      "     |          Copy the input X or not.\n",
      "     |  \n",
      "     |  ----------------------------------------------------------------------\n",
      "     |  Methods inherited from sklearn.base.BaseEstimator:\n",
      "     |  \n",
      "     |  __getstate__(self)\n",
      "     |  \n",
      "     |  __repr__(self)\n",
      "     |      Return repr(self).\n",
      "     |  \n",
      "     |  __setstate__(self, state)\n",
      "     |  \n",
      "     |  get_params(self, deep=True)\n",
      "     |      Get parameters for this estimator.\n",
      "     |      \n",
      "     |      Parameters\n",
      "     |      ----------\n",
      "     |      deep : boolean, optional\n",
      "     |          If True, will return the parameters for this estimator and\n",
      "     |          contained subobjects that are estimators.\n",
      "     |      \n",
      "     |      Returns\n",
      "     |      -------\n",
      "     |      params : mapping of string to any\n",
      "     |          Parameter names mapped to their values.\n",
      "     |  \n",
      "     |  set_params(self, **params)\n",
      "     |      Set the parameters of this estimator.\n",
      "     |      \n",
      "     |      The method works on simple estimators as well as on nested objects\n",
      "     |      (such as pipelines). The latter have parameters of the form\n",
      "     |      ``<component>__<parameter>`` so that it's possible to update each\n",
      "     |      component of a nested object.\n",
      "     |      \n",
      "     |      Returns\n",
      "     |      -------\n",
      "     |      self\n",
      "     |  \n",
      "     |  ----------------------------------------------------------------------\n",
      "     |  Data descriptors inherited from sklearn.base.BaseEstimator:\n",
      "     |  \n",
      "     |  __dict__\n",
      "     |      dictionary for instance variables (if defined)\n",
      "     |  \n",
      "     |  __weakref__\n",
      "     |      list of weak references to the object (if defined)\n",
      "     |  \n",
      "     |  ----------------------------------------------------------------------\n",
      "     |  Methods inherited from sklearn.base.TransformerMixin:\n",
      "     |  \n",
      "     |  fit_transform(self, X, y=None, **fit_params)\n",
      "     |      Fit to data, then transform it.\n",
      "     |      \n",
      "     |      Fits transformer to X and y with optional parameters fit_params\n",
      "     |      and returns a transformed version of X.\n",
      "     |      \n",
      "     |      Parameters\n",
      "     |      ----------\n",
      "     |      X : numpy array of shape [n_samples, n_features]\n",
      "     |          Training set.\n",
      "     |      \n",
      "     |      y : numpy array of shape [n_samples]\n",
      "     |          Target values.\n",
      "     |      \n",
      "     |      Returns\n",
      "     |      -------\n",
      "     |      X_new : numpy array of shape [n_samples, n_features_new]\n",
      "     |          Transformed array.\n",
      "    \n",
      "    class FunctionTransformer(sklearn.base.BaseEstimator, sklearn.base.TransformerMixin)\n",
      "     |  Constructs a transformer from an arbitrary callable.\n",
      "     |  \n",
      "     |  A FunctionTransformer forwards its X (and optionally y) arguments to a\n",
      "     |  user-defined function or function object and returns the result of this\n",
      "     |  function. This is useful for stateless transformations such as taking the\n",
      "     |  log of frequencies, doing custom scaling, etc.\n",
      "     |  \n",
      "     |  A FunctionTransformer will not do any checks on its function's output.\n",
      "     |  \n",
      "     |  Note: If a lambda is used as the function, then the resulting\n",
      "     |  transformer will not be pickleable.\n",
      "     |  \n",
      "     |  .. versionadded:: 0.17\n",
      "     |  \n",
      "     |  Read more in the :ref:`User Guide <function_transformer>`.\n",
      "     |  \n",
      "     |  Parameters\n",
      "     |  ----------\n",
      "     |  func : callable, optional default=None\n",
      "     |      The callable to use for the transformation. This will be passed\n",
      "     |      the same arguments as transform, with args and kwargs forwarded.\n",
      "     |      If func is None, then func will be the identity function.\n",
      "     |  \n",
      "     |  inverse_func : callable, optional default=None\n",
      "     |      The callable to use for the inverse transformation. This will be\n",
      "     |      passed the same arguments as inverse transform, with args and\n",
      "     |      kwargs forwarded. If inverse_func is None, then inverse_func\n",
      "     |      will be the identity function.\n",
      "     |  \n",
      "     |  validate : bool, optional default=True\n",
      "     |      Indicate that the input X array should be checked before calling\n",
      "     |      func. If validate is false, there will be no input validation.\n",
      "     |      If it is true, then X will be converted to a 2-dimensional NumPy\n",
      "     |      array or sparse matrix. If this conversion is not possible or X\n",
      "     |      contains NaN or infinity, an exception is raised.\n",
      "     |  \n",
      "     |  accept_sparse : boolean, optional\n",
      "     |      Indicate that func accepts a sparse matrix as input. If validate is\n",
      "     |      False, this has no effect. Otherwise, if accept_sparse is false,\n",
      "     |      sparse matrix inputs will cause an exception to be raised.\n",
      "     |  \n",
      "     |  pass_y : bool, optional default=False\n",
      "     |      Indicate that transform should forward the y argument to the\n",
      "     |      inner callable.\n",
      "     |  \n",
      "     |      .. deprecated::0.19\n",
      "     |  \n",
      "     |  kw_args : dict, optional\n",
      "     |      Dictionary of additional keyword arguments to pass to func.\n",
      "     |  \n",
      "     |  inv_kw_args : dict, optional\n",
      "     |      Dictionary of additional keyword arguments to pass to inverse_func.\n",
      "     |  \n",
      "     |  Method resolution order:\n",
      "     |      FunctionTransformer\n",
      "     |      sklearn.base.BaseEstimator\n",
      "     |      sklearn.base.TransformerMixin\n",
      "     |      builtins.object\n",
      "     |  \n",
      "     |  Methods defined here:\n",
      "     |  \n",
      "     |  __init__(self, func=None, inverse_func=None, validate=True, accept_sparse=False, pass_y='deprecated', kw_args=None, inv_kw_args=None)\n",
      "     |      Initialize self.  See help(type(self)) for accurate signature.\n",
      "     |  \n",
      "     |  fit(self, X, y=None)\n",
      "     |      Fit transformer by checking X.\n",
      "     |      \n",
      "     |      If ``validate`` is ``True``, ``X`` will be checked.\n",
      "     |      \n",
      "     |      Parameters\n",
      "     |      ----------\n",
      "     |      X : array-like, shape (n_samples, n_features)\n",
      "     |          Input array.\n",
      "     |      \n",
      "     |      Returns\n",
      "     |      -------\n",
      "     |      self\n",
      "     |  \n",
      "     |  inverse_transform(self, X, y='deprecated')\n",
      "     |      Transform X using the inverse function.\n",
      "     |      \n",
      "     |      Parameters\n",
      "     |      ----------\n",
      "     |      X : array-like, shape (n_samples, n_features)\n",
      "     |          Input array.\n",
      "     |      \n",
      "     |      y : (ignored)\n",
      "     |          .. deprecated::0.19\n",
      "     |      \n",
      "     |      Returns\n",
      "     |      -------\n",
      "     |      X_out : array-like, shape (n_samples, n_features)\n",
      "     |          Transformed input.\n",
      "     |  \n",
      "     |  transform(self, X, y='deprecated')\n",
      "     |      Transform X using the forward function.\n",
      "     |      \n",
      "     |      Parameters\n",
      "     |      ----------\n",
      "     |      X : array-like, shape (n_samples, n_features)\n",
      "     |          Input array.\n",
      "     |      \n",
      "     |      y : (ignored)\n",
      "     |          .. deprecated::0.19\n",
      "     |      \n",
      "     |      Returns\n",
      "     |      -------\n",
      "     |      X_out : array-like, shape (n_samples, n_features)\n",
      "     |          Transformed input.\n",
      "     |  \n",
      "     |  ----------------------------------------------------------------------\n",
      "     |  Methods inherited from sklearn.base.BaseEstimator:\n",
      "     |  \n",
      "     |  __getstate__(self)\n",
      "     |  \n",
      "     |  __repr__(self)\n",
      "     |      Return repr(self).\n",
      "     |  \n",
      "     |  __setstate__(self, state)\n",
      "     |  \n",
      "     |  get_params(self, deep=True)\n",
      "     |      Get parameters for this estimator.\n",
      "     |      \n",
      "     |      Parameters\n",
      "     |      ----------\n",
      "     |      deep : boolean, optional\n",
      "     |          If True, will return the parameters for this estimator and\n",
      "     |          contained subobjects that are estimators.\n",
      "     |      \n",
      "     |      Returns\n",
      "     |      -------\n",
      "     |      params : mapping of string to any\n",
      "     |          Parameter names mapped to their values.\n",
      "     |  \n",
      "     |  set_params(self, **params)\n",
      "     |      Set the parameters of this estimator.\n",
      "     |      \n",
      "     |      The method works on simple estimators as well as on nested objects\n",
      "     |      (such as pipelines). The latter have parameters of the form\n",
      "     |      ``<component>__<parameter>`` so that it's possible to update each\n",
      "     |      component of a nested object.\n",
      "     |      \n",
      "     |      Returns\n",
      "     |      -------\n",
      "     |      self\n",
      "     |  \n",
      "     |  ----------------------------------------------------------------------\n",
      "     |  Data descriptors inherited from sklearn.base.BaseEstimator:\n",
      "     |  \n",
      "     |  __dict__\n",
      "     |      dictionary for instance variables (if defined)\n",
      "     |  \n",
      "     |  __weakref__\n",
      "     |      list of weak references to the object (if defined)\n",
      "     |  \n",
      "     |  ----------------------------------------------------------------------\n",
      "     |  Methods inherited from sklearn.base.TransformerMixin:\n",
      "     |  \n",
      "     |  fit_transform(self, X, y=None, **fit_params)\n",
      "     |      Fit to data, then transform it.\n",
      "     |      \n",
      "     |      Fits transformer to X and y with optional parameters fit_params\n",
      "     |      and returns a transformed version of X.\n",
      "     |      \n",
      "     |      Parameters\n",
      "     |      ----------\n",
      "     |      X : numpy array of shape [n_samples, n_features]\n",
      "     |          Training set.\n",
      "     |      \n",
      "     |      y : numpy array of shape [n_samples]\n",
      "     |          Target values.\n",
      "     |      \n",
      "     |      Returns\n",
      "     |      -------\n",
      "     |      X_new : numpy array of shape [n_samples, n_features_new]\n",
      "     |          Transformed array.\n",
      "    \n",
      "    class Imputer(sklearn.base.BaseEstimator, sklearn.base.TransformerMixin)\n",
      "     |  Imputation transformer for completing missing values.\n",
      "     |  \n",
      "     |  Read more in the :ref:`User Guide <imputation>`.\n",
      "     |  \n",
      "     |  Parameters\n",
      "     |  ----------\n",
      "     |  missing_values : integer or \"NaN\", optional (default=\"NaN\")\n",
      "     |      The placeholder for the missing values. All occurrences of\n",
      "     |      `missing_values` will be imputed. For missing values encoded as np.nan,\n",
      "     |      use the string value \"NaN\".\n",
      "     |  \n",
      "     |  strategy : string, optional (default=\"mean\")\n",
      "     |      The imputation strategy.\n",
      "     |  \n",
      "     |      - If \"mean\", then replace missing values using the mean along\n",
      "     |        the axis.\n",
      "     |      - If \"median\", then replace missing values using the median along\n",
      "     |        the axis.\n",
      "     |      - If \"most_frequent\", then replace missing using the most frequent\n",
      "     |        value along the axis.\n",
      "     |  \n",
      "     |  axis : integer, optional (default=0)\n",
      "     |      The axis along which to impute.\n",
      "     |  \n",
      "     |      - If `axis=0`, then impute along columns.\n",
      "     |      - If `axis=1`, then impute along rows.\n",
      "     |  \n",
      "     |  verbose : integer, optional (default=0)\n",
      "     |      Controls the verbosity of the imputer.\n",
      "     |  \n",
      "     |  copy : boolean, optional (default=True)\n",
      "     |      If True, a copy of X will be created. If False, imputation will\n",
      "     |      be done in-place whenever possible. Note that, in the following cases,\n",
      "     |      a new copy will always be made, even if `copy=False`:\n",
      "     |  \n",
      "     |      - If X is not an array of floating values;\n",
      "     |      - If X is sparse and `missing_values=0`;\n",
      "     |      - If `axis=0` and X is encoded as a CSR matrix;\n",
      "     |      - If `axis=1` and X is encoded as a CSC matrix.\n",
      "     |  \n",
      "     |  Attributes\n",
      "     |  ----------\n",
      "     |  statistics_ : array of shape (n_features,)\n",
      "     |      The imputation fill value for each feature if axis == 0.\n",
      "     |  \n",
      "     |  Notes\n",
      "     |  -----\n",
      "     |  - When ``axis=0``, columns which only contained missing values at `fit`\n",
      "     |    are discarded upon `transform`.\n",
      "     |  - When ``axis=1``, an exception is raised if there are rows for which it is\n",
      "     |    not possible to fill in the missing values (e.g., because they only\n",
      "     |    contain missing values).\n",
      "     |  \n",
      "     |  Method resolution order:\n",
      "     |      Imputer\n",
      "     |      sklearn.base.BaseEstimator\n",
      "     |      sklearn.base.TransformerMixin\n",
      "     |      builtins.object\n",
      "     |  \n",
      "     |  Methods defined here:\n",
      "     |  \n",
      "     |  __init__(self, missing_values='NaN', strategy='mean', axis=0, verbose=0, copy=True)\n",
      "     |      Initialize self.  See help(type(self)) for accurate signature.\n",
      "     |  \n",
      "     |  fit(self, X, y=None)\n",
      "     |      Fit the imputer on X.\n",
      "     |      \n",
      "     |      Parameters\n",
      "     |      ----------\n",
      "     |      X : {array-like, sparse matrix}, shape (n_samples, n_features)\n",
      "     |          Input data, where ``n_samples`` is the number of samples and\n",
      "     |          ``n_features`` is the number of features.\n",
      "     |      \n",
      "     |      Returns\n",
      "     |      -------\n",
      "     |      self : Imputer\n",
      "     |          Returns self.\n",
      "     |  \n",
      "     |  transform(self, X)\n",
      "     |      Impute all missing values in X.\n",
      "     |      \n",
      "     |      Parameters\n",
      "     |      ----------\n",
      "     |      X : {array-like, sparse matrix}, shape = [n_samples, n_features]\n",
      "     |          The input data to complete.\n",
      "     |  \n",
      "     |  ----------------------------------------------------------------------\n",
      "     |  Methods inherited from sklearn.base.BaseEstimator:\n",
      "     |  \n",
      "     |  __getstate__(self)\n",
      "     |  \n",
      "     |  __repr__(self)\n",
      "     |      Return repr(self).\n",
      "     |  \n",
      "     |  __setstate__(self, state)\n",
      "     |  \n",
      "     |  get_params(self, deep=True)\n",
      "     |      Get parameters for this estimator.\n",
      "     |      \n",
      "     |      Parameters\n",
      "     |      ----------\n",
      "     |      deep : boolean, optional\n",
      "     |          If True, will return the parameters for this estimator and\n",
      "     |          contained subobjects that are estimators.\n",
      "     |      \n",
      "     |      Returns\n",
      "     |      -------\n",
      "     |      params : mapping of string to any\n",
      "     |          Parameter names mapped to their values.\n",
      "     |  \n",
      "     |  set_params(self, **params)\n",
      "     |      Set the parameters of this estimator.\n",
      "     |      \n",
      "     |      The method works on simple estimators as well as on nested objects\n",
      "     |      (such as pipelines). The latter have parameters of the form\n",
      "     |      ``<component>__<parameter>`` so that it's possible to update each\n",
      "     |      component of a nested object.\n",
      "     |      \n",
      "     |      Returns\n",
      "     |      -------\n",
      "     |      self\n",
      "     |  \n",
      "     |  ----------------------------------------------------------------------\n",
      "     |  Data descriptors inherited from sklearn.base.BaseEstimator:\n",
      "     |  \n",
      "     |  __dict__\n",
      "     |      dictionary for instance variables (if defined)\n",
      "     |  \n",
      "     |  __weakref__\n",
      "     |      list of weak references to the object (if defined)\n",
      "     |  \n",
      "     |  ----------------------------------------------------------------------\n",
      "     |  Methods inherited from sklearn.base.TransformerMixin:\n",
      "     |  \n",
      "     |  fit_transform(self, X, y=None, **fit_params)\n",
      "     |      Fit to data, then transform it.\n",
      "     |      \n",
      "     |      Fits transformer to X and y with optional parameters fit_params\n",
      "     |      and returns a transformed version of X.\n",
      "     |      \n",
      "     |      Parameters\n",
      "     |      ----------\n",
      "     |      X : numpy array of shape [n_samples, n_features]\n",
      "     |          Training set.\n",
      "     |      \n",
      "     |      y : numpy array of shape [n_samples]\n",
      "     |          Target values.\n",
      "     |      \n",
      "     |      Returns\n",
      "     |      -------\n",
      "     |      X_new : numpy array of shape [n_samples, n_features_new]\n",
      "     |          Transformed array.\n",
      "    \n",
      "    class KernelCenterer(sklearn.base.BaseEstimator, sklearn.base.TransformerMixin)\n",
      "     |  Center a kernel matrix\n",
      "     |  \n",
      "     |  Let K(x, z) be a kernel defined by phi(x)^T phi(z), where phi is a\n",
      "     |  function mapping x to a Hilbert space. KernelCenterer centers (i.e.,\n",
      "     |  normalize to have zero mean) the data without explicitly computing phi(x).\n",
      "     |  It is equivalent to centering phi(x) with\n",
      "     |  sklearn.preprocessing.StandardScaler(with_std=False).\n",
      "     |  \n",
      "     |  Read more in the :ref:`User Guide <kernel_centering>`.\n",
      "     |  \n",
      "     |  Method resolution order:\n",
      "     |      KernelCenterer\n",
      "     |      sklearn.base.BaseEstimator\n",
      "     |      sklearn.base.TransformerMixin\n",
      "     |      builtins.object\n",
      "     |  \n",
      "     |  Methods defined here:\n",
      "     |  \n",
      "     |  fit(self, K, y=None)\n",
      "     |      Fit KernelCenterer\n",
      "     |      \n",
      "     |      Parameters\n",
      "     |      ----------\n",
      "     |      K : numpy array of shape [n_samples, n_samples]\n",
      "     |          Kernel matrix.\n",
      "     |      \n",
      "     |      Returns\n",
      "     |      -------\n",
      "     |      self : returns an instance of self.\n",
      "     |  \n",
      "     |  transform(self, K, y='deprecated', copy=True)\n",
      "     |      Center kernel matrix.\n",
      "     |      \n",
      "     |      Parameters\n",
      "     |      ----------\n",
      "     |      K : numpy array of shape [n_samples1, n_samples2]\n",
      "     |          Kernel matrix.\n",
      "     |      y : (ignored)\n",
      "     |          .. deprecated:: 0.19\n",
      "     |             This parameter will be removed in 0.21.\n",
      "     |      copy : boolean, optional, default True\n",
      "     |          Set to False to perform inplace computation.\n",
      "     |      \n",
      "     |      Returns\n",
      "     |      -------\n",
      "     |      K_new : numpy array of shape [n_samples1, n_samples2]\n",
      "     |  \n",
      "     |  ----------------------------------------------------------------------\n",
      "     |  Methods inherited from sklearn.base.BaseEstimator:\n",
      "     |  \n",
      "     |  __getstate__(self)\n",
      "     |  \n",
      "     |  __repr__(self)\n",
      "     |      Return repr(self).\n",
      "     |  \n",
      "     |  __setstate__(self, state)\n",
      "     |  \n",
      "     |  get_params(self, deep=True)\n",
      "     |      Get parameters for this estimator.\n",
      "     |      \n",
      "     |      Parameters\n",
      "     |      ----------\n",
      "     |      deep : boolean, optional\n",
      "     |          If True, will return the parameters for this estimator and\n",
      "     |          contained subobjects that are estimators.\n",
      "     |      \n",
      "     |      Returns\n",
      "     |      -------\n",
      "     |      params : mapping of string to any\n",
      "     |          Parameter names mapped to their values.\n",
      "     |  \n",
      "     |  set_params(self, **params)\n",
      "     |      Set the parameters of this estimator.\n",
      "     |      \n",
      "     |      The method works on simple estimators as well as on nested objects\n",
      "     |      (such as pipelines). The latter have parameters of the form\n",
      "     |      ``<component>__<parameter>`` so that it's possible to update each\n",
      "     |      component of a nested object.\n",
      "     |      \n",
      "     |      Returns\n",
      "     |      -------\n",
      "     |      self\n",
      "     |  \n",
      "     |  ----------------------------------------------------------------------\n",
      "     |  Data descriptors inherited from sklearn.base.BaseEstimator:\n",
      "     |  \n",
      "     |  __dict__\n",
      "     |      dictionary for instance variables (if defined)\n",
      "     |  \n",
      "     |  __weakref__\n",
      "     |      list of weak references to the object (if defined)\n",
      "     |  \n",
      "     |  ----------------------------------------------------------------------\n",
      "     |  Methods inherited from sklearn.base.TransformerMixin:\n",
      "     |  \n",
      "     |  fit_transform(self, X, y=None, **fit_params)\n",
      "     |      Fit to data, then transform it.\n",
      "     |      \n",
      "     |      Fits transformer to X and y with optional parameters fit_params\n",
      "     |      and returns a transformed version of X.\n",
      "     |      \n",
      "     |      Parameters\n",
      "     |      ----------\n",
      "     |      X : numpy array of shape [n_samples, n_features]\n",
      "     |          Training set.\n",
      "     |      \n",
      "     |      y : numpy array of shape [n_samples]\n",
      "     |          Target values.\n",
      "     |      \n",
      "     |      Returns\n",
      "     |      -------\n",
      "     |      X_new : numpy array of shape [n_samples, n_features_new]\n",
      "     |          Transformed array.\n",
      "    \n",
      "    class LabelBinarizer(sklearn.base.BaseEstimator, sklearn.base.TransformerMixin)\n",
      "     |  Binarize labels in a one-vs-all fashion\n",
      "     |  \n",
      "     |  Several regression and binary classification algorithms are\n",
      "     |  available in the scikit. A simple way to extend these algorithms\n",
      "     |  to the multi-class classification case is to use the so-called\n",
      "     |  one-vs-all scheme.\n",
      "     |  \n",
      "     |  At learning time, this simply consists in learning one regressor\n",
      "     |  or binary classifier per class. In doing so, one needs to convert\n",
      "     |  multi-class labels to binary labels (belong or does not belong\n",
      "     |  to the class). LabelBinarizer makes this process easy with the\n",
      "     |  transform method.\n",
      "     |  \n",
      "     |  At prediction time, one assigns the class for which the corresponding\n",
      "     |  model gave the greatest confidence. LabelBinarizer makes this easy\n",
      "     |  with the inverse_transform method.\n",
      "     |  \n",
      "     |  Read more in the :ref:`User Guide <preprocessing_targets>`.\n",
      "     |  \n",
      "     |  Parameters\n",
      "     |  ----------\n",
      "     |  \n",
      "     |  neg_label : int (default: 0)\n",
      "     |      Value with which negative labels must be encoded.\n",
      "     |  \n",
      "     |  pos_label : int (default: 1)\n",
      "     |      Value with which positive labels must be encoded.\n",
      "     |  \n",
      "     |  sparse_output : boolean (default: False)\n",
      "     |      True if the returned array from transform is desired to be in sparse\n",
      "     |      CSR format.\n",
      "     |  \n",
      "     |  Attributes\n",
      "     |  ----------\n",
      "     |  \n",
      "     |  classes_ : array of shape [n_class]\n",
      "     |      Holds the label for each class.\n",
      "     |  \n",
      "     |  y_type_ : str,\n",
      "     |      Represents the type of the target data as evaluated by\n",
      "     |      utils.multiclass.type_of_target. Possible type are 'continuous',\n",
      "     |      'continuous-multioutput', 'binary', 'multiclass',\n",
      "     |      'multiclass-multioutput', 'multilabel-indicator', and 'unknown'.\n",
      "     |  \n",
      "     |  sparse_input_ : boolean,\n",
      "     |      True if the input data to transform is given as a sparse matrix, False\n",
      "     |      otherwise.\n",
      "     |  \n",
      "     |  Examples\n",
      "     |  --------\n",
      "     |  >>> from sklearn import preprocessing\n",
      "     |  >>> lb = preprocessing.LabelBinarizer()\n",
      "     |  >>> lb.fit([1, 2, 6, 4, 2])\n",
      "     |  LabelBinarizer(neg_label=0, pos_label=1, sparse_output=False)\n",
      "     |  >>> lb.classes_\n",
      "     |  array([1, 2, 4, 6])\n",
      "     |  >>> lb.transform([1, 6])\n",
      "     |  array([[1, 0, 0, 0],\n",
      "     |         [0, 0, 0, 1]])\n",
      "     |  \n",
      "     |  Binary targets transform to a column vector\n",
      "     |  \n",
      "     |  >>> lb = preprocessing.LabelBinarizer()\n",
      "     |  >>> lb.fit_transform(['yes', 'no', 'no', 'yes'])\n",
      "     |  array([[1],\n",
      "     |         [0],\n",
      "     |         [0],\n",
      "     |         [1]])\n",
      "     |  \n",
      "     |  Passing a 2D matrix for multilabel classification\n",
      "     |  \n",
      "     |  >>> import numpy as np\n",
      "     |  >>> lb.fit(np.array([[0, 1, 1], [1, 0, 0]]))\n",
      "     |  LabelBinarizer(neg_label=0, pos_label=1, sparse_output=False)\n",
      "     |  >>> lb.classes_\n",
      "     |  array([0, 1, 2])\n",
      "     |  >>> lb.transform([0, 1, 2, 1])\n",
      "     |  array([[1, 0, 0],\n",
      "     |         [0, 1, 0],\n",
      "     |         [0, 0, 1],\n",
      "     |         [0, 1, 0]])\n",
      "     |  \n",
      "     |  See also\n",
      "     |  --------\n",
      "     |  label_binarize : function to perform the transform operation of\n",
      "     |      LabelBinarizer with fixed classes.\n",
      "     |  sklearn.preprocessing.OneHotEncoder : encode categorical integer features\n",
      "     |      using a one-hot aka one-of-K scheme.\n",
      "     |  \n",
      "     |  Method resolution order:\n",
      "     |      LabelBinarizer\n",
      "     |      sklearn.base.BaseEstimator\n",
      "     |      sklearn.base.TransformerMixin\n",
      "     |      builtins.object\n",
      "     |  \n",
      "     |  Methods defined here:\n",
      "     |  \n",
      "     |  __init__(self, neg_label=0, pos_label=1, sparse_output=False)\n",
      "     |      Initialize self.  See help(type(self)) for accurate signature.\n",
      "     |  \n",
      "     |  fit(self, y)\n",
      "     |      Fit label binarizer\n",
      "     |      \n",
      "     |      Parameters\n",
      "     |      ----------\n",
      "     |      y : array of shape [n_samples,] or [n_samples, n_classes]\n",
      "     |          Target values. The 2-d matrix should only contain 0 and 1,\n",
      "     |          represents multilabel classification.\n",
      "     |      \n",
      "     |      Returns\n",
      "     |      -------\n",
      "     |      self : returns an instance of self.\n",
      "     |  \n",
      "     |  fit_transform(self, y)\n",
      "     |      Fit label binarizer and transform multi-class labels to binary\n",
      "     |      labels.\n",
      "     |      \n",
      "     |      The output of transform is sometimes referred to    as\n",
      "     |      the 1-of-K coding scheme.\n",
      "     |      \n",
      "     |      Parameters\n",
      "     |      ----------\n",
      "     |      y : array or sparse matrix of shape [n_samples,] or             [n_samples, n_classes]\n",
      "     |          Target values. The 2-d matrix should only contain 0 and 1,\n",
      "     |          represents multilabel classification. Sparse matrix can be\n",
      "     |          CSR, CSC, COO, DOK, or LIL.\n",
      "     |      \n",
      "     |      Returns\n",
      "     |      -------\n",
      "     |      Y : array or CSR matrix of shape [n_samples, n_classes]\n",
      "     |          Shape will be [n_samples, 1] for binary problems.\n",
      "     |  \n",
      "     |  inverse_transform(self, Y, threshold=None)\n",
      "     |      Transform binary labels back to multi-class labels\n",
      "     |      \n",
      "     |      Parameters\n",
      "     |      ----------\n",
      "     |      Y : numpy array or sparse matrix with shape [n_samples, n_classes]\n",
      "     |          Target values. All sparse matrices are converted to CSR before\n",
      "     |          inverse transformation.\n",
      "     |      \n",
      "     |      threshold : float or None\n",
      "     |          Threshold used in the binary and multi-label cases.\n",
      "     |      \n",
      "     |          Use 0 when ``Y`` contains the output of decision_function\n",
      "     |          (classifier).\n",
      "     |          Use 0.5 when ``Y`` contains the output of predict_proba.\n",
      "     |      \n",
      "     |          If None, the threshold is assumed to be half way between\n",
      "     |          neg_label and pos_label.\n",
      "     |      \n",
      "     |      Returns\n",
      "     |      -------\n",
      "     |      y : numpy array or CSR matrix of shape [n_samples] Target values.\n",
      "     |      \n",
      "     |      Notes\n",
      "     |      -----\n",
      "     |      In the case when the binary labels are fractional\n",
      "     |      (probabilistic), inverse_transform chooses the class with the\n",
      "     |      greatest value. Typically, this allows to use the output of a\n",
      "     |      linear model's decision_function method directly as the input\n",
      "     |      of inverse_transform.\n",
      "     |  \n",
      "     |  transform(self, y)\n",
      "     |      Transform multi-class labels to binary labels\n",
      "     |      \n",
      "     |      The output of transform is sometimes referred to by some authors as\n",
      "     |      the 1-of-K coding scheme.\n",
      "     |      \n",
      "     |      Parameters\n",
      "     |      ----------\n",
      "     |      y : array or sparse matrix of shape [n_samples,] or             [n_samples, n_classes]\n",
      "     |          Target values. The 2-d matrix should only contain 0 and 1,\n",
      "     |          represents multilabel classification. Sparse matrix can be\n",
      "     |          CSR, CSC, COO, DOK, or LIL.\n",
      "     |      \n",
      "     |      Returns\n",
      "     |      -------\n",
      "     |      Y : numpy array or CSR matrix of shape [n_samples, n_classes]\n",
      "     |          Shape will be [n_samples, 1] for binary problems.\n",
      "     |  \n",
      "     |  ----------------------------------------------------------------------\n",
      "     |  Methods inherited from sklearn.base.BaseEstimator:\n",
      "     |  \n",
      "     |  __getstate__(self)\n",
      "     |  \n",
      "     |  __repr__(self)\n",
      "     |      Return repr(self).\n",
      "     |  \n",
      "     |  __setstate__(self, state)\n",
      "     |  \n",
      "     |  get_params(self, deep=True)\n",
      "     |      Get parameters for this estimator.\n",
      "     |      \n",
      "     |      Parameters\n",
      "     |      ----------\n",
      "     |      deep : boolean, optional\n",
      "     |          If True, will return the parameters for this estimator and\n",
      "     |          contained subobjects that are estimators.\n",
      "     |      \n",
      "     |      Returns\n",
      "     |      -------\n",
      "     |      params : mapping of string to any\n",
      "     |          Parameter names mapped to their values.\n",
      "     |  \n",
      "     |  set_params(self, **params)\n",
      "     |      Set the parameters of this estimator.\n",
      "     |      \n",
      "     |      The method works on simple estimators as well as on nested objects\n",
      "     |      (such as pipelines). The latter have parameters of the form\n",
      "     |      ``<component>__<parameter>`` so that it's possible to update each\n",
      "     |      component of a nested object.\n",
      "     |      \n",
      "     |      Returns\n",
      "     |      -------\n",
      "     |      self\n",
      "     |  \n",
      "     |  ----------------------------------------------------------------------\n",
      "     |  Data descriptors inherited from sklearn.base.BaseEstimator:\n",
      "     |  \n",
      "     |  __dict__\n",
      "     |      dictionary for instance variables (if defined)\n",
      "     |  \n",
      "     |  __weakref__\n",
      "     |      list of weak references to the object (if defined)\n",
      "    \n",
      "    class LabelEncoder(sklearn.base.BaseEstimator, sklearn.base.TransformerMixin)\n",
      "     |  Encode labels with value between 0 and n_classes-1.\n",
      "     |  \n",
      "     |  Read more in the :ref:`User Guide <preprocessing_targets>`.\n",
      "     |  \n",
      "     |  Attributes\n",
      "     |  ----------\n",
      "     |  classes_ : array of shape (n_class,)\n",
      "     |      Holds the label for each class.\n",
      "     |  \n",
      "     |  Examples\n",
      "     |  --------\n",
      "     |  `LabelEncoder` can be used to normalize labels.\n",
      "     |  \n",
      "     |  >>> from sklearn import preprocessing\n",
      "     |  >>> le = preprocessing.LabelEncoder()\n",
      "     |  >>> le.fit([1, 2, 2, 6])\n",
      "     |  LabelEncoder()\n",
      "     |  >>> le.classes_\n",
      "     |  array([1, 2, 6])\n",
      "     |  >>> le.transform([1, 1, 2, 6]) #doctest: +ELLIPSIS\n",
      "     |  array([0, 0, 1, 2]...)\n",
      "     |  >>> le.inverse_transform([0, 0, 1, 2])\n",
      "     |  array([1, 1, 2, 6])\n",
      "     |  \n",
      "     |  It can also be used to transform non-numerical labels (as long as they are\n",
      "     |  hashable and comparable) to numerical labels.\n",
      "     |  \n",
      "     |  >>> le = preprocessing.LabelEncoder()\n",
      "     |  >>> le.fit([\"paris\", \"paris\", \"tokyo\", \"amsterdam\"])\n",
      "     |  LabelEncoder()\n",
      "     |  >>> list(le.classes_)\n",
      "     |  ['amsterdam', 'paris', 'tokyo']\n",
      "     |  >>> le.transform([\"tokyo\", \"tokyo\", \"paris\"]) #doctest: +ELLIPSIS\n",
      "     |  array([2, 2, 1]...)\n",
      "     |  >>> list(le.inverse_transform([2, 2, 1]))\n",
      "     |  ['tokyo', 'tokyo', 'paris']\n",
      "     |  \n",
      "     |  See also\n",
      "     |  --------\n",
      "     |  sklearn.preprocessing.OneHotEncoder : encode categorical integer features\n",
      "     |      using a one-hot aka one-of-K scheme.\n",
      "     |  \n",
      "     |  Method resolution order:\n",
      "     |      LabelEncoder\n",
      "     |      sklearn.base.BaseEstimator\n",
      "     |      sklearn.base.TransformerMixin\n",
      "     |      builtins.object\n",
      "     |  \n",
      "     |  Methods defined here:\n",
      "     |  \n",
      "     |  fit(self, y)\n",
      "     |      Fit label encoder\n",
      "     |      \n",
      "     |      Parameters\n",
      "     |      ----------\n",
      "     |      y : array-like of shape (n_samples,)\n",
      "     |          Target values.\n",
      "     |      \n",
      "     |      Returns\n",
      "     |      -------\n",
      "     |      self : returns an instance of self.\n",
      "     |  \n",
      "     |  fit_transform(self, y)\n",
      "     |      Fit label encoder and return encoded labels\n",
      "     |      \n",
      "     |      Parameters\n",
      "     |      ----------\n",
      "     |      y : array-like of shape [n_samples]\n",
      "     |          Target values.\n",
      "     |      \n",
      "     |      Returns\n",
      "     |      -------\n",
      "     |      y : array-like of shape [n_samples]\n",
      "     |  \n",
      "     |  inverse_transform(self, y)\n",
      "     |      Transform labels back to original encoding.\n",
      "     |      \n",
      "     |      Parameters\n",
      "     |      ----------\n",
      "     |      y : numpy array of shape [n_samples]\n",
      "     |          Target values.\n",
      "     |      \n",
      "     |      Returns\n",
      "     |      -------\n",
      "     |      y : numpy array of shape [n_samples]\n",
      "     |  \n",
      "     |  transform(self, y)\n",
      "     |      Transform labels to normalized encoding.\n",
      "     |      \n",
      "     |      Parameters\n",
      "     |      ----------\n",
      "     |      y : array-like of shape [n_samples]\n",
      "     |          Target values.\n",
      "     |      \n",
      "     |      Returns\n",
      "     |      -------\n",
      "     |      y : array-like of shape [n_samples]\n",
      "     |  \n",
      "     |  ----------------------------------------------------------------------\n",
      "     |  Methods inherited from sklearn.base.BaseEstimator:\n",
      "     |  \n",
      "     |  __getstate__(self)\n",
      "     |  \n",
      "     |  __repr__(self)\n",
      "     |      Return repr(self).\n",
      "     |  \n",
      "     |  __setstate__(self, state)\n",
      "     |  \n",
      "     |  get_params(self, deep=True)\n",
      "     |      Get parameters for this estimator.\n",
      "     |      \n",
      "     |      Parameters\n",
      "     |      ----------\n",
      "     |      deep : boolean, optional\n",
      "     |          If True, will return the parameters for this estimator and\n",
      "     |          contained subobjects that are estimators.\n",
      "     |      \n",
      "     |      Returns\n",
      "     |      -------\n",
      "     |      params : mapping of string to any\n",
      "     |          Parameter names mapped to their values.\n",
      "     |  \n",
      "     |  set_params(self, **params)\n",
      "     |      Set the parameters of this estimator.\n",
      "     |      \n",
      "     |      The method works on simple estimators as well as on nested objects\n",
      "     |      (such as pipelines). The latter have parameters of the form\n",
      "     |      ``<component>__<parameter>`` so that it's possible to update each\n",
      "     |      component of a nested object.\n",
      "     |      \n",
      "     |      Returns\n",
      "     |      -------\n",
      "     |      self\n",
      "     |  \n",
      "     |  ----------------------------------------------------------------------\n",
      "     |  Data descriptors inherited from sklearn.base.BaseEstimator:\n",
      "     |  \n",
      "     |  __dict__\n",
      "     |      dictionary for instance variables (if defined)\n",
      "     |  \n",
      "     |  __weakref__\n",
      "     |      list of weak references to the object (if defined)\n",
      "    \n",
      "    class MaxAbsScaler(sklearn.base.BaseEstimator, sklearn.base.TransformerMixin)\n",
      "     |  Scale each feature by its maximum absolute value.\n",
      "     |  \n",
      "     |  This estimator scales and translates each feature individually such\n",
      "     |  that the maximal absolute value of each feature in the\n",
      "     |  training set will be 1.0. It does not shift/center the data, and\n",
      "     |  thus does not destroy any sparsity.\n",
      "     |  \n",
      "     |  This scaler can also be applied to sparse CSR or CSC matrices.\n",
      "     |  \n",
      "     |  .. versionadded:: 0.17\n",
      "     |  \n",
      "     |  Parameters\n",
      "     |  ----------\n",
      "     |  copy : boolean, optional, default is True\n",
      "     |      Set to False to perform inplace scaling and avoid a copy (if the input\n",
      "     |      is already a numpy array).\n",
      "     |  \n",
      "     |  Attributes\n",
      "     |  ----------\n",
      "     |  scale_ : ndarray, shape (n_features,)\n",
      "     |      Per feature relative scaling of the data.\n",
      "     |  \n",
      "     |      .. versionadded:: 0.17\n",
      "     |         *scale_* attribute.\n",
      "     |  \n",
      "     |  max_abs_ : ndarray, shape (n_features,)\n",
      "     |      Per feature maximum absolute value.\n",
      "     |  \n",
      "     |  n_samples_seen_ : int\n",
      "     |      The number of samples processed by the estimator. Will be reset on\n",
      "     |      new calls to fit, but increments across ``partial_fit`` calls.\n",
      "     |  \n",
      "     |  See also\n",
      "     |  --------\n",
      "     |  maxabs_scale: Equivalent function without the estimator API.\n",
      "     |  \n",
      "     |  Notes\n",
      "     |  -----\n",
      "     |  For a comparison of the different scalers, transformers, and normalizers,\n",
      "     |  see :ref:`examples/preprocessing/plot_all_scaling.py\n",
      "     |  <sphx_glr_auto_examples_preprocessing_plot_all_scaling.py>`.\n",
      "     |  \n",
      "     |  Method resolution order:\n",
      "     |      MaxAbsScaler\n",
      "     |      sklearn.base.BaseEstimator\n",
      "     |      sklearn.base.TransformerMixin\n",
      "     |      builtins.object\n",
      "     |  \n",
      "     |  Methods defined here:\n",
      "     |  \n",
      "     |  __init__(self, copy=True)\n",
      "     |      Initialize self.  See help(type(self)) for accurate signature.\n",
      "     |  \n",
      "     |  fit(self, X, y=None)\n",
      "     |      Compute the maximum absolute value to be used for later scaling.\n",
      "     |      \n",
      "     |      Parameters\n",
      "     |      ----------\n",
      "     |      X : {array-like, sparse matrix}, shape [n_samples, n_features]\n",
      "     |          The data used to compute the per-feature minimum and maximum\n",
      "     |          used for later scaling along the features axis.\n",
      "     |  \n",
      "     |  inverse_transform(self, X)\n",
      "     |      Scale back the data to the original representation\n",
      "     |      \n",
      "     |      Parameters\n",
      "     |      ----------\n",
      "     |      X : {array-like, sparse matrix}\n",
      "     |          The data that should be transformed back.\n",
      "     |  \n",
      "     |  partial_fit(self, X, y=None)\n",
      "     |      Online computation of max absolute value of X for later scaling.\n",
      "     |      All of X is processed as a single batch. This is intended for cases\n",
      "     |      when `fit` is not feasible due to very large number of `n_samples`\n",
      "     |      or because X is read from a continuous stream.\n",
      "     |      \n",
      "     |      Parameters\n",
      "     |      ----------\n",
      "     |      X : {array-like, sparse matrix}, shape [n_samples, n_features]\n",
      "     |          The data used to compute the mean and standard deviation\n",
      "     |          used for later scaling along the features axis.\n",
      "     |      \n",
      "     |      y : Passthrough for ``Pipeline`` compatibility.\n",
      "     |  \n",
      "     |  transform(self, X)\n",
      "     |      Scale the data\n",
      "     |      \n",
      "     |      Parameters\n",
      "     |      ----------\n",
      "     |      X : {array-like, sparse matrix}\n",
      "     |          The data that should be scaled.\n",
      "     |  \n",
      "     |  ----------------------------------------------------------------------\n",
      "     |  Methods inherited from sklearn.base.BaseEstimator:\n",
      "     |  \n",
      "     |  __getstate__(self)\n",
      "     |  \n",
      "     |  __repr__(self)\n",
      "     |      Return repr(self).\n",
      "     |  \n",
      "     |  __setstate__(self, state)\n",
      "     |  \n",
      "     |  get_params(self, deep=True)\n",
      "     |      Get parameters for this estimator.\n",
      "     |      \n",
      "     |      Parameters\n",
      "     |      ----------\n",
      "     |      deep : boolean, optional\n",
      "     |          If True, will return the parameters for this estimator and\n",
      "     |          contained subobjects that are estimators.\n",
      "     |      \n",
      "     |      Returns\n",
      "     |      -------\n",
      "     |      params : mapping of string to any\n",
      "     |          Parameter names mapped to their values.\n",
      "     |  \n",
      "     |  set_params(self, **params)\n",
      "     |      Set the parameters of this estimator.\n",
      "     |      \n",
      "     |      The method works on simple estimators as well as on nested objects\n",
      "     |      (such as pipelines). The latter have parameters of the form\n",
      "     |      ``<component>__<parameter>`` so that it's possible to update each\n",
      "     |      component of a nested object.\n",
      "     |      \n",
      "     |      Returns\n",
      "     |      -------\n",
      "     |      self\n",
      "     |  \n",
      "     |  ----------------------------------------------------------------------\n",
      "     |  Data descriptors inherited from sklearn.base.BaseEstimator:\n",
      "     |  \n",
      "     |  __dict__\n",
      "     |      dictionary for instance variables (if defined)\n",
      "     |  \n",
      "     |  __weakref__\n",
      "     |      list of weak references to the object (if defined)\n",
      "     |  \n",
      "     |  ----------------------------------------------------------------------\n",
      "     |  Methods inherited from sklearn.base.TransformerMixin:\n",
      "     |  \n",
      "     |  fit_transform(self, X, y=None, **fit_params)\n",
      "     |      Fit to data, then transform it.\n",
      "     |      \n",
      "     |      Fits transformer to X and y with optional parameters fit_params\n",
      "     |      and returns a transformed version of X.\n",
      "     |      \n",
      "     |      Parameters\n",
      "     |      ----------\n",
      "     |      X : numpy array of shape [n_samples, n_features]\n",
      "     |          Training set.\n",
      "     |      \n",
      "     |      y : numpy array of shape [n_samples]\n",
      "     |          Target values.\n",
      "     |      \n",
      "     |      Returns\n",
      "     |      -------\n",
      "     |      X_new : numpy array of shape [n_samples, n_features_new]\n",
      "     |          Transformed array.\n",
      "    \n",
      "    class MinMaxScaler(sklearn.base.BaseEstimator, sklearn.base.TransformerMixin)\n",
      "     |  Transforms features by scaling each feature to a given range.\n",
      "     |  \n",
      "     |  This estimator scales and translates each feature individually such\n",
      "     |  that it is in the given range on the training set, i.e. between\n",
      "     |  zero and one.\n",
      "     |  \n",
      "     |  The transformation is given by::\n",
      "     |  \n",
      "     |      X_std = (X - X.min(axis=0)) / (X.max(axis=0) - X.min(axis=0))\n",
      "     |      X_scaled = X_std * (max - min) + min\n",
      "     |  \n",
      "     |  where min, max = feature_range.\n",
      "     |  \n",
      "     |  This transformation is often used as an alternative to zero mean,\n",
      "     |  unit variance scaling.\n",
      "     |  \n",
      "     |  Read more in the :ref:`User Guide <preprocessing_scaler>`.\n",
      "     |  \n",
      "     |  Parameters\n",
      "     |  ----------\n",
      "     |  feature_range : tuple (min, max), default=(0, 1)\n",
      "     |      Desired range of transformed data.\n",
      "     |  \n",
      "     |  copy : boolean, optional, default True\n",
      "     |      Set to False to perform inplace row normalization and avoid a\n",
      "     |      copy (if the input is already a numpy array).\n",
      "     |  \n",
      "     |  Attributes\n",
      "     |  ----------\n",
      "     |  min_ : ndarray, shape (n_features,)\n",
      "     |      Per feature adjustment for minimum.\n",
      "     |  \n",
      "     |  scale_ : ndarray, shape (n_features,)\n",
      "     |      Per feature relative scaling of the data.\n",
      "     |  \n",
      "     |      .. versionadded:: 0.17\n",
      "     |         *scale_* attribute.\n",
      "     |  \n",
      "     |  data_min_ : ndarray, shape (n_features,)\n",
      "     |      Per feature minimum seen in the data\n",
      "     |  \n",
      "     |      .. versionadded:: 0.17\n",
      "     |         *data_min_*\n",
      "     |  \n",
      "     |  data_max_ : ndarray, shape (n_features,)\n",
      "     |      Per feature maximum seen in the data\n",
      "     |  \n",
      "     |      .. versionadded:: 0.17\n",
      "     |         *data_max_*\n",
      "     |  \n",
      "     |  data_range_ : ndarray, shape (n_features,)\n",
      "     |      Per feature range ``(data_max_ - data_min_)`` seen in the data\n",
      "     |  \n",
      "     |      .. versionadded:: 0.17\n",
      "     |         *data_range_*\n",
      "     |  \n",
      "     |  Examples\n",
      "     |  --------\n",
      "     |  >>> from sklearn.preprocessing import MinMaxScaler\n",
      "     |  >>>\n",
      "     |  >>> data = [[-1, 2], [-0.5, 6], [0, 10], [1, 18]]\n",
      "     |  >>> scaler = MinMaxScaler()\n",
      "     |  >>> print(scaler.fit(data))\n",
      "     |  MinMaxScaler(copy=True, feature_range=(0, 1))\n",
      "     |  >>> print(scaler.data_max_)\n",
      "     |  [  1.  18.]\n",
      "     |  >>> print(scaler.transform(data))\n",
      "     |  [[ 0.    0.  ]\n",
      "     |   [ 0.25  0.25]\n",
      "     |   [ 0.5   0.5 ]\n",
      "     |   [ 1.    1.  ]]\n",
      "     |  >>> print(scaler.transform([[2, 2]]))\n",
      "     |  [[ 1.5  0. ]]\n",
      "     |  \n",
      "     |  See also\n",
      "     |  --------\n",
      "     |  minmax_scale: Equivalent function without the estimator API.\n",
      "     |  \n",
      "     |  Notes\n",
      "     |  -----\n",
      "     |  For a comparison of the different scalers, transformers, and normalizers,\n",
      "     |  see :ref:`examples/preprocessing/plot_all_scaling.py\n",
      "     |  <sphx_glr_auto_examples_preprocessing_plot_all_scaling.py>`.\n",
      "     |  \n",
      "     |  Method resolution order:\n",
      "     |      MinMaxScaler\n",
      "     |      sklearn.base.BaseEstimator\n",
      "     |      sklearn.base.TransformerMixin\n",
      "     |      builtins.object\n",
      "     |  \n",
      "     |  Methods defined here:\n",
      "     |  \n",
      "     |  __init__(self, feature_range=(0, 1), copy=True)\n",
      "     |      Initialize self.  See help(type(self)) for accurate signature.\n",
      "     |  \n",
      "     |  fit(self, X, y=None)\n",
      "     |      Compute the minimum and maximum to be used for later scaling.\n",
      "     |      \n",
      "     |      Parameters\n",
      "     |      ----------\n",
      "     |      X : array-like, shape [n_samples, n_features]\n",
      "     |          The data used to compute the per-feature minimum and maximum\n",
      "     |          used for later scaling along the features axis.\n",
      "     |  \n",
      "     |  inverse_transform(self, X)\n",
      "     |      Undo the scaling of X according to feature_range.\n",
      "     |      \n",
      "     |      Parameters\n",
      "     |      ----------\n",
      "     |      X : array-like, shape [n_samples, n_features]\n",
      "     |          Input data that will be transformed. It cannot be sparse.\n",
      "     |  \n",
      "     |  partial_fit(self, X, y=None)\n",
      "     |      Online computation of min and max on X for later scaling.\n",
      "     |      All of X is processed as a single batch. This is intended for cases\n",
      "     |      when `fit` is not feasible due to very large number of `n_samples`\n",
      "     |      or because X is read from a continuous stream.\n",
      "     |      \n",
      "     |      Parameters\n",
      "     |      ----------\n",
      "     |      X : array-like, shape [n_samples, n_features]\n",
      "     |          The data used to compute the mean and standard deviation\n",
      "     |          used for later scaling along the features axis.\n",
      "     |      \n",
      "     |      y : Passthrough for ``Pipeline`` compatibility.\n",
      "     |  \n",
      "     |  transform(self, X)\n",
      "     |      Scaling features of X according to feature_range.\n",
      "     |      \n",
      "     |      Parameters\n",
      "     |      ----------\n",
      "     |      X : array-like, shape [n_samples, n_features]\n",
      "     |          Input data that will be transformed.\n",
      "     |  \n",
      "     |  ----------------------------------------------------------------------\n",
      "     |  Methods inherited from sklearn.base.BaseEstimator:\n",
      "     |  \n",
      "     |  __getstate__(self)\n",
      "     |  \n",
      "     |  __repr__(self)\n",
      "     |      Return repr(self).\n",
      "     |  \n",
      "     |  __setstate__(self, state)\n",
      "     |  \n",
      "     |  get_params(self, deep=True)\n",
      "     |      Get parameters for this estimator.\n",
      "     |      \n",
      "     |      Parameters\n",
      "     |      ----------\n",
      "     |      deep : boolean, optional\n",
      "     |          If True, will return the parameters for this estimator and\n",
      "     |          contained subobjects that are estimators.\n",
      "     |      \n",
      "     |      Returns\n",
      "     |      -------\n",
      "     |      params : mapping of string to any\n",
      "     |          Parameter names mapped to their values.\n",
      "     |  \n",
      "     |  set_params(self, **params)\n",
      "     |      Set the parameters of this estimator.\n",
      "     |      \n",
      "     |      The method works on simple estimators as well as on nested objects\n",
      "     |      (such as pipelines). The latter have parameters of the form\n",
      "     |      ``<component>__<parameter>`` so that it's possible to update each\n",
      "     |      component of a nested object.\n",
      "     |      \n",
      "     |      Returns\n",
      "     |      -------\n",
      "     |      self\n",
      "     |  \n",
      "     |  ----------------------------------------------------------------------\n",
      "     |  Data descriptors inherited from sklearn.base.BaseEstimator:\n",
      "     |  \n",
      "     |  __dict__\n",
      "     |      dictionary for instance variables (if defined)\n",
      "     |  \n",
      "     |  __weakref__\n",
      "     |      list of weak references to the object (if defined)\n",
      "     |  \n",
      "     |  ----------------------------------------------------------------------\n",
      "     |  Methods inherited from sklearn.base.TransformerMixin:\n",
      "     |  \n",
      "     |  fit_transform(self, X, y=None, **fit_params)\n",
      "     |      Fit to data, then transform it.\n",
      "     |      \n",
      "     |      Fits transformer to X and y with optional parameters fit_params\n",
      "     |      and returns a transformed version of X.\n",
      "     |      \n",
      "     |      Parameters\n",
      "     |      ----------\n",
      "     |      X : numpy array of shape [n_samples, n_features]\n",
      "     |          Training set.\n",
      "     |      \n",
      "     |      y : numpy array of shape [n_samples]\n",
      "     |          Target values.\n",
      "     |      \n",
      "     |      Returns\n",
      "     |      -------\n",
      "     |      X_new : numpy array of shape [n_samples, n_features_new]\n",
      "     |          Transformed array.\n",
      "    \n",
      "    class MultiLabelBinarizer(sklearn.base.BaseEstimator, sklearn.base.TransformerMixin)\n",
      "     |  Transform between iterable of iterables and a multilabel format\n",
      "     |  \n",
      "     |  Although a list of sets or tuples is a very intuitive format for multilabel\n",
      "     |  data, it is unwieldy to process. This transformer converts between this\n",
      "     |  intuitive format and the supported multilabel format: a (samples x classes)\n",
      "     |  binary matrix indicating the presence of a class label.\n",
      "     |  \n",
      "     |  Parameters\n",
      "     |  ----------\n",
      "     |  classes : array-like of shape [n_classes] (optional)\n",
      "     |      Indicates an ordering for the class labels\n",
      "     |  \n",
      "     |  sparse_output : boolean (default: False),\n",
      "     |      Set to true if output binary array is desired in CSR sparse format\n",
      "     |  \n",
      "     |  Attributes\n",
      "     |  ----------\n",
      "     |  classes_ : array of labels\n",
      "     |      A copy of the `classes` parameter where provided,\n",
      "     |      or otherwise, the sorted set of classes found when fitting.\n",
      "     |  \n",
      "     |  Examples\n",
      "     |  --------\n",
      "     |  >>> from sklearn.preprocessing import MultiLabelBinarizer\n",
      "     |  >>> mlb = MultiLabelBinarizer()\n",
      "     |  >>> mlb.fit_transform([(1, 2), (3,)])\n",
      "     |  array([[1, 1, 0],\n",
      "     |         [0, 0, 1]])\n",
      "     |  >>> mlb.classes_\n",
      "     |  array([1, 2, 3])\n",
      "     |  \n",
      "     |  >>> mlb.fit_transform([set(['sci-fi', 'thriller']), set(['comedy'])])\n",
      "     |  array([[0, 1, 1],\n",
      "     |         [1, 0, 0]])\n",
      "     |  >>> list(mlb.classes_)\n",
      "     |  ['comedy', 'sci-fi', 'thriller']\n",
      "     |  \n",
      "     |  See also\n",
      "     |  --------\n",
      "     |  sklearn.preprocessing.OneHotEncoder : encode categorical integer features\n",
      "     |      using a one-hot aka one-of-K scheme.\n",
      "     |  \n",
      "     |  Method resolution order:\n",
      "     |      MultiLabelBinarizer\n",
      "     |      sklearn.base.BaseEstimator\n",
      "     |      sklearn.base.TransformerMixin\n",
      "     |      builtins.object\n",
      "     |  \n",
      "     |  Methods defined here:\n",
      "     |  \n",
      "     |  __init__(self, classes=None, sparse_output=False)\n",
      "     |      Initialize self.  See help(type(self)) for accurate signature.\n",
      "     |  \n",
      "     |  fit(self, y)\n",
      "     |      Fit the label sets binarizer, storing `classes_`\n",
      "     |      \n",
      "     |      Parameters\n",
      "     |      ----------\n",
      "     |      y : iterable of iterables\n",
      "     |          A set of labels (any orderable and hashable object) for each\n",
      "     |          sample. If the `classes` parameter is set, `y` will not be\n",
      "     |          iterated.\n",
      "     |      \n",
      "     |      Returns\n",
      "     |      -------\n",
      "     |      self : returns this MultiLabelBinarizer instance\n",
      "     |  \n",
      "     |  fit_transform(self, y)\n",
      "     |      Fit the label sets binarizer and transform the given label sets\n",
      "     |      \n",
      "     |      Parameters\n",
      "     |      ----------\n",
      "     |      y : iterable of iterables\n",
      "     |          A set of labels (any orderable and hashable object) for each\n",
      "     |          sample. If the `classes` parameter is set, `y` will not be\n",
      "     |          iterated.\n",
      "     |      \n",
      "     |      Returns\n",
      "     |      -------\n",
      "     |      y_indicator : array or CSR matrix, shape (n_samples, n_classes)\n",
      "     |          A matrix such that `y_indicator[i, j] = 1` iff `classes_[j]` is in\n",
      "     |          `y[i]`, and 0 otherwise.\n",
      "     |  \n",
      "     |  inverse_transform(self, yt)\n",
      "     |      Transform the given indicator matrix into label sets\n",
      "     |      \n",
      "     |      Parameters\n",
      "     |      ----------\n",
      "     |      yt : array or sparse matrix of shape (n_samples, n_classes)\n",
      "     |          A matrix containing only 1s ands 0s.\n",
      "     |      \n",
      "     |      Returns\n",
      "     |      -------\n",
      "     |      y : list of tuples\n",
      "     |          The set of labels for each sample such that `y[i]` consists of\n",
      "     |          `classes_[j]` for each `yt[i, j] == 1`.\n",
      "     |  \n",
      "     |  transform(self, y)\n",
      "     |      Transform the given label sets\n",
      "     |      \n",
      "     |      Parameters\n",
      "     |      ----------\n",
      "     |      y : iterable of iterables\n",
      "     |          A set of labels (any orderable and hashable object) for each\n",
      "     |          sample. If the `classes` parameter is set, `y` will not be\n",
      "     |          iterated.\n",
      "     |      \n",
      "     |      Returns\n",
      "     |      -------\n",
      "     |      y_indicator : array or CSR matrix, shape (n_samples, n_classes)\n",
      "     |          A matrix such that `y_indicator[i, j] = 1` iff `classes_[j]` is in\n",
      "     |          `y[i]`, and 0 otherwise.\n",
      "     |  \n",
      "     |  ----------------------------------------------------------------------\n",
      "     |  Methods inherited from sklearn.base.BaseEstimator:\n",
      "     |  \n",
      "     |  __getstate__(self)\n",
      "     |  \n",
      "     |  __repr__(self)\n",
      "     |      Return repr(self).\n",
      "     |  \n",
      "     |  __setstate__(self, state)\n",
      "     |  \n",
      "     |  get_params(self, deep=True)\n",
      "     |      Get parameters for this estimator.\n",
      "     |      \n",
      "     |      Parameters\n",
      "     |      ----------\n",
      "     |      deep : boolean, optional\n",
      "     |          If True, will return the parameters for this estimator and\n",
      "     |          contained subobjects that are estimators.\n",
      "     |      \n",
      "     |      Returns\n",
      "     |      -------\n",
      "     |      params : mapping of string to any\n",
      "     |          Parameter names mapped to their values.\n",
      "     |  \n",
      "     |  set_params(self, **params)\n",
      "     |      Set the parameters of this estimator.\n",
      "     |      \n",
      "     |      The method works on simple estimators as well as on nested objects\n",
      "     |      (such as pipelines). The latter have parameters of the form\n",
      "     |      ``<component>__<parameter>`` so that it's possible to update each\n",
      "     |      component of a nested object.\n",
      "     |      \n",
      "     |      Returns\n",
      "     |      -------\n",
      "     |      self\n",
      "     |  \n",
      "     |  ----------------------------------------------------------------------\n",
      "     |  Data descriptors inherited from sklearn.base.BaseEstimator:\n",
      "     |  \n",
      "     |  __dict__\n",
      "     |      dictionary for instance variables (if defined)\n",
      "     |  \n",
      "     |  __weakref__\n",
      "     |      list of weak references to the object (if defined)\n",
      "    \n",
      "    class Normalizer(sklearn.base.BaseEstimator, sklearn.base.TransformerMixin)\n",
      "     |  Normalize samples individually to unit norm.\n",
      "     |  \n",
      "     |  Each sample (i.e. each row of the data matrix) with at least one\n",
      "     |  non zero component is rescaled independently of other samples so\n",
      "     |  that its norm (l1 or l2) equals one.\n",
      "     |  \n",
      "     |  This transformer is able to work both with dense numpy arrays and\n",
      "     |  scipy.sparse matrix (use CSR format if you want to avoid the burden of\n",
      "     |  a copy / conversion).\n",
      "     |  \n",
      "     |  Scaling inputs to unit norms is a common operation for text\n",
      "     |  classification or clustering for instance. For instance the dot\n",
      "     |  product of two l2-normalized TF-IDF vectors is the cosine similarity\n",
      "     |  of the vectors and is the base similarity metric for the Vector\n",
      "     |  Space Model commonly used by the Information Retrieval community.\n",
      "     |  \n",
      "     |  Read more in the :ref:`User Guide <preprocessing_normalization>`.\n",
      "     |  \n",
      "     |  Parameters\n",
      "     |  ----------\n",
      "     |  norm : 'l1', 'l2', or 'max', optional ('l2' by default)\n",
      "     |      The norm to use to normalize each non zero sample.\n",
      "     |  \n",
      "     |  copy : boolean, optional, default True\n",
      "     |      set to False to perform inplace row normalization and avoid a\n",
      "     |      copy (if the input is already a numpy array or a scipy.sparse\n",
      "     |      CSR matrix).\n",
      "     |  \n",
      "     |  Notes\n",
      "     |  -----\n",
      "     |  This estimator is stateless (besides constructor parameters), the\n",
      "     |  fit method does nothing but is useful when used in a pipeline.\n",
      "     |  \n",
      "     |  For a comparison of the different scalers, transformers, and normalizers,\n",
      "     |  see :ref:`examples/preprocessing/plot_all_scaling.py\n",
      "     |  <sphx_glr_auto_examples_preprocessing_plot_all_scaling.py>`.\n",
      "     |  \n",
      "     |  \n",
      "     |  See also\n",
      "     |  --------\n",
      "     |  normalize: Equivalent function without the estimator API.\n",
      "     |  \n",
      "     |  Method resolution order:\n",
      "     |      Normalizer\n",
      "     |      sklearn.base.BaseEstimator\n",
      "     |      sklearn.base.TransformerMixin\n",
      "     |      builtins.object\n",
      "     |  \n",
      "     |  Methods defined here:\n",
      "     |  \n",
      "     |  __init__(self, norm='l2', copy=True)\n",
      "     |      Initialize self.  See help(type(self)) for accurate signature.\n",
      "     |  \n",
      "     |  fit(self, X, y=None)\n",
      "     |      Do nothing and return the estimator unchanged\n",
      "     |      \n",
      "     |      This method is just there to implement the usual API and hence\n",
      "     |      work in pipelines.\n",
      "     |      \n",
      "     |      Parameters\n",
      "     |      ----------\n",
      "     |      X : array-like\n",
      "     |  \n",
      "     |  transform(self, X, y='deprecated', copy=None)\n",
      "     |      Scale each non zero row of X to unit norm\n",
      "     |      \n",
      "     |      Parameters\n",
      "     |      ----------\n",
      "     |      X : {array-like, sparse matrix}, shape [n_samples, n_features]\n",
      "     |          The data to normalize, row by row. scipy.sparse matrices should be\n",
      "     |          in CSR format to avoid an un-necessary copy.\n",
      "     |      y : (ignored)\n",
      "     |          .. deprecated:: 0.19\n",
      "     |             This parameter will be removed in 0.21.\n",
      "     |      copy : bool, optional (default: None)\n",
      "     |          Copy the input X or not.\n",
      "     |  \n",
      "     |  ----------------------------------------------------------------------\n",
      "     |  Methods inherited from sklearn.base.BaseEstimator:\n",
      "     |  \n",
      "     |  __getstate__(self)\n",
      "     |  \n",
      "     |  __repr__(self)\n",
      "     |      Return repr(self).\n",
      "     |  \n",
      "     |  __setstate__(self, state)\n",
      "     |  \n",
      "     |  get_params(self, deep=True)\n",
      "     |      Get parameters for this estimator.\n",
      "     |      \n",
      "     |      Parameters\n",
      "     |      ----------\n",
      "     |      deep : boolean, optional\n",
      "     |          If True, will return the parameters for this estimator and\n",
      "     |          contained subobjects that are estimators.\n",
      "     |      \n",
      "     |      Returns\n",
      "     |      -------\n",
      "     |      params : mapping of string to any\n",
      "     |          Parameter names mapped to their values.\n",
      "     |  \n",
      "     |  set_params(self, **params)\n",
      "     |      Set the parameters of this estimator.\n",
      "     |      \n",
      "     |      The method works on simple estimators as well as on nested objects\n",
      "     |      (such as pipelines). The latter have parameters of the form\n",
      "     |      ``<component>__<parameter>`` so that it's possible to update each\n",
      "     |      component of a nested object.\n",
      "     |      \n",
      "     |      Returns\n",
      "     |      -------\n",
      "     |      self\n",
      "     |  \n",
      "     |  ----------------------------------------------------------------------\n",
      "     |  Data descriptors inherited from sklearn.base.BaseEstimator:\n",
      "     |  \n",
      "     |  __dict__\n",
      "     |      dictionary for instance variables (if defined)\n",
      "     |  \n",
      "     |  __weakref__\n",
      "     |      list of weak references to the object (if defined)\n",
      "     |  \n",
      "     |  ----------------------------------------------------------------------\n",
      "     |  Methods inherited from sklearn.base.TransformerMixin:\n",
      "     |  \n",
      "     |  fit_transform(self, X, y=None, **fit_params)\n",
      "     |      Fit to data, then transform it.\n",
      "     |      \n",
      "     |      Fits transformer to X and y with optional parameters fit_params\n",
      "     |      and returns a transformed version of X.\n",
      "     |      \n",
      "     |      Parameters\n",
      "     |      ----------\n",
      "     |      X : numpy array of shape [n_samples, n_features]\n",
      "     |          Training set.\n",
      "     |      \n",
      "     |      y : numpy array of shape [n_samples]\n",
      "     |          Target values.\n",
      "     |      \n",
      "     |      Returns\n",
      "     |      -------\n",
      "     |      X_new : numpy array of shape [n_samples, n_features_new]\n",
      "     |          Transformed array.\n",
      "    \n",
      "    class OneHotEncoder(sklearn.base.BaseEstimator, sklearn.base.TransformerMixin)\n",
      "     |  Encode categorical integer features using a one-hot aka one-of-K scheme.\n",
      "     |  \n",
      "     |  The input to this transformer should be a matrix of integers, denoting\n",
      "     |  the values taken on by categorical (discrete) features. The output will be\n",
      "     |  a sparse matrix where each column corresponds to one possible value of one\n",
      "     |  feature. It is assumed that input features take on values in the range\n",
      "     |  [0, n_values).\n",
      "     |  \n",
      "     |  This encoding is needed for feeding categorical data to many scikit-learn\n",
      "     |  estimators, notably linear models and SVMs with the standard kernels.\n",
      "     |  \n",
      "     |  Note: a one-hot encoding of y labels should use a LabelBinarizer\n",
      "     |  instead.\n",
      "     |  \n",
      "     |  Read more in the :ref:`User Guide <preprocessing_categorical_features>`.\n",
      "     |  \n",
      "     |  Parameters\n",
      "     |  ----------\n",
      "     |  n_values : 'auto', int or array of ints\n",
      "     |      Number of values per feature.\n",
      "     |  \n",
      "     |      - 'auto' : determine value range from training data.\n",
      "     |      - int : number of categorical values per feature.\n",
      "     |              Each feature value should be in ``range(n_values)``\n",
      "     |      - array : ``n_values[i]`` is the number of categorical values in\n",
      "     |                ``X[:, i]``. Each feature value should be\n",
      "     |                in ``range(n_values[i])``\n",
      "     |  \n",
      "     |  categorical_features : \"all\" or array of indices or mask\n",
      "     |      Specify what features are treated as categorical.\n",
      "     |  \n",
      "     |      - 'all' (default): All features are treated as categorical.\n",
      "     |      - array of indices: Array of categorical feature indices.\n",
      "     |      - mask: Array of length n_features and with dtype=bool.\n",
      "     |  \n",
      "     |      Non-categorical features are always stacked to the right of the matrix.\n",
      "     |  \n",
      "     |  dtype : number type, default=np.float\n",
      "     |      Desired dtype of output.\n",
      "     |  \n",
      "     |  sparse : boolean, default=True\n",
      "     |      Will return sparse matrix if set True else will return an array.\n",
      "     |  \n",
      "     |  handle_unknown : str, 'error' or 'ignore'\n",
      "     |      Whether to raise an error or ignore if a unknown categorical feature is\n",
      "     |      present during transform.\n",
      "     |  \n",
      "     |  Attributes\n",
      "     |  ----------\n",
      "     |  active_features_ : array\n",
      "     |      Indices for active features, meaning values that actually occur\n",
      "     |      in the training set. Only available when n_values is ``'auto'``.\n",
      "     |  \n",
      "     |  feature_indices_ : array of shape (n_features,)\n",
      "     |      Indices to feature ranges.\n",
      "     |      Feature ``i`` in the original data is mapped to features\n",
      "     |      from ``feature_indices_[i]`` to ``feature_indices_[i+1]``\n",
      "     |      (and then potentially masked by `active_features_` afterwards)\n",
      "     |  \n",
      "     |  n_values_ : array of shape (n_features,)\n",
      "     |      Maximum number of values per feature.\n",
      "     |  \n",
      "     |  Examples\n",
      "     |  --------\n",
      "     |  Given a dataset with three features and four samples, we let the encoder\n",
      "     |  find the maximum value per feature and transform the data to a binary\n",
      "     |  one-hot encoding.\n",
      "     |  \n",
      "     |  >>> from sklearn.preprocessing import OneHotEncoder\n",
      "     |  >>> enc = OneHotEncoder()\n",
      "     |  >>> enc.fit([[0, 0, 3], [1, 1, 0], [0, 2, 1], [1, 0, 2]])  # doctest: +ELLIPSIS\n",
      "     |  OneHotEncoder(categorical_features='all', dtype=<... 'numpy.float64'>,\n",
      "     |         handle_unknown='error', n_values='auto', sparse=True)\n",
      "     |  >>> enc.n_values_\n",
      "     |  array([2, 3, 4])\n",
      "     |  >>> enc.feature_indices_\n",
      "     |  array([0, 2, 5, 9])\n",
      "     |  >>> enc.transform([[0, 1, 1]]).toarray()\n",
      "     |  array([[ 1.,  0.,  0.,  1.,  0.,  0.,  1.,  0.,  0.]])\n",
      "     |  \n",
      "     |  See also\n",
      "     |  --------\n",
      "     |  sklearn.feature_extraction.DictVectorizer : performs a one-hot encoding of\n",
      "     |    dictionary items (also handles string-valued features).\n",
      "     |  sklearn.feature_extraction.FeatureHasher : performs an approximate one-hot\n",
      "     |    encoding of dictionary items or strings.\n",
      "     |  sklearn.preprocessing.LabelBinarizer : binarizes labels in a one-vs-all\n",
      "     |    fashion.\n",
      "     |  sklearn.preprocessing.MultiLabelBinarizer : transforms between iterable of\n",
      "     |    iterables and a multilabel format, e.g. a (samples x classes) binary\n",
      "     |    matrix indicating the presence of a class label.\n",
      "     |  sklearn.preprocessing.LabelEncoder : encodes labels with values between 0\n",
      "     |    and n_classes-1.\n",
      "     |  \n",
      "     |  Method resolution order:\n",
      "     |      OneHotEncoder\n",
      "     |      sklearn.base.BaseEstimator\n",
      "     |      sklearn.base.TransformerMixin\n",
      "     |      builtins.object\n",
      "     |  \n",
      "     |  Methods defined here:\n",
      "     |  \n",
      "     |  __init__(self, n_values='auto', categorical_features='all', dtype=<class 'numpy.float64'>, sparse=True, handle_unknown='error')\n",
      "     |      Initialize self.  See help(type(self)) for accurate signature.\n",
      "     |  \n",
      "     |  fit(self, X, y=None)\n",
      "     |      Fit OneHotEncoder to X.\n",
      "     |      \n",
      "     |      Parameters\n",
      "     |      ----------\n",
      "     |      X : array-like, shape [n_samples, n_feature]\n",
      "     |          Input array of type int.\n",
      "     |      \n",
      "     |      Returns\n",
      "     |      -------\n",
      "     |      self\n",
      "     |  \n",
      "     |  fit_transform(self, X, y=None)\n",
      "     |      Fit OneHotEncoder to X, then transform X.\n",
      "     |      \n",
      "     |      Equivalent to self.fit(X).transform(X), but more convenient and more\n",
      "     |      efficient. See fit for the parameters, transform for the return value.\n",
      "     |      \n",
      "     |      Parameters\n",
      "     |      ----------\n",
      "     |      X : array-like, shape [n_samples, n_feature]\n",
      "     |          Input array of type int.\n",
      "     |  \n",
      "     |  transform(self, X)\n",
      "     |      Transform X using one-hot encoding.\n",
      "     |      \n",
      "     |      Parameters\n",
      "     |      ----------\n",
      "     |      X : array-like, shape [n_samples, n_features]\n",
      "     |          Input array of type int.\n",
      "     |      \n",
      "     |      Returns\n",
      "     |      -------\n",
      "     |      X_out : sparse matrix if sparse=True else a 2-d array, dtype=int\n",
      "     |          Transformed input.\n",
      "     |  \n",
      "     |  ----------------------------------------------------------------------\n",
      "     |  Methods inherited from sklearn.base.BaseEstimator:\n",
      "     |  \n",
      "     |  __getstate__(self)\n",
      "     |  \n",
      "     |  __repr__(self)\n",
      "     |      Return repr(self).\n",
      "     |  \n",
      "     |  __setstate__(self, state)\n",
      "     |  \n",
      "     |  get_params(self, deep=True)\n",
      "     |      Get parameters for this estimator.\n",
      "     |      \n",
      "     |      Parameters\n",
      "     |      ----------\n",
      "     |      deep : boolean, optional\n",
      "     |          If True, will return the parameters for this estimator and\n",
      "     |          contained subobjects that are estimators.\n",
      "     |      \n",
      "     |      Returns\n",
      "     |      -------\n",
      "     |      params : mapping of string to any\n",
      "     |          Parameter names mapped to their values.\n",
      "     |  \n",
      "     |  set_params(self, **params)\n",
      "     |      Set the parameters of this estimator.\n",
      "     |      \n",
      "     |      The method works on simple estimators as well as on nested objects\n",
      "     |      (such as pipelines). The latter have parameters of the form\n",
      "     |      ``<component>__<parameter>`` so that it's possible to update each\n",
      "     |      component of a nested object.\n",
      "     |      \n",
      "     |      Returns\n",
      "     |      -------\n",
      "     |      self\n",
      "     |  \n",
      "     |  ----------------------------------------------------------------------\n",
      "     |  Data descriptors inherited from sklearn.base.BaseEstimator:\n",
      "     |  \n",
      "     |  __dict__\n",
      "     |      dictionary for instance variables (if defined)\n",
      "     |  \n",
      "     |  __weakref__\n",
      "     |      list of weak references to the object (if defined)\n",
      "    \n",
      "    class PolynomialFeatures(sklearn.base.BaseEstimator, sklearn.base.TransformerMixin)\n",
      "     |  Generate polynomial and interaction features.\n",
      "     |  \n",
      "     |  Generate a new feature matrix consisting of all polynomial combinations\n",
      "     |  of the features with degree less than or equal to the specified degree.\n",
      "     |  For example, if an input sample is two dimensional and of the form\n",
      "     |  [a, b], the degree-2 polynomial features are [1, a, b, a^2, ab, b^2].\n",
      "     |  \n",
      "     |  Parameters\n",
      "     |  ----------\n",
      "     |  degree : integer\n",
      "     |      The degree of the polynomial features. Default = 2.\n",
      "     |  \n",
      "     |  interaction_only : boolean, default = False\n",
      "     |      If true, only interaction features are produced: features that are\n",
      "     |      products of at most ``degree`` *distinct* input features (so not\n",
      "     |      ``x[1] ** 2``, ``x[0] * x[2] ** 3``, etc.).\n",
      "     |  \n",
      "     |  include_bias : boolean\n",
      "     |      If True (default), then include a bias column, the feature in which\n",
      "     |      all polynomial powers are zero (i.e. a column of ones - acts as an\n",
      "     |      intercept term in a linear model).\n",
      "     |  \n",
      "     |  Examples\n",
      "     |  --------\n",
      "     |  >>> X = np.arange(6).reshape(3, 2)\n",
      "     |  >>> X\n",
      "     |  array([[0, 1],\n",
      "     |         [2, 3],\n",
      "     |         [4, 5]])\n",
      "     |  >>> poly = PolynomialFeatures(2)\n",
      "     |  >>> poly.fit_transform(X)\n",
      "     |  array([[  1.,   0.,   1.,   0.,   0.,   1.],\n",
      "     |         [  1.,   2.,   3.,   4.,   6.,   9.],\n",
      "     |         [  1.,   4.,   5.,  16.,  20.,  25.]])\n",
      "     |  >>> poly = PolynomialFeatures(interaction_only=True)\n",
      "     |  >>> poly.fit_transform(X)\n",
      "     |  array([[  1.,   0.,   1.,   0.],\n",
      "     |         [  1.,   2.,   3.,   6.],\n",
      "     |         [  1.,   4.,   5.,  20.]])\n",
      "     |  \n",
      "     |  Attributes\n",
      "     |  ----------\n",
      "     |  powers_ : array, shape (n_output_features, n_input_features)\n",
      "     |      powers_[i, j] is the exponent of the jth input in the ith output.\n",
      "     |  \n",
      "     |  n_input_features_ : int\n",
      "     |      The total number of input features.\n",
      "     |  \n",
      "     |  n_output_features_ : int\n",
      "     |      The total number of polynomial output features. The number of output\n",
      "     |      features is computed by iterating over all suitably sized combinations\n",
      "     |      of input features.\n",
      "     |  \n",
      "     |  Notes\n",
      "     |  -----\n",
      "     |  Be aware that the number of features in the output array scales\n",
      "     |  polynomially in the number of features of the input array, and\n",
      "     |  exponentially in the degree. High degrees can cause overfitting.\n",
      "     |  \n",
      "     |  See :ref:`examples/linear_model/plot_polynomial_interpolation.py\n",
      "     |  <sphx_glr_auto_examples_linear_model_plot_polynomial_interpolation.py>`\n",
      "     |  \n",
      "     |  Method resolution order:\n",
      "     |      PolynomialFeatures\n",
      "     |      sklearn.base.BaseEstimator\n",
      "     |      sklearn.base.TransformerMixin\n",
      "     |      builtins.object\n",
      "     |  \n",
      "     |  Methods defined here:\n",
      "     |  \n",
      "     |  __init__(self, degree=2, interaction_only=False, include_bias=True)\n",
      "     |      Initialize self.  See help(type(self)) for accurate signature.\n",
      "     |  \n",
      "     |  fit(self, X, y=None)\n",
      "     |      Compute number of output features.\n",
      "     |      \n",
      "     |      \n",
      "     |      Parameters\n",
      "     |      ----------\n",
      "     |      X : array-like, shape (n_samples, n_features)\n",
      "     |          The data.\n",
      "     |      \n",
      "     |      Returns\n",
      "     |      -------\n",
      "     |      self : instance\n",
      "     |  \n",
      "     |  get_feature_names(self, input_features=None)\n",
      "     |      Return feature names for output features\n",
      "     |      \n",
      "     |      Parameters\n",
      "     |      ----------\n",
      "     |      input_features : list of string, length n_features, optional\n",
      "     |          String names for input features if available. By default,\n",
      "     |          \"x0\", \"x1\", ... \"xn_features\" is used.\n",
      "     |      \n",
      "     |      Returns\n",
      "     |      -------\n",
      "     |      output_feature_names : list of string, length n_output_features\n",
      "     |  \n",
      "     |  transform(self, X)\n",
      "     |      Transform data to polynomial features\n",
      "     |      \n",
      "     |      Parameters\n",
      "     |      ----------\n",
      "     |      X : array-like, shape [n_samples, n_features]\n",
      "     |          The data to transform, row by row.\n",
      "     |      \n",
      "     |      Returns\n",
      "     |      -------\n",
      "     |      XP : np.ndarray shape [n_samples, NP]\n",
      "     |          The matrix of features, where NP is the number of polynomial\n",
      "     |          features generated from the combination of inputs.\n",
      "     |  \n",
      "     |  ----------------------------------------------------------------------\n",
      "     |  Data descriptors defined here:\n",
      "     |  \n",
      "     |  powers_\n",
      "     |  \n",
      "     |  ----------------------------------------------------------------------\n",
      "     |  Methods inherited from sklearn.base.BaseEstimator:\n",
      "     |  \n",
      "     |  __getstate__(self)\n",
      "     |  \n",
      "     |  __repr__(self)\n",
      "     |      Return repr(self).\n",
      "     |  \n",
      "     |  __setstate__(self, state)\n",
      "     |  \n",
      "     |  get_params(self, deep=True)\n",
      "     |      Get parameters for this estimator.\n",
      "     |      \n",
      "     |      Parameters\n",
      "     |      ----------\n",
      "     |      deep : boolean, optional\n",
      "     |          If True, will return the parameters for this estimator and\n",
      "     |          contained subobjects that are estimators.\n",
      "     |      \n",
      "     |      Returns\n",
      "     |      -------\n",
      "     |      params : mapping of string to any\n",
      "     |          Parameter names mapped to their values.\n",
      "     |  \n",
      "     |  set_params(self, **params)\n",
      "     |      Set the parameters of this estimator.\n",
      "     |      \n",
      "     |      The method works on simple estimators as well as on nested objects\n",
      "     |      (such as pipelines). The latter have parameters of the form\n",
      "     |      ``<component>__<parameter>`` so that it's possible to update each\n",
      "     |      component of a nested object.\n",
      "     |      \n",
      "     |      Returns\n",
      "     |      -------\n",
      "     |      self\n",
      "     |  \n",
      "     |  ----------------------------------------------------------------------\n",
      "     |  Data descriptors inherited from sklearn.base.BaseEstimator:\n",
      "     |  \n",
      "     |  __dict__\n",
      "     |      dictionary for instance variables (if defined)\n",
      "     |  \n",
      "     |  __weakref__\n",
      "     |      list of weak references to the object (if defined)\n",
      "     |  \n",
      "     |  ----------------------------------------------------------------------\n",
      "     |  Methods inherited from sklearn.base.TransformerMixin:\n",
      "     |  \n",
      "     |  fit_transform(self, X, y=None, **fit_params)\n",
      "     |      Fit to data, then transform it.\n",
      "     |      \n",
      "     |      Fits transformer to X and y with optional parameters fit_params\n",
      "     |      and returns a transformed version of X.\n",
      "     |      \n",
      "     |      Parameters\n",
      "     |      ----------\n",
      "     |      X : numpy array of shape [n_samples, n_features]\n",
      "     |          Training set.\n",
      "     |      \n",
      "     |      y : numpy array of shape [n_samples]\n",
      "     |          Target values.\n",
      "     |      \n",
      "     |      Returns\n",
      "     |      -------\n",
      "     |      X_new : numpy array of shape [n_samples, n_features_new]\n",
      "     |          Transformed array.\n",
      "    \n",
      "    class QuantileTransformer(sklearn.base.BaseEstimator, sklearn.base.TransformerMixin)\n",
      "     |  Transform features using quantiles information.\n",
      "     |  \n",
      "     |  This method transforms the features to follow a uniform or a normal\n",
      "     |  distribution. Therefore, for a given feature, this transformation tends\n",
      "     |  to spread out the most frequent values. It also reduces the impact of\n",
      "     |  (marginal) outliers: this is therefore a robust preprocessing scheme.\n",
      "     |  \n",
      "     |  The transformation is applied on each feature independently.\n",
      "     |  The cumulative density function of a feature is used to project the\n",
      "     |  original values. Features values of new/unseen data that fall below\n",
      "     |  or above the fitted range will be mapped to the bounds of the output\n",
      "     |  distribution. Note that this transform is non-linear. It may distort linear\n",
      "     |  correlations between variables measured at the same scale but renders\n",
      "     |  variables measured at different scales more directly comparable.\n",
      "     |  \n",
      "     |  Read more in the :ref:`User Guide <preprocessing_transformer>`.\n",
      "     |  \n",
      "     |  Parameters\n",
      "     |  ----------\n",
      "     |  n_quantiles : int, optional (default=1000)\n",
      "     |      Number of quantiles to be computed. It corresponds to the number\n",
      "     |      of landmarks used to discretize the cumulative density function.\n",
      "     |  \n",
      "     |  output_distribution : str, optional (default='uniform')\n",
      "     |      Marginal distribution for the transformed data. The choices are\n",
      "     |      'uniform' (default) or 'normal'.\n",
      "     |  \n",
      "     |  ignore_implicit_zeros : bool, optional (default=False)\n",
      "     |      Only applies to sparse matrices. If True, the sparse entries of the\n",
      "     |      matrix are discarded to compute the quantile statistics. If False,\n",
      "     |      these entries are treated as zeros.\n",
      "     |  \n",
      "     |  subsample : int, optional (default=1e5)\n",
      "     |      Maximum number of samples used to estimate the quantiles for\n",
      "     |      computational efficiency. Note that the subsampling procedure may\n",
      "     |      differ for value-identical sparse and dense matrices.\n",
      "     |  \n",
      "     |  random_state : int, RandomState instance or None, optional (default=None)\n",
      "     |      If int, random_state is the seed used by the random number generator;\n",
      "     |      If RandomState instance, random_state is the random number generator;\n",
      "     |      If None, the random number generator is the RandomState instance used\n",
      "     |      by np.random. Note that this is used by subsampling and smoothing\n",
      "     |      noise.\n",
      "     |  \n",
      "     |  copy : boolean, optional, (default=True)\n",
      "     |      Set to False to perform inplace transformation and avoid a copy (if the\n",
      "     |      input is already a numpy array).\n",
      "     |  \n",
      "     |  Attributes\n",
      "     |  ----------\n",
      "     |  quantiles_ : ndarray, shape (n_quantiles, n_features)\n",
      "     |      The values corresponding the quantiles of reference.\n",
      "     |  \n",
      "     |  references_ : ndarray, shape(n_quantiles, )\n",
      "     |      Quantiles of references.\n",
      "     |  \n",
      "     |  Examples\n",
      "     |  --------\n",
      "     |  >>> import numpy as np\n",
      "     |  >>> from sklearn.preprocessing import QuantileTransformer\n",
      "     |  >>> rng = np.random.RandomState(0)\n",
      "     |  >>> X = np.sort(rng.normal(loc=0.5, scale=0.25, size=(25, 1)), axis=0)\n",
      "     |  >>> qt = QuantileTransformer(n_quantiles=10, random_state=0)\n",
      "     |  >>> qt.fit_transform(X) # doctest: +ELLIPSIS\n",
      "     |  array([...])\n",
      "     |  \n",
      "     |  See also\n",
      "     |  --------\n",
      "     |  quantile_transform : Equivalent function without the estimator API.\n",
      "     |  StandardScaler : perform standardization that is faster, but less robust\n",
      "     |      to outliers.\n",
      "     |  RobustScaler : perform robust standardization that removes the influence\n",
      "     |      of outliers but does not put outliers and inliers on the same scale.\n",
      "     |  \n",
      "     |  Notes\n",
      "     |  -----\n",
      "     |  For a comparison of the different scalers, transformers, and normalizers,\n",
      "     |  see :ref:`examples/preprocessing/plot_all_scaling.py\n",
      "     |  <sphx_glr_auto_examples_preprocessing_plot_all_scaling.py>`.\n",
      "     |  \n",
      "     |  Method resolution order:\n",
      "     |      QuantileTransformer\n",
      "     |      sklearn.base.BaseEstimator\n",
      "     |      sklearn.base.TransformerMixin\n",
      "     |      builtins.object\n",
      "     |  \n",
      "     |  Methods defined here:\n",
      "     |  \n",
      "     |  __init__(self, n_quantiles=1000, output_distribution='uniform', ignore_implicit_zeros=False, subsample=100000, random_state=None, copy=True)\n",
      "     |      Initialize self.  See help(type(self)) for accurate signature.\n",
      "     |  \n",
      "     |  fit(self, X, y=None)\n",
      "     |      Compute the quantiles used for transforming.\n",
      "     |      \n",
      "     |      Parameters\n",
      "     |      ----------\n",
      "     |      X : ndarray or sparse matrix, shape (n_samples, n_features)\n",
      "     |          The data used to scale along the features axis. If a sparse\n",
      "     |          matrix is provided, it will be converted into a sparse\n",
      "     |          ``csc_matrix``. Additionally, the sparse matrix needs to be\n",
      "     |          nonnegative if `ignore_implicit_zeros` is False.\n",
      "     |      \n",
      "     |      Returns\n",
      "     |      -------\n",
      "     |      self : object\n",
      "     |          Returns self\n",
      "     |  \n",
      "     |  inverse_transform(self, X)\n",
      "     |      Back-projection to the original space.\n",
      "     |      \n",
      "     |      Parameters\n",
      "     |      ----------\n",
      "     |      X : ndarray or sparse matrix, shape (n_samples, n_features)\n",
      "     |          The data used to scale along the features axis. If a sparse\n",
      "     |          matrix is provided, it will be converted into a sparse\n",
      "     |          ``csc_matrix``. Additionally, the sparse matrix needs to be\n",
      "     |          nonnegative if `ignore_implicit_zeros` is False.\n",
      "     |      \n",
      "     |      Returns\n",
      "     |      -------\n",
      "     |      Xt : ndarray or sparse matrix, shape (n_samples, n_features)\n",
      "     |          The projected data.\n",
      "     |  \n",
      "     |  transform(self, X)\n",
      "     |      Feature-wise transformation of the data.\n",
      "     |      \n",
      "     |      Parameters\n",
      "     |      ----------\n",
      "     |      X : ndarray or sparse matrix, shape (n_samples, n_features)\n",
      "     |          The data used to scale along the features axis. If a sparse\n",
      "     |          matrix is provided, it will be converted into a sparse\n",
      "     |          ``csc_matrix``. Additionally, the sparse matrix needs to be\n",
      "     |          nonnegative if `ignore_implicit_zeros` is False.\n",
      "     |      \n",
      "     |      Returns\n",
      "     |      -------\n",
      "     |      Xt : ndarray or sparse matrix, shape (n_samples, n_features)\n",
      "     |          The projected data.\n",
      "     |  \n",
      "     |  ----------------------------------------------------------------------\n",
      "     |  Methods inherited from sklearn.base.BaseEstimator:\n",
      "     |  \n",
      "     |  __getstate__(self)\n",
      "     |  \n",
      "     |  __repr__(self)\n",
      "     |      Return repr(self).\n",
      "     |  \n",
      "     |  __setstate__(self, state)\n",
      "     |  \n",
      "     |  get_params(self, deep=True)\n",
      "     |      Get parameters for this estimator.\n",
      "     |      \n",
      "     |      Parameters\n",
      "     |      ----------\n",
      "     |      deep : boolean, optional\n",
      "     |          If True, will return the parameters for this estimator and\n",
      "     |          contained subobjects that are estimators.\n",
      "     |      \n",
      "     |      Returns\n",
      "     |      -------\n",
      "     |      params : mapping of string to any\n",
      "     |          Parameter names mapped to their values.\n",
      "     |  \n",
      "     |  set_params(self, **params)\n",
      "     |      Set the parameters of this estimator.\n",
      "     |      \n",
      "     |      The method works on simple estimators as well as on nested objects\n",
      "     |      (such as pipelines). The latter have parameters of the form\n",
      "     |      ``<component>__<parameter>`` so that it's possible to update each\n",
      "     |      component of a nested object.\n",
      "     |      \n",
      "     |      Returns\n",
      "     |      -------\n",
      "     |      self\n",
      "     |  \n",
      "     |  ----------------------------------------------------------------------\n",
      "     |  Data descriptors inherited from sklearn.base.BaseEstimator:\n",
      "     |  \n",
      "     |  __dict__\n",
      "     |      dictionary for instance variables (if defined)\n",
      "     |  \n",
      "     |  __weakref__\n",
      "     |      list of weak references to the object (if defined)\n",
      "     |  \n",
      "     |  ----------------------------------------------------------------------\n",
      "     |  Methods inherited from sklearn.base.TransformerMixin:\n",
      "     |  \n",
      "     |  fit_transform(self, X, y=None, **fit_params)\n",
      "     |      Fit to data, then transform it.\n",
      "     |      \n",
      "     |      Fits transformer to X and y with optional parameters fit_params\n",
      "     |      and returns a transformed version of X.\n",
      "     |      \n",
      "     |      Parameters\n",
      "     |      ----------\n",
      "     |      X : numpy array of shape [n_samples, n_features]\n",
      "     |          Training set.\n",
      "     |      \n",
      "     |      y : numpy array of shape [n_samples]\n",
      "     |          Target values.\n",
      "     |      \n",
      "     |      Returns\n",
      "     |      -------\n",
      "     |      X_new : numpy array of shape [n_samples, n_features_new]\n",
      "     |          Transformed array.\n",
      "    \n",
      "    class RobustScaler(sklearn.base.BaseEstimator, sklearn.base.TransformerMixin)\n",
      "     |  Scale features using statistics that are robust to outliers.\n",
      "     |  \n",
      "     |  This Scaler removes the median and scales the data according to\n",
      "     |  the quantile range (defaults to IQR: Interquartile Range).\n",
      "     |  The IQR is the range between the 1st quartile (25th quantile)\n",
      "     |  and the 3rd quartile (75th quantile).\n",
      "     |  \n",
      "     |  Centering and scaling happen independently on each feature (or each\n",
      "     |  sample, depending on the ``axis`` argument) by computing the relevant\n",
      "     |  statistics on the samples in the training set. Median and  interquartile\n",
      "     |  range are then stored to be used on later data using the ``transform``\n",
      "     |  method.\n",
      "     |  \n",
      "     |  Standardization of a dataset is a common requirement for many\n",
      "     |  machine learning estimators. Typically this is done by removing the mean\n",
      "     |  and scaling to unit variance. However, outliers can often influence the\n",
      "     |  sample mean / variance in a negative way. In such cases, the median and\n",
      "     |  the interquartile range often give better results.\n",
      "     |  \n",
      "     |  .. versionadded:: 0.17\n",
      "     |  \n",
      "     |  Read more in the :ref:`User Guide <preprocessing_scaler>`.\n",
      "     |  \n",
      "     |  Parameters\n",
      "     |  ----------\n",
      "     |  with_centering : boolean, True by default\n",
      "     |      If True, center the data before scaling.\n",
      "     |      This will cause ``transform`` to raise an exception when attempted on\n",
      "     |      sparse matrices, because centering them entails building a dense\n",
      "     |      matrix which in common use cases is likely to be too large to fit in\n",
      "     |      memory.\n",
      "     |  \n",
      "     |  with_scaling : boolean, True by default\n",
      "     |      If True, scale the data to interquartile range.\n",
      "     |  \n",
      "     |  quantile_range : tuple (q_min, q_max), 0.0 < q_min < q_max < 100.0\n",
      "     |      Default: (25.0, 75.0) = (1st quantile, 3rd quantile) = IQR\n",
      "     |      Quantile range used to calculate ``scale_``.\n",
      "     |  \n",
      "     |      .. versionadded:: 0.18\n",
      "     |  \n",
      "     |  copy : boolean, optional, default is True\n",
      "     |      If False, try to avoid a copy and do inplace scaling instead.\n",
      "     |      This is not guaranteed to always work inplace; e.g. if the data is\n",
      "     |      not a NumPy array or scipy.sparse CSR matrix, a copy may still be\n",
      "     |      returned.\n",
      "     |  \n",
      "     |  Attributes\n",
      "     |  ----------\n",
      "     |  center_ : array of floats\n",
      "     |      The median value for each feature in the training set.\n",
      "     |  \n",
      "     |  scale_ : array of floats\n",
      "     |      The (scaled) interquartile range for each feature in the training set.\n",
      "     |  \n",
      "     |      .. versionadded:: 0.17\n",
      "     |         *scale_* attribute.\n",
      "     |  \n",
      "     |  See also\n",
      "     |  --------\n",
      "     |  robust_scale: Equivalent function without the estimator API.\n",
      "     |  \n",
      "     |  :class:`sklearn.decomposition.PCA`\n",
      "     |      Further removes the linear correlation across features with\n",
      "     |      'whiten=True'.\n",
      "     |  \n",
      "     |  Notes\n",
      "     |  -----\n",
      "     |  For a comparison of the different scalers, transformers, and normalizers,\n",
      "     |  see :ref:`examples/preprocessing/plot_all_scaling.py\n",
      "     |  <sphx_glr_auto_examples_preprocessing_plot_all_scaling.py>`.\n",
      "     |  \n",
      "     |  https://en.wikipedia.org/wiki/Median_(statistics)\n",
      "     |  https://en.wikipedia.org/wiki/Interquartile_range\n",
      "     |  \n",
      "     |  Method resolution order:\n",
      "     |      RobustScaler\n",
      "     |      sklearn.base.BaseEstimator\n",
      "     |      sklearn.base.TransformerMixin\n",
      "     |      builtins.object\n",
      "     |  \n",
      "     |  Methods defined here:\n",
      "     |  \n",
      "     |  __init__(self, with_centering=True, with_scaling=True, quantile_range=(25.0, 75.0), copy=True)\n",
      "     |      Initialize self.  See help(type(self)) for accurate signature.\n",
      "     |  \n",
      "     |  fit(self, X, y=None)\n",
      "     |      Compute the median and quantiles to be used for scaling.\n",
      "     |      \n",
      "     |      Parameters\n",
      "     |      ----------\n",
      "     |      X : array-like, shape [n_samples, n_features]\n",
      "     |          The data used to compute the median and quantiles\n",
      "     |          used for later scaling along the features axis.\n",
      "     |  \n",
      "     |  inverse_transform(self, X)\n",
      "     |      Scale back the data to the original representation\n",
      "     |      \n",
      "     |      Parameters\n",
      "     |      ----------\n",
      "     |      X : array-like\n",
      "     |          The data used to scale along the specified axis.\n",
      "     |  \n",
      "     |  transform(self, X)\n",
      "     |      Center and scale the data.\n",
      "     |      \n",
      "     |      Can be called on sparse input, provided that ``RobustScaler`` has been\n",
      "     |      fitted to dense input and ``with_centering=False``.\n",
      "     |      \n",
      "     |      Parameters\n",
      "     |      ----------\n",
      "     |      X : {array-like, sparse matrix}\n",
      "     |          The data used to scale along the specified axis.\n",
      "     |  \n",
      "     |  ----------------------------------------------------------------------\n",
      "     |  Methods inherited from sklearn.base.BaseEstimator:\n",
      "     |  \n",
      "     |  __getstate__(self)\n",
      "     |  \n",
      "     |  __repr__(self)\n",
      "     |      Return repr(self).\n",
      "     |  \n",
      "     |  __setstate__(self, state)\n",
      "     |  \n",
      "     |  get_params(self, deep=True)\n",
      "     |      Get parameters for this estimator.\n",
      "     |      \n",
      "     |      Parameters\n",
      "     |      ----------\n",
      "     |      deep : boolean, optional\n",
      "     |          If True, will return the parameters for this estimator and\n",
      "     |          contained subobjects that are estimators.\n",
      "     |      \n",
      "     |      Returns\n",
      "     |      -------\n",
      "     |      params : mapping of string to any\n",
      "     |          Parameter names mapped to their values.\n",
      "     |  \n",
      "     |  set_params(self, **params)\n",
      "     |      Set the parameters of this estimator.\n",
      "     |      \n",
      "     |      The method works on simple estimators as well as on nested objects\n",
      "     |      (such as pipelines). The latter have parameters of the form\n",
      "     |      ``<component>__<parameter>`` so that it's possible to update each\n",
      "     |      component of a nested object.\n",
      "     |      \n",
      "     |      Returns\n",
      "     |      -------\n",
      "     |      self\n",
      "     |  \n",
      "     |  ----------------------------------------------------------------------\n",
      "     |  Data descriptors inherited from sklearn.base.BaseEstimator:\n",
      "     |  \n",
      "     |  __dict__\n",
      "     |      dictionary for instance variables (if defined)\n",
      "     |  \n",
      "     |  __weakref__\n",
      "     |      list of weak references to the object (if defined)\n",
      "     |  \n",
      "     |  ----------------------------------------------------------------------\n",
      "     |  Methods inherited from sklearn.base.TransformerMixin:\n",
      "     |  \n",
      "     |  fit_transform(self, X, y=None, **fit_params)\n",
      "     |      Fit to data, then transform it.\n",
      "     |      \n",
      "     |      Fits transformer to X and y with optional parameters fit_params\n",
      "     |      and returns a transformed version of X.\n",
      "     |      \n",
      "     |      Parameters\n",
      "     |      ----------\n",
      "     |      X : numpy array of shape [n_samples, n_features]\n",
      "     |          Training set.\n",
      "     |      \n",
      "     |      y : numpy array of shape [n_samples]\n",
      "     |          Target values.\n",
      "     |      \n",
      "     |      Returns\n",
      "     |      -------\n",
      "     |      X_new : numpy array of shape [n_samples, n_features_new]\n",
      "     |          Transformed array.\n",
      "    \n",
      "    class StandardScaler(sklearn.base.BaseEstimator, sklearn.base.TransformerMixin)\n",
      "     |  Standardize features by removing the mean and scaling to unit variance\n",
      "     |  \n",
      "     |  Centering and scaling happen independently on each feature by computing\n",
      "     |  the relevant statistics on the samples in the training set. Mean and\n",
      "     |  standard deviation are then stored to be used on later data using the\n",
      "     |  `transform` method.\n",
      "     |  \n",
      "     |  Standardization of a dataset is a common requirement for many\n",
      "     |  machine learning estimators: they might behave badly if the\n",
      "     |  individual feature do not more or less look like standard normally\n",
      "     |  distributed data (e.g. Gaussian with 0 mean and unit variance).\n",
      "     |  \n",
      "     |  For instance many elements used in the objective function of\n",
      "     |  a learning algorithm (such as the RBF kernel of Support Vector\n",
      "     |  Machines or the L1 and L2 regularizers of linear models) assume that\n",
      "     |  all features are centered around 0 and have variance in the same\n",
      "     |  order. If a feature has a variance that is orders of magnitude larger\n",
      "     |  that others, it might dominate the objective function and make the\n",
      "     |  estimator unable to learn from other features correctly as expected.\n",
      "     |  \n",
      "     |  This scaler can also be applied to sparse CSR or CSC matrices by passing\n",
      "     |  `with_mean=False` to avoid breaking the sparsity structure of the data.\n",
      "     |  \n",
      "     |  Read more in the :ref:`User Guide <preprocessing_scaler>`.\n",
      "     |  \n",
      "     |  Parameters\n",
      "     |  ----------\n",
      "     |  copy : boolean, optional, default True\n",
      "     |      If False, try to avoid a copy and do inplace scaling instead.\n",
      "     |      This is not guaranteed to always work inplace; e.g. if the data is\n",
      "     |      not a NumPy array or scipy.sparse CSR matrix, a copy may still be\n",
      "     |      returned.\n",
      "     |  \n",
      "     |  with_mean : boolean, True by default\n",
      "     |      If True, center the data before scaling.\n",
      "     |      This does not work (and will raise an exception) when attempted on\n",
      "     |      sparse matrices, because centering them entails building a dense\n",
      "     |      matrix which in common use cases is likely to be too large to fit in\n",
      "     |      memory.\n",
      "     |  \n",
      "     |  with_std : boolean, True by default\n",
      "     |      If True, scale the data to unit variance (or equivalently,\n",
      "     |      unit standard deviation).\n",
      "     |  \n",
      "     |  Attributes\n",
      "     |  ----------\n",
      "     |  scale_ : ndarray, shape (n_features,)\n",
      "     |      Per feature relative scaling of the data.\n",
      "     |  \n",
      "     |      .. versionadded:: 0.17\n",
      "     |         *scale_*\n",
      "     |  \n",
      "     |  mean_ : array of floats with shape [n_features]\n",
      "     |      The mean value for each feature in the training set.\n",
      "     |  \n",
      "     |  var_ : array of floats with shape [n_features]\n",
      "     |      The variance for each feature in the training set. Used to compute\n",
      "     |      `scale_`\n",
      "     |  \n",
      "     |  n_samples_seen_ : int\n",
      "     |      The number of samples processed by the estimator. Will be reset on\n",
      "     |      new calls to fit, but increments across ``partial_fit`` calls.\n",
      "     |  \n",
      "     |  Examples\n",
      "     |  --------\n",
      "     |  >>> from sklearn.preprocessing import StandardScaler\n",
      "     |  >>>\n",
      "     |  >>> data = [[0, 0], [0, 0], [1, 1], [1, 1]]\n",
      "     |  >>> scaler = StandardScaler()\n",
      "     |  >>> print(scaler.fit(data))\n",
      "     |  StandardScaler(copy=True, with_mean=True, with_std=True)\n",
      "     |  >>> print(scaler.mean_)\n",
      "     |  [ 0.5  0.5]\n",
      "     |  >>> print(scaler.transform(data))\n",
      "     |  [[-1. -1.]\n",
      "     |   [-1. -1.]\n",
      "     |   [ 1.  1.]\n",
      "     |   [ 1.  1.]]\n",
      "     |  >>> print(scaler.transform([[2, 2]]))\n",
      "     |  [[ 3.  3.]]\n",
      "     |  \n",
      "     |  See also\n",
      "     |  --------\n",
      "     |  scale: Equivalent function without the estimator API.\n",
      "     |  \n",
      "     |  :class:`sklearn.decomposition.PCA`\n",
      "     |      Further removes the linear correlation across features with 'whiten=True'.\n",
      "     |  \n",
      "     |  Notes\n",
      "     |  -----\n",
      "     |  For a comparison of the different scalers, transformers, and normalizers,\n",
      "     |  see :ref:`examples/preprocessing/plot_all_scaling.py\n",
      "     |  <sphx_glr_auto_examples_preprocessing_plot_all_scaling.py>`.\n",
      "     |  \n",
      "     |  Method resolution order:\n",
      "     |      StandardScaler\n",
      "     |      sklearn.base.BaseEstimator\n",
      "     |      sklearn.base.TransformerMixin\n",
      "     |      builtins.object\n",
      "     |  \n",
      "     |  Methods defined here:\n",
      "     |  \n",
      "     |  __init__(self, copy=True, with_mean=True, with_std=True)\n",
      "     |      Initialize self.  See help(type(self)) for accurate signature.\n",
      "     |  \n",
      "     |  fit(self, X, y=None)\n",
      "     |      Compute the mean and std to be used for later scaling.\n",
      "     |      \n",
      "     |      Parameters\n",
      "     |      ----------\n",
      "     |      X : {array-like, sparse matrix}, shape [n_samples, n_features]\n",
      "     |          The data used to compute the mean and standard deviation\n",
      "     |          used for later scaling along the features axis.\n",
      "     |      \n",
      "     |      y : Passthrough for ``Pipeline`` compatibility.\n",
      "     |  \n",
      "     |  inverse_transform(self, X, copy=None)\n",
      "     |      Scale back the data to the original representation\n",
      "     |      \n",
      "     |      Parameters\n",
      "     |      ----------\n",
      "     |      X : array-like, shape [n_samples, n_features]\n",
      "     |          The data used to scale along the features axis.\n",
      "     |      copy : bool, optional (default: None)\n",
      "     |          Copy the input X or not.\n",
      "     |      \n",
      "     |      Returns\n",
      "     |      -------\n",
      "     |      X_tr : array-like, shape [n_samples, n_features]\n",
      "     |          Transformed array.\n",
      "     |  \n",
      "     |  partial_fit(self, X, y=None)\n",
      "     |      Online computation of mean and std on X for later scaling.\n",
      "     |      All of X is processed as a single batch. This is intended for cases\n",
      "     |      when `fit` is not feasible due to very large number of `n_samples`\n",
      "     |      or because X is read from a continuous stream.\n",
      "     |      \n",
      "     |      The algorithm for incremental mean and std is given in Equation 1.5a,b\n",
      "     |      in Chan, Tony F., Gene H. Golub, and Randall J. LeVeque. \"Algorithms\n",
      "     |      for computing the sample variance: Analysis and recommendations.\"\n",
      "     |      The American Statistician 37.3 (1983): 242-247:\n",
      "     |      \n",
      "     |      Parameters\n",
      "     |      ----------\n",
      "     |      X : {array-like, sparse matrix}, shape [n_samples, n_features]\n",
      "     |          The data used to compute the mean and standard deviation\n",
      "     |          used for later scaling along the features axis.\n",
      "     |      \n",
      "     |      y : Passthrough for ``Pipeline`` compatibility.\n",
      "     |  \n",
      "     |  transform(self, X, y='deprecated', copy=None)\n",
      "     |      Perform standardization by centering and scaling\n",
      "     |      \n",
      "     |      Parameters\n",
      "     |      ----------\n",
      "     |      X : array-like, shape [n_samples, n_features]\n",
      "     |          The data used to scale along the features axis.\n",
      "     |      y : (ignored)\n",
      "     |          .. deprecated:: 0.19\n",
      "     |             This parameter will be removed in 0.21.\n",
      "     |      copy : bool, optional (default: None)\n",
      "     |          Copy the input X or not.\n",
      "     |  \n",
      "     |  ----------------------------------------------------------------------\n",
      "     |  Methods inherited from sklearn.base.BaseEstimator:\n",
      "     |  \n",
      "     |  __getstate__(self)\n",
      "     |  \n",
      "     |  __repr__(self)\n",
      "     |      Return repr(self).\n",
      "     |  \n",
      "     |  __setstate__(self, state)\n",
      "     |  \n",
      "     |  get_params(self, deep=True)\n",
      "     |      Get parameters for this estimator.\n",
      "     |      \n",
      "     |      Parameters\n",
      "     |      ----------\n",
      "     |      deep : boolean, optional\n",
      "     |          If True, will return the parameters for this estimator and\n",
      "     |          contained subobjects that are estimators.\n",
      "     |      \n",
      "     |      Returns\n",
      "     |      -------\n",
      "     |      params : mapping of string to any\n",
      "     |          Parameter names mapped to their values.\n",
      "     |  \n",
      "     |  set_params(self, **params)\n",
      "     |      Set the parameters of this estimator.\n",
      "     |      \n",
      "     |      The method works on simple estimators as well as on nested objects\n",
      "     |      (such as pipelines). The latter have parameters of the form\n",
      "     |      ``<component>__<parameter>`` so that it's possible to update each\n",
      "     |      component of a nested object.\n",
      "     |      \n",
      "     |      Returns\n",
      "     |      -------\n",
      "     |      self\n",
      "     |  \n",
      "     |  ----------------------------------------------------------------------\n",
      "     |  Data descriptors inherited from sklearn.base.BaseEstimator:\n",
      "     |  \n",
      "     |  __dict__\n",
      "     |      dictionary for instance variables (if defined)\n",
      "     |  \n",
      "     |  __weakref__\n",
      "     |      list of weak references to the object (if defined)\n",
      "     |  \n",
      "     |  ----------------------------------------------------------------------\n",
      "     |  Methods inherited from sklearn.base.TransformerMixin:\n",
      "     |  \n",
      "     |  fit_transform(self, X, y=None, **fit_params)\n",
      "     |      Fit to data, then transform it.\n",
      "     |      \n",
      "     |      Fits transformer to X and y with optional parameters fit_params\n",
      "     |      and returns a transformed version of X.\n",
      "     |      \n",
      "     |      Parameters\n",
      "     |      ----------\n",
      "     |      X : numpy array of shape [n_samples, n_features]\n",
      "     |          Training set.\n",
      "     |      \n",
      "     |      y : numpy array of shape [n_samples]\n",
      "     |          Target values.\n",
      "     |      \n",
      "     |      Returns\n",
      "     |      -------\n",
      "     |      X_new : numpy array of shape [n_samples, n_features_new]\n",
      "     |          Transformed array.\n",
      "\n",
      "FUNCTIONS\n",
      "    add_dummy_feature(X, value=1.0)\n",
      "        Augment dataset with an additional dummy feature.\n",
      "        \n",
      "        This is useful for fitting an intercept term with implementations which\n",
      "        cannot otherwise fit it directly.\n",
      "        \n",
      "        Parameters\n",
      "        ----------\n",
      "        X : {array-like, sparse matrix}, shape [n_samples, n_features]\n",
      "            Data.\n",
      "        \n",
      "        value : float\n",
      "            Value to use for the dummy feature.\n",
      "        \n",
      "        Returns\n",
      "        -------\n",
      "        \n",
      "        X : {array, sparse matrix}, shape [n_samples, n_features + 1]\n",
      "            Same data with dummy feature added as first column.\n",
      "        \n",
      "        Examples\n",
      "        --------\n",
      "        \n",
      "        >>> from sklearn.preprocessing import add_dummy_feature\n",
      "        >>> add_dummy_feature([[0, 1], [1, 0]])\n",
      "        array([[ 1.,  0.,  1.],\n",
      "               [ 1.,  1.,  0.]])\n",
      "    \n",
      "    binarize(X, threshold=0.0, copy=True)\n",
      "        Boolean thresholding of array-like or scipy.sparse matrix\n",
      "        \n",
      "        Read more in the :ref:`User Guide <preprocessing_binarization>`.\n",
      "        \n",
      "        Parameters\n",
      "        ----------\n",
      "        X : {array-like, sparse matrix}, shape [n_samples, n_features]\n",
      "            The data to binarize, element by element.\n",
      "            scipy.sparse matrices should be in CSR or CSC format to avoid an\n",
      "            un-necessary copy.\n",
      "        \n",
      "        threshold : float, optional (0.0 by default)\n",
      "            Feature values below or equal to this are replaced by 0, above it by 1.\n",
      "            Threshold may not be less than 0 for operations on sparse matrices.\n",
      "        \n",
      "        copy : boolean, optional, default True\n",
      "            set to False to perform inplace binarization and avoid a copy\n",
      "            (if the input is already a numpy array or a scipy.sparse CSR / CSC\n",
      "            matrix and if axis is 1).\n",
      "        \n",
      "        See also\n",
      "        --------\n",
      "        Binarizer: Performs binarization using the ``Transformer`` API\n",
      "            (e.g. as part of a preprocessing :class:`sklearn.pipeline.Pipeline`).\n",
      "    \n",
      "    label_binarize(y, classes, neg_label=0, pos_label=1, sparse_output=False)\n",
      "        Binarize labels in a one-vs-all fashion\n",
      "        \n",
      "        Several regression and binary classification algorithms are\n",
      "        available in the scikit. A simple way to extend these algorithms\n",
      "        to the multi-class classification case is to use the so-called\n",
      "        one-vs-all scheme.\n",
      "        \n",
      "        This function makes it possible to compute this transformation for a\n",
      "        fixed set of class labels known ahead of time.\n",
      "        \n",
      "        Parameters\n",
      "        ----------\n",
      "        y : array-like\n",
      "            Sequence of integer labels or multilabel data to encode.\n",
      "        \n",
      "        classes : array-like of shape [n_classes]\n",
      "            Uniquely holds the label for each class.\n",
      "        \n",
      "        neg_label : int (default: 0)\n",
      "            Value with which negative labels must be encoded.\n",
      "        \n",
      "        pos_label : int (default: 1)\n",
      "            Value with which positive labels must be encoded.\n",
      "        \n",
      "        sparse_output : boolean (default: False),\n",
      "            Set to true if output binary array is desired in CSR sparse format\n",
      "        \n",
      "        Returns\n",
      "        -------\n",
      "        Y : numpy array or CSR matrix of shape [n_samples, n_classes]\n",
      "            Shape will be [n_samples, 1] for binary problems.\n",
      "        \n",
      "        Examples\n",
      "        --------\n",
      "        >>> from sklearn.preprocessing import label_binarize\n",
      "        >>> label_binarize([1, 6], classes=[1, 2, 4, 6])\n",
      "        array([[1, 0, 0, 0],\n",
      "               [0, 0, 0, 1]])\n",
      "        \n",
      "        The class ordering is preserved:\n",
      "        \n",
      "        >>> label_binarize([1, 6], classes=[1, 6, 4, 2])\n",
      "        array([[1, 0, 0, 0],\n",
      "               [0, 1, 0, 0]])\n",
      "        \n",
      "        Binary targets transform to a column vector\n",
      "        \n",
      "        >>> label_binarize(['yes', 'no', 'no', 'yes'], classes=['no', 'yes'])\n",
      "        array([[1],\n",
      "               [0],\n",
      "               [0],\n",
      "               [1]])\n",
      "        \n",
      "        See also\n",
      "        --------\n",
      "        LabelBinarizer : class used to wrap the functionality of label_binarize and\n",
      "            allow for fitting to classes independently of the transform operation\n",
      "    \n",
      "    maxabs_scale(X, axis=0, copy=True)\n",
      "        Scale each feature to the [-1, 1] range without breaking the sparsity.\n",
      "        \n",
      "        This estimator scales each feature individually such\n",
      "        that the maximal absolute value of each feature in the\n",
      "        training set will be 1.0.\n",
      "        \n",
      "        This scaler can also be applied to sparse CSR or CSC matrices.\n",
      "        \n",
      "        Parameters\n",
      "        ----------\n",
      "        X : array-like, shape (n_samples, n_features)\n",
      "            The data.\n",
      "        \n",
      "        axis : int (0 by default)\n",
      "            axis used to scale along. If 0, independently scale each feature,\n",
      "            otherwise (if 1) scale each sample.\n",
      "        \n",
      "        copy : boolean, optional, default is True\n",
      "            Set to False to perform inplace scaling and avoid a copy (if the input\n",
      "            is already a numpy array).\n",
      "        \n",
      "        See also\n",
      "        --------\n",
      "        MaxAbsScaler: Performs scaling to the [-1, 1] range using the``Transformer`` API\n",
      "            (e.g. as part of a preprocessing :class:`sklearn.pipeline.Pipeline`).\n",
      "        \n",
      "        Notes\n",
      "        -----\n",
      "        For a comparison of the different scalers, transformers, and normalizers,\n",
      "        see :ref:`examples/preprocessing/plot_all_scaling.py\n",
      "        <sphx_glr_auto_examples_preprocessing_plot_all_scaling.py>`.\n",
      "    \n",
      "    minmax_scale(X, feature_range=(0, 1), axis=0, copy=True)\n",
      "        Transforms features by scaling each feature to a given range.\n",
      "        \n",
      "        This estimator scales and translates each feature individually such\n",
      "        that it is in the given range on the training set, i.e. between\n",
      "        zero and one.\n",
      "        \n",
      "        The transformation is given by::\n",
      "        \n",
      "            X_std = (X - X.min(axis=0)) / (X.max(axis=0) - X.min(axis=0))\n",
      "            X_scaled = X_std * (max - min) + min\n",
      "        \n",
      "        where min, max = feature_range.\n",
      "        \n",
      "        This transformation is often used as an alternative to zero mean,\n",
      "        unit variance scaling.\n",
      "        \n",
      "        Read more in the :ref:`User Guide <preprocessing_scaler>`.\n",
      "        \n",
      "        .. versionadded:: 0.17\n",
      "           *minmax_scale* function interface\n",
      "           to :class:`sklearn.preprocessing.MinMaxScaler`.\n",
      "        \n",
      "        Parameters\n",
      "        ----------\n",
      "        X : array-like, shape (n_samples, n_features)\n",
      "            The data.\n",
      "        \n",
      "        feature_range : tuple (min, max), default=(0, 1)\n",
      "            Desired range of transformed data.\n",
      "        \n",
      "        axis : int (0 by default)\n",
      "            axis used to scale along. If 0, independently scale each feature,\n",
      "            otherwise (if 1) scale each sample.\n",
      "        \n",
      "        copy : boolean, optional, default is True\n",
      "            Set to False to perform inplace scaling and avoid a copy (if the input\n",
      "            is already a numpy array).\n",
      "        \n",
      "        See also\n",
      "        --------\n",
      "        MinMaxScaler: Performs scaling to a given range using the``Transformer`` API\n",
      "            (e.g. as part of a preprocessing :class:`sklearn.pipeline.Pipeline`).\n",
      "        \n",
      "        Notes\n",
      "        -----\n",
      "        For a comparison of the different scalers, transformers, and normalizers,\n",
      "        see :ref:`examples/preprocessing/plot_all_scaling.py\n",
      "        <sphx_glr_auto_examples_preprocessing_plot_all_scaling.py>`.\n",
      "    \n",
      "    normalize(X, norm='l2', axis=1, copy=True, return_norm=False)\n",
      "        Scale input vectors individually to unit norm (vector length).\n",
      "        \n",
      "        Read more in the :ref:`User Guide <preprocessing_normalization>`.\n",
      "        \n",
      "        Parameters\n",
      "        ----------\n",
      "        X : {array-like, sparse matrix}, shape [n_samples, n_features]\n",
      "            The data to normalize, element by element.\n",
      "            scipy.sparse matrices should be in CSR format to avoid an\n",
      "            un-necessary copy.\n",
      "        \n",
      "        norm : 'l1', 'l2', or 'max', optional ('l2' by default)\n",
      "            The norm to use to normalize each non zero sample (or each non-zero\n",
      "            feature if axis is 0).\n",
      "        \n",
      "        axis : 0 or 1, optional (1 by default)\n",
      "            axis used to normalize the data along. If 1, independently normalize\n",
      "            each sample, otherwise (if 0) normalize each feature.\n",
      "        \n",
      "        copy : boolean, optional, default True\n",
      "            set to False to perform inplace row normalization and avoid a\n",
      "            copy (if the input is already a numpy array or a scipy.sparse\n",
      "            CSR matrix and if axis is 1).\n",
      "        \n",
      "        return_norm : boolean, default False\n",
      "            whether to return the computed norms\n",
      "        \n",
      "        Returns\n",
      "        -------\n",
      "        X : {array-like, sparse matrix}, shape [n_samples, n_features]\n",
      "            Normalized input X.\n",
      "        \n",
      "        norms : array, shape [n_samples] if axis=1 else [n_features]\n",
      "            An array of norms along given axis for X.\n",
      "            When X is sparse, a NotImplementedError will be raised\n",
      "            for norm 'l1' or 'l2'.\n",
      "        \n",
      "        See also\n",
      "        --------\n",
      "        Normalizer: Performs normalization using the ``Transformer`` API\n",
      "            (e.g. as part of a preprocessing :class:`sklearn.pipeline.Pipeline`).\n",
      "        \n",
      "        Notes\n",
      "        -----\n",
      "        For a comparison of the different scalers, transformers, and normalizers,\n",
      "        see :ref:`examples/preprocessing/plot_all_scaling.py\n",
      "        <sphx_glr_auto_examples_preprocessing_plot_all_scaling.py>`.\n",
      "    \n",
      "    quantile_transform(X, axis=0, n_quantiles=1000, output_distribution='uniform', ignore_implicit_zeros=False, subsample=100000, random_state=None, copy=False)\n",
      "        Transform features using quantiles information.\n",
      "        \n",
      "        This method transforms the features to follow a uniform or a normal\n",
      "        distribution. Therefore, for a given feature, this transformation tends\n",
      "        to spread out the most frequent values. It also reduces the impact of\n",
      "        (marginal) outliers: this is therefore a robust preprocessing scheme.\n",
      "        \n",
      "        The transformation is applied on each feature independently.\n",
      "        The cumulative density function of a feature is used to project the\n",
      "        original values. Features values of new/unseen data that fall below\n",
      "        or above the fitted range will be mapped to the bounds of the output\n",
      "        distribution. Note that this transform is non-linear. It may distort linear\n",
      "        correlations between variables measured at the same scale but renders\n",
      "        variables measured at different scales more directly comparable.\n",
      "        \n",
      "        Read more in the :ref:`User Guide <preprocessing_transformer>`.\n",
      "        \n",
      "        Parameters\n",
      "        ----------\n",
      "        X : array-like, sparse matrix\n",
      "            The data to transform.\n",
      "        \n",
      "        axis : int, (default=0)\n",
      "            Axis used to compute the means and standard deviations along. If 0,\n",
      "            transform each feature, otherwise (if 1) transform each sample.\n",
      "        \n",
      "        n_quantiles : int, optional (default=1000)\n",
      "            Number of quantiles to be computed. It corresponds to the number\n",
      "            of landmarks used to discretize the cumulative density function.\n",
      "        \n",
      "        output_distribution : str, optional (default='uniform')\n",
      "            Marginal distribution for the transformed data. The choices are\n",
      "            'uniform' (default) or 'normal'.\n",
      "        \n",
      "        ignore_implicit_zeros : bool, optional (default=False)\n",
      "            Only applies to sparse matrices. If True, the sparse entries of the\n",
      "            matrix are discarded to compute the quantile statistics. If False,\n",
      "            these entries are treated as zeros.\n",
      "        \n",
      "        subsample : int, optional (default=1e5)\n",
      "            Maximum number of samples used to estimate the quantiles for\n",
      "            computational efficiency. Note that the subsampling procedure may\n",
      "            differ for value-identical sparse and dense matrices.\n",
      "        \n",
      "        random_state : int, RandomState instance or None, optional (default=None)\n",
      "            If int, random_state is the seed used by the random number generator;\n",
      "            If RandomState instance, random_state is the random number generator;\n",
      "            If None, the random number generator is the RandomState instance used\n",
      "            by np.random. Note that this is used by subsampling and smoothing\n",
      "            noise.\n",
      "        \n",
      "        copy : boolean, optional, (default=True)\n",
      "            Set to False to perform inplace transformation and avoid a copy (if the\n",
      "            input is already a numpy array).\n",
      "        \n",
      "        Attributes\n",
      "        ----------\n",
      "        quantiles_ : ndarray, shape (n_quantiles, n_features)\n",
      "            The values corresponding the quantiles of reference.\n",
      "        \n",
      "        references_ : ndarray, shape(n_quantiles, )\n",
      "            Quantiles of references.\n",
      "        \n",
      "        Examples\n",
      "        --------\n",
      "        >>> import numpy as np\n",
      "        >>> from sklearn.preprocessing import quantile_transform\n",
      "        >>> rng = np.random.RandomState(0)\n",
      "        >>> X = np.sort(rng.normal(loc=0.5, scale=0.25, size=(25, 1)), axis=0)\n",
      "        >>> quantile_transform(X, n_quantiles=10, random_state=0)\n",
      "        ... # doctest: +ELLIPSIS\n",
      "        array([...])\n",
      "        \n",
      "        See also\n",
      "        --------\n",
      "        QuantileTransformer : Performs quantile-based scaling using the\n",
      "            ``Transformer`` API (e.g. as part of a preprocessing\n",
      "            :class:`sklearn.pipeline.Pipeline`).\n",
      "        scale : perform standardization that is faster, but less robust\n",
      "            to outliers.\n",
      "        robust_scale : perform robust standardization that removes the influence\n",
      "            of outliers but does not put outliers and inliers on the same scale.\n",
      "        \n",
      "        Notes\n",
      "        -----\n",
      "        For a comparison of the different scalers, transformers, and normalizers,\n",
      "        see :ref:`examples/preprocessing/plot_all_scaling.py\n",
      "        <sphx_glr_auto_examples_preprocessing_plot_all_scaling.py>`.\n",
      "    \n",
      "    robust_scale(X, axis=0, with_centering=True, with_scaling=True, quantile_range=(25.0, 75.0), copy=True)\n",
      "        Standardize a dataset along any axis\n",
      "        \n",
      "        Center to the median and component wise scale\n",
      "        according to the interquartile range.\n",
      "        \n",
      "        Read more in the :ref:`User Guide <preprocessing_scaler>`.\n",
      "        \n",
      "        Parameters\n",
      "        ----------\n",
      "        X : array-like\n",
      "            The data to center and scale.\n",
      "        \n",
      "        axis : int (0 by default)\n",
      "            axis used to compute the medians and IQR along. If 0,\n",
      "            independently scale each feature, otherwise (if 1) scale\n",
      "            each sample.\n",
      "        \n",
      "        with_centering : boolean, True by default\n",
      "            If True, center the data before scaling.\n",
      "        \n",
      "        with_scaling : boolean, True by default\n",
      "            If True, scale the data to unit variance (or equivalently,\n",
      "            unit standard deviation).\n",
      "        \n",
      "        quantile_range : tuple (q_min, q_max), 0.0 < q_min < q_max < 100.0\n",
      "            Default: (25.0, 75.0) = (1st quantile, 3rd quantile) = IQR\n",
      "            Quantile range used to calculate ``scale_``.\n",
      "        \n",
      "            .. versionadded:: 0.18\n",
      "        \n",
      "        copy : boolean, optional, default is True\n",
      "            set to False to perform inplace row normalization and avoid a\n",
      "            copy (if the input is already a numpy array or a scipy.sparse\n",
      "            CSR matrix and if axis is 1).\n",
      "        \n",
      "        Notes\n",
      "        -----\n",
      "        This implementation will refuse to center scipy.sparse matrices\n",
      "        since it would make them non-sparse and would potentially crash the\n",
      "        program with memory exhaustion problems.\n",
      "        \n",
      "        Instead the caller is expected to either set explicitly\n",
      "        `with_centering=False` (in that case, only variance scaling will be\n",
      "        performed on the features of the CSR matrix) or to call `X.toarray()`\n",
      "        if he/she expects the materialized dense array to fit in memory.\n",
      "        \n",
      "        To avoid memory copy the caller should pass a CSR matrix.\n",
      "        \n",
      "        For a comparison of the different scalers, transformers, and normalizers,\n",
      "        see :ref:`examples/preprocessing/plot_all_scaling.py\n",
      "        <sphx_glr_auto_examples_preprocessing_plot_all_scaling.py>`.\n",
      "        \n",
      "        See also\n",
      "        --------\n",
      "        RobustScaler: Performs centering and scaling using the ``Transformer`` API\n",
      "            (e.g. as part of a preprocessing :class:`sklearn.pipeline.Pipeline`).\n",
      "    \n",
      "    scale(X, axis=0, with_mean=True, with_std=True, copy=True)\n",
      "        Standardize a dataset along any axis\n",
      "        \n",
      "        Center to the mean and component wise scale to unit variance.\n",
      "        \n",
      "        Read more in the :ref:`User Guide <preprocessing_scaler>`.\n",
      "        \n",
      "        Parameters\n",
      "        ----------\n",
      "        X : {array-like, sparse matrix}\n",
      "            The data to center and scale.\n",
      "        \n",
      "        axis : int (0 by default)\n",
      "            axis used to compute the means and standard deviations along. If 0,\n",
      "            independently standardize each feature, otherwise (if 1) standardize\n",
      "            each sample.\n",
      "        \n",
      "        with_mean : boolean, True by default\n",
      "            If True, center the data before scaling.\n",
      "        \n",
      "        with_std : boolean, True by default\n",
      "            If True, scale the data to unit variance (or equivalently,\n",
      "            unit standard deviation).\n",
      "        \n",
      "        copy : boolean, optional, default True\n",
      "            set to False to perform inplace row normalization and avoid a\n",
      "            copy (if the input is already a numpy array or a scipy.sparse\n",
      "            CSC matrix and if axis is 1).\n",
      "        \n",
      "        Notes\n",
      "        -----\n",
      "        This implementation will refuse to center scipy.sparse matrices\n",
      "        since it would make them non-sparse and would potentially crash the\n",
      "        program with memory exhaustion problems.\n",
      "        \n",
      "        Instead the caller is expected to either set explicitly\n",
      "        `with_mean=False` (in that case, only variance scaling will be\n",
      "        performed on the features of the CSC matrix) or to call `X.toarray()`\n",
      "        if he/she expects the materialized dense array to fit in memory.\n",
      "        \n",
      "        To avoid memory copy the caller should pass a CSC matrix.\n",
      "        \n",
      "        For a comparison of the different scalers, transformers, and normalizers,\n",
      "        see :ref:`examples/preprocessing/plot_all_scaling.py\n",
      "        <sphx_glr_auto_examples_preprocessing_plot_all_scaling.py>`.\n",
      "        \n",
      "        See also\n",
      "        --------\n",
      "        StandardScaler: Performs scaling to unit variance using the``Transformer`` API\n",
      "            (e.g. as part of a preprocessing :class:`sklearn.pipeline.Pipeline`).\n",
      "\n",
      "DATA\n",
      "    __all__ = ['Binarizer', 'FunctionTransformer', 'Imputer', 'KernelCente...\n",
      "\n",
      "FILE\n",
      "    c:\\users\\fujiokk\\appdata\\local\\continuum\\anaconda3\\lib\\site-packages\\sklearn\\preprocessing\\__init__.py\n",
      "\n",
      "\n"
     ]
    }
   ],
   "source": [
    "# 例題 2: sklearn.preprocessingモジュールからscale関数のhelpを呼び出してください。 関数は何をしますか？\n"
   ]
  },
  {
   "cell_type": "markdown",
   "metadata": {
    "collapsed": true
   },
   "source": [
    "## 変数とデータ型"
   ]
  },
  {
   "cell_type": "markdown",
   "metadata": {},
   "source": [
    "### 変数の定義（宣言と代入）"
   ]
  },
  {
   "cell_type": "markdown",
   "metadata": {},
   "source": [
    "Pythonで**変数**を定義するには、次のように <span style=\"color: red; \">**\"=\"**</span> 記号を使用します："
   ]
  },
  {
   "cell_type": "code",
   "execution_count": 52,
   "metadata": {
    "scrolled": true
   },
   "outputs": [],
   "source": [
    "my_variable = 10\n",
    "x = 200.4\n",
    "my_string = 'バナナ'"
   ]
  },
  {
   "cell_type": "markdown",
   "metadata": {},
   "source": [
    "### 変数の型"
   ]
  },
  {
   "cell_type": "markdown",
   "metadata": {},
   "source": [
    "明示的には指定されていませんが、変数には常に**「型」**が関連付けられています。 この型は、変数に割り当てられた値から導出されます。 次のコマンドを使用して、変数のタイプを取得できます。"
   ]
  },
  {
   "cell_type": "code",
   "execution_count": 53,
   "metadata": {
    "scrolled": true
   },
   "outputs": [
    {
     "name": "stdout",
     "output_type": "stream",
     "text": [
      "<class 'int'>\n"
     ]
    }
   ],
   "source": [
    "print (type(my_variable))"
   ]
  },
  {
   "cell_type": "markdown",
   "metadata": {},
   "source": [
    "- **例題 3**: **x**変数は何型ですか? **my_string**変数は? \n",
    "<p>&nbsp; </p>\n",
    "<p>&nbsp; </p>"
   ]
  },
  {
   "cell_type": "code",
   "execution_count": 148,
   "metadata": {},
   "outputs": [
    {
     "name": "stdout",
     "output_type": "stream",
     "text": [
      "    x    : <class 'float'>\n",
      "my_string: <class 'str'>\n"
     ]
    }
   ],
   "source": [
    "# 例題 3: x変数は何型ですか? my_string変数は?\n",
    "n = type(x)\n",
    "\n",
    "m = type(my_string)\n",
    "print('    x    :',n)\n",
    "print('my_string:',m)"
   ]
  },
  {
   "cell_type": "markdown",
   "metadata": {},
   "source": [
    "**int**、**float**、**str**はPythonの3つの組み込み型です。intとfloatは両方とも数値型（それぞれ整数と10進数）ですが、strは文字列を表すために使用されます。\n",
    "\n",
    "変数に新しい値を代入すると、その型は変更されます："
   ]
  },
  {
   "cell_type": "code",
   "execution_count": 54,
   "metadata": {
    "scrolled": true
   },
   "outputs": [
    {
     "name": "stdout",
     "output_type": "stream",
     "text": [
      "<class 'float'>\n"
     ]
    }
   ],
   "source": [
    "my_variable = 248.58\n",
    "print (type(my_variable))"
   ]
  },
  {
   "cell_type": "markdown",
   "metadata": {},
   "source": [
    "もちろん、定義していない変数を使用しようとすると、エラーが発生します。"
   ]
  },
  {
   "cell_type": "code",
   "execution_count": 55,
   "metadata": {
    "scrolled": true
   },
   "outputs": [
    {
     "name": "stdout",
     "output_type": "stream",
     "text": [
      "[151.  75. 141. 206. 135.  97. 138.  63. 110. 310. 101.  69. 179. 185.\n",
      " 118. 171. 166. 144.  97. 168.  68.  49.  68. 245. 184. 202. 137.  85.\n",
      " 131. 283. 129.  59. 341.  87.  65. 102. 265. 276. 252.  90. 100.  55.\n",
      "  61.  92. 259.  53. 190. 142.  75. 142. 155. 225.  59. 104. 182. 128.\n",
      "  52.  37. 170. 170.  61. 144.  52. 128.  71. 163. 150.  97. 160. 178.\n",
      "  48. 270. 202. 111.  85.  42. 170. 200. 252. 113. 143.  51.  52. 210.\n",
      "  65. 141.  55. 134.  42. 111.  98. 164.  48.  96.  90. 162. 150. 279.\n",
      "  92.  83. 128. 102. 302. 198.  95.  53. 134. 144. 232.  81. 104.  59.\n",
      " 246. 297. 258. 229. 275. 281. 179. 200. 200. 173. 180.  84. 121. 161.\n",
      "  99. 109. 115. 268. 274. 158. 107.  83. 103. 272.  85. 280. 336. 281.\n",
      " 118. 317. 235.  60. 174. 259. 178. 128.  96. 126. 288.  88. 292.  71.\n",
      " 197. 186.  25.  84.  96. 195.  53. 217. 172. 131. 214.  59.  70. 220.\n",
      " 268. 152.  47.  74. 295. 101. 151. 127. 237. 225.  81. 151. 107.  64.\n",
      " 138. 185. 265. 101. 137. 143. 141.  79. 292. 178.  91. 116.  86. 122.\n",
      "  72. 129. 142.  90. 158.  39. 196. 222. 277.  99. 196. 202. 155.  77.\n",
      " 191.  70.  73.  49.  65. 263. 248. 296. 214. 185.  78.  93. 252. 150.\n",
      "  77. 208.  77. 108. 160.  53. 220. 154. 259.  90. 246. 124.  67.  72.\n",
      " 257. 262. 275. 177.  71.  47. 187. 125.  78.  51. 258. 215. 303. 243.\n",
      "  91. 150. 310. 153. 346.  63.  89.  50.  39. 103. 308. 116. 145.  74.\n",
      "  45. 115. 264.  87. 202. 127. 182. 241.  66.  94. 283.  64. 102. 200.\n",
      " 265.  94. 230. 181. 156. 233.  60. 219.  80.  68. 332. 248.  84. 200.\n",
      "  55.  85.  89.  31. 129.  83. 275.  65. 198. 236. 253. 124.  44. 172.\n",
      " 114. 142. 109. 180. 144. 163. 147.  97. 220. 190. 109. 191. 122. 230.\n",
      " 242. 248. 249. 192. 131. 237.  78. 135. 244. 199. 270. 164.  72.  96.\n",
      " 306.  91. 214.  95. 216. 263. 178. 113. 200. 139. 139.  88. 148.  88.\n",
      " 243.  71.  77. 109. 272.  60.  54. 221.  90. 311. 281. 182. 321.  58.\n",
      " 262. 206. 233. 242. 123. 167.  63. 197.  71. 168. 140. 217. 121. 235.\n",
      " 245.  40.  52. 104. 132.  88.  69. 219.  72. 201. 110.  51. 277.  63.\n",
      " 118.  69. 273. 258.  43. 198. 242. 232. 175.  93. 168. 275. 293. 281.\n",
      "  72. 140. 189. 181. 209. 136. 261. 113. 131. 174. 257.  55.  84.  42.\n",
      " 146. 212. 233.  91. 111. 152. 120.  67. 310.  94. 183.  66. 173.  72.\n",
      "  49.  64.  48. 178. 104. 132. 220.  57.]\n"
     ]
    }
   ],
   "source": [
    "print(y)"
   ]
  },
  {
   "cell_type": "markdown",
   "metadata": {},
   "source": [
    "文字列の印刷に一般に使用される**print**ステートメントは、データ型を印刷することもできます。"
   ]
  },
  {
   "cell_type": "code",
   "execution_count": 56,
   "metadata": {
    "scrolled": true
   },
   "outputs": [
    {
     "name": "stdout",
     "output_type": "stream",
     "text": [
      "これは楽しいですね！\n"
     ]
    }
   ],
   "source": [
    "print ('これは楽しいですね！')"
   ]
  },
  {
   "cell_type": "code",
   "execution_count": 57,
   "metadata": {
    "scrolled": true
   },
   "outputs": [
    {
     "name": "stdout",
     "output_type": "stream",
     "text": [
      "my_variableの値は 248.580000\n"
     ]
    }
   ],
   "source": [
    "print ('my_variableの値は %f' %my_variable )"
   ]
  },
  {
   "cell_type": "markdown",
   "metadata": {},
   "source": [
    "これまで整数、浮動小数点数、文字列を見てきました。 もう一つの基本的なPython型は**boolean**です。これはTrueまたはFalseの2つの値しか取ることができません："
   ]
  },
  {
   "cell_type": "code",
   "execution_count": 58,
   "metadata": {
    "scrolled": true
   },
   "outputs": [
    {
     "data": {
      "text/plain": [
       "(bool, bool)"
      ]
     },
     "execution_count": 58,
     "metadata": {},
     "output_type": "execute_result"
    }
   ],
   "source": [
    "t = True\n",
    "f = False\n",
    "type(t), type(f)"
   ]
  },
  {
   "cell_type": "markdown",
   "metadata": {},
   "source": [
    "Pythonには、他の値をグループ化するために使用されるいくつかの**複合**データ型もあります。 もっとも汎用性の高い**list**は角括弧で囲まれた値（項目）のリストとして書くことができます。"
   ]
  },
  {
   "cell_type": "code",
   "execution_count": 156,
   "metadata": {},
   "outputs": [],
   "source": [
    "squares = [1, 4, 9, 16, 25]\n",
    "letters = ['a', 'b', 'c', 'd', 'e', 'f', 'g']"
   ]
  },
  {
   "cell_type": "markdown",
   "metadata": {},
   "source": [
    "リストには、異なるタイプのアイテムも含まれています："
   ]
  },
  {
   "cell_type": "code",
   "execution_count": 60,
   "metadata": {},
   "outputs": [],
   "source": [
    "mixed = [3, 9, 12, 15, 'a', 'b', 'c', 'd', 'e']"
   ]
  },
  {
   "cell_type": "markdown",
   "metadata": {},
   "source": [
    "他の組み込み型もPythonで利用できます。 総合的なリストについては、以下を参照してください： https://docs.python.org/2/library/stdtypes.html."
   ]
  },
  {
   "cell_type": "markdown",
   "metadata": {
    "collapsed": true
   },
   "source": [
    "## 制御構造"
   ]
  },
  {
   "cell_type": "markdown",
   "metadata": {},
   "source": [
    "### 条件文：if、elif、else¶"
   ]
  },
  {
   "cell_type": "markdown",
   "metadata": {},
   "source": [
    "異なる状況に応じて異なる振る舞いをするためには、分岐動作を制御するPythonのいくつかのコンセプトが必要です。たとえば、特定の条件が満たされた場合にのみ文を実行したり、ある条件が満たされるまで一連の文を実行したりすることができます。\n",
    "\n",
    "これをPythonで行うには、真偽値の組み合わせを使用します。この変数は、真と偽のいずれかに評価され、**if**文はブール値に基づいて分岐を制御します。\n",
    "\n",
    "例えば、ユーザーから（キーボードから**input**関数を通して）整数を取り出し、その値に応じていくつかの式を出力しましょう："
   ]
  },
  {
   "cell_type": "code",
   "execution_count": 160,
   "metadata": {
    "scrolled": true
   },
   "outputs": [
    {
     "name": "stdout",
     "output_type": "stream",
     "text": [
      "整数を入力して下さい： -1\n",
      "xは0に変更されました\n"
     ]
    }
   ],
   "source": [
    "x = int(input(\"整数を入力して下さい： \"))\n",
    "    \n",
    "if (x < 0):\n",
    "    x = 0\n",
    "    print ('xは0に変更されました')\n",
    "elif x == 0: # this is a check for equality\n",
    "    print ('xはもともと0です')\n",
    "else:\n",
    "    print ('xは0以上です')"
   ]
  },
  {
   "cell_type": "markdown",
   "metadata": {},
   "source": [
    "**注**：Pythonでは、コードブロックを定義するための角かっこやキーワードがないことに気づいたかもしれません。 これは、空白が重要であり、**if**文、**for**ループ、**while**ループなどがインデントによって定義されることを意味します。 あなたのコードが正しく字下げされていないと、あなたは**IndentationError**に遭遇します！"
   ]
  },
  {
   "cell_type": "markdown",
   "metadata": {},
   "source": [
    "- **例題 4**: 2つの数字を求めるプログラムを書いて下さい。 数値の合計が100より大きい場合は「合計が大きい」と表示され、それ以外の場合は「合計が小さい」と表示されます。 (コツ:_input_関数の~~を~~返却値を _int_ 型に変換して下さい)\n",
    "<p>&nbsp; </p>\n",
    "<p>&nbsp; </p>"
   ]
  },
  {
   "cell_type": "code",
   "execution_count": 6,
   "metadata": {},
   "outputs": [
    {
     "name": "stdout",
     "output_type": "stream",
     "text": [
      "整数xを入力して下さい： \n"
     ]
    },
    {
     "ename": "ValueError",
     "evalue": "invalid literal for int() with base 10: ''",
     "output_type": "error",
     "traceback": [
      "\u001b[1;31m---------------------------------------------------------------------------\u001b[0m",
      "\u001b[1;31mValueError\u001b[0m                                Traceback (most recent call last)",
      "\u001b[1;32m<ipython-input-6-432a751c3687>\u001b[0m in \u001b[0;36m<module>\u001b[1;34m()\u001b[0m\n\u001b[0;32m      1\u001b[0m \u001b[1;31m# 例題 4: 2つの数字を求めるプログラムを書いて下さい。 数値の合計が100より大きい場合は「合計が大きい」と表示され、それ以外の場合は「合計が小さい」と表示されます。 (コツ:input関数のを返却値を int 型に変換して下さい)\u001b[0m\u001b[1;33m\u001b[0m\u001b[1;33m\u001b[0m\u001b[0m\n\u001b[1;32m----> 2\u001b[1;33m \u001b[0mx\u001b[0m \u001b[1;33m=\u001b[0m \u001b[0mint\u001b[0m\u001b[1;33m(\u001b[0m\u001b[0minput\u001b[0m\u001b[1;33m(\u001b[0m\u001b[1;34m\"整数xを入力して下さい： \"\u001b[0m\u001b[1;33m)\u001b[0m\u001b[1;33m)\u001b[0m\u001b[1;33m\u001b[0m\u001b[0m\n\u001b[0m\u001b[0;32m      3\u001b[0m \u001b[0my\u001b[0m \u001b[1;33m=\u001b[0m \u001b[0mint\u001b[0m\u001b[1;33m(\u001b[0m\u001b[0minput\u001b[0m\u001b[1;33m(\u001b[0m\u001b[1;34m\"整数yを入力して下さい： \"\u001b[0m\u001b[1;33m)\u001b[0m\u001b[1;33m)\u001b[0m\u001b[1;33m\u001b[0m\u001b[0m\n\u001b[0;32m      4\u001b[0m \u001b[1;33m\u001b[0m\u001b[0m\n\u001b[0;32m      5\u001b[0m \u001b[1;32mif\u001b[0m \u001b[1;33m(\u001b[0m\u001b[0mx\u001b[0m \u001b[1;33m+\u001b[0m \u001b[0my\u001b[0m \u001b[1;33m>=\u001b[0m \u001b[1;36m100\u001b[0m\u001b[1;33m)\u001b[0m\u001b[1;33m:\u001b[0m\u001b[1;33m\u001b[0m\u001b[0m\n",
      "\u001b[1;31mValueError\u001b[0m: invalid literal for int() with base 10: ''"
     ]
    }
   ],
   "source": [
    "# 例題 4: 2つの数字を求めるプログラムを書いて下さい。 数値の合計が100より大きい場合は「合計が大きい」と表示され、それ以外の場合は「合計が小さい」と表示されます。 (コツ:input関数のを返却値を int 型に変換して下さい)\n",
    "x = int(input(\"整数xを入力して下さい： \"))\n",
    "y = int(input(\"整数yを入力して下さい： \"))\n",
    "if (x == null):\n",
    "\n",
    "if (x + y >= 100):\n",
    "    print ('合計値が大きい')\n",
    "    print('合計値は',x + y)\n",
    "elif (x + y < 100):\n",
    "    print ('合計値が小さい')\n",
    "    print('合計値は',x + y)"
   ]
  },
  {
   "cell_type": "markdown",
   "metadata": {},
   "source": [
    "### ループ"
   ]
  },
  {
   "cell_type": "markdown",
   "metadata": {},
   "source": [
    "特定の条件が満たされるまでステートメントを繰り返したり、高次元のデータ構造の要素を反復処理する必要がある場合は、ループを使用できます。 **for**ステートメントは、このように使用できます。"
   ]
  },
  {
   "cell_type": "code",
   "execution_count": 62,
   "metadata": {
    "scrolled": true
   },
   "outputs": [
    {
     "name": "stdout",
     "output_type": "stream",
     "text": [
      "Python 6\n",
      "は 1\n",
      "楽しい! 4\n"
     ]
    }
   ],
   "source": [
    "words = ['Python', 'は', '楽しい!']\n",
    "for w in words:\n",
    "    print (w, len(w))"
   ]
  },
  {
   "cell_type": "markdown",
   "metadata": {},
   "source": [
    "- **例題 5**: ユーザーに0と1の間の数字を入力するように聞きます。入力された数字が範囲外の場合は、コンソールにエラーを表示し、それ以外の場合は5を掛けてコンソールに出力します。\n",
    "<p>&nbsp; </p>\n",
    "<p>&nbsp; </p>"
   ]
  },
  {
   "cell_type": "markdown",
   "metadata": {},
   "source": [
    "一定の条件が満たされている間にタスクを実行する必要がある場合は："
   ]
  },
  {
   "cell_type": "code",
   "execution_count": 63,
   "metadata": {
    "scrolled": false
   },
   "outputs": [
    {
     "name": "stdout",
     "output_type": "stream",
     "text": [
      "0\n",
      "1\n",
      "2\n",
      "3\n",
      "4\n",
      "5\n",
      "6\n",
      "I am done!\n"
     ]
    }
   ],
   "source": [
    "i = 0\n",
    "while i < 7:\n",
    "    print(i)\n",
    "    i = i + 1\n",
    "print(\"I am done!\")"
   ]
  },
  {
   "cell_type": "markdown",
   "metadata": {},
   "source": [
    "## Numpy: 多次元データ配列"
   ]
  },
  {
   "cell_type": "markdown",
   "metadata": {},
   "source": [
    "Pythonの基本を見てきたので、具体的な部分に移動することができます。\n",
    "\n",
    "**numpy**パッケージは、数値計算によく使われる強力なPythonパッケージです。 これは、高性能のベクトル、行列、および高次元のデータ構造を提供します。"
   ]
  },
  {
   "cell_type": "code",
   "execution_count": 64,
   "metadata": {
    "scrolled": true
   },
   "outputs": [],
   "source": [
    "# 簡単な名前 'np'でパッケージをインポートします\n",
    "import numpy as np "
   ]
  },
  {
   "cell_type": "markdown",
   "metadata": {},
   "source": [
    "### Numpy配列の作成"
   ]
  },
  {
   "cell_type": "markdown",
   "metadata": {},
   "source": [
    "**配列**はPythonのリストと似ていますが、配列の各要素は同じ型でなければなりません。通常はfloatやintのような数値型です。 配列（ベクトルと行列）は、たとえば**numpy.array**関数とリストを使用して、さまざまな方法で作成できます。"
   ]
  },
  {
   "cell_type": "code",
   "execution_count": 65,
   "metadata": {
    "scrolled": true
   },
   "outputs": [
    {
     "name": "stdout",
     "output_type": "stream",
     "text": [
      "[1 2 3 4]\n"
     ]
    }
   ],
   "source": [
    "v = np.array([1,2,3,4]) #Pythonの4要素のリストからベクトルを生成する\n",
    "print (v)"
   ]
  },
  {
   "cell_type": "markdown",
   "metadata": {},
   "source": [
    "配列は多次元でもよい。 2次元配列（　_例_　、行列）の例を次に示します："
   ]
  },
  {
   "cell_type": "code",
   "execution_count": 66,
   "metadata": {},
   "outputs": [
    {
     "name": "stdout",
     "output_type": "stream",
     "text": [
      "[[1 2 3]\n",
      " [4 5 6]]\n"
     ]
    }
   ],
   "source": [
    "M = np.array([[1, 2, 3], [4, 5, 6]]) #ネストしたPythonリストから行列を作成する\n",
    "print (M)"
   ]
  },
  {
   "cell_type": "markdown",
   "metadata": {},
   "source": [
    "**v**と**M**は両方ともnumpyの配列ですが、異なる形をしています："
   ]
  },
  {
   "cell_type": "code",
   "execution_count": 67,
   "metadata": {
    "scrolled": true
   },
   "outputs": [
    {
     "name": "stdout",
     "output_type": "stream",
     "text": [
      "<class 'numpy.ndarray'> <class 'numpy.ndarray'>\n",
      "4 6\n",
      "(4,) (2, 3)\n"
     ]
    }
   ],
   "source": [
    "print (type(v), type(M))\n",
    "print (v.size, M.size)\n",
    "print (v.shape, M.shape)"
   ]
  },
  {
   "cell_type": "markdown",
   "metadata": {},
   "source": [
    "**dtype**関数を使用して、配列に含まれるデータの型を取得することもできます:"
   ]
  },
  {
   "cell_type": "code",
   "execution_count": 68,
   "metadata": {
    "scrolled": true
   },
   "outputs": [
    {
     "name": "stdout",
     "output_type": "stream",
     "text": [
      "int32\n"
     ]
    }
   ],
   "source": [
    "print (M.dtype)"
   ]
  },
  {
   "cell_type": "markdown",
   "metadata": {},
   "source": [
    "したがって、必要に応じて、配列を作成する際にデータ型を明示的に定義することもできます:"
   ]
  },
  {
   "cell_type": "code",
   "execution_count": 69,
   "metadata": {
    "scrolled": true
   },
   "outputs": [
    {
     "name": "stdout",
     "output_type": "stream",
     "text": [
      "[[ 1.   2.8 25.4]\n",
      " [ 3.   4.7 47.9]]\n"
     ]
    }
   ],
   "source": [
    "M = np.array([[1, 2.8, 25.4], [3, 4.7, 47.9]], dtype=\"float\")\n",
    "print (M)"
   ]
  },
  {
   "cell_type": "markdown",
   "metadata": {},
   "source": [
    "もちろん、これはnumpy配列の要素に間違った型の値を代入しようとするとエラーになることを意味します："
   ]
  },
  {
   "cell_type": "code",
   "execution_count": 70,
   "metadata": {
    "scrolled": true
   },
   "outputs": [
    {
     "ename": "ValueError",
     "evalue": "could not convert string to float: 'hello world'",
     "output_type": "error",
     "traceback": [
      "\u001b[1;31m---------------------------------------------------------------------------\u001b[0m",
      "\u001b[1;31mValueError\u001b[0m                                Traceback (most recent call last)",
      "\u001b[1;32m<ipython-input-70-414bb43479ed>\u001b[0m in \u001b[0;36m<module>\u001b[1;34m()\u001b[0m\n\u001b[1;32m----> 1\u001b[1;33m \u001b[0mM\u001b[0m\u001b[1;33m[\u001b[0m\u001b[1;36m0\u001b[0m\u001b[1;33m]\u001b[0m \u001b[1;33m=\u001b[0m \u001b[1;34m'hello world'\u001b[0m\u001b[1;33m\u001b[0m\u001b[0m\n\u001b[0m",
      "\u001b[1;31mValueError\u001b[0m: could not convert string to float: 'hello world'"
     ]
    }
   ],
   "source": [
    "M[0] = 'hello world'"
   ]
  },
  {
   "cell_type": "markdown",
   "metadata": {},
   "source": [
    "### Numpy配列の索引"
   ]
  },
  {
   "cell_type": "markdown",
   "metadata": {},
   "source": [
    "角括弧とインデックスを使用して配列内の要素をインデックスできます。 **注** Pythonのインデックス作成は0から始まります："
   ]
  },
  {
   "cell_type": "code",
   "execution_count": 71,
   "metadata": {
    "scrolled": true
   },
   "outputs": [
    {
     "data": {
      "text/plain": [
       "1"
      ]
     },
     "execution_count": 71,
     "metadata": {},
     "output_type": "execute_result"
    }
   ],
   "source": [
    "# vはベクトルであり、次元が1つしかなく、1つのインデックス\n",
    "v[0]"
   ]
  },
  {
   "cell_type": "code",
   "execution_count": 72,
   "metadata": {
    "scrolled": true
   },
   "outputs": [
    {
     "data": {
      "text/plain": [
       "1.0"
      ]
     },
     "execution_count": 72,
     "metadata": {},
     "output_type": "execute_result"
    }
   ],
   "source": [
    "# Mは行列であり、2次元配列であり、2つのインデックス\n",
    "# 最初のインデックスは行を指し、2番目のインデックスは列を指します\n",
    "M[0,0]"
   ]
  },
  {
   "cell_type": "markdown",
   "metadata": {},
   "source": [
    "- **例題 6**: 2行3列目のMの要素にインデックスを選んでください。\n",
    "<p>&nbsp; </p>\n",
    "<p>&nbsp; </p>"
   ]
  },
  {
   "cell_type": "markdown",
   "metadata": {},
   "source": [
    "多次元配列のインデックスを省略すると、行全体がスライスされます："
   ]
  },
  {
   "cell_type": "code",
   "execution_count": 73,
   "metadata": {
    "scrolled": true
   },
   "outputs": [
    {
     "data": {
      "text/plain": [
       "array([ 3. ,  4.7, 47.9])"
      ]
     },
     "execution_count": 73,
     "metadata": {},
     "output_type": "execute_result"
    }
   ],
   "source": [
    "M[1]"
   ]
  },
  {
   "cell_type": "markdown",
   "metadata": {
    "collapsed": true
   },
   "source": [
    "コロン \"：\"で同じことができます。 ディメンション内の単一の \"：\"の使用は、そのディメンションに沿ったすべてのものの使用を示します（これは、多次元データ構造をインデックスするための非常に便利な方法です）："
   ]
  },
  {
   "cell_type": "code",
   "execution_count": 74,
   "metadata": {
    "scrolled": true
   },
   "outputs": [
    {
     "data": {
      "text/plain": [
       "array([ 3. ,  4.7, 47.9])"
      ]
     },
     "execution_count": 74,
     "metadata": {},
     "output_type": "execute_result"
    }
   ],
   "source": [
    "M[1,:] # インデックス1で行を取るスライスM、列に沿ったすべて"
   ]
  },
  {
   "cell_type": "code",
   "execution_count": 75,
   "metadata": {
    "scrolled": true
   },
   "outputs": [
    {
     "data": {
      "text/plain": [
       "array([2.8, 4.7])"
      ]
     },
     "execution_count": 75,
     "metadata": {},
     "output_type": "execute_result"
    }
   ],
   "source": [
    "M[:,1] # インデックス1の列を取るスライスMと、行に沿ったすべて"
   ]
  },
  {
   "cell_type": "markdown",
   "metadata": {},
   "source": [
    "- **例題 7**: 行列Mの第3列をコンソールに出力する。\n",
    "<p>&nbsp; </p>\n",
    "<p>&nbsp; </p>"
   ]
  },
  {
   "cell_type": "markdown",
   "metadata": {},
   "source": [
    "### Numpy配列索引スライシング"
   ]
  },
  {
   "cell_type": "markdown",
   "metadata": {},
   "source": [
    "配列の特定の部分（インデックススライス）を抽出するには、基本構文は **M [i：j：k]** です。**i**は開始インデックス、**j**は停止（jを含まれない） **k**はステップ（kがゼロでない）です。 たとえば、次のようにすることができます。"
   ]
  },
  {
   "cell_type": "code",
   "execution_count": 76,
   "metadata": {
    "scrolled": true
   },
   "outputs": [
    {
     "name": "stdout",
     "output_type": "stream",
     "text": [
      "[ 10  20  30  40  50  60  70  80  90 100]\n",
      "[20 30]\n"
     ]
    }
   ],
   "source": [
    "x = np.array([10, 20, 30, 40, 50, 60, 70, 80, 90, 100])\n",
    "print (x)\n",
    "print (x[1:3:1])"
   ]
  },
  {
   "cell_type": "markdown",
   "metadata": {},
   "source": [
    "- **例題 8**: ベクトルxを位置1から位置10にスライスし、ステップは4になります。\n",
    "<p>&nbsp; </p>\n",
    "<p>&nbsp; </p>"
   ]
  },
  {
   "cell_type": "markdown",
   "metadata": {},
   "source": [
    "**range**関数を使用して行列Aを作成します（**range**の機能を知りたい場合は、help関数を使用してください）："
   ]
  },
  {
   "cell_type": "code",
   "execution_count": 77,
   "metadata": {
    "scrolled": true
   },
   "outputs": [
    {
     "name": "stdout",
     "output_type": "stream",
     "text": [
      "[[ 0  1  2  3  4]\n",
      " [10 11 12 13 14]\n",
      " [20 21 22 23 24]\n",
      " [30 31 32 33 34]\n",
      " [40 41 42 43 44]]\n"
     ]
    }
   ],
   "source": [
    "A = np.array([[n+m*10 for n in range(5)] for m in range(5)])\n",
    "print (A)"
   ]
  },
  {
   "cell_type": "markdown",
   "metadata": {},
   "source": [
    "- **例題 9**: 行列Aの形状は何ですか？\n",
    "<p>&nbsp; </p>\n",
    "<p>&nbsp; </p>"
   ]
  },
  {
   "cell_type": "code",
   "execution_count": 78,
   "metadata": {
    "scrolled": true
   },
   "outputs": [
    {
     "data": {
      "text/plain": [
       "array([[10, 11, 12, 13, 14],\n",
       "       [20, 21, 22, 23, 24],\n",
       "       [30, 31, 32, 33, 34]])"
      ]
     },
     "execution_count": 78,
     "metadata": {},
     "output_type": "execute_result"
    }
   ],
   "source": [
    "# Aをスライスして、2番目の行から4番目の行までと全部の列を取得して下さい。\n",
    "A[1:4, :]"
   ]
  },
  {
   "cell_type": "code",
   "execution_count": 79,
   "metadata": {
    "scrolled": true
   },
   "outputs": [
    {
     "data": {
      "text/plain": [
       "array([[11, 12, 13],\n",
       "       [21, 22, 23],\n",
       "       [31, 32, 33]])"
      ]
     },
     "execution_count": 79,
     "metadata": {},
     "output_type": "execute_result"
    }
   ],
   "source": [
    "# Aをスライスして、2番目の行と列から4番目の行と列まで取得して下さい。\n",
    "A[1:4, 1:4]"
   ]
  },
  {
   "cell_type": "code",
   "execution_count": 80,
   "metadata": {
    "scrolled": true
   },
   "outputs": [
    {
     "data": {
      "text/plain": [
       "array([[ 0,  2,  4],\n",
       "       [20, 22, 24],\n",
       "       [40, 42, 44]])"
      ]
     },
     "execution_count": 80,
     "metadata": {},
     "output_type": "execute_result"
    }
   ],
   "source": [
    "# slice A skipping both rows and columns with a step equal to 2\n",
    "A[::2, ::2]"
   ]
  },
  {
   "cell_type": "markdown",
   "metadata": {},
   "source": [
    "## Pythonの関数"
   ]
  },
  {
   "cell_type": "markdown",
   "metadata": {},
   "source": [
    "**関数**は、特定のアクションを実行するために使用される、組織化された再利用可能なコードのブロックです。すでにPythonの組み込み関数 _例_ **print()** と **type()** を使用しています。Pythonの組み込み関数の完全なリストはあそこにあります：https://docs.python.org/3/library/functions.html.\n",
    "\n",
    "もちろん独自の関数を作成することもできます（いわゆる　_user-defined functions_）。"
   ]
  },
  {
   "cell_type": "markdown",
   "metadata": {},
   "source": [
    "### 関数の定義方法"
   ]
  },
  {
   "cell_type": "markdown",
   "metadata": {},
   "source": [
    "**function**定義の構文は次のとおりです。\n",
    "\n",
    "\n",
    ">def 関数 (引数):\n",
    "\n",
    ">    ステートメント\n",
    "\n",
    ">    return\n",
    "\n",
    "\n",
    "ブロックはキーワード**def**で始まり、関数名、かっこ、最後にコロンが続きます。入力引数はこれらのカッコ内に配置する必要があります。**return**ステートメントは関数を終了し、必要に応じて返却値を返します（引数なしのreturn文はreturn Noneと同じです）。\n",
    "\n",
    "あいさつをコンソールに表示する、非常に単純な関数を定義しましょう："
   ]
  },
  {
   "cell_type": "code",
   "execution_count": 81,
   "metadata": {},
   "outputs": [],
   "source": [
    "def hello():\n",
    "    print (\"こんにちは！\")"
   ]
  },
  {
   "cell_type": "markdown",
   "metadata": {},
   "source": [
    "その長さと幅を考慮して、矩形形状の面積を計算するわずかに複雑な関数です："
   ]
  },
  {
   "cell_type": "code",
   "execution_count": 82,
   "metadata": {},
   "outputs": [],
   "source": [
    "def area(l, w):\n",
    "    return l * w "
   ]
  },
  {
   "cell_type": "markdown",
   "metadata": {},
   "source": [
    "**hello**関数は引数を取らないことに気付くことができますが、**area**関数は長方形と長方形の2つの引数をとります。"
   ]
  },
  {
   "cell_type": "markdown",
   "metadata": {},
   "source": [
    "次の関数は、引数xをとり、その2乗および3乗の値を持つ**tuple**（不変のリストである）を返します。"
   ]
  },
  {
   "cell_type": "code",
   "execution_count": 83,
   "metadata": {},
   "outputs": [],
   "source": [
    "def quadcube (x):\n",
    "    return x**2, x**3"
   ]
  },
  {
   "cell_type": "markdown",
   "metadata": {},
   "source": [
    "### 関数をコールする方法"
   ]
  },
  {
   "cell_type": "markdown",
   "metadata": {},
   "source": [
    "ある関数が定義されたら、別の関数かPythonプロンプトから直接呼び出すことで実行できます："
   ]
  },
  {
   "cell_type": "code",
   "execution_count": 84,
   "metadata": {},
   "outputs": [
    {
     "name": "stdout",
     "output_type": "stream",
     "text": [
      "こんにちは！\n"
     ]
    }
   ],
   "source": [
    "hello()"
   ]
  },
  {
   "cell_type": "code",
   "execution_count": 85,
   "metadata": {},
   "outputs": [
    {
     "data": {
      "text/plain": [
       "25"
      ]
     },
     "execution_count": 85,
     "metadata": {},
     "output_type": "execute_result"
    }
   ],
   "source": [
    "area(5, 5)"
   ]
  },
  {
   "cell_type": "markdown",
   "metadata": {},
   "source": [
    "- **例題 10**: 引数を渡さずに**area**関数を呼び出してみてください。 どのエラーが出ますか？\n",
    "<p>&nbsp; </p>\n",
    "<p>&nbsp; </p>"
   ]
  },
  {
   "cell_type": "markdown",
   "metadata": {},
   "source": [
    "- **例題 11**: 引数として2つの数値をとり、そのうちの最大値を返す関数を書いて下さい。\n",
    "<p>&nbsp; </p>\n",
    "<p>&nbsp; </p>"
   ]
  },
  {
   "cell_type": "markdown",
   "metadata": {},
   "source": [
    "- **例題 12**: 与えられた半径を持つ円の面積を計算する関数を書いて下さい。\n",
    "<p>&nbsp; </p>\n",
    "<p>&nbsp; </p>"
   ]
  },
  {
   "cell_type": "markdown",
   "metadata": {},
   "source": [
    "- **例題 13**: 2つの数値が割り切れるかどうかを示す関数を書いて下さい。\n",
    "<p>&nbsp; </p>\n",
    "<p>&nbsp; </p>"
   ]
  },
  {
   "cell_type": "markdown",
   "metadata": {},
   "source": [
    "## Matplotlib: Pythonでプロットを作る"
   ]
  },
  {
   "cell_type": "markdown",
   "metadata": {},
   "source": [
    "Pythonは、データ視覚化のためのさまざまなオプションを提供します。 **Matplotlib**ライブラリを使用します。"
   ]
  },
  {
   "cell_type": "code",
   "execution_count": 86,
   "metadata": {
    "scrolled": true
   },
   "outputs": [],
   "source": [
    "import matplotlib\n",
    "from matplotlib import pyplot as plt\n",
    "from pylab import *\n",
    "rcParams['figure.figsize'] = (7, 7)\n",
    "font = {'weight' : 'normal',\n",
    "        'size'   : 16}\n",
    "matplotlib.rc('font', **font)"
   ]
  },
  {
   "cell_type": "code",
   "execution_count": 87,
   "metadata": {
    "scrolled": true
   },
   "outputs": [],
   "source": [
    "# この魔法のコマンドは、ノートブックにインラインでプロットできることを確認します\n",
    "%matplotlib inline"
   ]
  },
  {
   "cell_type": "markdown",
   "metadata": {},
   "source": [
    "いくつかのデータを作成し、それらをプロットしましょう："
   ]
  },
  {
   "cell_type": "code",
   "execution_count": 88,
   "metadata": {
    "scrolled": true
   },
   "outputs": [],
   "source": [
    "#指定された間隔（0〜5）で等間隔の10個の数字の配列を作成します。\n",
    "x = np.linspace(0, 5, 10)\n",
    "y = x ** 2"
   ]
  },
  {
   "cell_type": "markdown",
   "metadata": {},
   "source": [
    "### 単純な線グラフ"
   ]
  },
  {
   "cell_type": "code",
   "execution_count": 89,
   "metadata": {
    "scrolled": true
   },
   "outputs": [
    {
     "data": {
      "text/plain": [
       "Text(0.5,1,'赤い線')"
      ]
     },
     "execution_count": 89,
     "metadata": {},
     "output_type": "execute_result"
    },
    {
     "data": {
      "image/png": "[encoded data removed]",
      "text/plain": [
       "<Figure size 432x288 with 1 Axes>"
      ]
     },
     "metadata": {},
     "output_type": "display_data"
    }
   ],
   "source": [
    "plt.plot(x, y, 'r') # 赤い線でプロットする\n",
    "# x、yラベルとタイトルを割り当てる\n",
    "plt.xlabel('x')\n",
    "plt.ylabel('y')\n",
    "plt.title('赤い線')"
   ]
  },
  {
   "cell_type": "code",
   "execution_count": 90,
   "metadata": {
    "scrolled": true
   },
   "outputs": [],
   "source": [
    "# データをもっと作りましょう\n",
    "x1 = np.linspace(0.0, 2.0)\n",
    "y1 = np.cos(2 * np.pi * x1)"
   ]
  },
  {
   "cell_type": "markdown",
   "metadata": {},
   "source": [
    "### サブプロット"
   ]
  },
  {
   "cell_type": "code",
   "execution_count": 91,
   "metadata": {
    "scrolled": true
   },
   "outputs": [
    {
     "data": {
      "text/plain": [
       "Text(0.5,1,'subplot test-2')"
      ]
     },
     "execution_count": 91,
     "metadata": {},
     "output_type": "execute_result"
    },
    {
     "data": {
      "image/png": "[encoded data removed]",
      "text/plain": [
       "<Figure size 432x288 with 2 Axes>"
      ]
     },
     "metadata": {},
     "output_type": "display_data"
    }
   ],
   "source": [
    "###### 一つ目のプロット ######\n",
    "plt.subplot(1,2,1) # 1行2列、位置1のサブプロット\n",
    "plt.plot(x, y, 'r--') # 赤い破線\n",
    "plt.title('subplot test-1')\n",
    "\n",
    "###### 二つ目の往路っと ######\n",
    "plt.subplot(1,2,2) # 1行2列、位置2のサブプロット\n",
    "plt.plot(x1, y1, 'g*-') # グリーンと星付き\n",
    "plt.title('subplot test-2')"
   ]
  },
  {
   "cell_type": "markdown",
   "metadata": {},
   "source": [
    "### ランダム分布の散布図"
   ]
  },
  {
   "cell_type": "code",
   "execution_count": 92,
   "metadata": {
    "scrolled": true
   },
   "outputs": [
    {
     "data": {
      "text/plain": [
       "[<matplotlib.lines.Line2D at 0x1e36514b3c8>]"
      ]
     },
     "execution_count": 92,
     "metadata": {},
     "output_type": "execute_result"
    },
    {
     "data": {
      "image/png": "[encoded data removed]",
      "text/plain": [
       "<Figure size 432x288 with 1 Axes>"
      ]
     },
     "metadata": {},
     "output_type": "display_data"
    }
   ],
   "source": [
    "plt.plot(np.random.normal(size=100), np.random.normal(size=100), 'ro')"
   ]
  },
  {
   "cell_type": "markdown",
   "metadata": {},
   "source": [
    "### ランダム散布図と正規分布ヒストグラム"
   ]
  },
  {
   "cell_type": "code",
   "execution_count": 93,
   "metadata": {
    "scrolled": true
   },
   "outputs": [
    {
     "data": {
      "text/plain": [
       "Text(0.5,1,'Normal distribution')"
      ]
     },
     "execution_count": 93,
     "metadata": {},
     "output_type": "execute_result"
    },
    {
     "data": {
      "image/png": "[encoded data removed]",
      "text/plain": [
       "<Figure size 576x360 with 2 Axes>"
      ]
     },
     "metadata": {},
     "output_type": "display_data"
    }
   ],
   "source": [
    "fig = plt.figure(figsize=(8,5)) # 図のサイズを制御することができます\n",
    "ax1 = fig.add_subplot(121) # サブプロットへの別の方法\n",
    "ax1.set_xlabel('some random numbers')\n",
    "ax1.set_ylabel('more random numbers')\n",
    "ax1.set_title(\"Random scatterplot\")\n",
    "\n",
    "# 一つ目のプロット\n",
    "plt.plot(np.random.normal(size=100), np.random.normal(size=100), 'r.')\n",
    "\n",
    "\n",
    "ax2 = fig.add_subplot(122) # サブプロットに追加する\n",
    "# 二つ目のプロット\n",
    "plt.hist(np.random.normal(size=100), bins=15)\n",
    "ax2.set_xlabel('sample')\n",
    "ax2.set_ylabel('cumulative sum')\n",
    "ax2.set_title(\"Normal distribution\")"
   ]
  },
  {
   "cell_type": "markdown",
   "metadata": {},
   "source": [
    "### ボックスプロット"
   ]
  },
  {
   "cell_type": "markdown",
   "metadata": {},
   "source": [
    "データを作成し、ボックスプロットを通じてその分布を視覚化しましょう。"
   ]
  },
  {
   "cell_type": "code",
   "execution_count": 94,
   "metadata": {
    "scrolled": true
   },
   "outputs": [],
   "source": [
    "# np.random.normal(loc=0.0, scale=1.0, size=None)\n",
    "# 正規分布（ガウス分布）から無作為標本を引く\n",
    "a = np.random.normal(100, 10, 200)\n",
    "b = np.random.normal(80, 30, 200)\n",
    "c = np.random.normal(90, 20, 200)\n",
    "d = np.random.normal(70, 25, 200)"
   ]
  },
  {
   "cell_type": "code",
   "execution_count": 95,
   "metadata": {
    "scrolled": true
   },
   "outputs": [],
   "source": [
    "data = [a, b, c, d]"
   ]
  },
  {
   "cell_type": "code",
   "execution_count": 96,
   "metadata": {
    "scrolled": true
   },
   "outputs": [
    {
     "data": {
      "text/plain": [
       "Text(0.5,1,'boxplots of our data')"
      ]
     },
     "execution_count": 96,
     "metadata": {},
     "output_type": "execute_result"
    },
    {
     "data": {
      "image/png": "[encoded data removed]",
      "text/plain": [
       "<Figure size 432x288 with 1 Axes>"
      ]
     },
     "metadata": {},
     "output_type": "display_data"
    }
   ],
   "source": [
    "bp = plt.boxplot(data)\n",
    "plt.title('boxplots of our data')"
   ]
  },
  {
   "cell_type": "markdown",
   "metadata": {},
   "source": [
    "また、アウトラインの色やボックスの線幅、中央線の色を変更するなど、ボックスプロットをカスタマイズすることもできます。"
   ]
  },
  {
   "cell_type": "code",
   "execution_count": 97,
   "metadata": {
    "scrolled": true
   },
   "outputs": [
    {
     "data": {
      "image/png": "[encoded data removed]",
      "text/plain": [
       "<Figure size 432x288 with 1 Axes>"
      ]
     },
     "metadata": {},
     "output_type": "display_data"
    }
   ],
   "source": [
    "bp = plt.boxplot(data)\n",
    "for box in bp['boxes']:\n",
    "    box.set_linewidth(3) # 線の幅を変更する\n",
    "    box.set_color('#1b9e77') # アウトラインの色を変更する\n",
    "\n",
    "for median in bp['medians']:\n",
    "    median.set(color='#b2df8a', linewidth=2)"
   ]
  },
  {
   "cell_type": "markdown",
   "metadata": {},
   "source": [
    "## データセット読み込みユーティリティ"
   ]
  },
  {
   "cell_type": "markdown",
   "metadata": {},
   "source": [
    "ここでは、**sklearn**パッケージから 'データセット読み込みユーティリティ'でアクセスできるいくつかのおもちゃデータセットを見ていきます。 これらのデータセットをインポートしましょう："
   ]
  },
  {
   "cell_type": "code",
   "execution_count": 98,
   "metadata": {
    "scrolled": true
   },
   "outputs": [],
   "source": [
    "from sklearn import datasets"
   ]
  },
  {
   "cell_type": "code",
   "execution_count": 99,
   "metadata": {
    "scrolled": true
   },
   "outputs": [],
   "source": [
    "diabetes = datasets.load_diabetes() # 糖尿病のデータセットをロードする"
   ]
  },
  {
   "cell_type": "markdown",
   "metadata": {},
   "source": [
    "このデータセットはこの構造があります: **n_samples * n_features**のnumpy配列 **X**が入っている**data** 部分とターゲット**y**が入っている**n_samples**の長さの配列の**target**部分。"
   ]
  },
  {
   "cell_type": "code",
   "execution_count": 100,
   "metadata": {
    "scrolled": true
   },
   "outputs": [],
   "source": [
    "X, y = diabetes.data, diabetes.target"
   ]
  },
  {
   "cell_type": "markdown",
   "metadata": {},
   "source": [
    "- **例題 14**: データセットにはいくつのサンプルが含まれていますか？ いくつの特長がありますか？\n",
    "<p>&nbsp; </p>\n",
    "<p>&nbsp; </p>"
   ]
  },
  {
   "cell_type": "markdown",
   "metadata": {},
   "source": [
    "- **例題 15**: ターゲット**y**は連続変数またはカテゴリ変数ですか? これは分類や回帰の問題だと思いますか？?\n",
    "<p>&nbsp; </p>\n",
    "<p>&nbsp; </p>"
   ]
  },
  {
   "cell_type": "markdown",
   "metadata": {},
   "source": [
    "- **例題 16**: 特長の分布のボックスプロットを作成して下さい。 特長の範囲は何ですか？\n",
    "<p>&nbsp; </p>\n",
    "<p>&nbsp; </p>"
   ]
  },
  {
   "cell_type": "markdown",
   "metadata": {},
   "source": [
    "- **例題 17**: **iris** データセットをロードしてください。 (_datasets.load_iris()_)。データを見て、上記の質問を答えてみてください\n",
    "<p>&nbsp; </p>\n",
    "<p>&nbsp; </p>"
   ]
  },
  {
   "cell_type": "markdown",
   "metadata": {},
   "source": [
    "## Pandas: Python Data Analysis Library・Pythonデータ分析ライブラリー"
   ]
  },
  {
   "cell_type": "markdown",
   "metadata": {},
   "source": [
    "最後に、Python用の効率的なデータ構造とデータ分析ツールを提供する、データの整理と準備のための素晴らしいライブラリである**Pandas**を見ていきます。"
   ]
  },
  {
   "cell_type": "code",
   "execution_count": 101,
   "metadata": {
    "scrolled": true
   },
   "outputs": [],
   "source": [
    "import pandas as pd"
   ]
  },
  {
   "cell_type": "markdown",
   "metadata": {},
   "source": [
    "### Pandas dataframe・Pandasデータフレーム"
   ]
  },
  {
   "cell_type": "markdown",
   "metadata": {},
   "source": [
    "**DataFrame**は、（潜在的に）異なるタイプの列を持つ2次元データ構造です。 スプレッドシートやSQLテーブルのように考えることができます。 これは最も一般的に使用されるPandasオブジェクトです。\n",
    "\n",
    "**DataFrame**は多くの異なる種類の入力を受け入れます："
   ]
  },
  {
   "cell_type": "code",
   "execution_count": 102,
   "metadata": {
    "scrolled": true
   },
   "outputs": [],
   "source": [
    "d = {'1st' : [1., 2., 3., 4.], '2nd' : [4.5, 3.2, 2.7, 1.], '3rd' : [8, 14, 23, 57]}"
   ]
  },
  {
   "cell_type": "code",
   "execution_count": 103,
   "metadata": {
    "scrolled": true
   },
   "outputs": [
    {
     "data": {
      "text/html": [
       "<div>\n",
       "<style scoped>\n",
       "    .dataframe tbody tr th:only-of-type {\n",
       "        vertical-align: middle;\n",
       "    }\n",
       "\n",
       "    .dataframe tbody tr th {\n",
       "        vertical-align: top;\n",
       "    }\n",
       "\n",
       "    .dataframe thead th {\n",
       "        text-align: right;\n",
       "    }\n",
       "</style>\n",
       "<table border=\"1\" class=\"dataframe\">\n",
       "  <thead>\n",
       "    <tr style=\"text-align: right;\">\n",
       "      <th></th>\n",
       "      <th>1st</th>\n",
       "      <th>2nd</th>\n",
       "      <th>3rd</th>\n",
       "    </tr>\n",
       "  </thead>\n",
       "  <tbody>\n",
       "    <tr>\n",
       "      <th>0</th>\n",
       "      <td>1.0</td>\n",
       "      <td>4.5</td>\n",
       "      <td>8</td>\n",
       "    </tr>\n",
       "    <tr>\n",
       "      <th>1</th>\n",
       "      <td>2.0</td>\n",
       "      <td>3.2</td>\n",
       "      <td>14</td>\n",
       "    </tr>\n",
       "    <tr>\n",
       "      <th>2</th>\n",
       "      <td>3.0</td>\n",
       "      <td>2.7</td>\n",
       "      <td>23</td>\n",
       "    </tr>\n",
       "    <tr>\n",
       "      <th>3</th>\n",
       "      <td>4.0</td>\n",
       "      <td>1.0</td>\n",
       "      <td>57</td>\n",
       "    </tr>\n",
       "  </tbody>\n",
       "</table>\n",
       "</div>"
      ],
      "text/plain": [
       "   1st  2nd  3rd\n",
       "0  1.0  4.5    8\n",
       "1  2.0  3.2   14\n",
       "2  3.0  2.7   23\n",
       "3  4.0  1.0   57"
      ]
     },
     "execution_count": 103,
     "metadata": {},
     "output_type": "execute_result"
    }
   ],
   "source": [
    "df = pd.DataFrame(d)\n",
    "df"
   ]
  },
  {
   "cell_type": "code",
   "execution_count": 104,
   "metadata": {
    "scrolled": true
   },
   "outputs": [
    {
     "data": {
      "text/html": [
       "<div>\n",
       "<style scoped>\n",
       "    .dataframe tbody tr th:only-of-type {\n",
       "        vertical-align: middle;\n",
       "    }\n",
       "\n",
       "    .dataframe tbody tr th {\n",
       "        vertical-align: top;\n",
       "    }\n",
       "\n",
       "    .dataframe thead th {\n",
       "        text-align: right;\n",
       "    }\n",
       "</style>\n",
       "<table border=\"1\" class=\"dataframe\">\n",
       "  <thead>\n",
       "    <tr style=\"text-align: right;\">\n",
       "      <th></th>\n",
       "      <th>1st</th>\n",
       "      <th>2nd</th>\n",
       "      <th>3rd</th>\n",
       "    </tr>\n",
       "  </thead>\n",
       "  <tbody>\n",
       "    <tr>\n",
       "      <th>a</th>\n",
       "      <td>1.0</td>\n",
       "      <td>4.5</td>\n",
       "      <td>8</td>\n",
       "    </tr>\n",
       "    <tr>\n",
       "      <th>b</th>\n",
       "      <td>2.0</td>\n",
       "      <td>3.2</td>\n",
       "      <td>14</td>\n",
       "    </tr>\n",
       "    <tr>\n",
       "      <th>c</th>\n",
       "      <td>3.0</td>\n",
       "      <td>2.7</td>\n",
       "      <td>23</td>\n",
       "    </tr>\n",
       "    <tr>\n",
       "      <th>d</th>\n",
       "      <td>4.0</td>\n",
       "      <td>1.0</td>\n",
       "      <td>57</td>\n",
       "    </tr>\n",
       "  </tbody>\n",
       "</table>\n",
       "</div>"
      ],
      "text/plain": [
       "   1st  2nd  3rd\n",
       "a  1.0  4.5    8\n",
       "b  2.0  3.2   14\n",
       "c  3.0  2.7   23\n",
       "d  4.0  1.0   57"
      ]
     },
     "execution_count": 104,
     "metadata": {},
     "output_type": "execute_result"
    }
   ],
   "source": [
    "df = pd.DataFrame(d, index=['a', 'b', 'c', 'd'])\n",
    "df"
   ]
  },
  {
   "cell_type": "markdown",
   "metadata": {},
   "source": [
    "### ファイルにデータフレームを書き込む"
   ]
  },
  {
   "cell_type": "markdown",
   "metadata": {},
   "source": [
    "場合によっては、**DataFrame**のコンテンツをファイルに書き出すこともできます（外部の検査のために、データを別の分析ツールにエクスポートする...）。 この場合、**pandas.DataFrame.to_csv**のように、データフレームを _.csv_ ファイルに書き込むなど、pandasの入出力機能の1つを使用できます。"
   ]
  },
  {
   "cell_type": "code",
   "execution_count": 105,
   "metadata": {
    "scrolled": true
   },
   "outputs": [],
   "source": [
    "pd.DataFrame.to_csv(df, 'dataframe.csv', index=False)"
   ]
  },
  {
   "cell_type": "markdown",
   "metadata": {},
   "source": [
    "### ファイルからDataFrameをロードする"
   ]
  },
  {
   "cell_type": "markdown",
   "metadata": {},
   "source": [
    "同様に、外部テキストファイル（カンマ区切り値ファイル、タブ区切りファイル、スペース区切りファイルなど）を介して**DataFrame**をロードすることもできます。 この場合、たとえば、**pandas.DataFrame.read_csv**を使用して、作成したばかりの _.csv_ ファイルを読み込むことができます："
   ]
  },
  {
   "cell_type": "code",
   "execution_count": 106,
   "metadata": {
    "scrolled": true
   },
   "outputs": [],
   "source": [
    "df2 = pd.read_csv('dataframe.csv')"
   ]
  },
  {
   "cell_type": "code",
   "execution_count": 107,
   "metadata": {},
   "outputs": [
    {
     "data": {
      "text/html": [
       "<div>\n",
       "<style scoped>\n",
       "    .dataframe tbody tr th:only-of-type {\n",
       "        vertical-align: middle;\n",
       "    }\n",
       "\n",
       "    .dataframe tbody tr th {\n",
       "        vertical-align: top;\n",
       "    }\n",
       "\n",
       "    .dataframe thead th {\n",
       "        text-align: right;\n",
       "    }\n",
       "</style>\n",
       "<table border=\"1\" class=\"dataframe\">\n",
       "  <thead>\n",
       "    <tr style=\"text-align: right;\">\n",
       "      <th></th>\n",
       "      <th>1st</th>\n",
       "      <th>2nd</th>\n",
       "      <th>3rd</th>\n",
       "    </tr>\n",
       "  </thead>\n",
       "  <tbody>\n",
       "    <tr>\n",
       "      <th>0</th>\n",
       "      <td>1.0</td>\n",
       "      <td>4.5</td>\n",
       "      <td>8</td>\n",
       "    </tr>\n",
       "    <tr>\n",
       "      <th>1</th>\n",
       "      <td>2.0</td>\n",
       "      <td>3.2</td>\n",
       "      <td>14</td>\n",
       "    </tr>\n",
       "    <tr>\n",
       "      <th>2</th>\n",
       "      <td>3.0</td>\n",
       "      <td>2.7</td>\n",
       "      <td>23</td>\n",
       "    </tr>\n",
       "    <tr>\n",
       "      <th>3</th>\n",
       "      <td>4.0</td>\n",
       "      <td>1.0</td>\n",
       "      <td>57</td>\n",
       "    </tr>\n",
       "  </tbody>\n",
       "</table>\n",
       "</div>"
      ],
      "text/plain": [
       "   1st  2nd  3rd\n",
       "0  1.0  4.5    8\n",
       "1  2.0  3.2   14\n",
       "2  3.0  2.7   23\n",
       "3  4.0  1.0   57"
      ]
     },
     "execution_count": 107,
     "metadata": {},
     "output_type": "execute_result"
    }
   ],
   "source": [
    "df2"
   ]
  },
  {
   "cell_type": "markdown",
   "metadata": {},
   "source": [
    "データフレームの行と列のラベルは、それぞれ**index**および**columns**属性にアクセスすることでアクセスできます。"
   ]
  },
  {
   "cell_type": "code",
   "execution_count": 108,
   "metadata": {
    "scrolled": true
   },
   "outputs": [
    {
     "data": {
      "text/plain": [
       "RangeIndex(start=0, stop=4, step=1)"
      ]
     },
     "execution_count": 108,
     "metadata": {},
     "output_type": "execute_result"
    }
   ],
   "source": [
    "df2.index"
   ]
  },
  {
   "cell_type": "code",
   "execution_count": 109,
   "metadata": {
    "scrolled": true
   },
   "outputs": [
    {
     "data": {
      "text/plain": [
       "Index(['1st', '2nd', '3rd'], dtype='object')"
      ]
     },
     "execution_count": 109,
     "metadata": {},
     "output_type": "execute_result"
    }
   ],
   "source": [
    "df2.columns"
   ]
  },
  {
   "cell_type": "markdown",
   "metadata": {},
   "source": [
    "もう一つの例"
   ]
  },
  {
   "cell_type": "code",
   "execution_count": 110,
   "metadata": {
    "scrolled": true
   },
   "outputs": [
    {
     "data": {
      "text/html": [
       "<div>\n",
       "<style scoped>\n",
       "    .dataframe tbody tr th:only-of-type {\n",
       "        vertical-align: middle;\n",
       "    }\n",
       "\n",
       "    .dataframe tbody tr th {\n",
       "        vertical-align: top;\n",
       "    }\n",
       "\n",
       "    .dataframe thead th {\n",
       "        text-align: right;\n",
       "    }\n",
       "</style>\n",
       "<table border=\"1\" class=\"dataframe\">\n",
       "  <thead>\n",
       "    <tr style=\"text-align: right;\">\n",
       "      <th></th>\n",
       "      <th>AAA</th>\n",
       "      <th>BBB</th>\n",
       "      <th>CCC</th>\n",
       "    </tr>\n",
       "  </thead>\n",
       "  <tbody>\n",
       "    <tr>\n",
       "      <th>0</th>\n",
       "      <td>4</td>\n",
       "      <td>10</td>\n",
       "      <td>100</td>\n",
       "    </tr>\n",
       "    <tr>\n",
       "      <th>1</th>\n",
       "      <td>5</td>\n",
       "      <td>20</td>\n",
       "      <td>50</td>\n",
       "    </tr>\n",
       "    <tr>\n",
       "      <th>2</th>\n",
       "      <td>6</td>\n",
       "      <td>30</td>\n",
       "      <td>-30</td>\n",
       "    </tr>\n",
       "    <tr>\n",
       "      <th>3</th>\n",
       "      <td>7</td>\n",
       "      <td>40</td>\n",
       "      <td>-50</td>\n",
       "    </tr>\n",
       "  </tbody>\n",
       "</table>\n",
       "</div>"
      ],
      "text/plain": [
       "   AAA  BBB  CCC\n",
       "0    4   10  100\n",
       "1    5   20   50\n",
       "2    6   30  -30\n",
       "3    7   40  -50"
      ]
     },
     "execution_count": 110,
     "metadata": {},
     "output_type": "execute_result"
    }
   ],
   "source": [
    "df3 = pd.DataFrame({'AAA' : [4,5,6,7], 'BBB' : [10,20,30,40],'CCC' : [100,50,-30,-50]})\n",
    "df3"
   ]
  },
  {
   "cell_type": "markdown",
   "metadata": {},
   "source": [
    "この方法でデータフレームの特定の部分を選択することができます。"
   ]
  },
  {
   "cell_type": "code",
   "execution_count": 111,
   "metadata": {
    "scrolled": true
   },
   "outputs": [
    {
     "data": {
      "text/plain": [
       "0    4\n",
       "1    5\n",
       "2    6\n",
       "3    7\n",
       "Name: AAA, dtype: int64"
      ]
     },
     "execution_count": 111,
     "metadata": {},
     "output_type": "execute_result"
    }
   ],
   "source": [
    "df3['AAA'] # 'AAA'って例を選択してください"
   ]
  },
  {
   "cell_type": "code",
   "execution_count": 112,
   "metadata": {
    "scrolled": true
   },
   "outputs": [
    {
     "data": {
      "text/html": [
       "<div>\n",
       "<style scoped>\n",
       "    .dataframe tbody tr th:only-of-type {\n",
       "        vertical-align: middle;\n",
       "    }\n",
       "\n",
       "    .dataframe tbody tr th {\n",
       "        vertical-align: top;\n",
       "    }\n",
       "\n",
       "    .dataframe thead th {\n",
       "        text-align: right;\n",
       "    }\n",
       "</style>\n",
       "<table border=\"1\" class=\"dataframe\">\n",
       "  <thead>\n",
       "    <tr style=\"text-align: right;\">\n",
       "      <th></th>\n",
       "      <th>AAA</th>\n",
       "      <th>CCC</th>\n",
       "    </tr>\n",
       "  </thead>\n",
       "  <tbody>\n",
       "    <tr>\n",
       "      <th>0</th>\n",
       "      <td>4</td>\n",
       "      <td>100</td>\n",
       "    </tr>\n",
       "    <tr>\n",
       "      <th>1</th>\n",
       "      <td>5</td>\n",
       "      <td>50</td>\n",
       "    </tr>\n",
       "    <tr>\n",
       "      <th>2</th>\n",
       "      <td>6</td>\n",
       "      <td>-30</td>\n",
       "    </tr>\n",
       "    <tr>\n",
       "      <th>3</th>\n",
       "      <td>7</td>\n",
       "      <td>-50</td>\n",
       "    </tr>\n",
       "  </tbody>\n",
       "</table>\n",
       "</div>"
      ],
      "text/plain": [
       "   AAA  CCC\n",
       "0    4  100\n",
       "1    5   50\n",
       "2    6  -30\n",
       "3    7  -50"
      ]
     },
     "execution_count": 112,
     "metadata": {},
     "output_type": "execute_result"
    }
   ],
   "source": [
    "df3[['AAA', 'CCC']] # 'AAA'と'CCC'って例を選択してください"
   ]
  },
  {
   "cell_type": "markdown",
   "metadata": {},
   "source": [
    "### NumpyからPandasへ"
   ]
  },
  {
   "cell_type": "markdown",
   "metadata": {},
   "source": [
    "Numpy配列をPandasデータフレームに変換するのが便利なことです："
   ]
  },
  {
   "cell_type": "code",
   "execution_count": 113,
   "metadata": {
    "scrolled": true
   },
   "outputs": [],
   "source": [
    "diabetes_df = pd.DataFrame(diabetes.data)"
   ]
  },
  {
   "cell_type": "markdown",
   "metadata": {},
   "source": [
    "**head**と**tail**関数を使用してデータフレームの上部と下部をそれぞれ見ることができます："
   ]
  },
  {
   "cell_type": "code",
   "execution_count": 114,
   "metadata": {
    "scrolled": true
   },
   "outputs": [
    {
     "name": "stdout",
     "output_type": "stream",
     "text": [
      "          0         1         2         3         4         5         6  \\\n",
      "0  0.038076  0.050680  0.061696  0.021872 -0.044223 -0.034821 -0.043401   \n",
      "1 -0.001882 -0.044642 -0.051474 -0.026328 -0.008449 -0.019163  0.074412   \n",
      "2  0.085299  0.050680  0.044451 -0.005671 -0.045599 -0.034194 -0.032356   \n",
      "\n",
      "          7         8         9  \n",
      "0 -0.002592  0.019908 -0.017646  \n",
      "1 -0.039493 -0.068330 -0.092204  \n",
      "2 -0.002592  0.002864 -0.025930  \n",
      "=====================\n",
      "            0         1         2         3         4         5         6  \\\n",
      "437  0.041708  0.050680  0.019662  0.059744 -0.005697 -0.002566 -0.028674   \n",
      "438 -0.005515  0.050680 -0.015906 -0.067642  0.049341  0.079165 -0.028674   \n",
      "439  0.041708  0.050680 -0.015906  0.017282 -0.037344 -0.013840 -0.024993   \n",
      "440 -0.045472 -0.044642  0.039062  0.001215  0.016318  0.015283 -0.028674   \n",
      "441 -0.045472 -0.044642 -0.073030 -0.081414  0.083740  0.027809  0.173816   \n",
      "\n",
      "            7         8         9  \n",
      "437 -0.002592  0.031193  0.007207  \n",
      "438  0.034309 -0.018118  0.044485  \n",
      "439 -0.011080 -0.046879  0.015491  \n",
      "440  0.026560  0.044528 -0.025930  \n",
      "441 -0.039493 -0.004220  0.003064  \n"
     ]
    }
   ],
   "source": [
    "print (diabetes_df.head(3)) #最初の3行を表示\n",
    "print (\"=====================\")\n",
    "print (diabetes_df.tail()) #数が指定されていない場合、デフォルトでは5"
   ]
  },
  {
   "cell_type": "markdown",
   "metadata": {},
   "source": [
    "### Pandasでプロット"
   ]
  },
  {
   "cell_type": "markdown",
   "metadata": {},
   "source": [
    "Pandasは、すばやく便利な視覚化オプションを提供します。 Pandasでのプロットは、**DataFrame**オブジェクトから**plot**関数を呼び出すだけで、作成するプロットのタイプを指定するだけで済みます。"
   ]
  },
  {
   "cell_type": "code",
   "execution_count": 115,
   "metadata": {
    "scrolled": true
   },
   "outputs": [
    {
     "data": {
      "image/png": "[encoded data removed]",
      "text/plain": [
       "<Figure size 432x288 with 1 Axes>"
      ]
     },
     "metadata": {},
     "output_type": "display_data"
    }
   ],
   "source": [
    "# ボックスプロット\n",
    "ax = diabetes_df.boxplot()"
   ]
  },
  {
   "cell_type": "code",
   "execution_count": 116,
   "metadata": {
    "scrolled": true
   },
   "outputs": [
    {
     "data": {
      "image/png": "[encoded data removed]",
      "text/plain": [
       "<Figure size 936x576 with 12 Axes>"
      ]
     },
     "metadata": {},
     "output_type": "display_data"
    }
   ],
   "source": [
    "# ヒストグラム\n",
    "h = diabetes_df.hist(color='k', alpha=0.5, bins=50, figsize=(13,8))"
   ]
  },
  {
   "cell_type": "code",
   "execution_count": 117,
   "metadata": {
    "scrolled": true
   },
   "outputs": [
    {
     "data": {
      "text/plain": [
       "<matplotlib.axes._subplots.AxesSubplot at 0x1e36676bc88>"
      ]
     },
     "execution_count": 117,
     "metadata": {},
     "output_type": "execute_result"
    },
    {
     "data": {
      "image/png": "[encoded data removed]",
      "text/plain": [
       "<Figure size 432x288 with 1 Axes>"
      ]
     },
     "metadata": {},
     "output_type": "display_data"
    }
   ],
   "source": [
    "# 密度プロット\n",
    "diabetes_df.plot(kind='kde')"
   ]
  },
  {
   "cell_type": "markdown",
   "metadata": {},
   "source": [
    "## 参考文献"
   ]
  },
  {
   "cell_type": "markdown",
   "metadata": {},
   "source": [
    "Pythonについてもっと知りたい方は、Webに役立つ情報が満載です。 いくつかの例：\n",
    "\n",
    "- https://www.python.org\n",
    "- https://docs.python.org/3/tutorial\n",
    "- http://scipy-lectures.github.io/index.html\n",
    "- http://www.greenteapress.com/thinkpython\n",
    "- http://nbviewer.ipython.org\n",
    "- https://github.com/ipython/ipython/wiki/A-gallery-of-interesting-IPython-Notebooks\n",
    "\n",
    "特定の問題やエラーが発生した場合、または特定のタスクを実行したい場合は... Googleはあなたの親友です！"
   ]
  }
 ],
 "metadata": {
  "kernelspec": {
   "display_name": "Python 3",
   "language": "python",
   "name": "python3"
  },
  "language_info": {
   "codemirror_mode": {
    "name": "ipython",
    "version": 3
   },
   "file_extension": ".py",
   "mimetype": "text/x-python",
   "name": "python",
   "nbconvert_exporter": "python",
   "pygments_lexer": "ipython3",
   "version": "3.6.5"
  }
 },
 "nbformat": 4,
 "nbformat_minor": 1
}
