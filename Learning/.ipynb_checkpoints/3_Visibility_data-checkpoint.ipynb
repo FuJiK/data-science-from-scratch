{
 "cells": [
  {
   "cell_type": "markdown",
   "metadata": {
    "slideshow": {
     "slide_type": "slide"
    }
   },
   "source": [
    "- Test\n",
    "# 見出し1\n",
    "## 見出し2\n",
    "### 見出し3\n",
    "#### 見出し4\n",
    "##### 見出し5\n",
    "###### 見出し6\n",
    "\n",
    "```\n",
    "import os\n",
    "print(\"Test\")\n",
    "```\n",
    "> Python(Jupyter notebook)\n",
    "Test\n",
    ">> Test2"
   ]
  },
  {
   "cell_type": "markdown",
   "metadata": {
    "slideshow": {
     "slide_type": "slide"
    }
   },
   "source": [
    "- リスト1\n",
    "    - ネスト リスト1_1\n",
    "        - ネスト リスト1_1_1\n",
    "        - ネスト リスト1_1_2\n",
    "    - ネスト リスト1_2\n",
    "- リスト2\n",
    "- リスト3\n",
    "\n",
    "---\n",
    "\n",
    "1. 番号付きリスト1\n",
    "    1. 番号付きリスト1_1\n",
    "    1. 番号付きリスト1_2\n",
    "1. 番号付きリスト2\n",
    "1. 番号付きリスト3"
   ]
  },
  {
   "cell_type": "markdown",
   "metadata": {
    "slideshow": {
     "slide_type": "slide"
    }
   },
   "source": [
    "インストールコマンドは`pip install RISE `\n",
    "\n",
    "強調：em\n",
    "    \n",
    "normal *italic* normal\n",
    "\n",
    "normal _italic_ normal\n",
    "\n",
    "\n",
    "強調：strong\n",
    "    \n",
    "normal **bold** normal\n",
    "\n",
    "normal __bold__ normal\n",
    "\n",
    "\n",
    "強調：em + strong\n",
    "\n",
    "normal ***bold*** normal\n",
    "\n",
    "normal ___bold___ normal\n"
   ]
  },
  {
   "cell_type": "markdown",
   "metadata": {
    "slideshow": {
     "slide_type": "slide"
    }
   },
   "source": [
    "\n",
    "\n",
    "***\n",
    "[Google先生](https://www.google.co.jp/)\n",
    "___\n",
    "\n",
    "~~取り消し線~~\n",
    "\n",
    "---\n",
    "\n",
    "\n",
    "``` \n",
    "　class Hoge\n",
    "　  def hoge\n",
    "　    print 'hoge'\n",
    "　  end\n",
    "　end\n",
    "``` \n",
    " \n",
    "\n",
    "*    *    *\n",
    "\n",
    "---\n",
    "\n",
    "``` python\n",
    "　class Hoge\n",
    "　  def hoge\n",
    "　    print 'hoge'\n",
    "　  end\n",
    "　end\n",
    "```\n",
    "\n",
    "---\n",
    "\n",
    "``` ruby\n",
    "　class Hoge\n",
    "　  def hoge\n",
    "　    print 'hoge'\n",
    "　  end\n",
    "　end\n",
    "```\n",
    "\n",
    "\n",
    "\n",
    "\n",
    "\n"
   ]
  },
  {
   "cell_type": "markdown",
   "metadata": {
    "slideshow": {
     "slide_type": "slide"
    }
   },
   "source": [
    "|header1|header2|header3|\n",
    "|:--|--:|:--:|\n",
    "|align left|align right|align center|\n",
    "|a|b|c|"
   ]
  },
  {
   "cell_type": "code",
   "execution_count": 2,
   "metadata": {
    "slideshow": {
     "slide_type": "slide"
    }
   },
   "outputs": [
    {
     "data": {
      "image/png": "[encoded data removed]",
      "text/plain": [
       "<matplotlib.figure.Figure at 0x20f99fab2b0>"
      ]
     },
     "metadata": {},
     "output_type": "display_data"
    }
   ],
   "source": [
    "from matplotlib import pyplot as plt\n",
    "years = [1950, 1960, 1970, 1980, 1990, 2000, 2010]\n",
    "gdp = [300.2, 543.3, 1075.9, 2862.5,5979.6, 10289.7, 14958.3]\n",
    "plt.plot(years, gdp, color='green', marker = 'o', linestyle = 'solid')\n",
    "plt.title(\"Nominal GDP\")\n",
    "plt.ylabel(\"Billions of $\")\n",
    "plt.xlabel(\"Years\")\n",
    "plt.show()\n",
    "\n"
   ]
  },
  {
   "cell_type": "code",
   "execution_count": 9,
   "metadata": {
    "slideshow": {
     "slide_type": "slide"
    }
   },
   "outputs": [
    {
     "data": {
      "image/png": "[encoded data removed]",
      "text/plain": [
       "<matplotlib.figure.Figure at 0x225331a6048>"
      ]
     },
     "metadata": {},
     "output_type": "display_data"
    }
   ],
   "source": [
    "from matplotlib import pyplot as plt\n",
    "movies = [\"Annie Hall\", \"Ben-Hur\", \"Casablanca\", \"Gandhi\", \"West Side Story\"]\n",
    "num_oscars = [5, 11, 3, 8, 10]\n",
    "\n",
    "xs = [i + 0.5 for i, _ in enumerate(movies)]\n",
    "plt.bar(xs, num_oscars)\n",
    "plt.ylabel(\"# of Academy Awards\")\n",
    "plt.title(\"My Favorite Movie\")\n",
    "plt.xticks([i+ 0.5 for i, _ in enumerate(movies)], movies)\n",
    "plt.show()"
   ]
  },
  {
   "cell_type": "code",
   "execution_count": 8,
   "metadata": {
    "slideshow": {
     "slide_type": "subslide"
    }
   },
   "outputs": [
    {
     "data": {
      "text/html": [
       "<link rel=\"stylesheet\" type=\"text/css\" href=\"custom.css\">\n"
      ],
      "text/plain": [
       "<IPython.core.display.HTML object>"
      ]
     },
     "metadata": {},
     "output_type": "display_data"
    }
   ],
   "source": [
    "%%HTML\n",
    "<link rel=\"stylesheet\" type=\"text/css\" href=\"custom.css\">\n",
    "\n"
   ]
  },
  {
   "cell_type": "code",
   "execution_count": 13,
   "metadata": {
    "scrolled": true,
    "slideshow": {
     "slide_type": "slide"
    }
   },
   "outputs": [
    {
     "data": {
      "image/png": "[encoded data removed]",
      "text/plain": [
       "<matplotlib.figure.Figure at 0x2253504fa58>"
      ]
     },
     "metadata": {},
     "output_type": "display_data"
    }
   ],
   "source": [
    "from matplotlib import pyplot as plt\n",
    "from collections import Counter\n",
    "grades = [83, 95, 91, 87, 70, 0, 85, 82, 100, 67, 73, 77, 0]\n",
    "decile = lambda grade: grade // 10 * 10\n",
    "histogram = Counter(decile(grade) for grade in grades)\n",
    "\n",
    "plt.bar([x for x in histogram.keys()],\n",
    "        histogram.values(),\n",
    "        8)\n",
    "plt.axis([-5, 105, 0, 5]) #x -5 ~ 105, y 0 ~ 5\n",
    "plt.xticks([10 * i for i in range(11)])\n",
    "plt.xlabel(\"Decile\")\n",
    "plt.ylabel(\"# of Student\")\n",
    "plt.title(\"Distribution of Exam 1 Grades\")\n",
    "plt.show()"
   ]
  },
  {
   "cell_type": "code",
   "execution_count": 58,
   "metadata": {
    "scrolled": false,
    "slideshow": {
     "slide_type": "slide"
    }
   },
   "outputs": [
    {
     "data": {
      "image/png": "[encoded data removed]",
      "text/plain": [
       "<matplotlib.figure.Figure at 0x2253518f0b8>"
      ]
     },
     "metadata": {},
     "output_type": "display_data"
    }
   ],
   "source": [
    "from matplotlib import pyplot as plt\n",
    "mentions = [500, 505]\n",
    "years = [2013, 2014]\n",
    "\n",
    "plt.bar([2013, 2014], mentions, 0.8)\n",
    "plt.xticks(years)\n",
    "#plt.yticks(mentions)\n",
    "plt.ylabel(\"# of times I heard someone say 'data science'\")\n",
    "plt.ticklabel_format(useOffset=False)\n",
    "plt.axis([2012.5, 2014.5 , 499, 506])\n",
    "plt.title(\"Look at the 'Huge' Increase!\")\n",
    "plt.show()"
   ]
  },
  {
   "cell_type": "code",
   "execution_count": null,
   "metadata": {},
   "outputs": [],
   "source": []
  }
 ],
 "metadata": {
  "celltoolbar": "Slideshow",
  "kernelspec": {
   "display_name": "Python 3",
   "language": "python",
   "name": "python3"
  },
  "language_info": {
   "codemirror_mode": {
    "name": "ipython",
    "version": 3
   },
   "file_extension": ".py",
   "mimetype": "text/x-python",
   "name": "python",
   "nbconvert_exporter": "python",
   "pygments_lexer": "ipython3",
   "version": "3.6.2"
  }
 },
 "nbformat": 4,
 "nbformat_minor": 2
}
