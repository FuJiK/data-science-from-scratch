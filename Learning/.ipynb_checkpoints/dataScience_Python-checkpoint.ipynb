{
 "cells": [
  {
   "cell_type": "markdown",
   "metadata": {},
   "source": [
    "# コースの概要\n",
    "\n",
    "- Numpy\n",
    "    - 科学計算のための基本的なパッケージ\n",
    "    - アレイの作り方などを学びます(ベクトル、行列)\n",
    "- Pandas\n",
    "    - PandasはPythonでデータを処理するために作られた超高機能なライブラリ\n",
    "    - SeriesやDataFrameを使ったデータの処理方法と可視化についても学びます。\n",
    "- データの入出力\n",
    "    - さまざまなフォーマットでデータを扱う方法を紹介\n",
    "    - テキスト,CSV,Excel,JSON,HTMLをPythonで扱えるようになります。\n",
    "- データの可視化\n",
    "    - MatplotlibとSeaborn\n",
    "        - MatplotlibやSeaborn(ライブラリ群)を使ったデータの可視化は、ただ見えるようにするだけでなく、データ解析そのもの\n",
    "- 実際のデータ解析(基本的なスキルを身に着けたら、実際のデータ解析に応用します。) \n",
    "    - タイタニック号\n",
    "    - 株式市場\n",
    "    - 米大統領選挙\n",
    "- 機械学習(Scikit-Learn)\n",
    "    - 機械学習アルゴリズムを学びます。\n",
    "    - Scikit-Learnを使います。\n",
    "        - 線形回帰、ロジスティック回帰、SVM(サポートベクターマシン)、決定木とランダムフォレストなどを扱います。\n",
    "- 付録(コースの理解を助ける内容)\n",
    "    - 統計入門\n",
    "        - 統計に関する基本的な内容\n",
    "        - Pythonのコードを使って、統計の理解を助けます。\n",
    "    - SQLとPython\n",
    "        - SQLはデータベース操作のための言語ですが、Pythonを使って、SQLの基本を学びます。\n",
    "    - Webスクレイピング\n",
    "        - Pythonを使ってWebからデータを取得する便利な方法を学習する"
   ]
  },
  {
   "cell_type": "code",
   "execution_count": null,
   "metadata": {},
   "outputs": [],
   "source": []
  }
 ],
 "metadata": {
  "kernelspec": {
   "display_name": "Python 3",
   "language": "python",
   "name": "python3"
  },
  "language_info": {
   "codemirror_mode": {
    "name": "ipython",
    "version": 3
   },
   "file_extension": ".py",
   "mimetype": "text/x-python",
   "name": "python",
   "nbconvert_exporter": "python",
   "pygments_lexer": "ipython3",
   "version": "3.6.5"
  }
 },
 "nbformat": 4,
 "nbformat_minor": 2
}
